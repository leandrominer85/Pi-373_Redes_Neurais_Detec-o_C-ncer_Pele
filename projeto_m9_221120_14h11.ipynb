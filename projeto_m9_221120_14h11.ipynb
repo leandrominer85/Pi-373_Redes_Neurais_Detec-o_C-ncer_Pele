{
 "cells": [
  {
   "cell_type": "code",
   "execution_count": 64,
   "metadata": {},
   "outputs": [],
   "source": [
    "from random import randint\n",
    "import os\n",
    "import shutil\n",
    "import cv2\n",
    "import numpy as np\n",
    "import matplotlib.pyplot as plt\n",
    "import pandas as pd\n",
    "import pickle\n",
    "from sklearn.metrics import accuracy_score , roc_auc_score\n",
    "from sklearn.model_selection import train_test_split\n",
    "from sklearn.preprocessing import MinMaxScaler, OneHotEncoder\n",
    "from tensorflow.keras import Sequential\n",
    "from tensorflow.keras.layers import Dense, Activation, Dropout, Conv2D, Input\n",
    "from tensorflow.keras.layers import Flatten, MaxPool2D, AvgPool2D\n",
    "from tensorflow.keras.layers import BatchNormalization, Reshape, UpSampling2D\n",
    "from tensorflow.keras.preprocessing.image import ImageDataGenerator\n",
    "from tensorflow.keras.regularizers import l2 \n",
    "from tensorflow.keras.callbacks import EarlyStopping\n",
    "from tensorflow.keras.optimizers import RMSprop\n",
    "from tensorflow.keras.models import Model, load_model\n",
    "\n",
    "from PIL import Image\n",
    "\n",
    "seed = 123"
   ]
  },
  {
   "cell_type": "markdown",
   "metadata": {},
   "source": [
    "## Tratamento, balanceamento e split de treino e teste de descritivos"
   ]
  },
  {
   "cell_type": "code",
   "execution_count": 3,
   "metadata": {},
   "outputs": [],
   "source": [
    "# Caminhos dos  csvs:\n",
    "treino_2018 =\"/media/leandro/84EE-B5FB/isic_2018_treino.csv\"\n",
    "treino_2017 =\"/media/leandro/84EE-B5FB/isic_2017_treino.csv\"\n",
    "teste = \"/media/leandro/84EE-B5FB/isic_2017_teste.csv\"\n",
    "validacao = \"/media/leandro/84EE-B5FB/isic_2017_validacao.csv\"\n"
   ]
  },
  {
   "cell_type": "code",
   "execution_count": 4,
   "metadata": {},
   "outputs": [],
   "source": [
    "# primeiramente, abrimos os descritivos dos dados de treino, a fim de analisar o balanceamento dos dados;\n",
    "# julgamos válido ajustar a rede a um conjunto de dados balanceado, assim, evitando enviesar a rede\n",
    "\n",
    "df_treino_2017 = pd.read_csv(treino_2017)\n",
    "df_treino_2018 = pd.read_csv(treino_2018)"
   ]
  },
  {
   "cell_type": "code",
   "execution_count": 5,
   "metadata": {},
   "outputs": [
    {
     "data": {
      "text/html": [
       "<div>\n",
       "<style scoped>\n",
       "    .dataframe tbody tr th:only-of-type {\n",
       "        vertical-align: middle;\n",
       "    }\n",
       "\n",
       "    .dataframe tbody tr th {\n",
       "        vertical-align: top;\n",
       "    }\n",
       "\n",
       "    .dataframe thead th {\n",
       "        text-align: right;\n",
       "    }\n",
       "</style>\n",
       "<table border=\"1\" class=\"dataframe\">\n",
       "  <thead>\n",
       "    <tr style=\"text-align: right;\">\n",
       "      <th></th>\n",
       "      <th>image_id</th>\n",
       "      <th>melanoma</th>\n",
       "      <th>seborrheic_keratosis</th>\n",
       "    </tr>\n",
       "  </thead>\n",
       "  <tbody>\n",
       "    <tr>\n",
       "      <th>0</th>\n",
       "      <td>ISIC_0000000</td>\n",
       "      <td>0.0</td>\n",
       "      <td>0.0</td>\n",
       "    </tr>\n",
       "    <tr>\n",
       "      <th>1</th>\n",
       "      <td>ISIC_0000001</td>\n",
       "      <td>0.0</td>\n",
       "      <td>0.0</td>\n",
       "    </tr>\n",
       "    <tr>\n",
       "      <th>2</th>\n",
       "      <td>ISIC_0000002</td>\n",
       "      <td>1.0</td>\n",
       "      <td>0.0</td>\n",
       "    </tr>\n",
       "    <tr>\n",
       "      <th>3</th>\n",
       "      <td>ISIC_0000003</td>\n",
       "      <td>0.0</td>\n",
       "      <td>0.0</td>\n",
       "    </tr>\n",
       "    <tr>\n",
       "      <th>4</th>\n",
       "      <td>ISIC_0000004</td>\n",
       "      <td>1.0</td>\n",
       "      <td>0.0</td>\n",
       "    </tr>\n",
       "  </tbody>\n",
       "</table>\n",
       "</div>"
      ],
      "text/plain": [
       "       image_id  melanoma  seborrheic_keratosis\n",
       "0  ISIC_0000000       0.0                   0.0\n",
       "1  ISIC_0000001       0.0                   0.0\n",
       "2  ISIC_0000002       1.0                   0.0\n",
       "3  ISIC_0000003       0.0                   0.0\n",
       "4  ISIC_0000004       1.0                   0.0"
      ]
     },
     "execution_count": 5,
     "metadata": {},
     "output_type": "execute_result"
    }
   ],
   "source": [
    "# analisando descritivo de treino de 2017\n",
    "df_treino_2017.head()"
   ]
  },
  {
   "cell_type": "code",
   "execution_count": 6,
   "metadata": {},
   "outputs": [],
   "source": [
    "# ------- TREINO 2017\n",
    "\n",
    "df_treino_2017['image_id'] = df_treino_2017['image_id'].apply(lambda x: x + '.jpg')\n",
    "df_treino_2017['nevus'] = ((df_treino_2017['melanoma'] == 0) & \n",
    "                           (df_treino_2017['seborrheic_keratosis'] == 0)).astype(float)\n",
    "df_treino_2017.drop('seborrheic_keratosis', axis = 1, inplace = True)\n",
    "df_treino_2017 = df_treino_2017.loc[(df_treino_2017['melanoma'] == 1) | (df_treino_2017['nevus'] == 1)]\n",
    "\n",
    "# nesta célula, adicionamos extensões aos nomes dos arquivos, para que estes correspondam exatamente aos nomes\n",
    "# que de fato seriam usados para acessar as imagens, por código, em seguida, precisávamos saber quais imagens\n",
    "# eram casos de 'nevus', como esta flag não existe, inferimos que casos que não fossem 'melanoma', nem \n",
    "# 'seborrheic_keratosis' seriam 'nevus', à partir disso, criamos uma terceira flag, eliminamos a flag\n",
    "# 'seborrheic_keratosis', que não nos convinha, por fim, mantivemos no dataframe, apenas as imagens\n",
    "# que representassem ou casos de 'nevus' ou 'melanoma'"
   ]
  },
  {
   "cell_type": "code",
   "execution_count": 7,
   "metadata": {},
   "outputs": [
    {
     "data": {
      "text/html": [
       "<div>\n",
       "<style scoped>\n",
       "    .dataframe tbody tr th:only-of-type {\n",
       "        vertical-align: middle;\n",
       "    }\n",
       "\n",
       "    .dataframe tbody tr th {\n",
       "        vertical-align: top;\n",
       "    }\n",
       "\n",
       "    .dataframe thead th {\n",
       "        text-align: right;\n",
       "    }\n",
       "</style>\n",
       "<table border=\"1\" class=\"dataframe\">\n",
       "  <thead>\n",
       "    <tr style=\"text-align: right;\">\n",
       "      <th></th>\n",
       "      <th>image_id</th>\n",
       "      <th>melanoma</th>\n",
       "      <th>nevus</th>\n",
       "    </tr>\n",
       "  </thead>\n",
       "  <tbody>\n",
       "    <tr>\n",
       "      <th>0</th>\n",
       "      <td>ISIC_0000000.jpg</td>\n",
       "      <td>0.0</td>\n",
       "      <td>1.0</td>\n",
       "    </tr>\n",
       "    <tr>\n",
       "      <th>1</th>\n",
       "      <td>ISIC_0000001.jpg</td>\n",
       "      <td>0.0</td>\n",
       "      <td>1.0</td>\n",
       "    </tr>\n",
       "    <tr>\n",
       "      <th>2</th>\n",
       "      <td>ISIC_0000002.jpg</td>\n",
       "      <td>1.0</td>\n",
       "      <td>0.0</td>\n",
       "    </tr>\n",
       "    <tr>\n",
       "      <th>3</th>\n",
       "      <td>ISIC_0000003.jpg</td>\n",
       "      <td>0.0</td>\n",
       "      <td>1.0</td>\n",
       "    </tr>\n",
       "    <tr>\n",
       "      <th>4</th>\n",
       "      <td>ISIC_0000004.jpg</td>\n",
       "      <td>1.0</td>\n",
       "      <td>0.0</td>\n",
       "    </tr>\n",
       "  </tbody>\n",
       "</table>\n",
       "</div>"
      ],
      "text/plain": [
       "           image_id  melanoma  nevus\n",
       "0  ISIC_0000000.jpg       0.0    1.0\n",
       "1  ISIC_0000001.jpg       0.0    1.0\n",
       "2  ISIC_0000002.jpg       1.0    0.0\n",
       "3  ISIC_0000003.jpg       0.0    1.0\n",
       "4  ISIC_0000004.jpg       1.0    0.0"
      ]
     },
     "execution_count": 7,
     "metadata": {},
     "output_type": "execute_result"
    }
   ],
   "source": [
    "df_treino_2017.head()"
   ]
  },
  {
   "cell_type": "code",
   "execution_count": 8,
   "metadata": {},
   "outputs": [
    {
     "data": {
      "text/html": [
       "<div>\n",
       "<style scoped>\n",
       "    .dataframe tbody tr th:only-of-type {\n",
       "        vertical-align: middle;\n",
       "    }\n",
       "\n",
       "    .dataframe tbody tr th {\n",
       "        vertical-align: top;\n",
       "    }\n",
       "\n",
       "    .dataframe thead th {\n",
       "        text-align: right;\n",
       "    }\n",
       "</style>\n",
       "<table border=\"1\" class=\"dataframe\">\n",
       "  <thead>\n",
       "    <tr style=\"text-align: right;\">\n",
       "      <th></th>\n",
       "      <th>image</th>\n",
       "      <th>MEL</th>\n",
       "      <th>NV</th>\n",
       "      <th>BCC</th>\n",
       "      <th>AKIEC</th>\n",
       "      <th>BKL</th>\n",
       "      <th>DF</th>\n",
       "      <th>VASC</th>\n",
       "    </tr>\n",
       "  </thead>\n",
       "  <tbody>\n",
       "    <tr>\n",
       "      <th>0</th>\n",
       "      <td>ISIC_0024306</td>\n",
       "      <td>0.0</td>\n",
       "      <td>1.0</td>\n",
       "      <td>0.0</td>\n",
       "      <td>0.0</td>\n",
       "      <td>0.0</td>\n",
       "      <td>0.0</td>\n",
       "      <td>0.0</td>\n",
       "    </tr>\n",
       "    <tr>\n",
       "      <th>1</th>\n",
       "      <td>ISIC_0024307</td>\n",
       "      <td>0.0</td>\n",
       "      <td>1.0</td>\n",
       "      <td>0.0</td>\n",
       "      <td>0.0</td>\n",
       "      <td>0.0</td>\n",
       "      <td>0.0</td>\n",
       "      <td>0.0</td>\n",
       "    </tr>\n",
       "    <tr>\n",
       "      <th>2</th>\n",
       "      <td>ISIC_0024308</td>\n",
       "      <td>0.0</td>\n",
       "      <td>1.0</td>\n",
       "      <td>0.0</td>\n",
       "      <td>0.0</td>\n",
       "      <td>0.0</td>\n",
       "      <td>0.0</td>\n",
       "      <td>0.0</td>\n",
       "    </tr>\n",
       "    <tr>\n",
       "      <th>3</th>\n",
       "      <td>ISIC_0024309</td>\n",
       "      <td>0.0</td>\n",
       "      <td>1.0</td>\n",
       "      <td>0.0</td>\n",
       "      <td>0.0</td>\n",
       "      <td>0.0</td>\n",
       "      <td>0.0</td>\n",
       "      <td>0.0</td>\n",
       "    </tr>\n",
       "    <tr>\n",
       "      <th>4</th>\n",
       "      <td>ISIC_0024310</td>\n",
       "      <td>1.0</td>\n",
       "      <td>0.0</td>\n",
       "      <td>0.0</td>\n",
       "      <td>0.0</td>\n",
       "      <td>0.0</td>\n",
       "      <td>0.0</td>\n",
       "      <td>0.0</td>\n",
       "    </tr>\n",
       "  </tbody>\n",
       "</table>\n",
       "</div>"
      ],
      "text/plain": [
       "          image  MEL   NV  BCC  AKIEC  BKL   DF  VASC\n",
       "0  ISIC_0024306  0.0  1.0  0.0    0.0  0.0  0.0   0.0\n",
       "1  ISIC_0024307  0.0  1.0  0.0    0.0  0.0  0.0   0.0\n",
       "2  ISIC_0024308  0.0  1.0  0.0    0.0  0.0  0.0   0.0\n",
       "3  ISIC_0024309  0.0  1.0  0.0    0.0  0.0  0.0   0.0\n",
       "4  ISIC_0024310  1.0  0.0  0.0    0.0  0.0  0.0   0.0"
      ]
     },
     "execution_count": 8,
     "metadata": {},
     "output_type": "execute_result"
    }
   ],
   "source": [
    "# partimos para o descritivo de treino de 2018\n",
    "\n",
    "df_treino_2018.head()"
   ]
  },
  {
   "cell_type": "code",
   "execution_count": 9,
   "metadata": {},
   "outputs": [],
   "source": [
    "# ------- TREINO 2018\n",
    "\n",
    "df_treino_2018['image'] = df_treino_2018['image'].apply(lambda x: x + '.jpg')\n",
    "df_treino_2018 = df_treino_2018.loc[(df_treino_2018['MEL'] == 1) | (df_treino_2018['NV'] == 1)]\n",
    "df_treino_2018 = df_treino_2018[['image', 'MEL', 'NV']]\n",
    "# nesta célula, apenas adicinamos as extensões aos nomes dos arquivos, filtramos imagens que representassem \n",
    "# casos de 'nevus' ou 'melanoma', por meio das flags 'NEV' e 'ML'"
   ]
  },
  {
   "cell_type": "code",
   "execution_count": 10,
   "metadata": {},
   "outputs": [
    {
     "data": {
      "text/html": [
       "<div>\n",
       "<style scoped>\n",
       "    .dataframe tbody tr th:only-of-type {\n",
       "        vertical-align: middle;\n",
       "    }\n",
       "\n",
       "    .dataframe tbody tr th {\n",
       "        vertical-align: top;\n",
       "    }\n",
       "\n",
       "    .dataframe thead th {\n",
       "        text-align: right;\n",
       "    }\n",
       "</style>\n",
       "<table border=\"1\" class=\"dataframe\">\n",
       "  <thead>\n",
       "    <tr style=\"text-align: right;\">\n",
       "      <th></th>\n",
       "      <th>image</th>\n",
       "      <th>MEL</th>\n",
       "      <th>NV</th>\n",
       "    </tr>\n",
       "  </thead>\n",
       "  <tbody>\n",
       "    <tr>\n",
       "      <th>0</th>\n",
       "      <td>ISIC_0024306.jpg</td>\n",
       "      <td>0.0</td>\n",
       "      <td>1.0</td>\n",
       "    </tr>\n",
       "    <tr>\n",
       "      <th>1</th>\n",
       "      <td>ISIC_0024307.jpg</td>\n",
       "      <td>0.0</td>\n",
       "      <td>1.0</td>\n",
       "    </tr>\n",
       "    <tr>\n",
       "      <th>2</th>\n",
       "      <td>ISIC_0024308.jpg</td>\n",
       "      <td>0.0</td>\n",
       "      <td>1.0</td>\n",
       "    </tr>\n",
       "    <tr>\n",
       "      <th>3</th>\n",
       "      <td>ISIC_0024309.jpg</td>\n",
       "      <td>0.0</td>\n",
       "      <td>1.0</td>\n",
       "    </tr>\n",
       "    <tr>\n",
       "      <th>4</th>\n",
       "      <td>ISIC_0024310.jpg</td>\n",
       "      <td>1.0</td>\n",
       "      <td>0.0</td>\n",
       "    </tr>\n",
       "  </tbody>\n",
       "</table>\n",
       "</div>"
      ],
      "text/plain": [
       "              image  MEL   NV\n",
       "0  ISIC_0024306.jpg  0.0  1.0\n",
       "1  ISIC_0024307.jpg  0.0  1.0\n",
       "2  ISIC_0024308.jpg  0.0  1.0\n",
       "3  ISIC_0024309.jpg  0.0  1.0\n",
       "4  ISIC_0024310.jpg  1.0  0.0"
      ]
     },
     "execution_count": 10,
     "metadata": {},
     "output_type": "execute_result"
    }
   ],
   "source": [
    "df_treino_2018.head()"
   ]
  },
  {
   "cell_type": "code",
   "execution_count": 11,
   "metadata": {},
   "outputs": [],
   "source": [
    "# aqui, unificamos os nomes das series dos descritivos, para que possam ser concatenados\n",
    "df_treino_2018.columns = ['img', 'pos', 'neg']\n",
    "df_treino_2017.columns = ['img', 'pos', 'neg']"
   ]
  },
  {
   "cell_type": "code",
   "execution_count": 12,
   "metadata": {},
   "outputs": [],
   "source": [
    "# como podemos ver abaixo, as bases estão desbalanceadas"
   ]
  },
  {
   "cell_type": "code",
   "execution_count": 13,
   "metadata": {},
   "outputs": [
    {
     "data": {
      "text/plain": [
       "0.0    0.785796\n",
       "1.0    0.214204\n",
       "Name: pos, dtype: float64"
      ]
     },
     "execution_count": 13,
     "metadata": {},
     "output_type": "execute_result"
    }
   ],
   "source": [
    "df_treino_2017['pos'].value_counts(1)"
   ]
  },
  {
   "cell_type": "code",
   "execution_count": 14,
   "metadata": {},
   "outputs": [
    {
     "data": {
      "text/plain": [
       "0.0    0.857636\n",
       "1.0    0.142364\n",
       "Name: pos, dtype: float64"
      ]
     },
     "execution_count": 14,
     "metadata": {},
     "output_type": "execute_result"
    }
   ],
   "source": [
    "df_treino_2018['pos'].value_counts(1)"
   ]
  },
  {
   "cell_type": "code",
   "execution_count": 15,
   "metadata": {},
   "outputs": [
    {
     "data": {
      "text/plain": [
       "0.0    1487\n",
       "1.0    1487\n",
       "Name: pos, dtype: int64"
      ]
     },
     "execution_count": 15,
     "metadata": {},
     "output_type": "execute_result"
    }
   ],
   "source": [
    "# nesta célula, juntamos as duas bases, como o intuito de obter um conjunto balanceado de dados\n",
    "\n",
    "# separando casos positivos e negativos de cada ano\n",
    "pos_2018 = df_treino_2018.loc[df_treino_2018['pos'] == 1]\n",
    "pos_2017 = df_treino_2017.loc[df_treino_2017['pos'] == 1]\n",
    "\n",
    "neg_2018 = df_treino_2018.loc[df_treino_2018['neg'] == 1]\n",
    "neg_2017 = df_treino_2017.loc[df_treino_2017['neg'] == 1]\n",
    "\n",
    "# juntando casos positivos e negativos de todos os anos\n",
    "full_pos = pd.concat([pos_2017, pos_2018], axis = 0)\n",
    "full_neg = pd.concat([neg_2017, neg_2018], axis = 0)\n",
    "\n",
    "# amostrando aleatoriamente, n dados negativos, estes consistirão nas observações negativas (a amostragem\n",
    "# é feita para separar um número de imagens equivalente ao número de imagens positivas que temos à disposição)\n",
    "full_neg = full_neg.sample(n = full_pos.shape[0], random_state = seed)\n",
    "\n",
    "full_pos = full_pos[['img', 'pos', 'neg']]\n",
    "full_neg = full_neg[['img', 'pos', 'neg']]\n",
    "\n",
    "filenames = pd.concat([full_pos, full_neg]).reset_index().drop('index', axis = 1)\n",
    "\n",
    "filenames['pos'].value_counts()"
   ]
  },
  {
   "cell_type": "code",
   "execution_count": 16,
   "metadata": {},
   "outputs": [],
   "source": [
    "# com base no conjunto balanceado, obtemos splits de treino e teste\n",
    "df_treino, df_teste = train_test_split(filenames, test_size = 0.2, random_state = seed)"
   ]
  },
  {
   "cell_type": "code",
   "execution_count": 17,
   "metadata": {},
   "outputs": [],
   "source": [
    "# analisamos aqui, o descritivo de validação\n",
    "\n",
    "df_valid = pd.read_csv(validacao)"
   ]
  },
  {
   "cell_type": "code",
   "execution_count": 18,
   "metadata": {},
   "outputs": [
    {
     "data": {
      "text/html": [
       "<div>\n",
       "<style scoped>\n",
       "    .dataframe tbody tr th:only-of-type {\n",
       "        vertical-align: middle;\n",
       "    }\n",
       "\n",
       "    .dataframe tbody tr th {\n",
       "        vertical-align: top;\n",
       "    }\n",
       "\n",
       "    .dataframe thead th {\n",
       "        text-align: right;\n",
       "    }\n",
       "</style>\n",
       "<table border=\"1\" class=\"dataframe\">\n",
       "  <thead>\n",
       "    <tr style=\"text-align: right;\">\n",
       "      <th></th>\n",
       "      <th>image_id</th>\n",
       "      <th>melanoma</th>\n",
       "      <th>seborrheic_keratosis</th>\n",
       "    </tr>\n",
       "  </thead>\n",
       "  <tbody>\n",
       "    <tr>\n",
       "      <th>0</th>\n",
       "      <td>ISIC_0001769</td>\n",
       "      <td>0.0</td>\n",
       "      <td>0.0</td>\n",
       "    </tr>\n",
       "    <tr>\n",
       "      <th>1</th>\n",
       "      <td>ISIC_0001852</td>\n",
       "      <td>0.0</td>\n",
       "      <td>0.0</td>\n",
       "    </tr>\n",
       "    <tr>\n",
       "      <th>2</th>\n",
       "      <td>ISIC_0001871</td>\n",
       "      <td>0.0</td>\n",
       "      <td>0.0</td>\n",
       "    </tr>\n",
       "    <tr>\n",
       "      <th>3</th>\n",
       "      <td>ISIC_0003462</td>\n",
       "      <td>0.0</td>\n",
       "      <td>0.0</td>\n",
       "    </tr>\n",
       "    <tr>\n",
       "      <th>4</th>\n",
       "      <td>ISIC_0003539</td>\n",
       "      <td>0.0</td>\n",
       "      <td>0.0</td>\n",
       "    </tr>\n",
       "  </tbody>\n",
       "</table>\n",
       "</div>"
      ],
      "text/plain": [
       "       image_id  melanoma  seborrheic_keratosis\n",
       "0  ISIC_0001769       0.0                   0.0\n",
       "1  ISIC_0001852       0.0                   0.0\n",
       "2  ISIC_0001871       0.0                   0.0\n",
       "3  ISIC_0003462       0.0                   0.0\n",
       "4  ISIC_0003539       0.0                   0.0"
      ]
     },
     "execution_count": 18,
     "metadata": {},
     "output_type": "execute_result"
    }
   ],
   "source": [
    "df_valid.head()"
   ]
  },
  {
   "cell_type": "code",
   "execution_count": 19,
   "metadata": {},
   "outputs": [],
   "source": [
    "df_valid['image_id'] = df_valid['image_id'].apply(lambda x: x + '.jpg')\n",
    "df_valid['nevus'] = ((df_valid['melanoma'] == 0) & \n",
    "                           (df_valid['seborrheic_keratosis'] == 0)).astype(float)\n",
    "df_valid.drop('seborrheic_keratosis', axis = 1, inplace = True)\n",
    "df_valid = df_valid.loc[(df_valid['melanoma'] == 1) | (df_valid['nevus'] == 1)]\n",
    "\n",
    "df_valid.columns = ['img', 'pos', 'neg']\n",
    "# para o tratamento do descritivo de validação, foi necessário adicionar extensões e criar a flag 'nevus', \n",
    "# de forma similar ao tratamento do descritivo de 2017, além disso, filtramos por apenas casos de \n",
    "# 'melanoma' ou 'nevus', também foram aplicados os mesmos nomes para as series "
   ]
  },
  {
   "cell_type": "code",
   "execution_count": 20,
   "metadata": {},
   "outputs": [
    {
     "data": {
      "text/html": [
       "<div>\n",
       "<style scoped>\n",
       "    .dataframe tbody tr th:only-of-type {\n",
       "        vertical-align: middle;\n",
       "    }\n",
       "\n",
       "    .dataframe tbody tr th {\n",
       "        vertical-align: top;\n",
       "    }\n",
       "\n",
       "    .dataframe thead th {\n",
       "        text-align: right;\n",
       "    }\n",
       "</style>\n",
       "<table border=\"1\" class=\"dataframe\">\n",
       "  <thead>\n",
       "    <tr style=\"text-align: right;\">\n",
       "      <th></th>\n",
       "      <th>img</th>\n",
       "      <th>pos</th>\n",
       "      <th>neg</th>\n",
       "    </tr>\n",
       "  </thead>\n",
       "  <tbody>\n",
       "    <tr>\n",
       "      <th>0</th>\n",
       "      <td>ISIC_0001769.jpg</td>\n",
       "      <td>0.0</td>\n",
       "      <td>1.0</td>\n",
       "    </tr>\n",
       "    <tr>\n",
       "      <th>1</th>\n",
       "      <td>ISIC_0001852.jpg</td>\n",
       "      <td>0.0</td>\n",
       "      <td>1.0</td>\n",
       "    </tr>\n",
       "    <tr>\n",
       "      <th>2</th>\n",
       "      <td>ISIC_0001871.jpg</td>\n",
       "      <td>0.0</td>\n",
       "      <td>1.0</td>\n",
       "    </tr>\n",
       "    <tr>\n",
       "      <th>3</th>\n",
       "      <td>ISIC_0003462.jpg</td>\n",
       "      <td>0.0</td>\n",
       "      <td>1.0</td>\n",
       "    </tr>\n",
       "    <tr>\n",
       "      <th>4</th>\n",
       "      <td>ISIC_0003539.jpg</td>\n",
       "      <td>0.0</td>\n",
       "      <td>1.0</td>\n",
       "    </tr>\n",
       "  </tbody>\n",
       "</table>\n",
       "</div>"
      ],
      "text/plain": [
       "                img  pos  neg\n",
       "0  ISIC_0001769.jpg  0.0  1.0\n",
       "1  ISIC_0001852.jpg  0.0  1.0\n",
       "2  ISIC_0001871.jpg  0.0  1.0\n",
       "3  ISIC_0003462.jpg  0.0  1.0\n",
       "4  ISIC_0003539.jpg  0.0  1.0"
      ]
     },
     "execution_count": 20,
     "metadata": {},
     "output_type": "execute_result"
    }
   ],
   "source": [
    "df_valid.head()"
   ]
  },
  {
   "cell_type": "code",
   "execution_count": 21,
   "metadata": {},
   "outputs": [
    {
     "data": {
      "text/plain": [
       "0.0    0.722222\n",
       "1.0    0.277778\n",
       "Name: pos, dtype: float64"
      ]
     },
     "execution_count": 21,
     "metadata": {},
     "output_type": "execute_result"
    }
   ],
   "source": [
    "# como podemos observar, a base de validação está desbalanceada\n",
    "\n",
    "df_valid['pos'].value_counts(1)"
   ]
  },
  {
   "cell_type": "code",
   "execution_count": 22,
   "metadata": {},
   "outputs": [],
   "source": [
    "# para balanceá-la, elminaremos casos negativos o suficiente para que o número resultante se equipare \n",
    "# ao número de casos positivos\n",
    "\n",
    "df_valid_pos = df_valid.loc[df_valid['pos'] == 1]\n",
    "df_valid_neg = df_valid.loc[df_valid['neg'] == 1]"
   ]
  },
  {
   "cell_type": "code",
   "execution_count": 23,
   "metadata": {},
   "outputs": [
    {
     "data": {
      "text/plain": [
       "(30, 78)"
      ]
     },
     "execution_count": 23,
     "metadata": {},
     "output_type": "execute_result"
    }
   ],
   "source": [
    "len(df_valid_pos), len(df_valid_neg)\n",
    "\n",
    "# amostraremos 30 valores aleatórios dentre os casos negativos, e estes serão concatenados ao conjunto de\n",
    "# casos positivos, o conjunto resultante consistirá no descritivo de validação"
   ]
  },
  {
   "cell_type": "code",
   "execution_count": 24,
   "metadata": {},
   "outputs": [],
   "source": [
    "df_valid_neg = df_valid_neg.sample(30, random_state = seed)\n",
    "df_valid = pd.concat([df_valid_pos, df_valid_neg])"
   ]
  },
  {
   "cell_type": "code",
   "execution_count": 25,
   "metadata": {},
   "outputs": [
    {
     "data": {
      "text/plain": [
       "0.0    0.5\n",
       "1.0    0.5\n",
       "Name: pos, dtype: float64"
      ]
     },
     "execution_count": 25,
     "metadata": {},
     "output_type": "execute_result"
    }
   ],
   "source": [
    "df_valid['pos'].value_counts(1)"
   ]
  },
  {
   "cell_type": "code",
   "execution_count": 26,
   "metadata": {},
   "outputs": [],
   "source": [
    "# descritivo de teste (cujas predições devemos entregar)\n",
    "\n",
    "df_pred = pd.read_csv(teste)"
   ]
  },
  {
   "cell_type": "code",
   "execution_count": 27,
   "metadata": {},
   "outputs": [
    {
     "data": {
      "text/html": [
       "<div>\n",
       "<style scoped>\n",
       "    .dataframe tbody tr th:only-of-type {\n",
       "        vertical-align: middle;\n",
       "    }\n",
       "\n",
       "    .dataframe tbody tr th {\n",
       "        vertical-align: top;\n",
       "    }\n",
       "\n",
       "    .dataframe thead th {\n",
       "        text-align: right;\n",
       "    }\n",
       "</style>\n",
       "<table border=\"1\" class=\"dataframe\">\n",
       "  <thead>\n",
       "    <tr style=\"text-align: right;\">\n",
       "      <th></th>\n",
       "      <th>image_id</th>\n",
       "    </tr>\n",
       "  </thead>\n",
       "  <tbody>\n",
       "    <tr>\n",
       "      <th>0</th>\n",
       "      <td>ISIC_0012086</td>\n",
       "    </tr>\n",
       "    <tr>\n",
       "      <th>1</th>\n",
       "      <td>ISIC_0012092</td>\n",
       "    </tr>\n",
       "    <tr>\n",
       "      <th>2</th>\n",
       "      <td>ISIC_0012095</td>\n",
       "    </tr>\n",
       "    <tr>\n",
       "      <th>3</th>\n",
       "      <td>ISIC_0012134</td>\n",
       "    </tr>\n",
       "    <tr>\n",
       "      <th>4</th>\n",
       "      <td>ISIC_0012136</td>\n",
       "    </tr>\n",
       "  </tbody>\n",
       "</table>\n",
       "</div>"
      ],
      "text/plain": [
       "       image_id\n",
       "0  ISIC_0012086\n",
       "1  ISIC_0012092\n",
       "2  ISIC_0012095\n",
       "3  ISIC_0012134\n",
       "4  ISIC_0012136"
      ]
     },
     "execution_count": 27,
     "metadata": {},
     "output_type": "execute_result"
    }
   ],
   "source": [
    "df_pred.head()"
   ]
  },
  {
   "cell_type": "code",
   "execution_count": 28,
   "metadata": {},
   "outputs": [],
   "source": [
    "df_pred['image_id'] = df_pred['image_id'].apply(lambda x: x + '.jpg')\n",
    "df_pred.columns = ['img']\n",
    "\n",
    "# para o tratamento do descritivo de teste, aplicamos extensões e unificamos nome da series"
   ]
  },
  {
   "cell_type": "code",
   "execution_count": 29,
   "metadata": {},
   "outputs": [
    {
     "data": {
      "text/html": [
       "<div>\n",
       "<style scoped>\n",
       "    .dataframe tbody tr th:only-of-type {\n",
       "        vertical-align: middle;\n",
       "    }\n",
       "\n",
       "    .dataframe tbody tr th {\n",
       "        vertical-align: top;\n",
       "    }\n",
       "\n",
       "    .dataframe thead th {\n",
       "        text-align: right;\n",
       "    }\n",
       "</style>\n",
       "<table border=\"1\" class=\"dataframe\">\n",
       "  <thead>\n",
       "    <tr style=\"text-align: right;\">\n",
       "      <th></th>\n",
       "      <th>img</th>\n",
       "    </tr>\n",
       "  </thead>\n",
       "  <tbody>\n",
       "    <tr>\n",
       "      <th>0</th>\n",
       "      <td>ISIC_0012086.jpg</td>\n",
       "    </tr>\n",
       "    <tr>\n",
       "      <th>1</th>\n",
       "      <td>ISIC_0012092.jpg</td>\n",
       "    </tr>\n",
       "    <tr>\n",
       "      <th>2</th>\n",
       "      <td>ISIC_0012095.jpg</td>\n",
       "    </tr>\n",
       "    <tr>\n",
       "      <th>3</th>\n",
       "      <td>ISIC_0012134.jpg</td>\n",
       "    </tr>\n",
       "    <tr>\n",
       "      <th>4</th>\n",
       "      <td>ISIC_0012136.jpg</td>\n",
       "    </tr>\n",
       "  </tbody>\n",
       "</table>\n",
       "</div>"
      ],
      "text/plain": [
       "                img\n",
       "0  ISIC_0012086.jpg\n",
       "1  ISIC_0012092.jpg\n",
       "2  ISIC_0012095.jpg\n",
       "3  ISIC_0012134.jpg\n",
       "4  ISIC_0012136.jpg"
      ]
     },
     "execution_count": 29,
     "metadata": {},
     "output_type": "execute_result"
    }
   ],
   "source": [
    "df_pred.head()"
   ]
  },
  {
   "cell_type": "code",
   "execution_count": 30,
   "metadata": {},
   "outputs": [],
   "source": [
    "# ao final do processo, possuímos df_treino, df_teste, df_valid, df_pred"
   ]
  },
  {
   "cell_type": "code",
   "execution_count": 36,
   "metadata": {},
   "outputs": [],
   "source": [
    "df_treino = df_treino.reset_index()\n",
    "df_valid = df_valid.reset_index()\n",
    "df_treino.drop('index', axis = 1, inplace = True)\n",
    "df_valid.drop('index', axis = 1, inplace = True)"
   ]
  },
  {
   "cell_type": "markdown",
   "metadata": {},
   "source": [
    "## Pré-processamento"
   ]
  },
  {
   "cell_type": "code",
   "execution_count": 37,
   "metadata": {},
   "outputs": [],
   "source": [
    "# farei o pré processamento das imagens conforme estiver alimentando o ajuste da rede, este será realizado em \n",
    "# batches"
   ]
  },
  {
   "cell_type": "code",
   "execution_count": 38,
   "metadata": {},
   "outputs": [],
   "source": [
    "# divisão dos dados de treino em batches\n",
    "\n",
    "n_batches = 5\n",
    "data = df_treino\n",
    "batch_list = []\n",
    "\n",
    "resto = data.shape[0] % n_batches\n",
    "step = data.shape[0] // n_batches\n",
    "count = 0\n",
    "lower_idx = 0\n",
    "\n",
    "for n in range(n_batches):\n",
    "    \n",
    "    upper_idx = lower_idx + step \n",
    "    \n",
    "    exec(f'batch_{count} = data.iloc[{lower_idx}:{upper_idx}]')\n",
    "    exec(f'batch_list.append(batch_{count})')\n",
    "    \n",
    "    count += 1\n",
    "    lower_idx += step\n",
    "    \n",
    "# somando resto ao último batch\n",
    "batch_list[-1] = pd.concat([batch_list[-1], df_treino[-4:]])\n",
    "\n",
    "# agora temos a lista 'batch_list', esta possui cinco dataframes, cada um deles, contendo uma porção de \n",
    "# 'df_treino', carregaremos cada batch e ajustaremos a rede a cada um deles"
   ]
  },
  {
   "cell_type": "code",
   "execution_count": 39,
   "metadata": {},
   "outputs": [],
   "source": [
    "diretorio_treino = \"/media/leandro/84EE-B5FB/isic_treino_selecionadas/\"\n",
    "diretorio_teste =\"/media/leandro/84EE-B5FB/isic_2017_teste/\"\n",
    "diretorio_val =\"/media/leandro/84EE-B5FB/isic_2017_validacao/isic_2017_validacao/\""
   ]
  },
  {
   "cell_type": "code",
   "execution_count": 40,
   "metadata": {},
   "outputs": [],
   "source": [
    "# ao carregarmos cada um dos batches, pré processaremos e faremos 'data augmentation', através de:\n",
    "\n",
    "# carregamento\n",
    "def get_images_n_labels(dataframe, path = diretorio_treino, \n",
    "                        series_name = 'img', label_name = 'pos', i = 50, j = 50):\n",
    "    \n",
    "    x = []\n",
    "    y = []\n",
    "    \n",
    "    for n in range(dataframe.shape[0]):\n",
    "        \n",
    "        img = cv2.imread(path + dataframe[series_name].iloc[n])\n",
    "        img = cv2.resize(img, (i, j))\n",
    "        x.append(img)\n",
    "        y.append(dataframe[label_name].iloc[n])\n",
    "        \n",
    "    return np.array(x), np.array(y)\n",
    "\n",
    "# pré processamento\n",
    "\n",
    "def segmentation(img):\n",
    "    \n",
    "    gray = cv2.cvtColor(img,cv2.COLOR_BGR2GRAY)\n",
    "    ret, thresh = cv2.threshold(gray,0,255,cv2.THRESH_BINARY_INV + cv2.THRESH_OTSU)\n",
    "    kernel = np.ones((3,3),np.uint8)\n",
    "    opening = cv2.morphologyEx(thresh,cv2.MORPH_OPEN,kernel, iterations = 2)\n",
    "    sure_bg = cv2.dilate(opening,kernel,iterations = 3)\n",
    "    res = cv2.bitwise_and(img,img,mask = sure_bg)\n",
    "    \n",
    "    return res\n",
    "\n",
    "def bgr_CLAHE(img):\n",
    "    \n",
    "    lab = cv2.cvtColor(img, cv2.COLOR_BGR2LAB)\n",
    "    lab_planes = cv2.split(lab)\n",
    "    clahe = cv2.createCLAHE(clipLimit = 2.0,tileGridSize = (6, 6))\n",
    "    lab_planes[0] = clahe.apply(lab_planes[0])\n",
    "    lab = cv2.merge(lab_planes)\n",
    "    img = cv2.cvtColor(lab, cv2.COLOR_LAB2BGR)\n",
    "    \n",
    "    return img\n",
    "\n",
    "def img_preproc(img):\n",
    "    \n",
    "    img = bgr_CLAHE(segmentation(img))\n",
    "    img = img / 255\n",
    "\n",
    "    \n",
    "    return img\n",
    "\n",
    "# augmentation\n",
    "\n",
    "def zoom(img, original_dim = [50, 50], h_slice = [5, 45], v_slice = [5, 45]):\n",
    "\n",
    "    img = img[v_slice[0] : v_slice[1], h_slice[0] : h_slice[1]]\n",
    "    img = cv2.resize(img, (original_dim[0], original_dim[1]))\n",
    "    \n",
    "    return img \n",
    "\n",
    "# horizontal shift\n",
    "def h_shift(image, original_dim = [50, 50], shift = 5):\n",
    "    \n",
    "    T_x = shift\n",
    "    T_y = 0\n",
    "    \n",
    "    M = np.array([[1, 0, T_x], [0, 1, T_y]], dtype = 'float32')\n",
    "    img_transladada = cv2.warpAffine(image, M, (original_dim[0], original_dim[1]))\n",
    "    img = img_transladada[0 : original_dim[0], shift : original_dim[1]]\n",
    "    img = cv2.resize(img, (original_dim[0], original_dim[1]))\n",
    "    \n",
    "    return img\n",
    "\n",
    "# vertical shift\n",
    "def v_shift(image, original_dim = [50, 50], shift = 5):\n",
    "    \n",
    "    T_x = 0\n",
    "    T_y = shift\n",
    "    \n",
    "    M = np.array([[1, 0, T_x], [0, 1, T_y]], dtype = 'float32')\n",
    "    img_transladada = cv2.warpAffine(image, M, (original_dim[0], original_dim[1]))\n",
    "    img = img_transladada[shift : original_dim[0], 0 : original_dim[1]]\n",
    "    img = cv2.resize(img, (original_dim[0], original_dim[1]))\n",
    "    \n",
    "    return img\n",
    "\n",
    "def rotation_90(img):\n",
    "\n",
    "    rows, cols, chnls = img.shape\n",
    "    M = cv2.getRotationMatrix2D(((cols - 1) / 2.0, (rows - 1) / 2.0), 90, 1)\n",
    "    img = cv2.warpAffine(img, M, (cols, rows))\n",
    "    \n",
    "    return img\n",
    "\n",
    "def data_augmentation(x, y):\n",
    "    \n",
    "    augmentation_imgs = []\n",
    "    augmentation_labels = []\n",
    "\n",
    "    for n in range(len(x)):\n",
    "\n",
    "        image = x[n]\n",
    "        classe = y[n]\n",
    "        augment = randint(0, 2) # booleano (33.3% de chance de aplicar augmentation)\n",
    "\n",
    "        if augment == 1:\n",
    "            process = randint(0, 5) # seleção aleatória do processo de augmentation\n",
    "\n",
    "            if process == 0:\n",
    "                image = cv2.flip(image, 0)\n",
    "                augmentation_imgs.append(image) # horizontal flip\n",
    "                augmentation_labels.append(classe)\n",
    "\n",
    "            if process == 1:\n",
    "                image = zoom(image)\n",
    "                augmentation_imgs.append(image) # zoom 0.2\n",
    "                augmentation_labels.append(classe)\n",
    "\n",
    "            if process == 2:\n",
    "                image = h_shift(image)\n",
    "                augmentation_imgs.append(image) # horizontal shift\n",
    "                augmentation_labels.append(classe)\n",
    "\n",
    "            if process == 3:\n",
    "                image = v_shift(image)\n",
    "                augmentation_imgs.append(image) # vertical shift\n",
    "                augmentation_labels.append(classe)\n",
    "\n",
    "            if process == 4:\n",
    "                image = rotation_90(image)\n",
    "                augmentation_imgs.append(image) # rotaton 90°\n",
    "                augmentation_labels.append(classe)\n",
    "                \n",
    "    return augmentation_imgs, augmentation_labels\n",
    "\n",
    "# consolidando os processos acima em um função\n",
    "def single_batch_prep(batch_df, width = 50, height = 50):\n",
    "    \n",
    "    x, y = get_images_n_labels(batch_df)\n",
    "\n",
    "    # pré processamento de imagens\n",
    "    x = [img_preproc(i) for i in x]\n",
    "\n",
    "    # data augmentation\n",
    "    augmentation_imgs, augmentation_labels = data_augmentation(x, y)\n",
    "    \n",
    "    return np.array(x + augmentation_imgs), np.array(list(y) + augmentation_labels)"
   ]
  },
  {
   "cell_type": "code",
   "execution_count": 41,
   "metadata": {},
   "outputs": [],
   "source": [
    "\n",
    "px_h, px_v, chnls = 50, 50, 3\n",
    "ipt_e = Input(shape = (px_h, px_v, chnls))\n",
    "\n",
    "encoder = Conv2D(4, (3, 3), input_shape = (px_h, px_v, chnls), activation = 'relu', padding = 'same')(ipt_e)\n",
    "encoder = MaxPool2D((5, 5))(encoder)\n",
    "encoder = Conv2D(8, (3, 3), activation = 'relu', padding = 'same')(encoder)\n",
    "encoder = MaxPool2D((2, 2))(encoder)\n",
    "encoder = Conv2D(16, (2, 2), activation = 'relu', padding = 'same')(encoder)\n",
    "encoder = Flatten()(encoder)\n",
    "encoder = Dense(32, name = 'gargalo')(encoder)\n",
    "\n",
    "decoder = Dense(400)(encoder)\n",
    "decoder = Reshape(target_shape = (5, 5, 16))(decoder)\n",
    "decoder = Conv2D(8, (2, 2), activation = 'relu', padding = 'same')(decoder)\n",
    "decoder = UpSampling2D((2, 2))(decoder)\n",
    "decoder = Conv2D(4, (3, 3), activation = 'relu', padding = 'same')(decoder)\n",
    "decoder = UpSampling2D((5, 5))(decoder)\n",
    "decoder = Conv2D(4, (3, 3), activation = 'relu', padding = 'same')(decoder)\n",
    "decoder = Conv2D(3, (3, 3), activation = 'sigmoid', padding = 'same')(decoder)\n",
    "\n",
    "autoencoder = Model(inputs = ipt_e, outputs = decoder, name = 'autoencoder')\n",
    "autoencoder.compile(loss = 'mean_squared_error')"
   ]
  },
  {
   "cell_type": "code",
   "execution_count": 42,
   "metadata": {},
   "outputs": [],
   "source": [
    "pickle.dump(batch_0, open('batch_0.pkl', 'wb'))\n",
    "pickle.dump(batch_1, open('batch_1.pkl', 'wb'))\n",
    "pickle.dump(batch_2, open('batch_2.pkl', 'wb'))\n",
    "pickle.dump(batch_3, open('batch_3.pkl', 'wb'))\n",
    "pickle.dump(batch_4, open('batch_4.pkl', 'wb'))\n",
    "\n",
    "autoencoder.save('ae.h5')"
   ]
  },
  {
   "cell_type": "code",
   "execution_count": 43,
   "metadata": {},
   "outputs": [],
   "source": [
    "x_valid, y_valid = get_images_n_labels(df_valid, path = diretorio_val)"
   ]
  },
  {
   "cell_type": "code",
   "execution_count": 44,
   "metadata": {},
   "outputs": [],
   "source": [
    "# carregar batch para teste\n",
    "x_0, y_0 = single_batch_prep(batch_0)"
   ]
  },
  {
   "cell_type": "code",
   "execution_count": 45,
   "metadata": {},
   "outputs": [],
   "source": [
    "# escolhendo dimensões para resize\n",
    "\n",
    "# dims = [cv2.imread(f'treino_full_non_preproc/{i}').shape \n",
    "#         for i in os.listdir('treino_full_non_preproc') if '.jpg' in i and i in df_treino['img'].tolist()]\n",
    "# i = pd.Series([i[0] for i in dims])\n",
    "# j = pd.Series([i[1] for i in dims])\n",
    "# i.median(), j.median()"
   ]
  },
  {
   "cell_type": "code",
   "execution_count": 46,
   "metadata": {},
   "outputs": [],
   "source": [
    "# neste notebook, são 5 batches ('batch_0' - 'batch_4')"
   ]
  },
  {
   "cell_type": "code",
   "execution_count": 47,
   "metadata": {},
   "outputs": [],
   "source": [
    "# no ajuste de um batch, devemos carregar o df descritivo do batch, os dados de validação, o ae, \n",
    "# fazer o ajuste, salvar o ae\n",
    "\n",
    "autoencoder = load_model('ae.h5')\n",
    "batch = pickle.load(open('batch_0.pkl', 'rb'))"
   ]
  },
  {
   "cell_type": "code",
   "execution_count": 48,
   "metadata": {},
   "outputs": [],
   "source": [
    "es = EarlyStopping(patience = 5, restore_best_weights = True)\n"
   ]
  },
  {
   "cell_type": "code",
   "execution_count": 59,
   "metadata": {
    "scrolled": false
   },
   "outputs": [
    {
     "name": "stdout",
     "output_type": "stream",
     "text": [
      "Epoch 1/2000\n",
      "61/61 [==============================] - 0s 4ms/step - loss: 0.0285 - val_loss: 23427.5938\n",
      "Epoch 2/2000\n",
      "61/61 [==============================] - 0s 4ms/step - loss: 0.0278 - val_loss: 23437.7480\n",
      "Epoch 3/2000\n",
      "61/61 [==============================] - 0s 3ms/step - loss: 0.0274 - val_loss: 23431.0293\n",
      "Epoch 4/2000\n",
      "61/61 [==============================] - 0s 3ms/step - loss: 0.0268 - val_loss: 23427.9023\n",
      "Epoch 5/2000\n",
      "61/61 [==============================] - 0s 4ms/step - loss: 0.0264 - val_loss: 23440.7793\n",
      "Epoch 6/2000\n",
      "61/61 [==============================] - 0s 4ms/step - loss: 0.0258 - val_loss: 23423.7871\n",
      "Epoch 7/2000\n",
      "61/61 [==============================] - 0s 4ms/step - loss: 0.0254 - val_loss: 23433.1641\n",
      "Epoch 8/2000\n",
      "61/61 [==============================] - 0s 4ms/step - loss: 0.0250 - val_loss: 23431.2246\n",
      "Epoch 9/2000\n",
      "61/61 [==============================] - 0s 4ms/step - loss: 0.0247 - val_loss: 23407.4336\n",
      "Epoch 10/2000\n",
      "61/61 [==============================] - 0s 4ms/step - loss: 0.0243 - val_loss: 23432.2539\n",
      "Epoch 11/2000\n",
      "61/61 [==============================] - 0s 5ms/step - loss: 0.0240 - val_loss: 23442.5645\n",
      "Epoch 12/2000\n",
      "61/61 [==============================] - 0s 4ms/step - loss: 0.0237 - val_loss: 23400.6250\n",
      "Epoch 13/2000\n",
      "61/61 [==============================] - 0s 4ms/step - loss: 0.0234 - val_loss: 23413.0840\n",
      "Epoch 14/2000\n",
      "61/61 [==============================] - 0s 4ms/step - loss: 0.0232 - val_loss: 23382.0254\n",
      "Epoch 15/2000\n",
      "61/61 [==============================] - 0s 4ms/step - loss: 0.0230 - val_loss: 23419.0371\n",
      "Epoch 16/2000\n",
      "61/61 [==============================] - 0s 4ms/step - loss: 0.0226 - val_loss: 23380.6777\n",
      "Epoch 17/2000\n",
      "61/61 [==============================] - 0s 4ms/step - loss: 0.0225 - val_loss: 23414.3184\n",
      "Epoch 18/2000\n",
      "61/61 [==============================] - 0s 5ms/step - loss: 0.0224 - val_loss: 23405.2715\n",
      "Epoch 19/2000\n",
      "61/61 [==============================] - 0s 4ms/step - loss: 0.0221 - val_loss: 23430.2090\n",
      "Epoch 20/2000\n",
      "61/61 [==============================] - 0s 4ms/step - loss: 0.0219 - val_loss: 23390.1797\n",
      "Epoch 21/2000\n",
      "61/61 [==============================] - 0s 5ms/step - loss: 0.0217 - val_loss: 23368.8379\n",
      "Epoch 22/2000\n",
      "61/61 [==============================] - 0s 4ms/step - loss: 0.0216 - val_loss: 23423.6367\n",
      "Epoch 23/2000\n",
      "61/61 [==============================] - 0s 4ms/step - loss: 0.0215 - val_loss: 23395.6055\n",
      "Epoch 24/2000\n",
      "61/61 [==============================] - 0s 4ms/step - loss: 0.0213 - val_loss: 23417.9395\n",
      "Epoch 25/2000\n",
      "61/61 [==============================] - 0s 4ms/step - loss: 0.0211 - val_loss: 23413.7871\n",
      "Epoch 26/2000\n",
      "61/61 [==============================] - 0s 4ms/step - loss: 0.0209 - val_loss: 23399.9551\n"
     ]
    },
    {
     "data": {
      "text/plain": [
       "<tensorflow.python.keras.callbacks.History at 0x7f05a6b525b0>"
      ]
     },
     "execution_count": 59,
     "metadata": {},
     "output_type": "execute_result"
    }
   ],
   "source": [
    "# ajustando encoder ao primeiro batch\n",
    "%timeit\n",
    "autoencoder.fit(x_0, x_0, batch_size = 10, epochs = 2000, validation_data = (x_valid, x_valid), callbacks = [es])"
   ]
  },
  {
   "cell_type": "code",
   "execution_count": 50,
   "metadata": {},
   "outputs": [],
   "source": [
    "x_treino_cod = autoencoder.predict(x_0)\n",
    "x_valid_cod = autoencoder.predict(x_valid)"
   ]
  },
  {
   "cell_type": "code",
   "execution_count": 51,
   "metadata": {},
   "outputs": [
    {
     "data": {
      "text/plain": [
       "((603, 50, 50, 3), (60, 50, 50, 3))"
      ]
     },
     "execution_count": 51,
     "metadata": {},
     "output_type": "execute_result"
    }
   ],
   "source": [
    "x_treino_cod.shape, x_valid_cod.shape"
   ]
  },
  {
   "cell_type": "code",
   "execution_count": 56,
   "metadata": {},
   "outputs": [
    {
     "data": {
      "text/plain": [
       "<matplotlib.image.AxesImage at 0x7f0524154190>"
      ]
     },
     "execution_count": 56,
     "metadata": {},
     "output_type": "execute_result"
    },
    {
     "data": {
      "image/png": "[encoded data removed]",
      "text/plain": [
       "<Figure size 432x288 with 1 Axes>"
      ]
     },
     "metadata": {
      "needs_background": "light"
     },
     "output_type": "display_data"
    }
   ],
   "source": [
    "plt.imshow(x_0[0], cmap = 'gray')"
   ]
  },
  {
   "cell_type": "code",
   "execution_count": 58,
   "metadata": {},
   "outputs": [
    {
     "data": {
      "text/plain": [
       "<matplotlib.image.AxesImage at 0x7f05a9040820>"
      ]
     },
     "execution_count": 58,
     "metadata": {},
     "output_type": "execute_result"
    },
    {
     "data": {
      "image/png": "[encoded data removed]",
      "text/plain": [
       "<Figure size 432x288 with 1 Axes>"
      ]
     },
     "metadata": {
      "needs_background": "light"
     },
     "output_type": "display_data"
    }
   ],
   "source": [
    "plt.imshow(x_treino_cod[0], cmap = 'gray')"
   ]
  },
  {
   "cell_type": "markdown",
   "metadata": {},
   "source": [
    "# rede primaria"
   ]
  },
  {
   "cell_type": "code",
   "execution_count": 60,
   "metadata": {},
   "outputs": [],
   "source": [
    "cnn_i, cnn_j, cnn_chnls = 50, 50, 3\n",
    "\n",
    "cnn = Sequential()\n",
    "cnn.add(Conv2D(50, (3, 3), input_shape = (cnn_i, cnn_j, cnn_chnls), activation = 'relu'))\n",
    "cnn.add(Conv2D(50, (3, 3), activation = 'relu'))\n",
    "cnn.add(MaxPool2D((2, 2)))\n",
    "cnn.add(Conv2D(50, (3, 3), activation = 'relu'))\n",
    "cnn.add(Conv2D(50, (3, 3), activation = 'relu'))\n",
    "cnn.add(AvgPool2D((2, 2)))\n",
    "cnn.add(Conv2D(50, (3, 3), activation = 'relu'))\n",
    "cnn.add(BatchNormalization())\n",
    "cnn.add(AvgPool2D((2, 2)))\n",
    "cnn.add(Flatten())\n",
    "cnn.add(Dense(25, activation = 'relu', kernel_regularizer = l2(0.05)))\n",
    "cnn.add(Dropout(0.2))\n",
    "cnn.add(Dense(25, activation = 'relu', kernel_regularizer = l2(0.05)))\n",
    "cnn.add(BatchNormalization())\n",
    "cnn.add(Dropout(0.2))\n",
    "cnn.add(Dense(25, activation = 'relu', kernel_regularizer = l2(0.05)))\n",
    "cnn.add(Dropout(0.2))\n",
    "cnn.add(Dense(25, activation = 'relu', kernel_regularizer = l2(0.05)))\n",
    "cnn.add(Dense(1, activation = 'relu'))\n",
    "        \n",
    "cnn.compile(loss = 'binary_crossentropy', optimizer = RMSprop(learning_rate = 0.001))\n",
    "\n",
    "es = EarlyStopping(monitor = 'loss', patience = 5) "
   ]
  },
  {
   "cell_type": "code",
   "execution_count": 61,
   "metadata": {},
   "outputs": [],
   "source": [
    "batch_size = 100"
   ]
  },
  {
   "cell_type": "markdown",
   "metadata": {},
   "source": [
    "# Rede com o encoder"
   ]
  },
  {
   "cell_type": "code",
   "execution_count": 62,
   "metadata": {},
   "outputs": [
    {
     "name": "stdout",
     "output_type": "stream",
     "text": [
      "Epoch 1/100\n",
      "19/19 [==============================] - 7s 350ms/step - loss: 9.3587 - val_loss: 6.7322\n",
      "Epoch 2/100\n",
      "19/19 [==============================] - 0s 16ms/step - loss: 8.2067 - val_loss: 6.2904\n",
      "Epoch 3/100\n",
      "19/19 [==============================] - 0s 16ms/step - loss: 8.0985 - val_loss: 6.2674\n",
      "Epoch 4/100\n",
      "19/19 [==============================] - 0s 16ms/step - loss: 7.2716 - val_loss: 5.3171\n",
      "Epoch 5/100\n",
      "19/19 [==============================] - 0s 16ms/step - loss: 6.5285 - val_loss: 5.2962\n",
      "Epoch 6/100\n",
      "19/19 [==============================] - 0s 17ms/step - loss: 6.1434 - val_loss: 4.9205\n",
      "Epoch 7/100\n",
      "19/19 [==============================] - 0s 17ms/step - loss: 6.1321 - val_loss: 4.8056\n",
      "Epoch 8/100\n",
      "19/19 [==============================] - 0s 17ms/step - loss: 5.4053 - val_loss: 4.4572\n",
      "Epoch 9/100\n",
      "19/19 [==============================] - 0s 16ms/step - loss: 5.1415 - val_loss: 4.2280\n",
      "Epoch 10/100\n",
      "19/19 [==============================] - 0s 16ms/step - loss: 4.6762 - val_loss: 4.1280\n",
      "Epoch 11/100\n",
      "19/19 [==============================] - 0s 17ms/step - loss: 4.4417 - val_loss: 3.8274\n",
      "Epoch 12/100\n",
      "19/19 [==============================] - 0s 16ms/step - loss: 4.3048 - val_loss: 3.6114\n",
      "Epoch 13/100\n",
      "19/19 [==============================] - 0s 16ms/step - loss: 3.9675 - val_loss: 3.4785\n",
      "Epoch 14/100\n",
      "19/19 [==============================] - 0s 16ms/step - loss: 3.7600 - val_loss: 3.3644\n",
      "Epoch 15/100\n",
      "19/19 [==============================] - 0s 16ms/step - loss: 3.5998 - val_loss: 3.1659\n",
      "Epoch 16/100\n",
      "19/19 [==============================] - 0s 16ms/step - loss: 3.3232 - val_loss: 3.0203\n",
      "Epoch 17/100\n",
      "19/19 [==============================] - 0s 16ms/step - loss: 3.1394 - val_loss: 2.7986\n",
      "Epoch 18/100\n",
      "19/19 [==============================] - 0s 16ms/step - loss: 3.0640 - val_loss: 2.6204\n",
      "Epoch 19/100\n",
      "19/19 [==============================] - 0s 16ms/step - loss: 2.7780 - val_loss: 2.5002\n",
      "Epoch 20/100\n",
      "19/19 [==============================] - 0s 16ms/step - loss: 2.5050 - val_loss: 2.3739\n",
      "Epoch 21/100\n",
      "19/19 [==============================] - 0s 17ms/step - loss: 2.4698 - val_loss: 2.2247\n",
      "Epoch 22/100\n",
      "19/19 [==============================] - 0s 18ms/step - loss: 2.2936 - val_loss: 2.0711\n",
      "Epoch 23/100\n",
      "19/19 [==============================] - 0s 17ms/step - loss: 2.0997 - val_loss: 2.0188\n",
      "Epoch 24/100\n",
      "19/19 [==============================] - 0s 17ms/step - loss: 2.0529 - val_loss: 1.8306\n",
      "Epoch 25/100\n",
      "19/19 [==============================] - 0s 16ms/step - loss: 1.8151 - val_loss: 1.7654\n",
      "Epoch 26/100\n",
      "19/19 [==============================] - 0s 16ms/step - loss: 1.8014 - val_loss: 1.6757\n",
      "Epoch 27/100\n",
      "19/19 [==============================] - 0s 16ms/step - loss: 1.6706 - val_loss: 1.6882\n",
      "Epoch 28/100\n",
      "19/19 [==============================] - 0s 16ms/step - loss: 1.6010 - val_loss: 1.5723\n",
      "Epoch 29/100\n",
      "19/19 [==============================] - 0s 16ms/step - loss: 1.5084 - val_loss: 1.4818\n",
      "Epoch 30/100\n",
      "19/19 [==============================] - 0s 17ms/step - loss: 1.4278 - val_loss: 1.4024\n",
      "Epoch 31/100\n",
      "19/19 [==============================] - 0s 16ms/step - loss: 1.3688 - val_loss: 1.3344\n",
      "Epoch 32/100\n",
      "19/19 [==============================] - 0s 16ms/step - loss: 1.2608 - val_loss: 1.2523\n",
      "Epoch 33/100\n",
      "19/19 [==============================] - 0s 16ms/step - loss: 1.2019 - val_loss: 1.1881\n",
      "Epoch 34/100\n",
      "19/19 [==============================] - 0s 17ms/step - loss: 1.1260 - val_loss: 1.1244\n",
      "Epoch 35/100\n",
      "19/19 [==============================] - 0s 17ms/step - loss: 1.1106 - val_loss: 1.0633\n",
      "Epoch 36/100\n",
      "19/19 [==============================] - 0s 16ms/step - loss: 1.0529 - val_loss: 1.0441\n",
      "Epoch 37/100\n",
      "19/19 [==============================] - 0s 16ms/step - loss: 0.9581 - val_loss: 0.9956\n",
      "Epoch 38/100\n",
      "19/19 [==============================] - 0s 18ms/step - loss: 0.9392 - val_loss: 0.9557\n",
      "Epoch 39/100\n",
      "19/19 [==============================] - 0s 17ms/step - loss: 0.9606 - val_loss: 0.9343\n",
      "Epoch 40/100\n",
      "19/19 [==============================] - 0s 17ms/step - loss: 0.9091 - val_loss: 0.8981\n",
      "Epoch 41/100\n",
      "19/19 [==============================] - 0s 17ms/step - loss: 0.8770 - val_loss: 0.8616\n",
      "Epoch 42/100\n",
      "19/19 [==============================] - 0s 16ms/step - loss: 0.8067 - val_loss: 0.8371\n",
      "Epoch 43/100\n",
      "19/19 [==============================] - 0s 16ms/step - loss: 0.8065 - val_loss: 0.8062\n",
      "Epoch 44/100\n",
      "19/19 [==============================] - 0s 16ms/step - loss: 0.7927 - val_loss: 0.7964\n",
      "Epoch 45/100\n",
      "19/19 [==============================] - 0s 16ms/step - loss: 0.7695 - val_loss: 0.7883\n",
      "Epoch 46/100\n",
      "19/19 [==============================] - 0s 16ms/step - loss: 0.7536 - val_loss: 0.7833\n",
      "Epoch 47/100\n",
      "19/19 [==============================] - 0s 16ms/step - loss: 0.7711 - val_loss: 0.7806\n",
      "Epoch 48/100\n",
      "19/19 [==============================] - 0s 17ms/step - loss: 0.7617 - val_loss: 0.7714\n",
      "Epoch 49/100\n",
      "19/19 [==============================] - 0s 17ms/step - loss: 0.7182 - val_loss: 0.7676\n",
      "Epoch 50/100\n",
      "19/19 [==============================] - 0s 17ms/step - loss: 0.7160 - val_loss: 0.7627\n",
      "Epoch 51/100\n",
      "19/19 [==============================] - 0s 17ms/step - loss: 0.7952 - val_loss: 0.7502\n",
      "Epoch 52/100\n",
      "19/19 [==============================] - 0s 16ms/step - loss: 0.7463 - val_loss: 0.7519\n",
      "Epoch 53/100\n",
      "19/19 [==============================] - 0s 17ms/step - loss: 0.6927 - val_loss: 0.7508\n",
      "Epoch 54/100\n",
      "19/19 [==============================] - 0s 16ms/step - loss: 0.7214 - val_loss: 0.7532\n",
      "Epoch 55/100\n",
      "19/19 [==============================] - 0s 16ms/step - loss: 0.7084 - val_loss: 0.7479\n",
      "Epoch 56/100\n",
      "19/19 [==============================] - 0s 17ms/step - loss: 0.6916 - val_loss: 0.7438\n",
      "Epoch 57/100\n",
      "19/19 [==============================] - 0s 16ms/step - loss: 0.7004 - val_loss: 0.7430\n",
      "Epoch 58/100\n",
      "19/19 [==============================] - 0s 17ms/step - loss: 0.7700 - val_loss: 0.7437\n",
      "Epoch 59/100\n",
      "19/19 [==============================] - 0s 16ms/step - loss: 0.6982 - val_loss: 0.7250\n",
      "Epoch 60/100\n",
      "19/19 [==============================] - 0s 17ms/step - loss: 0.7311 - val_loss: 0.7456\n",
      "Epoch 61/100\n",
      "19/19 [==============================] - 0s 16ms/step - loss: 0.6906 - val_loss: 0.7416\n",
      "Epoch 62/100\n",
      "19/19 [==============================] - 0s 17ms/step - loss: 0.6731 - val_loss: 0.7293\n",
      "Epoch 63/100\n",
      "19/19 [==============================] - 0s 17ms/step - loss: 0.7034 - val_loss: 0.7258\n",
      "Epoch 64/100\n",
      "19/19 [==============================] - 0s 16ms/step - loss: 0.6938 - val_loss: 0.7197\n",
      "Epoch 65/100\n",
      "19/19 [==============================] - 0s 17ms/step - loss: 0.7033 - val_loss: 0.7178\n",
      "Epoch 66/100\n",
      "19/19 [==============================] - 0s 17ms/step - loss: 0.6723 - val_loss: 0.7451\n",
      "Epoch 67/100\n",
      "19/19 [==============================] - 0s 17ms/step - loss: 0.6904 - val_loss: 0.7414\n",
      "Epoch 68/100\n",
      "19/19 [==============================] - 0s 16ms/step - loss: 0.6999 - val_loss: 0.7180\n",
      "Epoch 69/100\n",
      "19/19 [==============================] - 0s 17ms/step - loss: 0.6729 - val_loss: 0.7278\n",
      "Epoch 70/100\n",
      "19/19 [==============================] - 0s 17ms/step - loss: 0.6862 - val_loss: 0.7187\n"
     ]
    },
    {
     "data": {
      "text/plain": [
       "<tensorflow.python.keras.callbacks.History at 0x7f05a6aaf9a0>"
      ]
     },
     "execution_count": 62,
     "metadata": {},
     "output_type": "execute_result"
    }
   ],
   "source": [
    "es = EarlyStopping(patience = 5, restore_best_weights = True)\n",
    "\n",
    "cnn.fit(x_treino_cod, y_0, \n",
    "             epochs = 100,\n",
    "             validation_data = (x_valid_cod, y_valid),\n",
    "             callbacks = [es])"
   ]
  },
  {
   "cell_type": "code",
   "execution_count": 63,
   "metadata": {},
   "outputs": [],
   "source": [
    "y_treino_pred = cnn.predict(x_treino_cod)"
   ]
  },
  {
   "cell_type": "code",
   "execution_count": 65,
   "metadata": {},
   "outputs": [
    {
     "data": {
      "text/plain": [
       "0.6938337624612135"
      ]
     },
     "execution_count": 65,
     "metadata": {},
     "output_type": "execute_result"
    }
   ],
   "source": [
    "roc_auc_score(y_0, y_treino_pred)"
   ]
  },
  {
   "cell_type": "markdown",
   "metadata": {},
   "source": [
    "# Rede sem o encoder"
   ]
  },
  {
   "cell_type": "code",
   "execution_count": 66,
   "metadata": {},
   "outputs": [
    {
     "name": "stdout",
     "output_type": "stream",
     "text": [
      "Epoch 1/100\n",
      "19/19 [==============================] - 0s 24ms/step - loss: 0.6763 - val_loss: 7.6455\n",
      "Epoch 2/100\n",
      "19/19 [==============================] - 0s 16ms/step - loss: 0.6889 - val_loss: 7.6445\n",
      "Epoch 3/100\n",
      "19/19 [==============================] - 0s 16ms/step - loss: 0.6808 - val_loss: 7.6442\n",
      "Epoch 4/100\n",
      "19/19 [==============================] - 0s 16ms/step - loss: 0.6585 - val_loss: 7.6457\n",
      "Epoch 5/100\n",
      "19/19 [==============================] - 0s 16ms/step - loss: 0.6914 - val_loss: 7.6461\n",
      "Epoch 6/100\n",
      "19/19 [==============================] - 0s 16ms/step - loss: 0.6539 - val_loss: 7.5099\n",
      "Epoch 7/100\n",
      "19/19 [==============================] - 0s 17ms/step - loss: 0.6626 - val_loss: 7.7059\n",
      "Epoch 8/100\n",
      "19/19 [==============================] - 0s 16ms/step - loss: 0.6484 - val_loss: 7.1244\n",
      "Epoch 9/100\n",
      "19/19 [==============================] - 0s 16ms/step - loss: 0.6342 - val_loss: 6.6903\n",
      "Epoch 10/100\n",
      "19/19 [==============================] - 0s 16ms/step - loss: 0.6052 - val_loss: 7.3482\n",
      "Epoch 11/100\n",
      "19/19 [==============================] - 0s 16ms/step - loss: 0.6034 - val_loss: 7.1634\n",
      "Epoch 12/100\n",
      "19/19 [==============================] - 0s 16ms/step - loss: 0.5916 - val_loss: 7.2306\n",
      "Epoch 13/100\n",
      "19/19 [==============================] - 0s 16ms/step - loss: 0.6297 - val_loss: 7.1708\n",
      "Epoch 14/100\n",
      "19/19 [==============================] - 0s 17ms/step - loss: 0.6067 - val_loss: 5.6251\n",
      "Epoch 15/100\n",
      "19/19 [==============================] - 0s 17ms/step - loss: 0.5862 - val_loss: 7.2412\n",
      "Epoch 16/100\n",
      "19/19 [==============================] - 0s 16ms/step - loss: 0.6022 - val_loss: 5.2059\n",
      "Epoch 17/100\n",
      "19/19 [==============================] - 0s 16ms/step - loss: 0.6077 - val_loss: 5.4841\n",
      "Epoch 18/100\n",
      "19/19 [==============================] - 0s 17ms/step - loss: 0.5708 - val_loss: 7.2281\n",
      "Epoch 19/100\n",
      "19/19 [==============================] - 0s 17ms/step - loss: 0.6266 - val_loss: 5.3958\n",
      "Epoch 20/100\n",
      "19/19 [==============================] - 0s 17ms/step - loss: 0.5603 - val_loss: 7.6576\n",
      "Epoch 21/100\n",
      "19/19 [==============================] - 0s 16ms/step - loss: 0.5403 - val_loss: 7.2528\n"
     ]
    },
    {
     "data": {
      "text/plain": [
       "<tensorflow.python.keras.callbacks.History at 0x7f05a8d7aac0>"
      ]
     },
     "execution_count": 66,
     "metadata": {},
     "output_type": "execute_result"
    }
   ],
   "source": [
    "es = EarlyStopping(patience = 5, restore_best_weights = True)\n",
    "\n",
    "cnn.fit(x_0, y_0, \n",
    "             epochs = 100,\n",
    "             validation_data = (x_valid, y_valid),\n",
    "             callbacks = [es])"
   ]
  },
  {
   "cell_type": "code",
   "execution_count": 67,
   "metadata": {},
   "outputs": [],
   "source": [
    "y_treino_pred = cnn.predict(x_0)"
   ]
  },
  {
   "cell_type": "code",
   "execution_count": 68,
   "metadata": {},
   "outputs": [
    {
     "data": {
      "text/plain": [
       "0.8446116942848968"
      ]
     },
     "execution_count": 68,
     "metadata": {},
     "output_type": "execute_result"
    }
   ],
   "source": [
    "roc_auc_score(y_0, y_treino_pred)"
   ]
  },
  {
   "cell_type": "code",
   "execution_count": null,
   "metadata": {},
   "outputs": [],
   "source": []
  }
 ],
 "metadata": {
  "kernelspec": {
   "display_name": "Python 3",
   "language": "python",
   "name": "python3"
  },
  "language_info": {
   "codemirror_mode": {
    "name": "ipython",
    "version": 3
   },
   "file_extension": ".py",
   "mimetype": "text/x-python",
   "name": "python",
   "nbconvert_exporter": "python",
   "pygments_lexer": "ipython3",
   "version": "3.8.5"
  }
 },
 "nbformat": 4,
 "nbformat_minor": 4
}
