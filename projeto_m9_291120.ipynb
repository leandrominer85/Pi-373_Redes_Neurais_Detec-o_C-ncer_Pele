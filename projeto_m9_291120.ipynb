{
 "cells": [
  {
   "cell_type": "markdown",
   "metadata": {},
   "source": [
    "Contextualização\n",
    "\n",
    "A PyCoders Ltda., cada vez mais especializada no mundo da Inteligência Artificial e Ciência de Dados, foi procurada por uma empresa de Diagnóstico Médico por Imagem para auxiliar os médicos em suas decisões. O case passado pela contratante se refere a detectar câncer de pele por meio de imagens de lesões. Base de Dados\n",
    "\n",
    "Será utilizada uma base de dados com imagens de lesões na pele, sejam elas benignas ou malignas. Existe também arquivos .csv descrevendo as variáveis respostas das imagens. O download das imagens usadas estão no links; já os arquivos descritivos, indicando quais imagens são treino, validação, teste e as respectivas variáveis resposta estão disponíveis nesse link.\n",
    "\n",
    "Do ISIC 2017, devem ser utilizadas as imagens de Nevus e Melanoma. Para complementar a base, rebalanceando as classes, devem ser utilizadas as imagens de Melanoma do ISIC 2018. No notebook disponível nesse link existe uma sugestão de como começar a organizar um dataframe com os nomes dos arquivos. Definições Nota\n",
    "\n",
    "A nota final da squad será composta por:\n",
    "\n",
    "Desempenho do modelo em uma base de label escondida (50 pontos)\n",
    "    A squad com melhor desempenho na base escondida receberá 50 pontos;\n",
    "    A squad com segundo melhor desempenho na base escondida receberá 45 pontos;\n",
    "    A squad com terceiro melhor desempenho na base escondida receberá 40 pontos;\n",
    "    A squad com quarto melhor desempenho na base escondida receberá 35 pontos;\n",
    "Complexidade da Arquitetura da Rede (25 pontos)\n",
    "Complexidade do Pré-processamentos (25 pontos)\n",
    "\n",
    "Regras de Entrega\n",
    "\n",
    "Um notebook com o desenvolvimento do modelo, incluindo arquitetura da rede e pré-processamentos aplicados, de forma explicativa.\n",
    "E uma base com o ID da imagem e a variável resposta predita no formato de probabilidade de câncer.\n",
    "    :warning: Entregar as predições com a probabilidade do tumor ocorrer.\n",
    "Um vídeo de até 10 min fazendo o walk-through desse notebook (não se preocupem em criar a apresentação ou coisas do tipo, apenas gravem a tela do notebook explicando cada step).\n",
    "\n",
    "Informações Complementares\n",
    "\n",
    "O projeto é baseado na Task 3 do desafio global do ISIC 2017, disponível aqui. Foi feita uma simplificação do case ao considerar apenas melanoma e nevus, além de terem sido usadas imagens de melanoma do ISIC 2018 para balancear o conjunto de dados. Nesse link, há um paper escrito pelo Maurício Chigutti descrevendo como o problema foi atacado."
   ]
  },
  {
   "cell_type": "code",
   "execution_count": 1,
   "metadata": {
    "scrolled": true
   },
   "outputs": [],
   "source": [
    "from random import randint\n",
    "import os\n",
    "import shutil\n",
    "import cv2\n",
    "import numpy as np\n",
    "import matplotlib.pyplot as plt\n",
    "import pandas as pd\n",
    "import pickle\n",
    "\n",
    "\n",
    "\n",
    "#Códgo para usar a CPU ao inves da GPU\n",
    "os.environ[\"CUDA_DEVICE_ORDER\"] = \"PCI_BUS_ID\" \n",
    "os.environ[\"CUDA_VISIBLE_DEVICES\"] = \"\"\n",
    "###\n",
    "\n",
    "from sklearn.metrics import accuracy_score , roc_auc_score\n",
    "from sklearn.model_selection import train_test_split\n",
    "from sklearn.preprocessing import MinMaxScaler, OneHotEncoder\n",
    "from tensorflow.keras import Sequential\n",
    "from tensorflow.keras.layers import Dense, Activation, Dropout, Conv2D, Input\n",
    "from tensorflow.keras.layers import Flatten, MaxPool2D, AvgPool2D\n",
    "from tensorflow.keras.layers import BatchNormalization, Reshape, UpSampling2D\n",
    "from tensorflow.keras.preprocessing.image import ImageDataGenerator\n",
    "from tensorflow.keras.regularizers import l2 \n",
    "from tensorflow.keras.callbacks import EarlyStopping\n",
    "from tensorflow.keras.optimizers import RMSprop\n",
    "from tensorflow.keras.models import Model, load_model\n",
    "import tensorflow as tf\n",
    "from PIL import Image\n",
    "\n",
    "seed = 123"
   ]
  },
  {
   "cell_type": "markdown",
   "metadata": {},
   "source": [
    "# Funções"
   ]
  },
  {
   "cell_type": "code",
   "execution_count": 101,
   "metadata": {},
   "outputs": [],
   "source": [
    "\n",
    "# carregamento \n",
    "def get_images_n_labels(dataframe, path = 'treino_full_non_preproc/', \n",
    "                        series_name = 'img', label_name = 'pos', i = 300, j = 300):\n",
    "    \n",
    "    x = []\n",
    "    y = []\n",
    "    \n",
    "    for n in range(dataframe.shape[0]):\n",
    "        \n",
    "        img = cv2.imread(path + dataframe[series_name].iloc[n])\n",
    "        img = cv2.resize(img, (i, j))\n",
    "        x.append(img)\n",
    "        y.append(dataframe[label_name].iloc[n])\n",
    "        \n",
    "    return np.array(x), np.array(y)\n",
    "\n",
    "# pré processamento\n",
    "\n",
    "def segmentation(img):\n",
    "    \n",
    "    gray = cv2.cvtColor(img,cv2.COLOR_BGR2GRAY)\n",
    "    ret, thresh = cv2.threshold(gray,0,255,cv2.THRESH_BINARY_INV + cv2.THRESH_OTSU)\n",
    "    kernel = np.ones((3,3),np.uint8)\n",
    "    opening = cv2.morphologyEx(thresh,cv2.MORPH_OPEN,kernel, iterations = 2)\n",
    "    sure_bg = cv2.dilate(opening,kernel,iterations = 3)\n",
    "    res = cv2.bitwise_and(img,img,mask = sure_bg)\n",
    "    \n",
    "    return res\n",
    "\n",
    "def bgr_CLAHE(img):\n",
    "    \n",
    "    lab = cv2.cvtColor(img, cv2.COLOR_BGR2LAB)\n",
    "    lab_planes = cv2.split(lab)\n",
    "    clahe = cv2.createCLAHE(clipLimit = 2.0,tileGridSize = (6, 6))\n",
    "    lab_planes[0] = clahe.apply(lab_planes[0])\n",
    "    lab = cv2.merge(lab_planes)\n",
    "    img = cv2.cvtColor(lab, cv2.COLOR_LAB2BGR)\n",
    "    \n",
    "    return img\n",
    "\n",
    "def img_preproc(img):\n",
    "    \n",
    "    img = bgr_CLAHE(segmentation(img))\n",
    "    img = img / 255\n",
    "\n",
    "    \n",
    "    return img\n",
    "\n",
    "# augmentation\n",
    "\n",
    "def zoom(img, original_dim = [300, 300], h_slice = [15, 285], v_slice = [15, 285]):\n",
    "\n",
    "    img = img[v_slice[0] : v_slice[1], h_slice[0] : h_slice[1]]\n",
    "    img = cv2.resize(img, (original_dim[0], original_dim[1]))\n",
    "    \n",
    "    return img \n",
    "\n",
    "# horizontal shift\n",
    "def h_shift(image, original_dim = [300, 300], shift = 5):\n",
    "    \n",
    "    T_x = shift\n",
    "    T_y = 0\n",
    "    \n",
    "    M = np.array([[1, 0, T_x], [0, 1, T_y]], dtype = 'float32')\n",
    "    img_transladada = cv2.warpAffine(image, M, (original_dim[0], original_dim[1]))\n",
    "    img = img_transladada[0 : original_dim[0], shift : original_dim[1]]\n",
    "    img = cv2.resize(img, (original_dim[0], original_dim[1]))\n",
    "    \n",
    "    return img\n",
    "\n",
    "# vertical shift\n",
    "def v_shift(image, original_dim = [300, 300], shift = 5):\n",
    "    \n",
    "    T_x = 0\n",
    "    T_y = shift\n",
    "    \n",
    "    M = np.array([[1, 0, T_x], [0, 1, T_y]], dtype = 'float32')\n",
    "    img_transladada = cv2.warpAffine(image, M, (original_dim[0], original_dim[1]))\n",
    "    img = img_transladada[shift : original_dim[0], 0 : original_dim[1]]\n",
    "    img = cv2.resize(img, (original_dim[0], original_dim[1]))\n",
    "    \n",
    "    return img\n",
    "\n",
    "def rotation_90(img):\n",
    "\n",
    "    rows, cols, chnls = img.shape\n",
    "    M = cv2.getRotationMatrix2D(((cols - 1) / 2.0, (rows - 1) / 2.0), 90, 1)\n",
    "    img = cv2.warpAffine(img, M, (cols, rows))\n",
    "    \n",
    "    return img\n",
    "\n",
    "def data_augmentation(x, y):\n",
    "    \n",
    "    augmentation_imgs = []\n",
    "    augmentation_labels = []\n",
    "\n",
    "    for n in range(len(x)):\n",
    "\n",
    "        image = x[n]\n",
    "        classe = y[n]\n",
    "        augment = randint(0, 2) # booleano (33.3% de chance de aplicar augmentation)\n",
    "\n",
    "        if augment == 1:\n",
    "            process = randint(0, 5) # seleção aleatória do processo de augmentation\n",
    "\n",
    "            if process == 0:\n",
    "                image = cv2.flip(image, 0)\n",
    "                augmentation_imgs.append(image) # horizontal flip\n",
    "                augmentation_labels.append(classe)\n",
    "\n",
    "            if process == 1:\n",
    "                image = zoom(image)\n",
    "                augmentation_imgs.append(image) # zoom 0.2\n",
    "                augmentation_labels.append(classe)\n",
    "\n",
    "            if process == 2:\n",
    "                image = h_shift(image)\n",
    "                augmentation_imgs.append(image) # horizontal shift\n",
    "                augmentation_labels.append(classe)\n",
    "\n",
    "            if process == 3:\n",
    "                image = v_shift(image)\n",
    "                augmentation_imgs.append(image) # vertical shift\n",
    "                augmentation_labels.append(classe)\n",
    "\n",
    "            if process == 4:\n",
    "                image = rotation_90(image)\n",
    "                augmentation_imgs.append(image) # rotaton 90°\n",
    "                augmentation_labels.append(classe)\n",
    "                \n",
    "    return augmentation_imgs, augmentation_labels\n",
    "\n",
    "# consolidando os processos acima em um função\n",
    "def single_batch_prep(batch_df, width = 300, height = 300):\n",
    "    \n",
    "    x, y = get_images_n_labels(batch_df)\n",
    "\n",
    "    # pré processamento de imagens\n",
    "    x = [img_preproc(i) for i in x]\n",
    "\n",
    "    # data augmentation\n",
    "    augmentation_imgs, augmentation_labels = data_augmentation(x, y)\n",
    "    \n",
    "    return np.array(x + augmentation_imgs), np.array(list(y) + augmentation_labels)\n",
    "\n",
    "\n",
    "def get_batch(nn_name, batch_desc, valid_desc, valid_dir, batch_size, epochs, \n",
    "              encode = False):\n",
    "    \n",
    "    model = load_model(nn_name)\n",
    "    batch = pickle.load(open(batch_desc, 'rb'))\n",
    "    x_treino, y_treino = single_batch_prep(batch)\n",
    "    \n",
    "    valid = pickle.load(open(valid_desc, 'rb'))\n",
    "    x_valid, y_valid = get_images_n_labels(valid, path = valid_dir)\n",
    "    \n",
    "    if encode == True:\n",
    "        model.fit(x_treino, x_treino, batch_size = batch_size, epochs = epochs, \n",
    "                  validation_data = (x_valid, x_valid))\n",
    "                  \n",
    "    model.save(nn_name)"
   ]
  },
  {
   "cell_type": "markdown",
   "metadata": {},
   "source": [
    "# Diretórios"
   ]
  },
  {
   "cell_type": "code",
   "execution_count": 53,
   "metadata": {},
   "outputs": [],
   "source": [
    "#Caminhos dos  csvs:\n",
    "treino_2018 =\"/media/leandro/2AC8-9C09/ISIC/isic_2018_treino.csv\"\n",
    "treino_2017 =\"/media/leandro/2AC8-9C09/ISIC/isic_2017_treino.csv\"\n",
    "\n",
    "validacao =  \"/media/leandro/2AC8-9C09/ISIC/isic_2017_validacao.csv\"\n"
   ]
  },
  {
   "cell_type": "code",
   "execution_count": 54,
   "metadata": {},
   "outputs": [],
   "source": [
    "# # Caminhos dos  csvs (win):\n",
    "# treino_2018 =r\"D:\\ISIC\\isic_2018_treino.csv\"\n",
    "# treino_2017 =r\"D:\\ISIC\\isic_2017_treino.csv\"\n",
    "# teste =      r\"D:\\ISIC\\isic_2017_teste.csv\"\n",
    "# validacao =  r\"D:\\ISIC\\isic_2017_validacao.csv\""
   ]
  },
  {
   "cell_type": "code",
   "execution_count": 55,
   "metadata": {},
   "outputs": [],
   "source": [
    "# diretorio_treino = '/media/leandro/2AC8-9C09/ISIC/treino/'\n",
    "# diretorio_teste = '/media/leandro/2AC8-9C09/ISIC/isic_2017_teste/'\n",
    "# diretorio_val = \"/media/leandro/2AC8-9C09/ISIC/isic_2017_validacao/\""
   ]
  },
  {
   "cell_type": "code",
   "execution_count": 56,
   "metadata": {},
   "outputs": [],
   "source": [
    "diretorio_treino = \"/media/leandro/2AC8-9C09/ISIC/treino/\"\n",
    "diretorio_teste =  \"/media/leandro/2AC8-9C09/ISIC/isic_2017_teste/\"\n",
    "diretorio_val =    \"/media/leandro/2AC8-9C09/ISIC/isic_2017_validacao/\"\n"
   ]
  },
  {
   "cell_type": "markdown",
   "metadata": {},
   "source": [
    "## Tratamento, balanceamento e split de treino e teste de descritivos"
   ]
  },
  {
   "cell_type": "code",
   "execution_count": 57,
   "metadata": {},
   "outputs": [],
   "source": [
    "# primeiramente, abrimos os descritivos dos dados de treino, a fim de analisar o balanceamento dos dados;\n",
    "# julgamos válido ajustar a rede a um conjunto de dados balanceado, assim, evitando enviesar a rede\n",
    "\n",
    "df_treino_2017 = pd.read_csv(treino_2017)\n",
    "df_treino_2018 = pd.read_csv(treino_2018)"
   ]
  },
  {
   "cell_type": "code",
   "execution_count": 58,
   "metadata": {},
   "outputs": [
    {
     "data": {
      "text/html": [
       "<div>\n",
       "<style scoped>\n",
       "    .dataframe tbody tr th:only-of-type {\n",
       "        vertical-align: middle;\n",
       "    }\n",
       "\n",
       "    .dataframe tbody tr th {\n",
       "        vertical-align: top;\n",
       "    }\n",
       "\n",
       "    .dataframe thead th {\n",
       "        text-align: right;\n",
       "    }\n",
       "</style>\n",
       "<table border=\"1\" class=\"dataframe\">\n",
       "  <thead>\n",
       "    <tr style=\"text-align: right;\">\n",
       "      <th></th>\n",
       "      <th>image_id</th>\n",
       "      <th>melanoma</th>\n",
       "      <th>seborrheic_keratosis</th>\n",
       "    </tr>\n",
       "  </thead>\n",
       "  <tbody>\n",
       "    <tr>\n",
       "      <th>0</th>\n",
       "      <td>ISIC_0000000</td>\n",
       "      <td>0.0</td>\n",
       "      <td>0.0</td>\n",
       "    </tr>\n",
       "    <tr>\n",
       "      <th>1</th>\n",
       "      <td>ISIC_0000001</td>\n",
       "      <td>0.0</td>\n",
       "      <td>0.0</td>\n",
       "    </tr>\n",
       "    <tr>\n",
       "      <th>2</th>\n",
       "      <td>ISIC_0000002</td>\n",
       "      <td>1.0</td>\n",
       "      <td>0.0</td>\n",
       "    </tr>\n",
       "    <tr>\n",
       "      <th>3</th>\n",
       "      <td>ISIC_0000003</td>\n",
       "      <td>0.0</td>\n",
       "      <td>0.0</td>\n",
       "    </tr>\n",
       "    <tr>\n",
       "      <th>4</th>\n",
       "      <td>ISIC_0000004</td>\n",
       "      <td>1.0</td>\n",
       "      <td>0.0</td>\n",
       "    </tr>\n",
       "  </tbody>\n",
       "</table>\n",
       "</div>"
      ],
      "text/plain": [
       "       image_id  melanoma  seborrheic_keratosis\n",
       "0  ISIC_0000000       0.0                   0.0\n",
       "1  ISIC_0000001       0.0                   0.0\n",
       "2  ISIC_0000002       1.0                   0.0\n",
       "3  ISIC_0000003       0.0                   0.0\n",
       "4  ISIC_0000004       1.0                   0.0"
      ]
     },
     "execution_count": 58,
     "metadata": {},
     "output_type": "execute_result"
    }
   ],
   "source": [
    "# analisando descritivo de treino de 2017\n",
    "df_treino_2017.head()"
   ]
  },
  {
   "cell_type": "code",
   "execution_count": 59,
   "metadata": {},
   "outputs": [],
   "source": [
    "# ------- TREINO 2017\n",
    "\n",
    "df_treino_2017['image_id'] = df_treino_2017['image_id'].apply(lambda x: x + '.jpg')\n",
    "df_treino_2017['nevus'] = ((df_treino_2017['melanoma'] == 0) & \n",
    "                           (df_treino_2017['seborrheic_keratosis'] == 0)).astype(float)\n",
    "df_treino_2017.drop('seborrheic_keratosis', axis = 1, inplace = True)\n",
    "df_treino_2017 = df_treino_2017.loc[(df_treino_2017['melanoma'] == 1) | (df_treino_2017['nevus'] == 1)]\n",
    "\n",
    "# nesta célula, adicionamos extensões aos nomes dos arquivos, para que estes correspondam exatamente aos nomes\n",
    "# que de fato seriam usados para acessar as imagens, por código, em seguida, precisávamos saber quais imagens\n",
    "# eram casos de 'nevus', como esta flag não existe, inferimos que casos que não fossem 'melanoma', nem \n",
    "# 'seborrheic_keratosis' seriam 'nevus', à partir disso, criamos uma terceira flag, eliminamos a flag\n",
    "# 'seborrheic_keratosis', que não nos convinha, por fim, mantivemos no dataframe, apenas as imagens\n",
    "# que representassem ou casos de 'nevus' ou 'melanoma'"
   ]
  },
  {
   "cell_type": "code",
   "execution_count": 60,
   "metadata": {},
   "outputs": [
    {
     "data": {
      "text/html": [
       "<div>\n",
       "<style scoped>\n",
       "    .dataframe tbody tr th:only-of-type {\n",
       "        vertical-align: middle;\n",
       "    }\n",
       "\n",
       "    .dataframe tbody tr th {\n",
       "        vertical-align: top;\n",
       "    }\n",
       "\n",
       "    .dataframe thead th {\n",
       "        text-align: right;\n",
       "    }\n",
       "</style>\n",
       "<table border=\"1\" class=\"dataframe\">\n",
       "  <thead>\n",
       "    <tr style=\"text-align: right;\">\n",
       "      <th></th>\n",
       "      <th>image_id</th>\n",
       "      <th>melanoma</th>\n",
       "      <th>nevus</th>\n",
       "    </tr>\n",
       "  </thead>\n",
       "  <tbody>\n",
       "    <tr>\n",
       "      <th>0</th>\n",
       "      <td>ISIC_0000000.jpg</td>\n",
       "      <td>0.0</td>\n",
       "      <td>1.0</td>\n",
       "    </tr>\n",
       "    <tr>\n",
       "      <th>1</th>\n",
       "      <td>ISIC_0000001.jpg</td>\n",
       "      <td>0.0</td>\n",
       "      <td>1.0</td>\n",
       "    </tr>\n",
       "    <tr>\n",
       "      <th>2</th>\n",
       "      <td>ISIC_0000002.jpg</td>\n",
       "      <td>1.0</td>\n",
       "      <td>0.0</td>\n",
       "    </tr>\n",
       "    <tr>\n",
       "      <th>3</th>\n",
       "      <td>ISIC_0000003.jpg</td>\n",
       "      <td>0.0</td>\n",
       "      <td>1.0</td>\n",
       "    </tr>\n",
       "    <tr>\n",
       "      <th>4</th>\n",
       "      <td>ISIC_0000004.jpg</td>\n",
       "      <td>1.0</td>\n",
       "      <td>0.0</td>\n",
       "    </tr>\n",
       "  </tbody>\n",
       "</table>\n",
       "</div>"
      ],
      "text/plain": [
       "           image_id  melanoma  nevus\n",
       "0  ISIC_0000000.jpg       0.0    1.0\n",
       "1  ISIC_0000001.jpg       0.0    1.0\n",
       "2  ISIC_0000002.jpg       1.0    0.0\n",
       "3  ISIC_0000003.jpg       0.0    1.0\n",
       "4  ISIC_0000004.jpg       1.0    0.0"
      ]
     },
     "execution_count": 60,
     "metadata": {},
     "output_type": "execute_result"
    }
   ],
   "source": [
    "df_treino_2017.head()"
   ]
  },
  {
   "cell_type": "code",
   "execution_count": 61,
   "metadata": {},
   "outputs": [
    {
     "data": {
      "text/html": [
       "<div>\n",
       "<style scoped>\n",
       "    .dataframe tbody tr th:only-of-type {\n",
       "        vertical-align: middle;\n",
       "    }\n",
       "\n",
       "    .dataframe tbody tr th {\n",
       "        vertical-align: top;\n",
       "    }\n",
       "\n",
       "    .dataframe thead th {\n",
       "        text-align: right;\n",
       "    }\n",
       "</style>\n",
       "<table border=\"1\" class=\"dataframe\">\n",
       "  <thead>\n",
       "    <tr style=\"text-align: right;\">\n",
       "      <th></th>\n",
       "      <th>image</th>\n",
       "      <th>MEL</th>\n",
       "      <th>NV</th>\n",
       "      <th>BCC</th>\n",
       "      <th>AKIEC</th>\n",
       "      <th>BKL</th>\n",
       "      <th>DF</th>\n",
       "      <th>VASC</th>\n",
       "    </tr>\n",
       "  </thead>\n",
       "  <tbody>\n",
       "    <tr>\n",
       "      <th>0</th>\n",
       "      <td>ISIC_0024306</td>\n",
       "      <td>0.0</td>\n",
       "      <td>1.0</td>\n",
       "      <td>0.0</td>\n",
       "      <td>0.0</td>\n",
       "      <td>0.0</td>\n",
       "      <td>0.0</td>\n",
       "      <td>0.0</td>\n",
       "    </tr>\n",
       "    <tr>\n",
       "      <th>1</th>\n",
       "      <td>ISIC_0024307</td>\n",
       "      <td>0.0</td>\n",
       "      <td>1.0</td>\n",
       "      <td>0.0</td>\n",
       "      <td>0.0</td>\n",
       "      <td>0.0</td>\n",
       "      <td>0.0</td>\n",
       "      <td>0.0</td>\n",
       "    </tr>\n",
       "    <tr>\n",
       "      <th>2</th>\n",
       "      <td>ISIC_0024308</td>\n",
       "      <td>0.0</td>\n",
       "      <td>1.0</td>\n",
       "      <td>0.0</td>\n",
       "      <td>0.0</td>\n",
       "      <td>0.0</td>\n",
       "      <td>0.0</td>\n",
       "      <td>0.0</td>\n",
       "    </tr>\n",
       "    <tr>\n",
       "      <th>3</th>\n",
       "      <td>ISIC_0024309</td>\n",
       "      <td>0.0</td>\n",
       "      <td>1.0</td>\n",
       "      <td>0.0</td>\n",
       "      <td>0.0</td>\n",
       "      <td>0.0</td>\n",
       "      <td>0.0</td>\n",
       "      <td>0.0</td>\n",
       "    </tr>\n",
       "    <tr>\n",
       "      <th>4</th>\n",
       "      <td>ISIC_0024310</td>\n",
       "      <td>1.0</td>\n",
       "      <td>0.0</td>\n",
       "      <td>0.0</td>\n",
       "      <td>0.0</td>\n",
       "      <td>0.0</td>\n",
       "      <td>0.0</td>\n",
       "      <td>0.0</td>\n",
       "    </tr>\n",
       "  </tbody>\n",
       "</table>\n",
       "</div>"
      ],
      "text/plain": [
       "          image  MEL   NV  BCC  AKIEC  BKL   DF  VASC\n",
       "0  ISIC_0024306  0.0  1.0  0.0    0.0  0.0  0.0   0.0\n",
       "1  ISIC_0024307  0.0  1.0  0.0    0.0  0.0  0.0   0.0\n",
       "2  ISIC_0024308  0.0  1.0  0.0    0.0  0.0  0.0   0.0\n",
       "3  ISIC_0024309  0.0  1.0  0.0    0.0  0.0  0.0   0.0\n",
       "4  ISIC_0024310  1.0  0.0  0.0    0.0  0.0  0.0   0.0"
      ]
     },
     "execution_count": 61,
     "metadata": {},
     "output_type": "execute_result"
    }
   ],
   "source": [
    "# partimos para o descritivo de treino de 2018\n",
    "\n",
    "df_treino_2018.head()"
   ]
  },
  {
   "cell_type": "code",
   "execution_count": 62,
   "metadata": {},
   "outputs": [],
   "source": [
    "# ------- TREINO 2018\n",
    "\n",
    "df_treino_2018['image'] = df_treino_2018['image'].apply(lambda x: x + '.jpg')\n",
    "df_treino_2018 = df_treino_2018.loc[(df_treino_2018['MEL'] == 1) | (df_treino_2018['NV'] == 1)]\n",
    "df_treino_2018 = df_treino_2018[['image', 'MEL', 'NV']]\n",
    "# nesta célula, apenas adicinamos as extensões aos nomes dos arquivos, filtramos imagens que representassem \n",
    "# casos de 'nevus' ou 'melanoma', por meio das flags 'NEV' e 'ML'"
   ]
  },
  {
   "cell_type": "code",
   "execution_count": 63,
   "metadata": {},
   "outputs": [
    {
     "data": {
      "text/html": [
       "<div>\n",
       "<style scoped>\n",
       "    .dataframe tbody tr th:only-of-type {\n",
       "        vertical-align: middle;\n",
       "    }\n",
       "\n",
       "    .dataframe tbody tr th {\n",
       "        vertical-align: top;\n",
       "    }\n",
       "\n",
       "    .dataframe thead th {\n",
       "        text-align: right;\n",
       "    }\n",
       "</style>\n",
       "<table border=\"1\" class=\"dataframe\">\n",
       "  <thead>\n",
       "    <tr style=\"text-align: right;\">\n",
       "      <th></th>\n",
       "      <th>image</th>\n",
       "      <th>MEL</th>\n",
       "      <th>NV</th>\n",
       "    </tr>\n",
       "  </thead>\n",
       "  <tbody>\n",
       "    <tr>\n",
       "      <th>0</th>\n",
       "      <td>ISIC_0024306.jpg</td>\n",
       "      <td>0.0</td>\n",
       "      <td>1.0</td>\n",
       "    </tr>\n",
       "    <tr>\n",
       "      <th>1</th>\n",
       "      <td>ISIC_0024307.jpg</td>\n",
       "      <td>0.0</td>\n",
       "      <td>1.0</td>\n",
       "    </tr>\n",
       "    <tr>\n",
       "      <th>2</th>\n",
       "      <td>ISIC_0024308.jpg</td>\n",
       "      <td>0.0</td>\n",
       "      <td>1.0</td>\n",
       "    </tr>\n",
       "    <tr>\n",
       "      <th>3</th>\n",
       "      <td>ISIC_0024309.jpg</td>\n",
       "      <td>0.0</td>\n",
       "      <td>1.0</td>\n",
       "    </tr>\n",
       "    <tr>\n",
       "      <th>4</th>\n",
       "      <td>ISIC_0024310.jpg</td>\n",
       "      <td>1.0</td>\n",
       "      <td>0.0</td>\n",
       "    </tr>\n",
       "  </tbody>\n",
       "</table>\n",
       "</div>"
      ],
      "text/plain": [
       "              image  MEL   NV\n",
       "0  ISIC_0024306.jpg  0.0  1.0\n",
       "1  ISIC_0024307.jpg  0.0  1.0\n",
       "2  ISIC_0024308.jpg  0.0  1.0\n",
       "3  ISIC_0024309.jpg  0.0  1.0\n",
       "4  ISIC_0024310.jpg  1.0  0.0"
      ]
     },
     "execution_count": 63,
     "metadata": {},
     "output_type": "execute_result"
    }
   ],
   "source": [
    "df_treino_2018.head()"
   ]
  },
  {
   "cell_type": "code",
   "execution_count": 64,
   "metadata": {},
   "outputs": [],
   "source": [
    "# aqui, unificamos os nomes das series dos descritivos, para que possam ser concatenados\n",
    "df_treino_2018.columns = ['img', 'pos', 'neg']\n",
    "df_treino_2017.columns = ['img', 'pos', 'neg']"
   ]
  },
  {
   "cell_type": "code",
   "execution_count": 65,
   "metadata": {},
   "outputs": [],
   "source": [
    "# como podemos ver abaixo, as bases estão desbalanceadas"
   ]
  },
  {
   "cell_type": "code",
   "execution_count": 66,
   "metadata": {},
   "outputs": [
    {
     "data": {
      "text/plain": [
       "0.0    0.785796\n",
       "1.0    0.214204\n",
       "Name: pos, dtype: float64"
      ]
     },
     "execution_count": 66,
     "metadata": {},
     "output_type": "execute_result"
    }
   ],
   "source": [
    "df_treino_2017['pos'].value_counts(1)"
   ]
  },
  {
   "cell_type": "code",
   "execution_count": 67,
   "metadata": {},
   "outputs": [
    {
     "data": {
      "text/plain": [
       "0.0    0.857636\n",
       "1.0    0.142364\n",
       "Name: pos, dtype: float64"
      ]
     },
     "execution_count": 67,
     "metadata": {},
     "output_type": "execute_result"
    }
   ],
   "source": [
    "df_treino_2018['pos'].value_counts(1)"
   ]
  },
  {
   "cell_type": "code",
   "execution_count": 68,
   "metadata": {},
   "outputs": [
    {
     "data": {
      "text/plain": [
       "0.0    1487\n",
       "1.0    1487\n",
       "Name: pos, dtype: int64"
      ]
     },
     "execution_count": 68,
     "metadata": {},
     "output_type": "execute_result"
    }
   ],
   "source": [
    "# nesta célula, juntamos as duas bases, como o intuito de obter um conjunto balanceado de dados\n",
    "\n",
    "# separando casos positivos e negativos de cada ano\n",
    "pos_2018 = df_treino_2018.loc[df_treino_2018['pos'] == 1]\n",
    "pos_2017 = df_treino_2017.loc[df_treino_2017['pos'] == 1]\n",
    "\n",
    "neg_2018 = df_treino_2018.loc[df_treino_2018['neg'] == 1]\n",
    "neg_2017 = df_treino_2017.loc[df_treino_2017['neg'] == 1]\n",
    "\n",
    "# juntando casos positivos e negativos de todos os anos\n",
    "full_pos = pd.concat([pos_2017, pos_2018], axis = 0)\n",
    "full_neg = pd.concat([neg_2017, neg_2018], axis = 0)\n",
    "\n",
    "# amostrando aleatoriamente, n dados negativos, estes consistirão nas observações negativas (a amostragem\n",
    "# é feita para separar um número de imagens equivalente ao número de imagens positivas que temos à disposição)\n",
    "full_neg = full_neg.sample(n = full_pos.shape[0], random_state = seed)\n",
    "\n",
    "full_pos = full_pos[['img', 'pos', 'neg']]\n",
    "full_neg = full_neg[['img', 'pos', 'neg']]\n",
    "\n",
    "filenames = pd.concat([full_pos, full_neg]).reset_index().drop('index', axis = 1)\n",
    "\n",
    "filenames['pos'].value_counts()"
   ]
  },
  {
   "cell_type": "markdown",
   "metadata": {},
   "source": [
    "# na célula abaixo, separo 20% das imagens para teste\n",
    "### na hora de tirar a métrica, carregar 'df_teste' com a função 'get_images_n_labels' e testar na rede"
   ]
  },
  {
   "cell_type": "code",
   "execution_count": 69,
   "metadata": {},
   "outputs": [],
   "source": [
    "# com base no conjunto balanceado, obtemos splits de treino e teste\n",
    "df_treino, df_teste = train_test_split(filenames, test_size = 0.2, random_state = seed)"
   ]
  },
  {
   "cell_type": "code",
   "execution_count": 70,
   "metadata": {},
   "outputs": [],
   "source": [
    "# analisamos aqui, o descritivo de validação\n",
    "\n",
    "df_valid = pd.read_csv(validacao)"
   ]
  },
  {
   "cell_type": "code",
   "execution_count": 71,
   "metadata": {},
   "outputs": [
    {
     "data": {
      "text/html": [
       "<div>\n",
       "<style scoped>\n",
       "    .dataframe tbody tr th:only-of-type {\n",
       "        vertical-align: middle;\n",
       "    }\n",
       "\n",
       "    .dataframe tbody tr th {\n",
       "        vertical-align: top;\n",
       "    }\n",
       "\n",
       "    .dataframe thead th {\n",
       "        text-align: right;\n",
       "    }\n",
       "</style>\n",
       "<table border=\"1\" class=\"dataframe\">\n",
       "  <thead>\n",
       "    <tr style=\"text-align: right;\">\n",
       "      <th></th>\n",
       "      <th>image_id</th>\n",
       "      <th>melanoma</th>\n",
       "      <th>seborrheic_keratosis</th>\n",
       "    </tr>\n",
       "  </thead>\n",
       "  <tbody>\n",
       "    <tr>\n",
       "      <th>0</th>\n",
       "      <td>ISIC_0001769</td>\n",
       "      <td>0.0</td>\n",
       "      <td>0.0</td>\n",
       "    </tr>\n",
       "    <tr>\n",
       "      <th>1</th>\n",
       "      <td>ISIC_0001852</td>\n",
       "      <td>0.0</td>\n",
       "      <td>0.0</td>\n",
       "    </tr>\n",
       "    <tr>\n",
       "      <th>2</th>\n",
       "      <td>ISIC_0001871</td>\n",
       "      <td>0.0</td>\n",
       "      <td>0.0</td>\n",
       "    </tr>\n",
       "    <tr>\n",
       "      <th>3</th>\n",
       "      <td>ISIC_0003462</td>\n",
       "      <td>0.0</td>\n",
       "      <td>0.0</td>\n",
       "    </tr>\n",
       "    <tr>\n",
       "      <th>4</th>\n",
       "      <td>ISIC_0003539</td>\n",
       "      <td>0.0</td>\n",
       "      <td>0.0</td>\n",
       "    </tr>\n",
       "  </tbody>\n",
       "</table>\n",
       "</div>"
      ],
      "text/plain": [
       "       image_id  melanoma  seborrheic_keratosis\n",
       "0  ISIC_0001769       0.0                   0.0\n",
       "1  ISIC_0001852       0.0                   0.0\n",
       "2  ISIC_0001871       0.0                   0.0\n",
       "3  ISIC_0003462       0.0                   0.0\n",
       "4  ISIC_0003539       0.0                   0.0"
      ]
     },
     "execution_count": 71,
     "metadata": {},
     "output_type": "execute_result"
    }
   ],
   "source": [
    "df_valid.head()"
   ]
  },
  {
   "cell_type": "code",
   "execution_count": 72,
   "metadata": {},
   "outputs": [],
   "source": [
    "df_valid['image_id'] = df_valid['image_id'].apply(lambda x: x + '.jpg')\n",
    "df_valid['nevus'] = ((df_valid['melanoma'] == 0) & \n",
    "                           (df_valid['seborrheic_keratosis'] == 0)).astype(float)\n",
    "df_valid.drop('seborrheic_keratosis', axis = 1, inplace = True)\n",
    "df_valid = df_valid.loc[(df_valid['melanoma'] == 1) | (df_valid['nevus'] == 1)]\n",
    "\n",
    "df_valid.columns = ['img', 'pos', 'neg']\n",
    "# para o tratamento do descritivo de validação, foi necessário adicionar extensões e criar a flag 'nevus', \n",
    "# de forma similar ao tratamento do descritivo de 2017, além disso, filtramos por apenas casos de \n",
    "# 'melanoma' ou 'nevus', também foram aplicados os mesmos nomes para as series "
   ]
  },
  {
   "cell_type": "code",
   "execution_count": 73,
   "metadata": {},
   "outputs": [
    {
     "data": {
      "text/html": [
       "<div>\n",
       "<style scoped>\n",
       "    .dataframe tbody tr th:only-of-type {\n",
       "        vertical-align: middle;\n",
       "    }\n",
       "\n",
       "    .dataframe tbody tr th {\n",
       "        vertical-align: top;\n",
       "    }\n",
       "\n",
       "    .dataframe thead th {\n",
       "        text-align: right;\n",
       "    }\n",
       "</style>\n",
       "<table border=\"1\" class=\"dataframe\">\n",
       "  <thead>\n",
       "    <tr style=\"text-align: right;\">\n",
       "      <th></th>\n",
       "      <th>img</th>\n",
       "      <th>pos</th>\n",
       "      <th>neg</th>\n",
       "    </tr>\n",
       "  </thead>\n",
       "  <tbody>\n",
       "    <tr>\n",
       "      <th>0</th>\n",
       "      <td>ISIC_0001769.jpg</td>\n",
       "      <td>0.0</td>\n",
       "      <td>1.0</td>\n",
       "    </tr>\n",
       "    <tr>\n",
       "      <th>1</th>\n",
       "      <td>ISIC_0001852.jpg</td>\n",
       "      <td>0.0</td>\n",
       "      <td>1.0</td>\n",
       "    </tr>\n",
       "    <tr>\n",
       "      <th>2</th>\n",
       "      <td>ISIC_0001871.jpg</td>\n",
       "      <td>0.0</td>\n",
       "      <td>1.0</td>\n",
       "    </tr>\n",
       "    <tr>\n",
       "      <th>3</th>\n",
       "      <td>ISIC_0003462.jpg</td>\n",
       "      <td>0.0</td>\n",
       "      <td>1.0</td>\n",
       "    </tr>\n",
       "    <tr>\n",
       "      <th>4</th>\n",
       "      <td>ISIC_0003539.jpg</td>\n",
       "      <td>0.0</td>\n",
       "      <td>1.0</td>\n",
       "    </tr>\n",
       "  </tbody>\n",
       "</table>\n",
       "</div>"
      ],
      "text/plain": [
       "                img  pos  neg\n",
       "0  ISIC_0001769.jpg  0.0  1.0\n",
       "1  ISIC_0001852.jpg  0.0  1.0\n",
       "2  ISIC_0001871.jpg  0.0  1.0\n",
       "3  ISIC_0003462.jpg  0.0  1.0\n",
       "4  ISIC_0003539.jpg  0.0  1.0"
      ]
     },
     "execution_count": 73,
     "metadata": {},
     "output_type": "execute_result"
    }
   ],
   "source": [
    "df_valid.head()"
   ]
  },
  {
   "cell_type": "code",
   "execution_count": 74,
   "metadata": {},
   "outputs": [
    {
     "data": {
      "text/plain": [
       "0.0    0.722222\n",
       "1.0    0.277778\n",
       "Name: pos, dtype: float64"
      ]
     },
     "execution_count": 74,
     "metadata": {},
     "output_type": "execute_result"
    }
   ],
   "source": [
    "# como podemos observar, a base de validação está desbalanceada\n",
    "\n",
    "df_valid['pos'].value_counts(1)"
   ]
  },
  {
   "cell_type": "code",
   "execution_count": 75,
   "metadata": {},
   "outputs": [],
   "source": [
    "# para balanceá-la, elminaremos casos negativos o suficiente para que o número resultante se equipare \n",
    "# ao número de casos positivos\n",
    "\n",
    "df_valid_pos = df_valid.loc[df_valid['pos'] == 1]\n",
    "df_valid_neg = df_valid.loc[df_valid['neg'] == 1]"
   ]
  },
  {
   "cell_type": "code",
   "execution_count": 76,
   "metadata": {},
   "outputs": [
    {
     "data": {
      "text/plain": [
       "(30, 78)"
      ]
     },
     "execution_count": 76,
     "metadata": {},
     "output_type": "execute_result"
    }
   ],
   "source": [
    "len(df_valid_pos), len(df_valid_neg)\n",
    "\n",
    "# amostraremos 30 valores aleatórios dentre os casos negativos, e estes serão concatenados ao conjunto de\n",
    "# casos positivos, o conjunto resultante consistirá no descritivo de validação"
   ]
  },
  {
   "cell_type": "code",
   "execution_count": 77,
   "metadata": {},
   "outputs": [],
   "source": [
    "df_valid_neg = df_valid_neg.sample(30, random_state = seed)\n",
    "df_valid = pd.concat([df_valid_pos, df_valid_neg])"
   ]
  },
  {
   "cell_type": "code",
   "execution_count": 78,
   "metadata": {},
   "outputs": [
    {
     "data": {
      "text/plain": [
       "0.0    0.5\n",
       "1.0    0.5\n",
       "Name: pos, dtype: float64"
      ]
     },
     "execution_count": 78,
     "metadata": {},
     "output_type": "execute_result"
    }
   ],
   "source": [
    "df_valid['pos'].value_counts(1)"
   ]
  },
  {
   "cell_type": "code",
   "execution_count": 79,
   "metadata": {},
   "outputs": [],
   "source": [
    "# descritivo de teste (cujas predições devemos entregar)\n",
    "\n",
    "df_pred = pd.read_csv(teste)"
   ]
  },
  {
   "cell_type": "code",
   "execution_count": 80,
   "metadata": {},
   "outputs": [
    {
     "data": {
      "text/html": [
       "<div>\n",
       "<style scoped>\n",
       "    .dataframe tbody tr th:only-of-type {\n",
       "        vertical-align: middle;\n",
       "    }\n",
       "\n",
       "    .dataframe tbody tr th {\n",
       "        vertical-align: top;\n",
       "    }\n",
       "\n",
       "    .dataframe thead th {\n",
       "        text-align: right;\n",
       "    }\n",
       "</style>\n",
       "<table border=\"1\" class=\"dataframe\">\n",
       "  <thead>\n",
       "    <tr style=\"text-align: right;\">\n",
       "      <th></th>\n",
       "      <th>image_id</th>\n",
       "    </tr>\n",
       "  </thead>\n",
       "  <tbody>\n",
       "    <tr>\n",
       "      <th>0</th>\n",
       "      <td>ISIC_0012086</td>\n",
       "    </tr>\n",
       "    <tr>\n",
       "      <th>1</th>\n",
       "      <td>ISIC_0012092</td>\n",
       "    </tr>\n",
       "    <tr>\n",
       "      <th>2</th>\n",
       "      <td>ISIC_0012095</td>\n",
       "    </tr>\n",
       "    <tr>\n",
       "      <th>3</th>\n",
       "      <td>ISIC_0012134</td>\n",
       "    </tr>\n",
       "    <tr>\n",
       "      <th>4</th>\n",
       "      <td>ISIC_0012136</td>\n",
       "    </tr>\n",
       "  </tbody>\n",
       "</table>\n",
       "</div>"
      ],
      "text/plain": [
       "       image_id\n",
       "0  ISIC_0012086\n",
       "1  ISIC_0012092\n",
       "2  ISIC_0012095\n",
       "3  ISIC_0012134\n",
       "4  ISIC_0012136"
      ]
     },
     "execution_count": 80,
     "metadata": {},
     "output_type": "execute_result"
    }
   ],
   "source": [
    "df_pred.head()"
   ]
  },
  {
   "cell_type": "code",
   "execution_count": 81,
   "metadata": {},
   "outputs": [],
   "source": [
    "df_pred['image_id'] = df_pred['image_id'].apply(lambda x: x + '.jpg')\n",
    "df_pred.columns = ['img']\n",
    "\n",
    "# para o tratamento do descritivo de teste, aplicamos extensões e unificamos nome da series"
   ]
  },
  {
   "cell_type": "code",
   "execution_count": 82,
   "metadata": {},
   "outputs": [
    {
     "data": {
      "text/html": [
       "<div>\n",
       "<style scoped>\n",
       "    .dataframe tbody tr th:only-of-type {\n",
       "        vertical-align: middle;\n",
       "    }\n",
       "\n",
       "    .dataframe tbody tr th {\n",
       "        vertical-align: top;\n",
       "    }\n",
       "\n",
       "    .dataframe thead th {\n",
       "        text-align: right;\n",
       "    }\n",
       "</style>\n",
       "<table border=\"1\" class=\"dataframe\">\n",
       "  <thead>\n",
       "    <tr style=\"text-align: right;\">\n",
       "      <th></th>\n",
       "      <th>img</th>\n",
       "    </tr>\n",
       "  </thead>\n",
       "  <tbody>\n",
       "    <tr>\n",
       "      <th>0</th>\n",
       "      <td>ISIC_0012086.jpg</td>\n",
       "    </tr>\n",
       "    <tr>\n",
       "      <th>1</th>\n",
       "      <td>ISIC_0012092.jpg</td>\n",
       "    </tr>\n",
       "    <tr>\n",
       "      <th>2</th>\n",
       "      <td>ISIC_0012095.jpg</td>\n",
       "    </tr>\n",
       "    <tr>\n",
       "      <th>3</th>\n",
       "      <td>ISIC_0012134.jpg</td>\n",
       "    </tr>\n",
       "    <tr>\n",
       "      <th>4</th>\n",
       "      <td>ISIC_0012136.jpg</td>\n",
       "    </tr>\n",
       "  </tbody>\n",
       "</table>\n",
       "</div>"
      ],
      "text/plain": [
       "                img\n",
       "0  ISIC_0012086.jpg\n",
       "1  ISIC_0012092.jpg\n",
       "2  ISIC_0012095.jpg\n",
       "3  ISIC_0012134.jpg\n",
       "4  ISIC_0012136.jpg"
      ]
     },
     "execution_count": 82,
     "metadata": {},
     "output_type": "execute_result"
    }
   ],
   "source": [
    "df_pred.head()"
   ]
  },
  {
   "cell_type": "code",
   "execution_count": 83,
   "metadata": {},
   "outputs": [],
   "source": [
    "# ao final do processo, possuímos df_treino, df_teste, df_valid, df_pred"
   ]
  },
  {
   "cell_type": "code",
   "execution_count": 84,
   "metadata": {},
   "outputs": [],
   "source": [
    "df_treino = df_treino.reset_index()\n",
    "df_valid = df_valid.reset_index()\n",
    "df_treino.drop('index', axis = 1, inplace = True)\n",
    "df_valid.drop('index', axis = 1, inplace = True)"
   ]
  },
  {
   "cell_type": "markdown",
   "metadata": {},
   "source": [
    "## Pré-processamento"
   ]
  },
  {
   "cell_type": "code",
   "execution_count": 32,
   "metadata": {},
   "outputs": [],
   "source": [
    "# farei o pré processamento das imagens conforme estiver alimentando o ajuste da rede, este será realizado em \n",
    "# batches"
   ]
  },
  {
   "cell_type": "markdown",
   "metadata": {},
   "source": [
    "## se for carregar todos os dados de uma vez, não precisa do próximo bloco"
   ]
  },
  {
   "cell_type": "code",
   "execution_count": 72,
   "metadata": {},
   "outputs": [],
   "source": [
    "# divisão dos dados de treino em batches\n",
    "\n",
    "n_batches = 5\n",
    "data = df_treino\n",
    "batch_list = []\n",
    "\n",
    "resto = data.shape[0] % n_batches\n",
    "step = data.shape[0] // n_batches\n",
    "count = 0\n",
    "lower_idx = 0\n",
    "\n",
    "for n in range(n_batches):\n",
    "    \n",
    "    upper_idx = lower_idx + step \n",
    "    \n",
    "    exec(f'batch_{count} = data.iloc[{lower_idx}:{upper_idx}]')\n",
    "    exec(f'batch_list.append(batch_{count})')\n",
    "    \n",
    "    count += 1\n",
    "    lower_idx += step\n",
    "    \n",
    "# somando resto ao último batch\n",
    "batch_list[-1] = pd.concat([batch_list[-1], df_treino[-4:]])\n",
    "\n",
    "# agora temos a lista 'batch_list', esta possui cinco dataframes, cada um deles, contendo uma porção de \n",
    "# 'df_treino', carregaremos cada batch e ajustaremos a rede a cada um deles"
   ]
  },
  {
   "cell_type": "markdown",
   "metadata": {},
   "source": [
    "# Criação do Encoder"
   ]
  },
  {
   "cell_type": "code",
   "execution_count": 109,
   "metadata": {},
   "outputs": [],
   "source": [
    "px_h, px_v, chnls = 300, 300, 3\n",
    "ipt_e = Input(shape = (px_h, px_v, chnls))\n",
    "\n",
    "encoder = Conv2D(50, (3, 3), input_shape = (px_h, px_v, chnls), activation = 'relu', padding = 'same')(ipt_e)\n",
    "encoder = MaxPool2D((5, 5))(encoder)\n",
    "encoder = Conv2D(50, (5, 5), activation = 'relu', padding = 'same')(encoder)\n",
    "encoder = MaxPool2D((5, 5))(encoder)\n",
    "encoder = Conv2D(50, (5, 5), activation = 'relu', padding = 'same')(encoder)\n",
    "encoder = Flatten()(encoder)\n",
    "\n",
    "encoder = Dense(60, name = 'gargalo')(encoder)\n",
    "\n",
    "decoder = Dense(7200)(encoder)\n",
    "decoder = Reshape(target_shape = (12, 12,50))(decoder)\n",
    "decoder = Conv2D(50, (3, 3), activation = 'relu', padding = 'same')(decoder)\n",
    "decoder = UpSampling2D((5, 5))(decoder)\n",
    "decoder = Conv2D(50, (5, 5), activation = 'relu', padding = 'same')(decoder)\n",
    "decoder = UpSampling2D((5, 5))(decoder)\n",
    "decoder = Conv2D(4, (3, 3), activation = 'relu', padding = 'same')(decoder)\n",
    "decoder = Conv2D(3, (3, 3), activation = 'sigmoid', padding = 'same')(decoder)\n",
    "\n",
    "autoencoder = Model(inputs = ipt_e, outputs = decoder, name = 'autoencoder')\n",
    "autoencoder.compile(loss = 'mean_squared_error')"
   ]
  },
  {
   "cell_type": "code",
   "execution_count": 110,
   "metadata": {},
   "outputs": [
    {
     "name": "stdout",
     "output_type": "stream",
     "text": [
      "Model: \"autoencoder\"\n",
      "_________________________________________________________________\n",
      "Layer (type)                 Output Shape              Param #   \n",
      "=================================================================\n",
      "input_2 (InputLayer)         [(None, 300, 300, 3)]     0         \n",
      "_________________________________________________________________\n",
      "conv2d_7 (Conv2D)            (None, 300, 300, 50)      1400      \n",
      "_________________________________________________________________\n",
      "max_pooling2d_2 (MaxPooling2 (None, 60, 60, 50)        0         \n",
      "_________________________________________________________________\n",
      "conv2d_8 (Conv2D)            (None, 60, 60, 50)        62550     \n",
      "_________________________________________________________________\n",
      "max_pooling2d_3 (MaxPooling2 (None, 12, 12, 50)        0         \n",
      "_________________________________________________________________\n",
      "conv2d_9 (Conv2D)            (None, 12, 12, 50)        62550     \n",
      "_________________________________________________________________\n",
      "flatten_1 (Flatten)          (None, 7200)              0         \n",
      "_________________________________________________________________\n",
      "gargalo (Dense)              (None, 60)                432060    \n",
      "_________________________________________________________________\n",
      "dense_1 (Dense)              (None, 7200)              439200    \n",
      "_________________________________________________________________\n",
      "reshape_1 (Reshape)          (None, 12, 12, 50)        0         \n",
      "_________________________________________________________________\n",
      "conv2d_10 (Conv2D)           (None, 12, 12, 50)        22550     \n",
      "_________________________________________________________________\n",
      "up_sampling2d_2 (UpSampling2 (None, 60, 60, 50)        0         \n",
      "_________________________________________________________________\n",
      "conv2d_11 (Conv2D)           (None, 60, 60, 50)        62550     \n",
      "_________________________________________________________________\n",
      "up_sampling2d_3 (UpSampling2 (None, 300, 300, 50)      0         \n",
      "_________________________________________________________________\n",
      "conv2d_12 (Conv2D)           (None, 300, 300, 4)       1804      \n",
      "_________________________________________________________________\n",
      "conv2d_13 (Conv2D)           (None, 300, 300, 3)       111       \n",
      "=================================================================\n",
      "Total params: 1,084,775\n",
      "Trainable params: 1,084,775\n",
      "Non-trainable params: 0\n",
      "_________________________________________________________________\n"
     ]
    }
   ],
   "source": [
    "autoencoder.summary()"
   ]
  },
  {
   "cell_type": "code",
   "execution_count": 43,
   "metadata": {},
   "outputs": [],
   "source": [
    "# Salvamento do encoder\n",
    "\n",
    "#pickle.dump(batch_0, open('batch_0.pkl', 'wb'))\n",
    "#pickle.dump(batch_1, open('batch_1.pkl', 'wb'))\n",
    "# pickle.dump(batch_2, open('batch_2.pkl', 'wb'))\n",
    "# pickle.dump(batch_3, open('batch_3.pkl', 'wb'))\n",
    "# pickle.dump(batch_4, open('batch_4.pkl', 'wb'))\n",
    "\n",
    "#autoencoder.save('ae.h5')"
   ]
  },
  {
   "cell_type": "code",
   "execution_count": null,
   "metadata": {},
   "outputs": [],
   "source": [
    "#get_batch('ae.h5', 'batch_0.pkl', 'df_valid.pkl', 'isic_2017_validacao/', 25, 100, encode = True)"
   ]
  },
  {
   "cell_type": "code",
   "execution_count": null,
   "metadata": {},
   "outputs": [],
   "source": [
    "#get_batch('ae.h5', 'batch_1.pkl', 'df_valid.pkl', 'isic_2017_validacao/', 25, 100, encode = True)"
   ]
  },
  {
   "cell_type": "code",
   "execution_count": null,
   "metadata": {},
   "outputs": [],
   "source": [
    "#get_batch('ae.h5', 'batch_2.pkl', 'df_valid.pkl', 'isic_2017_validacao/', 25, 100, encode = True)"
   ]
  },
  {
   "cell_type": "code",
   "execution_count": null,
   "metadata": {},
   "outputs": [],
   "source": [
    "#get_batch('ae.h5', 'batch_3.pkl', 'df_valid.pkl', 'isic_2017_validacao/', 25, 100, encode = True)"
   ]
  },
  {
   "cell_type": "code",
   "execution_count": null,
   "metadata": {},
   "outputs": [],
   "source": [
    "#get_batch('ae.h5', 'batch_4.pkl', 'df_valid.pkl', 'isic_2017_validacao/', 25, 100, encode = True)"
   ]
  },
  {
   "cell_type": "code",
   "execution_count": 44,
   "metadata": {},
   "outputs": [],
   "source": []
  },
  {
   "cell_type": "code",
   "execution_count": null,
   "metadata": {},
   "outputs": [],
   "source": []
  },
  {
   "cell_type": "markdown",
   "metadata": {},
   "source": [
    "# Este autoencoder foi ajustado?"
   ]
  },
  {
   "cell_type": "code",
   "execution_count": 35,
   "metadata": {},
   "outputs": [],
   "source": [
    "#Carregando o encoder completo\n",
    "autoencoder = load_model('ae.h5')"
   ]
  },
  {
   "cell_type": "code",
   "execution_count": 41,
   "metadata": {
    "scrolled": false
   },
   "outputs": [],
   "source": [
    "#df_valid = pickle.load(open('df_valid.pkl', 'rb'))\n",
    "\n",
    "x_valid, y_valid = get_images_n_labels(df_valid, path = diretorio_val)"
   ]
  },
  {
   "cell_type": "code",
   "execution_count": 42,
   "metadata": {},
   "outputs": [
    {
     "data": {
      "text/plain": [
       "(300, 300, 3)"
      ]
     },
     "execution_count": 42,
     "metadata": {},
     "output_type": "execute_result"
    }
   ],
   "source": [
    "x_valid[0].shape"
   ]
  },
  {
   "cell_type": "code",
   "execution_count": 43,
   "metadata": {
    "scrolled": true
   },
   "outputs": [],
   "source": [
    "x_treino, y_treino = get_images_n_labels(df_treino, path = diretorio_treino)"
   ]
  },
  {
   "cell_type": "code",
   "execution_count": 44,
   "metadata": {},
   "outputs": [],
   "source": [
    "x_treino_cod = autoencoder.predict(x_treino)\n",
    "x_valid_cod = autoencoder.predict(x_valid)"
   ]
  },
  {
   "cell_type": "code",
   "execution_count": 45,
   "metadata": {},
   "outputs": [
    {
     "data": {
      "text/plain": [
       "((2379, 300, 300, 3), (60, 300, 300, 3))"
      ]
     },
     "execution_count": 45,
     "metadata": {},
     "output_type": "execute_result"
    }
   ],
   "source": [
    "x_treino_cod.shape, x_valid_cod.shape"
   ]
  },
  {
   "cell_type": "code",
   "execution_count": 46,
   "metadata": {},
   "outputs": [
    {
     "data": {
      "text/plain": [
       "<matplotlib.image.AxesImage at 0x7fe1f4232d90>"
      ]
     },
     "execution_count": 46,
     "metadata": {},
     "output_type": "execute_result"
    },
    {
     "data": {
      "image/png": "[encoded data removed]",
      "text/plain": [
       "<Figure size 432x288 with 1 Axes>"
      ]
     },
     "metadata": {
      "needs_background": "light"
     },
     "output_type": "display_data"
    }
   ],
   "source": [
    "plt.imshow(x_treino_cod[0])"
   ]
  },
  {
   "cell_type": "code",
   "execution_count": 47,
   "metadata": {},
   "outputs": [
    {
     "data": {
      "text/plain": [
       "<matplotlib.image.AxesImage at 0x7fe24c4d1520>"
      ]
     },
     "execution_count": 47,
     "metadata": {},
     "output_type": "execute_result"
    },
    {
     "data": {
      "image/png": "[encoded data removed]",
      "text/plain": [
       "<Figure size 432x288 with 1 Axes>"
      ]
     },
     "metadata": {
      "needs_background": "light"
     },
     "output_type": "display_data"
    }
   ],
   "source": [
    "plt.imshow(x_valid_cod[0])"
   ]
  },
  {
   "cell_type": "markdown",
   "metadata": {},
   "source": [
    "# Rede primaria\n",
    "\n",
    "## Essa rede será usada com e sem encoder com o intuito de verificar se o mesmo traz algum ganho preditivo"
   ]
  },
  {
   "cell_type": "code",
   "execution_count": 57,
   "metadata": {},
   "outputs": [],
   "source": [
    "cnn_i, cnn_j, cnn_chnls = 300, 300, 3\n",
    "\n",
    "cnn = Sequential()\n",
    "cnn.add(Conv2D(50, (3, 3), input_shape = (cnn_i, cnn_j, cnn_chnls), activation = 'relu'))\n",
    "cnn.add(Conv2D(50, (3, 3), activation = 'relu'))\n",
    "cnn.add(MaxPool2D((2, 2)))\n",
    "cnn.add(Conv2D(50, (3, 3), activation = 'relu'))\n",
    "cnn.add(Conv2D(50, (3, 3), activation = 'relu'))\n",
    "cnn.add(AvgPool2D((2, 2)))\n",
    "cnn.add(Conv2D(50, (3, 3), activation = 'relu'))\n",
    "cnn.add(BatchNormalization())\n",
    "cnn.add(AvgPool2D((2, 2)))\n",
    "cnn.add(Flatten())\n",
    "cnn.add(Dense(25, activation = 'relu', kernel_regularizer = l2(0.05)))\n",
    "cnn.add(Dropout(0.2))\n",
    "cnn.add(Dense(25, activation = 'relu', kernel_regularizer = l2(0.05)))\n",
    "cnn.add(BatchNormalization())\n",
    "cnn.add(Dropout(0.2))\n",
    "cnn.add(Dense(25, activation = 'relu', kernel_regularizer = l2(0.05)))\n",
    "cnn.add(Dropout(0.2))\n",
    "cnn.add(Dense(25, activation = 'relu', kernel_regularizer = l2(0.05)))\n",
    "cnn.add(Dense(1, activation = 'relu'))\n",
    "        \n",
    "cnn.compile(loss = 'binary_crossentropy', optimizer = RMSprop(learning_rate = 0.001))\n",
    "\n",
    "es = EarlyStopping(monitor = 'loss', patience = 5) "
   ]
  },
  {
   "cell_type": "code",
   "execution_count": 58,
   "metadata": {},
   "outputs": [
    {
     "name": "stdout",
     "output_type": "stream",
     "text": [
      "Model: \"sequential\"\n",
      "_________________________________________________________________\n",
      "Layer (type)                 Output Shape              Param #   \n",
      "=================================================================\n",
      "conv2d_7 (Conv2D)            (None, 298, 298, 50)      1400      \n",
      "_________________________________________________________________\n",
      "conv2d_8 (Conv2D)            (None, 296, 296, 50)      22550     \n",
      "_________________________________________________________________\n",
      "max_pooling2d_2 (MaxPooling2 (None, 148, 148, 50)      0         \n",
      "_________________________________________________________________\n",
      "conv2d_9 (Conv2D)            (None, 146, 146, 50)      22550     \n",
      "_________________________________________________________________\n",
      "conv2d_10 (Conv2D)           (None, 144, 144, 50)      22550     \n",
      "_________________________________________________________________\n",
      "average_pooling2d (AveragePo (None, 72, 72, 50)        0         \n",
      "_________________________________________________________________\n",
      "conv2d_11 (Conv2D)           (None, 70, 70, 50)        22550     \n",
      "_________________________________________________________________\n",
      "batch_normalization (BatchNo (None, 70, 70, 50)        200       \n",
      "_________________________________________________________________\n",
      "average_pooling2d_1 (Average (None, 35, 35, 50)        0         \n",
      "_________________________________________________________________\n",
      "flatten_1 (Flatten)          (None, 61250)             0         \n",
      "_________________________________________________________________\n",
      "dense_1 (Dense)              (None, 25)                1531275   \n",
      "_________________________________________________________________\n",
      "dropout (Dropout)            (None, 25)                0         \n",
      "_________________________________________________________________\n",
      "dense_2 (Dense)              (None, 25)                650       \n",
      "_________________________________________________________________\n",
      "batch_normalization_1 (Batch (None, 25)                100       \n",
      "_________________________________________________________________\n",
      "dropout_1 (Dropout)          (None, 25)                0         \n",
      "_________________________________________________________________\n",
      "dense_3 (Dense)              (None, 25)                650       \n",
      "_________________________________________________________________\n",
      "dropout_2 (Dropout)          (None, 25)                0         \n",
      "_________________________________________________________________\n",
      "dense_4 (Dense)              (None, 25)                650       \n",
      "_________________________________________________________________\n",
      "dense_5 (Dense)              (None, 1)                 26        \n",
      "=================================================================\n",
      "Total params: 1,625,151\n",
      "Trainable params: 1,625,001\n",
      "Non-trainable params: 150\n",
      "_________________________________________________________________\n"
     ]
    }
   ],
   "source": [
    "cnn.summary()"
   ]
  },
  {
   "cell_type": "code",
   "execution_count": 59,
   "metadata": {},
   "outputs": [],
   "source": [
    "batch_size = 100"
   ]
  },
  {
   "cell_type": "markdown",
   "metadata": {},
   "source": [
    "# Testaremos o encoder inteiro nessa primeira rede para ver se ele dá algum ganho preditivo em relação ao modelo sem encoder"
   ]
  },
  {
   "cell_type": "code",
   "execution_count": 61,
   "metadata": {},
   "outputs": [
    {
     "name": "stdout",
     "output_type": "stream",
     "text": [
      "Epoch 1/100\n",
      "75/75 [==============================] - 542s 7s/step - loss: 7.2929 - val_loss: 4.1658\n",
      "Epoch 2/100\n",
      "75/75 [==============================] - 525s 7s/step - loss: 4.5573 - val_loss: 3.3255\n",
      "Epoch 3/100\n",
      "75/75 [==============================] - 523s 7s/step - loss: 3.6478 - val_loss: 2.9830\n",
      "Epoch 4/100\n",
      "75/75 [==============================] - 521s 7s/step - loss: 2.9755 - val_loss: 2.4990\n",
      "Epoch 5/100\n",
      "75/75 [==============================] - 504s 7s/step - loss: 2.5327 - val_loss: 2.1962\n",
      "Epoch 6/100\n",
      "75/75 [==============================] - 494s 7s/step - loss: 1.9167 - val_loss: 1.7699\n",
      "Epoch 7/100\n",
      "75/75 [==============================] - 492s 7s/step - loss: 1.4936 - val_loss: 1.3402\n",
      "Epoch 8/100\n",
      "75/75 [==============================] - 492s 7s/step - loss: 1.1983 - val_loss: 1.1949\n",
      "Epoch 9/100\n",
      "75/75 [==============================] - 491s 7s/step - loss: 1.0529 - val_loss: 0.9803\n",
      "Epoch 10/100\n",
      "75/75 [==============================] - 497s 7s/step - loss: 0.8804 - val_loss: 0.8552\n",
      "Epoch 11/100\n",
      "75/75 [==============================] - 488s 7s/step - loss: 0.7869 - val_loss: 0.8292\n",
      "Epoch 12/100\n",
      "75/75 [==============================] - 499s 7s/step - loss: 0.7683 - val_loss: 0.7968\n",
      "Epoch 13/100\n",
      "75/75 [==============================] - 497s 7s/step - loss: 0.7532 - val_loss: 0.7614\n",
      "Epoch 14/100\n",
      "75/75 [==============================] - 502s 7s/step - loss: 0.7437 - val_loss: 2.3825\n",
      "Epoch 15/100\n",
      "75/75 [==============================] - 491s 7s/step - loss: 0.7164 - val_loss: 0.9194\n",
      "Epoch 16/100\n",
      "75/75 [==============================] - 490s 7s/step - loss: 0.7136 - val_loss: 0.9142\n",
      "Epoch 17/100\n",
      "75/75 [==============================] - 491s 7s/step - loss: 0.7476 - val_loss: 0.8595\n",
      "Epoch 18/100\n",
      "75/75 [==============================] - 491s 7s/step - loss: 0.6976 - val_loss: 1.0345\n"
     ]
    },
    {
     "data": {
      "text/plain": [
       "<tensorflow.python.keras.callbacks.History at 0x7f75bd3b9310>"
      ]
     },
     "execution_count": 61,
     "metadata": {},
     "output_type": "execute_result"
    }
   ],
   "source": [
    "es = EarlyStopping(patience = 5, restore_best_weights = True)\n",
    "\n",
    "cnn.fit(x_treino_cod, y_treino, \n",
    "             epochs = 100,\n",
    "             validation_data = (x_valid_cod, y_valid),\n",
    "             callbacks = [es])"
   ]
  },
  {
   "cell_type": "code",
   "execution_count": 62,
   "metadata": {},
   "outputs": [],
   "source": [
    "y_treino_pred = cnn.predict(x_treino_cod)"
   ]
  },
  {
   "cell_type": "code",
   "execution_count": 64,
   "metadata": {},
   "outputs": [
    {
     "data": {
      "text/plain": [
       "0.7878179204437352"
      ]
     },
     "execution_count": 64,
     "metadata": {},
     "output_type": "execute_result"
    }
   ],
   "source": [
    "roc_auc_score(y_treino, y_treino_pred)"
   ]
  },
  {
   "cell_type": "markdown",
   "metadata": {},
   "source": [
    "# salvando o gargalo"
   ]
  },
  {
   "cell_type": "code",
   "execution_count": 78,
   "metadata": {},
   "outputs": [],
   "source": [
    "#encoder = Model(inputs = autoencoder.input, outputs = autoencoder.get_layer('gargalo').output)\n",
    "#encoder.save('gargalo.h5')"
   ]
  },
  {
   "cell_type": "markdown",
   "metadata": {},
   "source": [
    "# Rede sem o encoder"
   ]
  },
  {
   "cell_type": "code",
   "execution_count": 65,
   "metadata": {},
   "outputs": [
    {
     "name": "stdout",
     "output_type": "stream",
     "text": [
      "Epoch 1/100\n",
      "75/75 [==============================] - 494s 7s/step - loss: 0.7654 - val_loss: 4.0895\n",
      "Epoch 2/100\n",
      "75/75 [==============================] - 491s 7s/step - loss: 0.7845 - val_loss: 1.2205\n",
      "Epoch 3/100\n",
      "75/75 [==============================] - 501s 7s/step - loss: 0.7351 - val_loss: 1.1920\n",
      "Epoch 4/100\n",
      "75/75 [==============================] - 492s 7s/step - loss: 0.7375 - val_loss: 5.2102\n",
      "Epoch 5/100\n",
      "75/75 [==============================] - 495s 7s/step - loss: 0.8029 - val_loss: 1.2600\n",
      "Epoch 6/100\n",
      "75/75 [==============================] - 498s 7s/step - loss: 0.7242 - val_loss: 2.5924\n",
      "Epoch 7/100\n",
      "75/75 [==============================] - 500s 7s/step - loss: 0.7948 - val_loss: 1.0614\n",
      "Epoch 8/100\n",
      "75/75 [==============================] - 488s 7s/step - loss: 0.7423 - val_loss: 1.0958\n",
      "Epoch 9/100\n",
      "75/75 [==============================] - 487s 6s/step - loss: 0.7310 - val_loss: 0.9955\n",
      "Epoch 10/100\n",
      "75/75 [==============================] - 487s 6s/step - loss: 0.6975 - val_loss: 1.4554\n",
      "Epoch 11/100\n",
      "75/75 [==============================] - 487s 6s/step - loss: 0.6908 - val_loss: 1.5211\n",
      "Epoch 12/100\n",
      "75/75 [==============================] - 488s 7s/step - loss: 0.6854 - val_loss: 1.5460\n",
      "Epoch 13/100\n",
      "75/75 [==============================] - 500s 7s/step - loss: 0.6795 - val_loss: 1.1690\n",
      "Epoch 14/100\n",
      "75/75 [==============================] - 497s 7s/step - loss: 0.6726 - val_loss: 1.2552\n"
     ]
    },
    {
     "data": {
      "text/plain": [
       "<tensorflow.python.keras.callbacks.History at 0x7f75b7cb4610>"
      ]
     },
     "execution_count": 65,
     "metadata": {},
     "output_type": "execute_result"
    }
   ],
   "source": [
    "es = EarlyStopping(patience = 5, restore_best_weights = True)\n",
    "\n",
    "cnn.fit(x_treino, y_treino, \n",
    "             epochs = 100,\n",
    "             validation_data = (x_valid, y_valid),\n",
    "             callbacks = [es])"
   ]
  },
  {
   "cell_type": "code",
   "execution_count": 66,
   "metadata": {},
   "outputs": [],
   "source": [
    "y_treino_pred = cnn.predict(x_treino)"
   ]
  },
  {
   "cell_type": "code",
   "execution_count": 67,
   "metadata": {},
   "outputs": [
    {
     "data": {
      "text/plain": [
       "0.7544713470511655"
      ]
     },
     "execution_count": 67,
     "metadata": {},
     "output_type": "execute_result"
    }
   ],
   "source": [
    "roc_auc_score(y_treino, y_treino_pred)"
   ]
  },
  {
   "cell_type": "markdown",
   "metadata": {},
   "source": [
    "# Como o ganho foi pequeno optamos por manter a análise com ele mas também manteremos as predições sem o encoder."
   ]
  },
  {
   "cell_type": "markdown",
   "metadata": {},
   "source": [
    "# Sem o encoder"
   ]
  },
  {
   "cell_type": "code",
   "execution_count": 67,
   "metadata": {},
   "outputs": [],
   "source": [
    "cnn_i, cnn_j, cnn_chnls = 300, 300, 3\n",
    "\n",
    "cnn = Sequential()\n",
    "cnn.add(Conv2D(100, (3, 3), input_shape = (cnn_i, cnn_j, cnn_chnls), activation = 'relu'))\n",
    "cnn.add(Conv2D(50, (3, 3), activation = 'relu'))\n",
    "cnn.add(MaxPool2D((2, 2)))\n",
    "cnn.add(Conv2D(50, (3, 3), activation = 'relu'))\n",
    "cnn.add(Conv2D(50, (3, 3), activation = 'relu'))\n",
    "cnn.add(AvgPool2D((2, 2)))\n",
    "cnn.add(Conv2D(100, (3, 3), activation = 'relu'))\n",
    "cnn.add(BatchNormalization())\n",
    "cnn.add(AvgPool2D((2, 2)))\n",
    "cnn.add(Flatten())\n",
    "cnn.add(Dense(25, activation = 'relu', kernel_regularizer = l2(0.05)))\n",
    "cnn.add(Dropout(0.2))\n",
    "cnn.add(Dense(150, activation = 'relu', kernel_regularizer = l2(0.05)))\n",
    "cnn.add(BatchNormalization())\n",
    "cnn.add(Dropout(0.2))\n",
    "cnn.add(Dense(150, activation = 'relu', kernel_regularizer = l2(0.05)))\n",
    "cnn.add(Dropout(0.2))\n",
    "cnn.add(Dense(100, activation = 'relu', kernel_regularizer = l2(0.05)))\n",
    "cnn.add(Dense(1, activation = 'relu'))\n",
    "        \n",
    "cnn.compile(loss = 'binary_crossentropy', optimizer = RMSprop(learning_rate = 0.001))\n",
    "\n",
    "es = EarlyStopping(monitor = 'loss', patience = 5) "
   ]
  },
  {
   "cell_type": "code",
   "execution_count": 68,
   "metadata": {},
   "outputs": [
    {
     "name": "stdout",
     "output_type": "stream",
     "text": [
      "Model: \"sequential_4\"\n",
      "_________________________________________________________________\n",
      "Layer (type)                 Output Shape              Param #   \n",
      "=================================================================\n",
      "conv2d_32 (Conv2D)           (None, 298, 298, 100)     2800      \n",
      "_________________________________________________________________\n",
      "conv2d_33 (Conv2D)           (None, 296, 296, 50)      45050     \n",
      "_________________________________________________________________\n",
      "max_pooling2d_5 (MaxPooling2 (None, 148, 148, 50)      0         \n",
      "_________________________________________________________________\n",
      "conv2d_34 (Conv2D)           (None, 146, 146, 50)      22550     \n",
      "_________________________________________________________________\n",
      "conv2d_35 (Conv2D)           (None, 144, 144, 50)      22550     \n",
      "_________________________________________________________________\n",
      "average_pooling2d_6 (Average (None, 72, 72, 50)        0         \n",
      "_________________________________________________________________\n",
      "conv2d_36 (Conv2D)           (None, 70, 70, 100)       45100     \n",
      "_________________________________________________________________\n",
      "batch_normalization_12 (Batc (None, 70, 70, 100)       400       \n",
      "_________________________________________________________________\n",
      "average_pooling2d_7 (Average (None, 35, 35, 100)       0         \n",
      "_________________________________________________________________\n",
      "flatten_4 (Flatten)          (None, 122500)            0         \n",
      "_________________________________________________________________\n",
      "dense_25 (Dense)             (None, 25)                3062525   \n",
      "_________________________________________________________________\n",
      "dropout_15 (Dropout)         (None, 25)                0         \n",
      "_________________________________________________________________\n",
      "dense_26 (Dense)             (None, 150)               3900      \n",
      "_________________________________________________________________\n",
      "batch_normalization_13 (Batc (None, 150)               600       \n",
      "_________________________________________________________________\n",
      "dropout_16 (Dropout)         (None, 150)               0         \n",
      "_________________________________________________________________\n",
      "dense_27 (Dense)             (None, 150)               22650     \n",
      "_________________________________________________________________\n",
      "dropout_17 (Dropout)         (None, 150)               0         \n",
      "_________________________________________________________________\n",
      "dense_28 (Dense)             (None, 100)               15100     \n",
      "_________________________________________________________________\n",
      "dense_29 (Dense)             (None, 1)                 101       \n",
      "=================================================================\n",
      "Total params: 3,243,326\n",
      "Trainable params: 3,242,826\n",
      "Non-trainable params: 500\n",
      "_________________________________________________________________\n"
     ]
    }
   ],
   "source": [
    "cnn.summary()"
   ]
  },
  {
   "cell_type": "code",
   "execution_count": 69,
   "metadata": {},
   "outputs": [],
   "source": [
    "batch_size = 100"
   ]
  },
  {
   "cell_type": "code",
   "execution_count": 70,
   "metadata": {
    "scrolled": true
   },
   "outputs": [
    {
     "name": "stdout",
     "output_type": "stream",
     "text": [
      "Epoch 1/100\n",
      "75/75 [==============================] - 865s 12s/step - loss: 16.8028 - val_loss: 18.4377\n",
      "Epoch 2/100\n",
      "75/75 [==============================] - 817s 11s/step - loss: 11.5329 - val_loss: 16.1671\n",
      "Epoch 3/100\n",
      "75/75 [==============================] - 805s 11s/step - loss: 8.7762 - val_loss: 10.7186\n",
      "Epoch 4/100\n",
      "75/75 [==============================] - 815s 11s/step - loss: 6.3133 - val_loss: 12.1226\n",
      "Epoch 5/100\n",
      "75/75 [==============================] - 793s 11s/step - loss: 4.4743 - val_loss: 6.1139\n",
      "Epoch 6/100\n",
      "75/75 [==============================] - 794s 11s/step - loss: 3.1176 - val_loss: 2.3271\n",
      "Epoch 7/100\n",
      "75/75 [==============================] - 804s 11s/step - loss: 1.9175 - val_loss: 3.9498\n",
      "Epoch 8/100\n",
      "75/75 [==============================] - 807s 11s/step - loss: 1.2816 - val_loss: 1.3688\n",
      "Epoch 9/100\n",
      "75/75 [==============================] - 795s 11s/step - loss: 1.0344 - val_loss: 1.2685\n",
      "Epoch 10/100\n",
      "75/75 [==============================] - 807s 11s/step - loss: 0.9841 - val_loss: 0.8865\n",
      "Epoch 11/100\n",
      "75/75 [==============================] - 801s 11s/step - loss: 0.9428 - val_loss: 1.0672\n",
      "Epoch 12/100\n",
      "75/75 [==============================] - 796s 11s/step - loss: 0.9731 - val_loss: 0.9884\n",
      "Epoch 13/100\n",
      "75/75 [==============================] - 797s 11s/step - loss: 0.8844 - val_loss: 0.8083\n",
      "Epoch 14/100\n",
      "75/75 [==============================] - 798s 11s/step - loss: 0.8297 - val_loss: 1.4194\n",
      "Epoch 15/100\n",
      "75/75 [==============================] - 796s 11s/step - loss: 0.8022 - val_loss: 1.6914\n",
      "Epoch 16/100\n",
      "75/75 [==============================] - 813s 11s/step - loss: 0.7846 - val_loss: 2.7343\n",
      "Epoch 17/100\n",
      "75/75 [==============================] - 797s 11s/step - loss: 0.7678 - val_loss: 1.5390\n",
      "Epoch 18/100\n",
      "75/75 [==============================] - 797s 11s/step - loss: 0.7329 - val_loss: 1.1749\n"
     ]
    },
    {
     "data": {
      "text/plain": [
       "<tensorflow.python.keras.callbacks.History at 0x7f7125ef4520>"
      ]
     },
     "execution_count": 70,
     "metadata": {},
     "output_type": "execute_result"
    }
   ],
   "source": [
    "es = EarlyStopping(patience = 5, restore_best_weights = True)\n",
    "\n",
    "cnn.fit(x_treino, y_treino, \n",
    "             epochs = 100,\n",
    "             validation_data = (x_valid, y_valid),\n",
    "             callbacks = [es])"
   ]
  },
  {
   "cell_type": "code",
   "execution_count": 71,
   "metadata": {},
   "outputs": [],
   "source": [
    "y_treino_pred = cnn.predict(x_treino)"
   ]
  },
  {
   "cell_type": "code",
   "execution_count": 72,
   "metadata": {},
   "outputs": [
    {
     "data": {
      "text/plain": [
       "0.36031501917452713"
      ]
     },
     "execution_count": 72,
     "metadata": {},
     "output_type": "execute_result"
    }
   ],
   "source": [
    "roc_auc_score(y_treino, y_treino_pred)"
   ]
  },
  {
   "cell_type": "code",
   "execution_count": 73,
   "metadata": {},
   "outputs": [
    {
     "name": "stdout",
     "output_type": "stream",
     "text": [
      "WARNING:tensorflow:From /home/leandro/anaconda3/lib/python3.8/site-packages/tensorflow/python/ops/resource_variable_ops.py:1813: calling BaseResourceVariable.__init__ (from tensorflow.python.ops.resource_variable_ops) with constraint is deprecated and will be removed in a future version.\n",
      "Instructions for updating:\n",
      "If using Keras pass *_constraint arguments to layers.\n",
      "INFO:tensorflow:Assets written to: 2_rede_sem_encoder/assets\n"
     ]
    }
   ],
   "source": [
    "cnn.save(\"2_rede_sem_encoder\")"
   ]
  },
  {
   "cell_type": "markdown",
   "metadata": {},
   "source": [
    "# Terceira rede sem encoder"
   ]
  },
  {
   "cell_type": "code",
   "execution_count": 114,
   "metadata": {},
   "outputs": [],
   "source": [
    "cnn_i, cnn_j, cnn_chnls = 300, 300, 3\n",
    "\n",
    "cnn = Sequential()\n",
    "cnn.add(Conv2D(50, (3, 3), input_shape = (cnn_i, cnn_j, cnn_chnls), activation = 'relu'))\n",
    "cnn.add(Conv2D(50, (3, 3), activation = 'relu'))\n",
    "cnn.add(MaxPool2D((2, 2)))\n",
    "cnn.add(Conv2D(50, (3, 3), activation = 'relu'))\n",
    "cnn.add(AvgPool2D((2, 2)))\n",
    "cnn.add(Conv2D(50, (3, 3), activation = 'relu'))\n",
    "cnn.add(BatchNormalization())\n",
    "cnn.add(Conv2D(50, (3, 3), activation = 'relu'))\n",
    "cnn.add(Conv2D(50, (3, 3), activation = 'relu'))\n",
    "cnn.add(AvgPool2D((2, 2)))\n",
    "cnn.add(Conv2D(50, (3, 3), activation = 'relu'))\n",
    "cnn.add(BatchNormalization())\n",
    "cnn.add(Conv2D(50, (3, 3), activation = 'relu'))\n",
    "cnn.add(Flatten())\n",
    "cnn.add(Dense(10, activation = 'relu', kernel_regularizer = l2(0.05)))\n",
    "cnn.add(Dropout(0.2))\n",
    "cnn.add(Dense(300, activation = 'relu', kernel_regularizer = l2(0.05)))\n",
    "cnn.add(Dense(200, activation = 'relu', kernel_regularizer = l2(0.05)))\n",
    "cnn.add(BatchNormalization())\n",
    "cnn.add(Dropout(0.2))\n",
    "cnn.add(Dense(250, activation = 'relu', kernel_regularizer = l2(0.05)))\n",
    "cnn.add(Dropout(0.2))\n",
    "cnn.add(Dense(150, activation = 'relu', kernel_regularizer = l2(0.05)))\n",
    "cnn.add(BatchNormalization())\n",
    "cnn.add(Dropout(0.2))\n",
    "cnn.add(Dense(25, activation = 'relu', kernel_regularizer = l2(0.05)))\n",
    "cnn.add(Dropout(0.2))\n",
    "cnn.add(Dense(25, activation = 'relu', kernel_regularizer = l2(0.05)))\n",
    "cnn.add(Dense(1, activation = 'relu'))\n",
    "        \n",
    "cnn.compile(loss = 'binary_crossentropy', optimizer = RMSprop(learning_rate = 0.001))\n"
   ]
  },
  {
   "cell_type": "code",
   "execution_count": 115,
   "metadata": {},
   "outputs": [
    {
     "name": "stdout",
     "output_type": "stream",
     "text": [
      "Model: \"sequential\"\n",
      "_________________________________________________________________\n",
      "Layer (type)                 Output Shape              Param #   \n",
      "=================================================================\n",
      "conv2d_14 (Conv2D)           (None, 298, 298, 50)      1400      \n",
      "_________________________________________________________________\n",
      "conv2d_15 (Conv2D)           (None, 296, 296, 50)      22550     \n",
      "_________________________________________________________________\n",
      "max_pooling2d_4 (MaxPooling2 (None, 148, 148, 50)      0         \n",
      "_________________________________________________________________\n",
      "conv2d_16 (Conv2D)           (None, 146, 146, 50)      22550     \n",
      "_________________________________________________________________\n",
      "average_pooling2d (AveragePo (None, 73, 73, 50)        0         \n",
      "_________________________________________________________________\n",
      "conv2d_17 (Conv2D)           (None, 71, 71, 50)        22550     \n",
      "_________________________________________________________________\n",
      "batch_normalization (BatchNo (None, 71, 71, 50)        200       \n",
      "_________________________________________________________________\n",
      "conv2d_18 (Conv2D)           (None, 69, 69, 50)        22550     \n",
      "_________________________________________________________________\n",
      "conv2d_19 (Conv2D)           (None, 67, 67, 50)        22550     \n",
      "_________________________________________________________________\n",
      "average_pooling2d_1 (Average (None, 33, 33, 50)        0         \n",
      "_________________________________________________________________\n",
      "conv2d_20 (Conv2D)           (None, 31, 31, 50)        22550     \n",
      "_________________________________________________________________\n",
      "batch_normalization_1 (Batch (None, 31, 31, 50)        200       \n",
      "_________________________________________________________________\n",
      "conv2d_21 (Conv2D)           (None, 29, 29, 50)        22550     \n",
      "_________________________________________________________________\n",
      "flatten_2 (Flatten)          (None, 42050)             0         \n",
      "_________________________________________________________________\n",
      "dense_2 (Dense)              (None, 10)                420510    \n",
      "_________________________________________________________________\n",
      "dropout (Dropout)            (None, 10)                0         \n",
      "_________________________________________________________________\n",
      "dense_3 (Dense)              (None, 300)               3300      \n",
      "_________________________________________________________________\n",
      "dense_4 (Dense)              (None, 200)               60200     \n",
      "_________________________________________________________________\n",
      "batch_normalization_2 (Batch (None, 200)               800       \n",
      "_________________________________________________________________\n",
      "dropout_1 (Dropout)          (None, 200)               0         \n",
      "_________________________________________________________________\n",
      "dense_5 (Dense)              (None, 250)               50250     \n",
      "_________________________________________________________________\n",
      "dropout_2 (Dropout)          (None, 250)               0         \n",
      "_________________________________________________________________\n",
      "dense_6 (Dense)              (None, 150)               37650     \n",
      "_________________________________________________________________\n",
      "batch_normalization_3 (Batch (None, 150)               600       \n",
      "_________________________________________________________________\n",
      "dropout_3 (Dropout)          (None, 150)               0         \n",
      "_________________________________________________________________\n",
      "dense_7 (Dense)              (None, 25)                3775      \n",
      "_________________________________________________________________\n",
      "dropout_4 (Dropout)          (None, 25)                0         \n",
      "_________________________________________________________________\n",
      "dense_8 (Dense)              (None, 25)                650       \n",
      "_________________________________________________________________\n",
      "dense_9 (Dense)              (None, 1)                 26        \n",
      "=================================================================\n",
      "Total params: 737,411\n",
      "Trainable params: 736,511\n",
      "Non-trainable params: 900\n",
      "_________________________________________________________________\n"
     ]
    }
   ],
   "source": [
    "cnn.summary()"
   ]
  },
  {
   "cell_type": "code",
   "execution_count": 116,
   "metadata": {},
   "outputs": [],
   "source": [
    "batch_size = 100"
   ]
  },
  {
   "cell_type": "code",
   "execution_count": 117,
   "metadata": {
    "scrolled": true
   },
   "outputs": [
    {
     "name": "stdout",
     "output_type": "stream",
     "text": [
      "Epoch 1/100\n",
      "75/75 [==============================] - 463s 6s/step - loss: 30.9998 - val_loss: 28.5118\n",
      "Epoch 2/100\n",
      "75/75 [==============================] - 476s 6s/step - loss: 18.1806 - val_loss: 16.5650\n",
      "Epoch 3/100\n",
      "75/75 [==============================] - 480s 6s/step - loss: 9.1062 - val_loss: 6.7281\n",
      "Epoch 4/100\n",
      "75/75 [==============================] - 473s 6s/step - loss: 3.6415 - val_loss: 1.9996\n",
      "Epoch 5/100\n",
      "75/75 [==============================] - 472s 6s/step - loss: 1.4861 - val_loss: 1.1633\n",
      "Epoch 6/100\n",
      "75/75 [==============================] - 471s 6s/step - loss: 1.0418 - val_loss: 6.8894\n",
      "Epoch 7/100\n",
      "75/75 [==============================] - 472s 6s/step - loss: 0.8415 - val_loss: 2.0609\n",
      "Epoch 8/100\n",
      "75/75 [==============================] - 469s 6s/step - loss: 0.8189 - val_loss: 4.6494\n",
      "Epoch 9/100\n",
      "75/75 [==============================] - 470s 6s/step - loss: 0.7604 - val_loss: 3.8982\n",
      "Epoch 10/100\n",
      "75/75 [==============================] - 472s 6s/step - loss: 0.8183 - val_loss: 0.7872\n",
      "Epoch 11/100\n",
      "75/75 [==============================] - 469s 6s/step - loss: 0.7567 - val_loss: 1.5096\n",
      "Epoch 12/100\n",
      "75/75 [==============================] - 468s 6s/step - loss: 0.7245 - val_loss: 0.8179\n",
      "Epoch 13/100\n",
      "75/75 [==============================] - 467s 6s/step - loss: 0.7002 - val_loss: 0.7704\n",
      "Epoch 14/100\n",
      "75/75 [==============================] - 471s 6s/step - loss: 0.6802 - val_loss: 0.8053\n",
      "Epoch 15/100\n",
      "75/75 [==============================] - 471s 6s/step - loss: 0.7809 - val_loss: 0.7684\n",
      "Epoch 16/100\n",
      "75/75 [==============================] - 467s 6s/step - loss: 0.7096 - val_loss: 0.7955\n",
      "Epoch 17/100\n",
      "75/75 [==============================] - 468s 6s/step - loss: 0.6972 - val_loss: 0.7525\n",
      "Epoch 18/100\n",
      "75/75 [==============================] - 471s 6s/step - loss: 0.6454 - val_loss: 0.7825\n",
      "Epoch 19/100\n",
      "75/75 [==============================] - 468s 6s/step - loss: 0.7019 - val_loss: 0.7682\n",
      "Epoch 20/100\n",
      "75/75 [==============================] - 471s 6s/step - loss: 0.6837 - val_loss: 0.7825\n",
      "Epoch 21/100\n",
      "75/75 [==============================] - 472s 6s/step - loss: 0.6977 - val_loss: 1.1472\n",
      "Epoch 22/100\n",
      "75/75 [==============================] - 474s 6s/step - loss: 0.7214 - val_loss: 0.8211\n"
     ]
    },
    {
     "data": {
      "text/plain": [
       "<tensorflow.python.keras.callbacks.History at 0x7f4f3846e700>"
      ]
     },
     "execution_count": 117,
     "metadata": {},
     "output_type": "execute_result"
    }
   ],
   "source": [
    "es = EarlyStopping(patience = 5, restore_best_weights = True)\n",
    "\n",
    "cnn.fit(x_treino, y_treino, \n",
    "             epochs = 100,\n",
    "             validation_data = (x_valid, y_valid),\n",
    "             callbacks = [es])"
   ]
  },
  {
   "cell_type": "code",
   "execution_count": 118,
   "metadata": {},
   "outputs": [],
   "source": [
    "y_treino_pred = cnn.predict(x_treino)"
   ]
  },
  {
   "cell_type": "code",
   "execution_count": 119,
   "metadata": {},
   "outputs": [
    {
     "data": {
      "text/plain": [
       "0.3381045842173782"
      ]
     },
     "execution_count": 119,
     "metadata": {},
     "output_type": "execute_result"
    }
   ],
   "source": [
    "roc_auc_score(y_treino, y_treino_pred)"
   ]
  },
  {
   "cell_type": "code",
   "execution_count": 120,
   "metadata": {},
   "outputs": [
    {
     "name": "stdout",
     "output_type": "stream",
     "text": [
      "WARNING:tensorflow:From /home/leandro/anaconda3/lib/python3.8/site-packages/tensorflow/python/ops/resource_variable_ops.py:1813: calling BaseResourceVariable.__init__ (from tensorflow.python.ops.resource_variable_ops) with constraint is deprecated and will be removed in a future version.\n",
      "Instructions for updating:\n",
      "If using Keras pass *_constraint arguments to layers.\n",
      "INFO:tensorflow:Assets written to: 3_rede_sem_encoder/assets\n"
     ]
    }
   ],
   "source": [
    "cnn.save(\"3_rede_sem_encoder\")"
   ]
  },
  {
   "cell_type": "code",
   "execution_count": null,
   "metadata": {},
   "outputs": [],
   "source": []
  },
  {
   "cell_type": "markdown",
   "metadata": {},
   "source": [
    "# Quarta rede sem encoder"
   ]
  },
  {
   "cell_type": "code",
   "execution_count": 121,
   "metadata": {},
   "outputs": [],
   "source": [
    "cnn_i, cnn_j, cnn_chnls = 300, 300, 3\n",
    "\n",
    "cnn = Sequential()\n",
    "cnn.add(Conv2D(100, (3, 3), input_shape = (cnn_i, cnn_j, cnn_chnls), activation = 'relu'))\n",
    "cnn.add(Conv2D(100, (3, 3), activation = 'relu'))\n",
    "cnn.add(MaxPool2D((2, 2)))\n",
    "cnn.add(Conv2D(50, (3, 3), activation = 'relu'))\n",
    "cnn.add(AvgPool2D((2, 2)))\n",
    "cnn.add(Conv2D(50, (3, 3), activation = 'relu'))\n",
    "cnn.add(BatchNormalization())\n",
    "cnn.add(Conv2D(50, (3, 3), activation = 'relu'))\n",
    "cnn.add(Conv2D(50, (3, 3), activation = 'relu'))\n",
    "cnn.add(AvgPool2D((2, 2)))\n",
    "cnn.add(Conv2D(50, (3, 3), activation = 'relu'))\n",
    "cnn.add(BatchNormalization())\n",
    "cnn.add(Conv2D(50, (3, 3), activation = 'relu'))\n",
    "cnn.add(Flatten())\n",
    "cnn.add(Dense(10, activation = 'relu', kernel_regularizer = l2(0.05)))\n",
    "cnn.add(Dropout(0.2))\n",
    "cnn.add(Dense(300, activation = 'relu', kernel_regularizer = l2(0.05)))\n",
    "cnn.add(Dense(200, activation = 'relu', kernel_regularizer = l2(0.05)))\n",
    "cnn.add(BatchNormalization())\n",
    "cnn.add(Dropout(0.2))\n",
    "cnn.add(Dense(350, activation = 'relu', kernel_regularizer = l2(0.05)))\n",
    "cnn.add(Dropout(0.2))\n",
    "cnn.add(Dense(200, activation = 'relu', kernel_regularizer = l2(0.05)))\n",
    "cnn.add(BatchNormalization())\n",
    "cnn.add(Dropout(0.2))\n",
    "cnn.add(Dense(25, activation = 'relu', kernel_regularizer = l2(0.05)))\n",
    "cnn.add(Dropout(0.2))\n",
    "cnn.add(Dense(25, activation = 'relu', kernel_regularizer = l2(0.05)))\n",
    "cnn.add(Dense(1, activation = 'relu'))\n",
    "        \n",
    "cnn.compile(loss = 'binary_crossentropy', optimizer = RMSprop(learning_rate = 0.001))\n"
   ]
  },
  {
   "cell_type": "code",
   "execution_count": 122,
   "metadata": {},
   "outputs": [
    {
     "name": "stdout",
     "output_type": "stream",
     "text": [
      "Model: \"sequential_1\"\n",
      "_________________________________________________________________\n",
      "Layer (type)                 Output Shape              Param #   \n",
      "=================================================================\n",
      "conv2d_22 (Conv2D)           (None, 298, 298, 100)     2800      \n",
      "_________________________________________________________________\n",
      "conv2d_23 (Conv2D)           (None, 296, 296, 100)     90100     \n",
      "_________________________________________________________________\n",
      "max_pooling2d_5 (MaxPooling2 (None, 148, 148, 100)     0         \n",
      "_________________________________________________________________\n",
      "conv2d_24 (Conv2D)           (None, 146, 146, 50)      45050     \n",
      "_________________________________________________________________\n",
      "average_pooling2d_2 (Average (None, 73, 73, 50)        0         \n",
      "_________________________________________________________________\n",
      "conv2d_25 (Conv2D)           (None, 71, 71, 50)        22550     \n",
      "_________________________________________________________________\n",
      "batch_normalization_4 (Batch (None, 71, 71, 50)        200       \n",
      "_________________________________________________________________\n",
      "conv2d_26 (Conv2D)           (None, 69, 69, 50)        22550     \n",
      "_________________________________________________________________\n",
      "conv2d_27 (Conv2D)           (None, 67, 67, 50)        22550     \n",
      "_________________________________________________________________\n",
      "average_pooling2d_3 (Average (None, 33, 33, 50)        0         \n",
      "_________________________________________________________________\n",
      "conv2d_28 (Conv2D)           (None, 31, 31, 50)        22550     \n",
      "_________________________________________________________________\n",
      "batch_normalization_5 (Batch (None, 31, 31, 50)        200       \n",
      "_________________________________________________________________\n",
      "conv2d_29 (Conv2D)           (None, 29, 29, 50)        22550     \n",
      "_________________________________________________________________\n",
      "flatten_3 (Flatten)          (None, 42050)             0         \n",
      "_________________________________________________________________\n",
      "dense_10 (Dense)             (None, 10)                420510    \n",
      "_________________________________________________________________\n",
      "dropout_5 (Dropout)          (None, 10)                0         \n",
      "_________________________________________________________________\n",
      "dense_11 (Dense)             (None, 300)               3300      \n",
      "_________________________________________________________________\n",
      "dense_12 (Dense)             (None, 200)               60200     \n",
      "_________________________________________________________________\n",
      "batch_normalization_6 (Batch (None, 200)               800       \n",
      "_________________________________________________________________\n",
      "dropout_6 (Dropout)          (None, 200)               0         \n",
      "_________________________________________________________________\n",
      "dense_13 (Dense)             (None, 350)               70350     \n",
      "_________________________________________________________________\n",
      "dropout_7 (Dropout)          (None, 350)               0         \n",
      "_________________________________________________________________\n",
      "dense_14 (Dense)             (None, 200)               70200     \n",
      "_________________________________________________________________\n",
      "batch_normalization_7 (Batch (None, 200)               800       \n",
      "_________________________________________________________________\n",
      "dropout_8 (Dropout)          (None, 200)               0         \n",
      "_________________________________________________________________\n",
      "dense_15 (Dense)             (None, 25)                5025      \n",
      "_________________________________________________________________\n",
      "dropout_9 (Dropout)          (None, 25)                0         \n",
      "_________________________________________________________________\n",
      "dense_16 (Dense)             (None, 25)                650       \n",
      "_________________________________________________________________\n",
      "dense_17 (Dense)             (None, 1)                 26        \n",
      "=================================================================\n",
      "Total params: 882,961\n",
      "Trainable params: 881,961\n",
      "Non-trainable params: 1,000\n",
      "_________________________________________________________________\n"
     ]
    }
   ],
   "source": [
    "cnn.summary()"
   ]
  },
  {
   "cell_type": "code",
   "execution_count": 123,
   "metadata": {},
   "outputs": [],
   "source": [
    "batch_size = 100"
   ]
  },
  {
   "cell_type": "code",
   "execution_count": 124,
   "metadata": {
    "scrolled": true
   },
   "outputs": [
    {
     "name": "stdout",
     "output_type": "stream",
     "text": [
      "Epoch 1/100\n",
      "75/75 [==============================] - 957s 13s/step - loss: 28.2791 - val_loss: 18.9822\n",
      "Epoch 2/100\n",
      "75/75 [==============================] - 963s 13s/step - loss: 14.7912 - val_loss: 9.7140\n",
      "Epoch 3/100\n",
      "75/75 [==============================] - 960s 13s/step - loss: 7.7173 - val_loss: 11.8149\n",
      "Epoch 4/100\n",
      "75/75 [==============================] - 963s 13s/step - loss: 4.3063 - val_loss: 7.9530\n",
      "Epoch 5/100\n",
      "75/75 [==============================] - 964s 13s/step - loss: 2.3132 - val_loss: 1.5544\n",
      "Epoch 6/100\n",
      "75/75 [==============================] - 962s 13s/step - loss: 1.3285 - val_loss: 1.1157\n",
      "Epoch 7/100\n",
      "75/75 [==============================] - 960s 13s/step - loss: 0.9197 - val_loss: 1.0315\n",
      "Epoch 8/100\n",
      "75/75 [==============================] - 967s 13s/step - loss: 0.8089 - val_loss: 0.9440\n",
      "Epoch 9/100\n",
      "75/75 [==============================] - 970s 13s/step - loss: 0.7783 - val_loss: 0.8151\n",
      "Epoch 10/100\n",
      "75/75 [==============================] - 972s 13s/step - loss: 0.7776 - val_loss: 0.7837\n",
      "Epoch 11/100\n",
      "75/75 [==============================] - 963s 13s/step - loss: 0.7967 - val_loss: 1.5257\n",
      "Epoch 12/100\n",
      "75/75 [==============================] - 972s 13s/step - loss: 0.7079 - val_loss: 1.1420\n",
      "Epoch 13/100\n",
      "75/75 [==============================] - 974s 13s/step - loss: 0.7136 - val_loss: 2.0428\n",
      "Epoch 14/100\n",
      "75/75 [==============================] - 971s 13s/step - loss: 0.7789 - val_loss: 0.7808\n",
      "Epoch 15/100\n",
      "75/75 [==============================] - 974s 13s/step - loss: 0.7186 - val_loss: 6.8668\n",
      "Epoch 16/100\n",
      "75/75 [==============================] - 972s 13s/step - loss: 0.7342 - val_loss: 0.7761\n",
      "Epoch 17/100\n",
      "75/75 [==============================] - 973s 13s/step - loss: 0.7214 - val_loss: 1.1342\n",
      "Epoch 18/100\n",
      "75/75 [==============================] - 972s 13s/step - loss: 0.7376 - val_loss: 0.7501\n",
      "Epoch 19/100\n",
      "75/75 [==============================] - 975s 13s/step - loss: 0.7709 - val_loss: 0.7979\n",
      "Epoch 20/100\n",
      "75/75 [==============================] - 974s 13s/step - loss: 0.6683 - val_loss: 0.7715\n",
      "Epoch 21/100\n",
      "75/75 [==============================] - 987s 13s/step - loss: 0.7933 - val_loss: 0.8481\n",
      "Epoch 22/100\n",
      "75/75 [==============================] - 983s 13s/step - loss: 0.7054 - val_loss: 0.8255\n",
      "Epoch 23/100\n",
      "75/75 [==============================] - 975s 13s/step - loss: 0.7289 - val_loss: 0.8133\n"
     ]
    },
    {
     "data": {
      "text/plain": [
       "<tensorflow.python.keras.callbacks.History at 0x7f4f18300bb0>"
      ]
     },
     "execution_count": 124,
     "metadata": {},
     "output_type": "execute_result"
    }
   ],
   "source": [
    "es = EarlyStopping(patience = 5, restore_best_weights = True)\n",
    "\n",
    "cnn.fit(x_treino, y_treino, \n",
    "             epochs = 100,\n",
    "             validation_data = (x_valid, y_valid),\n",
    "             callbacks = [es])"
   ]
  },
  {
   "cell_type": "code",
   "execution_count": 125,
   "metadata": {},
   "outputs": [],
   "source": [
    "y_treino_pred = cnn.predict(x_treino)"
   ]
  },
  {
   "cell_type": "code",
   "execution_count": 126,
   "metadata": {},
   "outputs": [
    {
     "data": {
      "text/plain": [
       "0.654300875398792"
      ]
     },
     "execution_count": 126,
     "metadata": {},
     "output_type": "execute_result"
    }
   ],
   "source": [
    "roc_auc_score(y_treino, y_treino_pred)"
   ]
  },
  {
   "cell_type": "code",
   "execution_count": 127,
   "metadata": {},
   "outputs": [
    {
     "name": "stdout",
     "output_type": "stream",
     "text": [
      "INFO:tensorflow:Assets written to: 4_rede_sem_encoder/assets\n"
     ]
    }
   ],
   "source": [
    "cnn.save(\"4_rede_sem_encoder\")"
   ]
  },
  {
   "cell_type": "code",
   "execution_count": null,
   "metadata": {},
   "outputs": [],
   "source": []
  },
  {
   "cell_type": "markdown",
   "metadata": {},
   "source": [
    "## Com o encoder"
   ]
  },
  {
   "cell_type": "code",
   "execution_count": 90,
   "metadata": {},
   "outputs": [],
   "source": [
    "encoder = Model(inputs = autoencoder.input, outputs = autoencoder.get_layer('gargalo').output)"
   ]
  },
  {
   "cell_type": "code",
   "execution_count": 92,
   "metadata": {
    "scrolled": true
   },
   "outputs": [],
   "source": [
    "x_treino_cod = encoder.predict(x_treino)\n",
    "x_valid_cod = encoder.predict(x_valid)"
   ]
  },
  {
   "cell_type": "code",
   "execution_count": 93,
   "metadata": {},
   "outputs": [
    {
     "data": {
      "text/plain": [
       "(2379, 60)"
      ]
     },
     "execution_count": 93,
     "metadata": {},
     "output_type": "execute_result"
    }
   ],
   "source": [
    "x_treino_cod.shape"
   ]
  },
  {
   "cell_type": "markdown",
   "metadata": {},
   "source": [
    "# Segunda rede"
   ]
  },
  {
   "cell_type": "code",
   "execution_count": 119,
   "metadata": {},
   "outputs": [],
   "source": [
    "dim = 60\n",
    "rede= Sequential()\n",
    "rede.add(Dense(15, input_dim = dim, activation = 'relu', kernel_regularizer = l2(0.005)))\n",
    "rede.add(Dense(25, activation = 'relu', kernel_regularizer = l2(0.05)))\n",
    "rede.add(Dropout(0.2))\n",
    "rede.add(Dense(150, activation = 'relu', kernel_regularizer = l2(0.05)))\n",
    "rede.add(BatchNormalization())\n",
    "rede.add(Dropout(0.2))\n",
    "rede.add(Dense(150, activation = 'relu', kernel_regularizer = l2(0.05)))\n",
    "rede.add(Dropout(0.2))\n",
    "rede.add(Dense(100, activation = 'relu', kernel_regularizer = l2(0.05)))\n",
    "rede.add(Dense(1, activation = 'relu'))\n",
    "     \n",
    "rede.compile(loss = 'binary_crossentropy', optimizer = RMSprop(learning_rate = 0.001))\n",
    "\n",
    "es = EarlyStopping(monitor = 'loss', patience = 5) "
   ]
  },
  {
   "cell_type": "code",
   "execution_count": 120,
   "metadata": {},
   "outputs": [
    {
     "name": "stdout",
     "output_type": "stream",
     "text": [
      "Model: \"sequential_5\"\n",
      "_________________________________________________________________\n",
      "Layer (type)                 Output Shape              Param #   \n",
      "=================================================================\n",
      "dense_35 (Dense)             (None, 15)                915       \n",
      "_________________________________________________________________\n",
      "dense_36 (Dense)             (None, 25)                400       \n",
      "_________________________________________________________________\n",
      "dropout_19 (Dropout)         (None, 25)                0         \n",
      "_________________________________________________________________\n",
      "dense_37 (Dense)             (None, 150)               3900      \n",
      "_________________________________________________________________\n",
      "batch_normalization_7 (Batch (None, 150)               600       \n",
      "_________________________________________________________________\n",
      "dropout_20 (Dropout)         (None, 150)               0         \n",
      "_________________________________________________________________\n",
      "dense_38 (Dense)             (None, 150)               22650     \n",
      "_________________________________________________________________\n",
      "dropout_21 (Dropout)         (None, 150)               0         \n",
      "_________________________________________________________________\n",
      "dense_39 (Dense)             (None, 100)               15100     \n",
      "_________________________________________________________________\n",
      "dense_40 (Dense)             (None, 1)                 101       \n",
      "=================================================================\n",
      "Total params: 43,666\n",
      "Trainable params: 43,366\n",
      "Non-trainable params: 300\n",
      "_________________________________________________________________\n"
     ]
    }
   ],
   "source": [
    "rede.summary()"
   ]
  },
  {
   "cell_type": "code",
   "execution_count": 121,
   "metadata": {},
   "outputs": [
    {
     "name": "stdout",
     "output_type": "stream",
     "text": [
      "Epoch 1/100\n",
      "75/75 [==============================] - 0s 3ms/step - loss: 16.6709 - val_loss: 12.2389\n",
      "Epoch 2/100\n",
      "75/75 [==============================] - 0s 2ms/step - loss: 12.5496 - val_loss: 9.1708\n",
      "Epoch 3/100\n",
      "75/75 [==============================] - 0s 3ms/step - loss: 8.6294 - val_loss: 6.6188\n",
      "Epoch 4/100\n",
      "75/75 [==============================] - 0s 2ms/step - loss: 5.9624 - val_loss: 4.6879\n",
      "Epoch 5/100\n",
      "75/75 [==============================] - 0s 2ms/step - loss: 3.9401 - val_loss: 3.0885\n",
      "Epoch 6/100\n",
      "75/75 [==============================] - 0s 2ms/step - loss: 2.4376 - val_loss: 1.8418\n",
      "Epoch 7/100\n",
      "75/75 [==============================] - 0s 2ms/step - loss: 1.5398 - val_loss: 1.2445\n",
      "Epoch 8/100\n",
      "75/75 [==============================] - 0s 2ms/step - loss: 1.1662 - val_loss: 1.0575\n",
      "Epoch 9/100\n",
      "75/75 [==============================] - 0s 2ms/step - loss: 1.0166 - val_loss: 0.9782\n",
      "Epoch 10/100\n",
      "75/75 [==============================] - 0s 2ms/step - loss: 0.8872 - val_loss: 0.9843\n",
      "Epoch 11/100\n",
      "75/75 [==============================] - 0s 2ms/step - loss: 0.8452 - val_loss: 0.9547\n",
      "Epoch 12/100\n",
      "75/75 [==============================] - 0s 2ms/step - loss: 0.7741 - val_loss: 0.8434\n",
      "Epoch 13/100\n",
      "75/75 [==============================] - 0s 2ms/step - loss: 0.7346 - val_loss: 0.8225\n",
      "Epoch 14/100\n",
      "75/75 [==============================] - 0s 2ms/step - loss: 0.7186 - val_loss: 0.8380\n",
      "Epoch 15/100\n",
      "75/75 [==============================] - 0s 2ms/step - loss: 0.7879 - val_loss: 0.7774\n",
      "Epoch 16/100\n",
      "75/75 [==============================] - 0s 2ms/step - loss: 0.7151 - val_loss: 0.8349\n",
      "Epoch 17/100\n",
      "75/75 [==============================] - 0s 2ms/step - loss: 0.6634 - val_loss: 0.7919\n",
      "Epoch 18/100\n",
      "75/75 [==============================] - 0s 2ms/step - loss: 0.6509 - val_loss: 0.8183\n",
      "Epoch 19/100\n",
      "75/75 [==============================] - 0s 2ms/step - loss: 0.6404 - val_loss: 0.7827\n",
      "Epoch 20/100\n",
      "75/75 [==============================] - 0s 2ms/step - loss: 0.6916 - val_loss: 0.7607\n",
      "Epoch 21/100\n",
      "75/75 [==============================] - 0s 2ms/step - loss: 0.6357 - val_loss: 0.7660\n",
      "Epoch 22/100\n",
      "75/75 [==============================] - 0s 2ms/step - loss: 0.6279 - val_loss: 1.3116\n",
      "Epoch 23/100\n",
      "75/75 [==============================] - 0s 2ms/step - loss: 0.6300 - val_loss: 0.7421\n",
      "Epoch 24/100\n",
      "75/75 [==============================] - 0s 2ms/step - loss: 0.6250 - val_loss: 0.7685\n",
      "Epoch 25/100\n",
      "75/75 [==============================] - 0s 2ms/step - loss: 0.6275 - val_loss: 1.1500\n",
      "Epoch 26/100\n",
      "75/75 [==============================] - 0s 2ms/step - loss: 0.6124 - val_loss: 0.7322\n",
      "Epoch 27/100\n",
      "75/75 [==============================] - 0s 2ms/step - loss: 0.6559 - val_loss: 0.8690\n",
      "Epoch 28/100\n",
      "75/75 [==============================] - 0s 2ms/step - loss: 0.6016 - val_loss: 0.8120\n",
      "Epoch 29/100\n",
      "75/75 [==============================] - 0s 2ms/step - loss: 0.6281 - val_loss: 1.5700\n",
      "Epoch 30/100\n",
      "75/75 [==============================] - 0s 2ms/step - loss: 0.6188 - val_loss: 0.8445\n",
      "Epoch 31/100\n",
      "75/75 [==============================] - 0s 2ms/step - loss: 0.6207 - val_loss: 0.7720\n"
     ]
    },
    {
     "data": {
      "text/plain": [
       "<tensorflow.python.keras.callbacks.History at 0x7f8a483745e0>"
      ]
     },
     "execution_count": 121,
     "metadata": {},
     "output_type": "execute_result"
    }
   ],
   "source": [
    "es = EarlyStopping(patience = 5, restore_best_weights = True)\n",
    "\n",
    "rede.fit(x_treino_cod, y_treino, \n",
    "             epochs = 100,\n",
    "             validation_data = (x_valid_cod, y_valid),\n",
    "             callbacks = [es])"
   ]
  },
  {
   "cell_type": "code",
   "execution_count": 122,
   "metadata": {},
   "outputs": [],
   "source": [
    "y_treino_pred = rede.predict(x_treino_cod)"
   ]
  },
  {
   "cell_type": "code",
   "execution_count": 123,
   "metadata": {},
   "outputs": [
    {
     "data": {
      "text/plain": [
       "0.8399623153047077"
      ]
     },
     "execution_count": 123,
     "metadata": {},
     "output_type": "execute_result"
    }
   ],
   "source": [
    "roc_auc_score(y_treino, y_treino_pred)"
   ]
  },
  {
   "cell_type": "code",
   "execution_count": 124,
   "metadata": {},
   "outputs": [
    {
     "name": "stdout",
     "output_type": "stream",
     "text": [
      "INFO:tensorflow:Assets written to: 2_rede_com_encoder/assets\n"
     ]
    }
   ],
   "source": [
    "rede.save(\"2_rede_com_encoder\")"
   ]
  },
  {
   "cell_type": "markdown",
   "metadata": {},
   "source": [
    "# terceira rede"
   ]
  },
  {
   "cell_type": "code",
   "execution_count": 125,
   "metadata": {},
   "outputs": [],
   "source": [
    "rede= Sequential()\n",
    "rede.add(Dense(10,input_dim = dim, activation = 'relu', kernel_regularizer = l2(0.05)))\n",
    "rede.add(Dropout(0.2))\n",
    "rede.add(Dense(300, activation = 'relu', kernel_regularizer = l2(0.05)))\n",
    "rede.add(Dense(200, activation = 'relu', kernel_regularizer = l2(0.05)))\n",
    "rede.add(BatchNormalization())\n",
    "rede.add(Dropout(0.2))\n",
    "rede.add(Dense(250, activation = 'relu', kernel_regularizer = l2(0.05)))\n",
    "rede.add(Dropout(0.2))\n",
    "rede.add(Dense(150, activation = 'relu', kernel_regularizer = l2(0.05)))\n",
    "rede.add(BatchNormalization())\n",
    "rede.add(Dropout(0.2))\n",
    "rede.add(Dense(25, activation = 'relu', kernel_regularizer = l2(0.05)))\n",
    "rede.add(Dropout(0.2))\n",
    "rede.add(Dense(25, activation = 'relu', kernel_regularizer = l2(0.05)))\n",
    "rede.add(Dense(1, activation = 'relu'))        \n",
    "rede.compile(loss = 'binary_crossentropy', optimizer = RMSprop(learning_rate = 0.001))\n"
   ]
  },
  {
   "cell_type": "code",
   "execution_count": 126,
   "metadata": {},
   "outputs": [
    {
     "name": "stdout",
     "output_type": "stream",
     "text": [
      "Model: \"sequential_6\"\n",
      "_________________________________________________________________\n",
      "Layer (type)                 Output Shape              Param #   \n",
      "=================================================================\n",
      "dense_41 (Dense)             (None, 10)                610       \n",
      "_________________________________________________________________\n",
      "dropout_22 (Dropout)         (None, 10)                0         \n",
      "_________________________________________________________________\n",
      "dense_42 (Dense)             (None, 300)               3300      \n",
      "_________________________________________________________________\n",
      "dense_43 (Dense)             (None, 200)               60200     \n",
      "_________________________________________________________________\n",
      "batch_normalization_8 (Batch (None, 200)               800       \n",
      "_________________________________________________________________\n",
      "dropout_23 (Dropout)         (None, 200)               0         \n",
      "_________________________________________________________________\n",
      "dense_44 (Dense)             (None, 250)               50250     \n",
      "_________________________________________________________________\n",
      "dropout_24 (Dropout)         (None, 250)               0         \n",
      "_________________________________________________________________\n",
      "dense_45 (Dense)             (None, 150)               37650     \n",
      "_________________________________________________________________\n",
      "batch_normalization_9 (Batch (None, 150)               600       \n",
      "_________________________________________________________________\n",
      "dropout_25 (Dropout)         (None, 150)               0         \n",
      "_________________________________________________________________\n",
      "dense_46 (Dense)             (None, 25)                3775      \n",
      "_________________________________________________________________\n",
      "dropout_26 (Dropout)         (None, 25)                0         \n",
      "_________________________________________________________________\n",
      "dense_47 (Dense)             (None, 25)                650       \n",
      "_________________________________________________________________\n",
      "dense_48 (Dense)             (None, 1)                 26        \n",
      "=================================================================\n",
      "Total params: 157,861\n",
      "Trainable params: 157,161\n",
      "Non-trainable params: 700\n",
      "_________________________________________________________________\n"
     ]
    }
   ],
   "source": [
    "rede.summary()"
   ]
  },
  {
   "cell_type": "code",
   "execution_count": 127,
   "metadata": {},
   "outputs": [
    {
     "name": "stdout",
     "output_type": "stream",
     "text": [
      "Epoch 1/100\n",
      "75/75 [==============================] - 0s 5ms/step - loss: 34.4577 - val_loss: 30.1317\n",
      "Epoch 2/100\n",
      "75/75 [==============================] - 0s 3ms/step - loss: 27.3462 - val_loss: 23.0125\n",
      "Epoch 3/100\n",
      "75/75 [==============================] - 0s 3ms/step - loss: 21.3182 - val_loss: 18.1970\n",
      "Epoch 4/100\n",
      "75/75 [==============================] - 0s 3ms/step - loss: 16.2349 - val_loss: 12.0603\n",
      "Epoch 5/100\n",
      "75/75 [==============================] - 0s 3ms/step - loss: 10.7892 - val_loss: 8.1623\n",
      "Epoch 6/100\n",
      "75/75 [==============================] - 0s 3ms/step - loss: 6.8748 - val_loss: 5.0153\n",
      "Epoch 7/100\n",
      "75/75 [==============================] - 0s 3ms/step - loss: 3.8188 - val_loss: 2.5466\n",
      "Epoch 8/100\n",
      "75/75 [==============================] - 0s 3ms/step - loss: 2.1179 - val_loss: 1.6881\n",
      "Epoch 9/100\n",
      "75/75 [==============================] - 0s 3ms/step - loss: 1.4703 - val_loss: 1.2245\n",
      "Epoch 10/100\n",
      "75/75 [==============================] - 0s 4ms/step - loss: 1.0766 - val_loss: 1.0109\n",
      "Epoch 11/100\n",
      "75/75 [==============================] - 0s 4ms/step - loss: 0.9043 - val_loss: 0.8860\n",
      "Epoch 12/100\n",
      "75/75 [==============================] - 0s 4ms/step - loss: 0.8205 - val_loss: 0.8615\n",
      "Epoch 13/100\n",
      "75/75 [==============================] - 0s 4ms/step - loss: 0.7379 - val_loss: 1.0680\n",
      "Epoch 14/100\n",
      "75/75 [==============================] - 0s 4ms/step - loss: 0.7515 - val_loss: 0.8288\n",
      "Epoch 15/100\n",
      "75/75 [==============================] - 0s 3ms/step - loss: 0.7756 - val_loss: 2.1218\n",
      "Epoch 16/100\n",
      "75/75 [==============================] - 0s 4ms/step - loss: 0.7379 - val_loss: 0.8398\n",
      "Epoch 17/100\n",
      "75/75 [==============================] - 0s 4ms/step - loss: 0.7657 - val_loss: 0.8544\n",
      "Epoch 18/100\n",
      "75/75 [==============================] - 0s 4ms/step - loss: 0.7305 - val_loss: 0.7968\n",
      "Epoch 19/100\n",
      "75/75 [==============================] - 0s 4ms/step - loss: 0.7440 - val_loss: 0.7961\n",
      "Epoch 20/100\n",
      "75/75 [==============================] - 0s 4ms/step - loss: 0.7218 - val_loss: 0.8191\n",
      "Epoch 21/100\n",
      "75/75 [==============================] - 0s 3ms/step - loss: 0.6907 - val_loss: 1.0572\n",
      "Epoch 22/100\n",
      "75/75 [==============================] - 0s 4ms/step - loss: 0.6924 - val_loss: 1.1410\n",
      "Epoch 23/100\n",
      "75/75 [==============================] - 0s 4ms/step - loss: 0.6778 - val_loss: 0.8346\n",
      "Epoch 24/100\n",
      "75/75 [==============================] - 0s 4ms/step - loss: 0.6837 - val_loss: 0.8465\n"
     ]
    },
    {
     "data": {
      "text/plain": [
       "<tensorflow.python.keras.callbacks.History at 0x7f89c8091f10>"
      ]
     },
     "execution_count": 127,
     "metadata": {},
     "output_type": "execute_result"
    }
   ],
   "source": [
    "es = EarlyStopping(patience = 5, restore_best_weights = True)\n",
    "\n",
    "rede.fit(x_treino_cod, y_treino, \n",
    "             epochs = 100,\n",
    "             validation_data = (x_valid_cod, y_valid),\n",
    "             callbacks = [es])"
   ]
  },
  {
   "cell_type": "code",
   "execution_count": 128,
   "metadata": {},
   "outputs": [],
   "source": [
    "y_treino_pred = rede.predict(x_treino_cod)"
   ]
  },
  {
   "cell_type": "code",
   "execution_count": 129,
   "metadata": {},
   "outputs": [
    {
     "data": {
      "text/plain": [
       "0.7935731056231615"
      ]
     },
     "execution_count": 129,
     "metadata": {},
     "output_type": "execute_result"
    }
   ],
   "source": [
    "roc_auc_score(y_treino, y_treino_pred)"
   ]
  },
  {
   "cell_type": "code",
   "execution_count": 130,
   "metadata": {},
   "outputs": [
    {
     "name": "stdout",
     "output_type": "stream",
     "text": [
      "INFO:tensorflow:Assets written to: 3_rede_com_encoder/assets\n"
     ]
    }
   ],
   "source": [
    "rede.save(\"3_rede_com_encoder\")"
   ]
  },
  {
   "cell_type": "markdown",
   "metadata": {},
   "source": [
    "# Quarta rede"
   ]
  },
  {
   "cell_type": "code",
   "execution_count": 131,
   "metadata": {},
   "outputs": [],
   "source": [
    "rede= Sequential()\n",
    "rede.add(Dense(10,input_dim = dim, activation = 'relu', kernel_regularizer = l2(0.05)))\n",
    "rede.add(Dropout(0.2))\n",
    "rede.add(Dense(300, activation = 'relu', kernel_regularizer = l2(0.05)))\n",
    "rede.add(Dense(200, activation = 'relu', kernel_regularizer = l2(0.05)))\n",
    "rede.add(BatchNormalization())\n",
    "rede.add(Dropout(0.2))\n",
    "rede.add(Dense(250, activation = 'relu', kernel_regularizer = l2(0.05)))\n",
    "rede.add(Dropout(0.2))\n",
    "rede.add(Dense(200, activation = 'relu', kernel_regularizer = l2(0.05)))\n",
    "rede.add(BatchNormalization())\n",
    "rede.add(Dropout(0.2))\n",
    "rede.add(Dense(25, activation = 'relu', kernel_regularizer = l2(0.05)))\n",
    "rede.add(Dropout(0.2))\n",
    "rede.add(Dense(25, activation = 'relu', kernel_regularizer = l2(0.05)))\n",
    "rede.add(Dense(1, activation = 'relu'))        \n",
    "rede.compile(loss = 'binary_crossentropy', optimizer = RMSprop(learning_rate = 0.001))\n"
   ]
  },
  {
   "cell_type": "code",
   "execution_count": 132,
   "metadata": {},
   "outputs": [
    {
     "name": "stdout",
     "output_type": "stream",
     "text": [
      "Model: \"sequential_7\"\n",
      "_________________________________________________________________\n",
      "Layer (type)                 Output Shape              Param #   \n",
      "=================================================================\n",
      "dense_49 (Dense)             (None, 10)                610       \n",
      "_________________________________________________________________\n",
      "dropout_27 (Dropout)         (None, 10)                0         \n",
      "_________________________________________________________________\n",
      "dense_50 (Dense)             (None, 300)               3300      \n",
      "_________________________________________________________________\n",
      "dense_51 (Dense)             (None, 200)               60200     \n",
      "_________________________________________________________________\n",
      "batch_normalization_10 (Batc (None, 200)               800       \n",
      "_________________________________________________________________\n",
      "dropout_28 (Dropout)         (None, 200)               0         \n",
      "_________________________________________________________________\n",
      "dense_52 (Dense)             (None, 250)               50250     \n",
      "_________________________________________________________________\n",
      "dropout_29 (Dropout)         (None, 250)               0         \n",
      "_________________________________________________________________\n",
      "dense_53 (Dense)             (None, 200)               50200     \n",
      "_________________________________________________________________\n",
      "batch_normalization_11 (Batc (None, 200)               800       \n",
      "_________________________________________________________________\n",
      "dropout_30 (Dropout)         (None, 200)               0         \n",
      "_________________________________________________________________\n",
      "dense_54 (Dense)             (None, 25)                5025      \n",
      "_________________________________________________________________\n",
      "dropout_31 (Dropout)         (None, 25)                0         \n",
      "_________________________________________________________________\n",
      "dense_55 (Dense)             (None, 25)                650       \n",
      "_________________________________________________________________\n",
      "dense_56 (Dense)             (None, 1)                 26        \n",
      "=================================================================\n",
      "Total params: 171,861\n",
      "Trainable params: 171,061\n",
      "Non-trainable params: 800\n",
      "_________________________________________________________________\n"
     ]
    }
   ],
   "source": [
    "rede.summary()"
   ]
  },
  {
   "cell_type": "code",
   "execution_count": 133,
   "metadata": {},
   "outputs": [
    {
     "name": "stdout",
     "output_type": "stream",
     "text": [
      "Epoch 1/100\n",
      "75/75 [==============================] - 0s 5ms/step - loss: 33.2735 - val_loss: 25.2940\n",
      "Epoch 2/100\n",
      "75/75 [==============================] - 0s 4ms/step - loss: 22.5936 - val_loss: 16.6990\n",
      "Epoch 3/100\n",
      "75/75 [==============================] - 0s 4ms/step - loss: 14.1369 - val_loss: 9.9419\n",
      "Epoch 4/100\n",
      "75/75 [==============================] - 0s 4ms/step - loss: 8.5815 - val_loss: 9.8281\n",
      "Epoch 5/100\n",
      "75/75 [==============================] - 0s 4ms/step - loss: 5.4033 - val_loss: 4.0758\n",
      "Epoch 6/100\n",
      "75/75 [==============================] - 0s 4ms/step - loss: 3.6239 - val_loss: 2.5000\n",
      "Epoch 7/100\n",
      "75/75 [==============================] - 0s 3ms/step - loss: 2.0020 - val_loss: 1.5310\n",
      "Epoch 8/100\n",
      "75/75 [==============================] - 0s 3ms/step - loss: 1.2579 - val_loss: 1.1208\n",
      "Epoch 9/100\n",
      "75/75 [==============================] - 0s 3ms/step - loss: 0.9712 - val_loss: 0.9378\n",
      "Epoch 10/100\n",
      "75/75 [==============================] - 0s 4ms/step - loss: 0.8398 - val_loss: 0.8880\n",
      "Epoch 11/100\n",
      "75/75 [==============================] - 0s 3ms/step - loss: 0.7641 - val_loss: 0.8343\n",
      "Epoch 12/100\n",
      "75/75 [==============================] - 0s 4ms/step - loss: 0.7473 - val_loss: 0.8095\n",
      "Epoch 13/100\n",
      "75/75 [==============================] - 0s 3ms/step - loss: 0.7543 - val_loss: 0.7934\n",
      "Epoch 14/100\n",
      "75/75 [==============================] - 0s 4ms/step - loss: 0.7438 - val_loss: 1.6508\n",
      "Epoch 15/100\n",
      "75/75 [==============================] - 0s 4ms/step - loss: 0.7284 - val_loss: 0.7700\n",
      "Epoch 16/100\n",
      "75/75 [==============================] - 0s 4ms/step - loss: 0.6898 - val_loss: 0.9778\n",
      "Epoch 17/100\n",
      "75/75 [==============================] - 0s 4ms/step - loss: 0.6859 - val_loss: 0.7664\n",
      "Epoch 18/100\n",
      "75/75 [==============================] - 0s 4ms/step - loss: 0.6745 - val_loss: 0.8436\n",
      "Epoch 19/100\n",
      "75/75 [==============================] - 0s 4ms/step - loss: 0.6774 - val_loss: 1.4553\n",
      "Epoch 20/100\n",
      "75/75 [==============================] - 0s 4ms/step - loss: 0.6769 - val_loss: 0.7510\n",
      "Epoch 21/100\n",
      "75/75 [==============================] - 0s 4ms/step - loss: 0.6551 - val_loss: 1.4569\n",
      "Epoch 22/100\n",
      "75/75 [==============================] - 0s 4ms/step - loss: 0.6618 - val_loss: 0.7606\n",
      "Epoch 23/100\n",
      "75/75 [==============================] - 0s 4ms/step - loss: 0.6521 - val_loss: 6.3902\n",
      "Epoch 24/100\n",
      "75/75 [==============================] - 0s 4ms/step - loss: 0.6416 - val_loss: 0.7770\n",
      "Epoch 25/100\n",
      "75/75 [==============================] - 0s 4ms/step - loss: 0.6268 - val_loss: 1.0396\n"
     ]
    },
    {
     "data": {
      "text/plain": [
       "<tensorflow.python.keras.callbacks.History at 0x7f89c87d8550>"
      ]
     },
     "execution_count": 133,
     "metadata": {},
     "output_type": "execute_result"
    }
   ],
   "source": [
    "es = EarlyStopping(patience = 5, restore_best_weights = True)\n",
    "\n",
    "rede.fit(x_treino_cod, y_treino, \n",
    "             epochs = 100,\n",
    "             validation_data = (x_valid_cod, y_valid),\n",
    "             callbacks = [es])"
   ]
  },
  {
   "cell_type": "code",
   "execution_count": 134,
   "metadata": {},
   "outputs": [],
   "source": [
    "y_treino_pred = rede.predict(x_treino_cod)"
   ]
  },
  {
   "cell_type": "code",
   "execution_count": 135,
   "metadata": {},
   "outputs": [
    {
     "data": {
      "text/plain": [
       "0.774010211336789"
      ]
     },
     "execution_count": 135,
     "metadata": {},
     "output_type": "execute_result"
    }
   ],
   "source": [
    "roc_auc_score(y_treino, y_treino_pred)"
   ]
  },
  {
   "cell_type": "code",
   "execution_count": 136,
   "metadata": {},
   "outputs": [
    {
     "name": "stdout",
     "output_type": "stream",
     "text": [
      "INFO:tensorflow:Assets written to: 4_rede_com_encoder/assets\n"
     ]
    }
   ],
   "source": [
    "rede.save(\"4_rede_com_encoder\")"
   ]
  },
  {
   "cell_type": "markdown",
   "metadata": {},
   "source": [
    "# Fazendo a predição"
   ]
  },
  {
   "cell_type": "code",
   "execution_count": 48,
   "metadata": {},
   "outputs": [],
   "source": [
    "rede = load_model('2_rede_com_encoder')"
   ]
  },
  {
   "cell_type": "code",
   "execution_count": 128,
   "metadata": {},
   "outputs": [],
   "source": [
    "df_teste = pd.read_csv(\"/media/leandro/2AC8-9C09/ISIC/isic_2017_teste.csv\", names=[\"img\"], header = 0)\n",
    "df_teste['img'] = df_teste['img'].apply(lambda x: x + '.jpg')\n",
    "df_teste['pos'] = 0"
   ]
  },
  {
   "cell_type": "code",
   "execution_count": 129,
   "metadata": {},
   "outputs": [
    {
     "data": {
      "text/html": [
       "<div>\n",
       "<style scoped>\n",
       "    .dataframe tbody tr th:only-of-type {\n",
       "        vertical-align: middle;\n",
       "    }\n",
       "\n",
       "    .dataframe tbody tr th {\n",
       "        vertical-align: top;\n",
       "    }\n",
       "\n",
       "    .dataframe thead th {\n",
       "        text-align: right;\n",
       "    }\n",
       "</style>\n",
       "<table border=\"1\" class=\"dataframe\">\n",
       "  <thead>\n",
       "    <tr style=\"text-align: right;\">\n",
       "      <th></th>\n",
       "      <th>img</th>\n",
       "      <th>pos</th>\n",
       "    </tr>\n",
       "  </thead>\n",
       "  <tbody>\n",
       "    <tr>\n",
       "      <th>0</th>\n",
       "      <td>ISIC_0012086.jpg</td>\n",
       "      <td>0</td>\n",
       "    </tr>\n",
       "    <tr>\n",
       "      <th>1</th>\n",
       "      <td>ISIC_0012092.jpg</td>\n",
       "      <td>0</td>\n",
       "    </tr>\n",
       "    <tr>\n",
       "      <th>2</th>\n",
       "      <td>ISIC_0012095.jpg</td>\n",
       "      <td>0</td>\n",
       "    </tr>\n",
       "    <tr>\n",
       "      <th>3</th>\n",
       "      <td>ISIC_0012134.jpg</td>\n",
       "      <td>0</td>\n",
       "    </tr>\n",
       "    <tr>\n",
       "      <th>4</th>\n",
       "      <td>ISIC_0012136.jpg</td>\n",
       "      <td>0</td>\n",
       "    </tr>\n",
       "    <tr>\n",
       "      <th>...</th>\n",
       "      <td>...</td>\n",
       "      <td>...</td>\n",
       "    </tr>\n",
       "    <tr>\n",
       "      <th>595</th>\n",
       "      <td>ISIC_0016068.jpg</td>\n",
       "      <td>0</td>\n",
       "    </tr>\n",
       "    <tr>\n",
       "      <th>596</th>\n",
       "      <td>ISIC_0016069.jpg</td>\n",
       "      <td>0</td>\n",
       "    </tr>\n",
       "    <tr>\n",
       "      <th>597</th>\n",
       "      <td>ISIC_0016070.jpg</td>\n",
       "      <td>0</td>\n",
       "    </tr>\n",
       "    <tr>\n",
       "      <th>598</th>\n",
       "      <td>ISIC_0016071.jpg</td>\n",
       "      <td>0</td>\n",
       "    </tr>\n",
       "    <tr>\n",
       "      <th>599</th>\n",
       "      <td>ISIC_0016072.jpg</td>\n",
       "      <td>0</td>\n",
       "    </tr>\n",
       "  </tbody>\n",
       "</table>\n",
       "<p>600 rows × 2 columns</p>\n",
       "</div>"
      ],
      "text/plain": [
       "                  img  pos\n",
       "0    ISIC_0012086.jpg    0\n",
       "1    ISIC_0012092.jpg    0\n",
       "2    ISIC_0012095.jpg    0\n",
       "3    ISIC_0012134.jpg    0\n",
       "4    ISIC_0012136.jpg    0\n",
       "..                ...  ...\n",
       "595  ISIC_0016068.jpg    0\n",
       "596  ISIC_0016069.jpg    0\n",
       "597  ISIC_0016070.jpg    0\n",
       "598  ISIC_0016071.jpg    0\n",
       "599  ISIC_0016072.jpg    0\n",
       "\n",
       "[600 rows x 2 columns]"
      ]
     },
     "execution_count": 129,
     "metadata": {},
     "output_type": "execute_result"
    }
   ],
   "source": [
    "df_teste"
   ]
  },
  {
   "cell_type": "code",
   "execution_count": 130,
   "metadata": {
    "scrolled": true
   },
   "outputs": [],
   "source": [
    "y_teste = get_images_n_labels(df_teste,diretorio_teste)"
   ]
  },
  {
   "cell_type": "code",
   "execution_count": 139,
   "metadata": {},
   "outputs": [],
   "source": [
    "encoder = Model(inputs = autoencoder.input, outputs = autoencoder.get_layer('gargalo').output)\n",
    "y_teste_cod = encoder.predict(y_teste)"
   ]
  },
  {
   "cell_type": "code",
   "execution_count": 140,
   "metadata": {},
   "outputs": [
    {
     "data": {
      "text/plain": [
       "(600, 60)"
      ]
     },
     "execution_count": 140,
     "metadata": {},
     "output_type": "execute_result"
    }
   ],
   "source": [
    "y_teste_cod.shape"
   ]
  },
  {
   "cell_type": "code",
   "execution_count": 142,
   "metadata": {
    "scrolled": false
   },
   "outputs": [],
   "source": [
    "y_teste_pred = rede.predict(y_teste_cod)"
   ]
  },
  {
   "cell_type": "code",
   "execution_count": 143,
   "metadata": {},
   "outputs": [
    {
     "data": {
      "text/plain": [
       "array([[0.7924501 ],\n",
       "       [0.6818824 ],\n",
       "       [0.7442077 ],\n",
       "       [0.7767552 ],\n",
       "       [0.74824655],\n",
       "       [0.81803125],\n",
       "       [0.7018146 ],\n",
       "       [0.7452823 ],\n",
       "       [0.79970706],\n",
       "       [0.788625  ],\n",
       "       [0.76942694],\n",
       "       [0.78738725],\n",
       "       [0.74374837],\n",
       "       [0.79068595],\n",
       "       [0.77467096],\n",
       "       [0.7905357 ],\n",
       "       [0.7374868 ],\n",
       "       [0.74489796],\n",
       "       [0.7268514 ],\n",
       "       [0.76761067],\n",
       "       [0.75423265],\n",
       "       [0.80449975],\n",
       "       [0.680422  ],\n",
       "       [0.85388076],\n",
       "       [0.7806877 ],\n",
       "       [0.74879456],\n",
       "       [0.769404  ],\n",
       "       [0.7681559 ],\n",
       "       [0.7495266 ],\n",
       "       [0.7083826 ],\n",
       "       [0.7234371 ],\n",
       "       [0.75240237],\n",
       "       [0.7915024 ],\n",
       "       [0.7940184 ],\n",
       "       [0.50224215],\n",
       "       [0.7515868 ],\n",
       "       [0.76695406],\n",
       "       [0.77230245],\n",
       "       [0.7235271 ],\n",
       "       [0.75242585],\n",
       "       [0.7702519 ],\n",
       "       [0.72684324],\n",
       "       [0.7548657 ],\n",
       "       [0.77121603],\n",
       "       [0.7543155 ],\n",
       "       [0.7176372 ],\n",
       "       [0.76318085],\n",
       "       [0.7771297 ],\n",
       "       [0.7564734 ],\n",
       "       [0.7761682 ],\n",
       "       [0.801262  ],\n",
       "       [0.792734  ],\n",
       "       [0.7063608 ],\n",
       "       [0.7161666 ],\n",
       "       [0.7765901 ],\n",
       "       [0.79547143],\n",
       "       [0.793403  ],\n",
       "       [0.72433573],\n",
       "       [0.785988  ],\n",
       "       [0.70269763],\n",
       "       [0.78288   ],\n",
       "       [0.80100465],\n",
       "       [0.75301623],\n",
       "       [0.72994006],\n",
       "       [0.76769817],\n",
       "       [0.6138166 ],\n",
       "       [0.7396252 ],\n",
       "       [0.7154029 ],\n",
       "       [0.76946187],\n",
       "       [0.79591477],\n",
       "       [0.6943451 ],\n",
       "       [0.7556255 ],\n",
       "       [0.7769957 ],\n",
       "       [0.783422  ],\n",
       "       [0.77983886],\n",
       "       [0.7511767 ],\n",
       "       [0.684142  ],\n",
       "       [0.76258874],\n",
       "       [0.8317356 ],\n",
       "       [0.7568492 ],\n",
       "       [0.764872  ],\n",
       "       [0.73622316],\n",
       "       [0.7502539 ],\n",
       "       [0.7737076 ],\n",
       "       [0.6858231 ],\n",
       "       [0.76900154],\n",
       "       [0.7600715 ],\n",
       "       [0.76043165],\n",
       "       [0.73613584],\n",
       "       [0.7925135 ],\n",
       "       [0.72837067],\n",
       "       [0.80293816],\n",
       "       [0.77705264],\n",
       "       [0.7735548 ],\n",
       "       [0.7500374 ],\n",
       "       [0.80374146],\n",
       "       [0.756412  ],\n",
       "       [0.7770115 ],\n",
       "       [0.7396585 ],\n",
       "       [0.71310306],\n",
       "       [0.7333495 ],\n",
       "       [0.7366229 ],\n",
       "       [0.77924454],\n",
       "       [0.7626405 ],\n",
       "       [0.78270555],\n",
       "       [0.7582672 ],\n",
       "       [0.7637482 ],\n",
       "       [0.74726045],\n",
       "       [0.7870895 ],\n",
       "       [0.74821484],\n",
       "       [0.73288584],\n",
       "       [0.8066503 ],\n",
       "       [0.7793989 ],\n",
       "       [0.77548033],\n",
       "       [0.74512243],\n",
       "       [0.7613013 ],\n",
       "       [0.7797343 ],\n",
       "       [0.75965595],\n",
       "       [0.783575  ],\n",
       "       [0.726919  ],\n",
       "       [0.74554664],\n",
       "       [0.8072472 ],\n",
       "       [0.73441654],\n",
       "       [0.7610813 ],\n",
       "       [0.75917494],\n",
       "       [0.7419205 ],\n",
       "       [0.77203935],\n",
       "       [0.7570474 ],\n",
       "       [0.7422395 ],\n",
       "       [0.6910068 ],\n",
       "       [0.7540117 ],\n",
       "       [0.7740988 ],\n",
       "       [0.73145485],\n",
       "       [0.80647457],\n",
       "       [0.7518459 ],\n",
       "       [0.7699089 ],\n",
       "       [0.79295444],\n",
       "       [0.73570454],\n",
       "       [0.7807244 ],\n",
       "       [0.7581061 ],\n",
       "       [0.7386098 ],\n",
       "       [0.7645114 ],\n",
       "       [0.74539614],\n",
       "       [0.7566558 ],\n",
       "       [0.7538172 ],\n",
       "       [0.6515255 ],\n",
       "       [0.76140916],\n",
       "       [0.77038586],\n",
       "       [0.7636819 ],\n",
       "       [0.7678134 ],\n",
       "       [0.7538897 ],\n",
       "       [0.70147496],\n",
       "       [0.74428594],\n",
       "       [0.74991983],\n",
       "       [0.7352946 ],\n",
       "       [0.725263  ],\n",
       "       [0.784342  ],\n",
       "       [0.77166617],\n",
       "       [0.74943817],\n",
       "       [0.76045704],\n",
       "       [0.81474626],\n",
       "       [0.8012296 ],\n",
       "       [0.7255334 ],\n",
       "       [0.7568923 ],\n",
       "       [0.7598227 ],\n",
       "       [0.7434373 ],\n",
       "       [0.775498  ],\n",
       "       [0.7836509 ],\n",
       "       [0.7542052 ],\n",
       "       [0.745779  ],\n",
       "       [0.7916285 ],\n",
       "       [0.6907147 ],\n",
       "       [0.7864978 ],\n",
       "       [0.7669374 ],\n",
       "       [0.8077771 ],\n",
       "       [0.7585485 ],\n",
       "       [0.8002727 ],\n",
       "       [0.77861035],\n",
       "       [0.73931575],\n",
       "       [0.78939617],\n",
       "       [0.72059065],\n",
       "       [0.7795265 ],\n",
       "       [0.7650895 ],\n",
       "       [0.75275356],\n",
       "       [0.75888926],\n",
       "       [0.6755417 ],\n",
       "       [0.78075635],\n",
       "       [0.7207516 ],\n",
       "       [0.7726597 ],\n",
       "       [0.71251696],\n",
       "       [0.7850857 ],\n",
       "       [0.728237  ],\n",
       "       [0.7679281 ],\n",
       "       [0.79340804],\n",
       "       [0.75661564],\n",
       "       [0.75123334],\n",
       "       [0.7499373 ],\n",
       "       [0.8799702 ],\n",
       "       [0.81104267],\n",
       "       [0.8076876 ],\n",
       "       [0.78761536],\n",
       "       [0.78656995],\n",
       "       [0.79399943],\n",
       "       [0.8019577 ],\n",
       "       [0.84348536],\n",
       "       [0.70618767],\n",
       "       [0.8037294 ],\n",
       "       [0.7939459 ],\n",
       "       [0.70015   ],\n",
       "       [0.78503484],\n",
       "       [0.8380245 ],\n",
       "       [0.6197684 ],\n",
       "       [0.7676961 ],\n",
       "       [0.7533282 ],\n",
       "       [0.8033049 ],\n",
       "       [0.7859936 ],\n",
       "       [0.77969337],\n",
       "       [0.79967254],\n",
       "       [0.7939586 ],\n",
       "       [0.8124709 ],\n",
       "       [0.7396525 ],\n",
       "       [0.77200174],\n",
       "       [0.7713629 ],\n",
       "       [0.6980232 ],\n",
       "       [0.80075765],\n",
       "       [0.7504744 ],\n",
       "       [0.68662417],\n",
       "       [0.6768824 ],\n",
       "       [0.7766945 ],\n",
       "       [0.7441423 ],\n",
       "       [0.7077245 ],\n",
       "       [0.7240909 ],\n",
       "       [0.66190636],\n",
       "       [0.60328174],\n",
       "       [0.7643498 ],\n",
       "       [0.7182079 ],\n",
       "       [0.74544895],\n",
       "       [0.7557936 ],\n",
       "       [0.77594906],\n",
       "       [0.69295734],\n",
       "       [0.79844606],\n",
       "       [0.7626288 ],\n",
       "       [0.77443415],\n",
       "       [0.80213654],\n",
       "       [0.661909  ],\n",
       "       [0.75174797],\n",
       "       [0.30003625],\n",
       "       [0.8322351 ],\n",
       "       [0.6976328 ],\n",
       "       [0.8698612 ],\n",
       "       [0.73986286],\n",
       "       [0.7528539 ],\n",
       "       [0.73669314],\n",
       "       [0.7551812 ],\n",
       "       [0.6719404 ],\n",
       "       [0.75261986],\n",
       "       [0.79143095],\n",
       "       [0.7450774 ],\n",
       "       [0.8172004 ],\n",
       "       [0.7685772 ],\n",
       "       [0.824071  ],\n",
       "       [0.7154693 ],\n",
       "       [0.8029665 ],\n",
       "       [0.7485439 ],\n",
       "       [0.6923266 ],\n",
       "       [0.7535678 ],\n",
       "       [0.8008213 ],\n",
       "       [0.7503891 ],\n",
       "       [0.7412144 ],\n",
       "       [0.81864727],\n",
       "       [0.7070105 ],\n",
       "       [0.7683086 ],\n",
       "       [0.07677191],\n",
       "       [0.75326   ],\n",
       "       [0.82099915],\n",
       "       [0.75528216],\n",
       "       [0.7781666 ],\n",
       "       [0.7083689 ],\n",
       "       [0.6985105 ],\n",
       "       [0.7832267 ],\n",
       "       [0.7459989 ],\n",
       "       [0.74757385],\n",
       "       [0.7290431 ],\n",
       "       [0.7374891 ],\n",
       "       [0.7874267 ],\n",
       "       [0.5936666 ],\n",
       "       [0.7795342 ],\n",
       "       [0.8131366 ],\n",
       "       [0.49430674],\n",
       "       [0.75561345],\n",
       "       [0.71857965],\n",
       "       [0.67701566],\n",
       "       [0.79587746],\n",
       "       [0.77006555],\n",
       "       [0.749663  ],\n",
       "       [0.72833616],\n",
       "       [0.74344313],\n",
       "       [0.77322507],\n",
       "       [0.79910666],\n",
       "       [0.65788907],\n",
       "       [0.60062003],\n",
       "       [0.7626468 ],\n",
       "       [0.7609768 ],\n",
       "       [0.65262246],\n",
       "       [0.7269839 ],\n",
       "       [0.73436487],\n",
       "       [0.77409446],\n",
       "       [0.72560877],\n",
       "       [0.74504375],\n",
       "       [0.7813051 ],\n",
       "       [0.7112868 ],\n",
       "       [0.8030205 ],\n",
       "       [0.7077142 ],\n",
       "       [0.7815385 ],\n",
       "       [0.76699257],\n",
       "       [0.75714284],\n",
       "       [0.66034174],\n",
       "       [0.810243  ],\n",
       "       [0.8409802 ],\n",
       "       [0.74522436],\n",
       "       [0.74731165],\n",
       "       [0.7811613 ],\n",
       "       [0.80713236],\n",
       "       [0.8248085 ],\n",
       "       [0.8208848 ],\n",
       "       [0.7399326 ],\n",
       "       [0.78758025],\n",
       "       [0.72393787],\n",
       "       [0.8028803 ],\n",
       "       [0.39278233],\n",
       "       [0.7447797 ],\n",
       "       [0.7719998 ],\n",
       "       [0.78729177],\n",
       "       [0.6571716 ],\n",
       "       [0.29042482],\n",
       "       [0.7334056 ],\n",
       "       [0.7558111 ],\n",
       "       [0.73301303],\n",
       "       [0.789803  ],\n",
       "       [0.7507534 ],\n",
       "       [0.7727399 ],\n",
       "       [0.7388525 ],\n",
       "       [0.72987604],\n",
       "       [0.71174085],\n",
       "       [0.83130395],\n",
       "       [0.81957614],\n",
       "       [0.813097  ],\n",
       "       [0.78366315],\n",
       "       [0.46677738],\n",
       "       [0.80855453],\n",
       "       [0.42992437],\n",
       "       [0.07522382],\n",
       "       [0.81830454],\n",
       "       [0.7902247 ],\n",
       "       [0.7452625 ],\n",
       "       [0.6905125 ],\n",
       "       [0.5055938 ],\n",
       "       [0.7547054 ],\n",
       "       [0.7006541 ],\n",
       "       [0.7991525 ],\n",
       "       [0.7711064 ],\n",
       "       [0.7119772 ],\n",
       "       [0.7636849 ],\n",
       "       [0.80476   ],\n",
       "       [0.7546629 ],\n",
       "       [0.65796983],\n",
       "       [0.7494352 ],\n",
       "       [0.7190061 ],\n",
       "       [0.6932963 ],\n",
       "       [0.8156789 ],\n",
       "       [0.755468  ],\n",
       "       [0.77249503],\n",
       "       [0.7303405 ],\n",
       "       [0.8011533 ],\n",
       "       [0.7220863 ],\n",
       "       [0.7563983 ],\n",
       "       [0.59429806],\n",
       "       [0.74464124],\n",
       "       [0.5925202 ],\n",
       "       [0.74979514],\n",
       "       [0.7307371 ],\n",
       "       [0.8205457 ],\n",
       "       [0.7406605 ],\n",
       "       [0.74676716],\n",
       "       [0.7312596 ],\n",
       "       [0.7742945 ],\n",
       "       [0.7263458 ],\n",
       "       [0.708803  ],\n",
       "       [0.7409019 ],\n",
       "       [0.6480354 ],\n",
       "       [0.77005756],\n",
       "       [0.7832519 ],\n",
       "       [0.828146  ],\n",
       "       [0.8187458 ],\n",
       "       [0.77705854],\n",
       "       [0.7505553 ],\n",
       "       [0.76565635],\n",
       "       [0.822667  ],\n",
       "       [0.7937673 ],\n",
       "       [0.7334544 ],\n",
       "       [0.7932713 ],\n",
       "       [0.778046  ],\n",
       "       [0.7345627 ],\n",
       "       [0.55441153],\n",
       "       [0.7522017 ],\n",
       "       [0.70027703],\n",
       "       [0.7599119 ],\n",
       "       [0.7724937 ],\n",
       "       [0.77340925],\n",
       "       [0.790504  ],\n",
       "       [0.723451  ],\n",
       "       [0.7528267 ],\n",
       "       [0.7699106 ],\n",
       "       [0.7077341 ],\n",
       "       [0.7699576 ],\n",
       "       [0.7918668 ],\n",
       "       [0.761345  ],\n",
       "       [0.7011826 ],\n",
       "       [0.72928184],\n",
       "       [0.75106907],\n",
       "       [0.7660692 ],\n",
       "       [0.8341916 ],\n",
       "       [0.7280802 ],\n",
       "       [0.7574984 ],\n",
       "       [0.6167619 ],\n",
       "       [0.8114251 ],\n",
       "       [0.74786043],\n",
       "       [0.7685491 ],\n",
       "       [0.71068   ],\n",
       "       [0.6721469 ],\n",
       "       [0.70810956],\n",
       "       [0.85947084],\n",
       "       [0.6937427 ],\n",
       "       [0.8049259 ],\n",
       "       [0.72316325],\n",
       "       [0.6734457 ],\n",
       "       [0.78297496],\n",
       "       [0.70770335],\n",
       "       [0.7798399 ],\n",
       "       [0.6639507 ],\n",
       "       [0.6948706 ],\n",
       "       [0.7008901 ],\n",
       "       [0.7924756 ],\n",
       "       [0.86419857],\n",
       "       [0.76343036],\n",
       "       [0.7929369 ],\n",
       "       [0.7756306 ],\n",
       "       [0.8078147 ],\n",
       "       [0.72526264],\n",
       "       [0.8187276 ],\n",
       "       [0.7772294 ],\n",
       "       [0.76739323],\n",
       "       [0.7161498 ],\n",
       "       [0.746901  ],\n",
       "       [0.67642975],\n",
       "       [0.7676913 ],\n",
       "       [0.23085713],\n",
       "       [0.6670219 ],\n",
       "       [0.7362033 ],\n",
       "       [0.76499176],\n",
       "       [0.74186015],\n",
       "       [0.7614289 ],\n",
       "       [0.8257103 ],\n",
       "       [0.8128958 ],\n",
       "       [0.76814365],\n",
       "       [0.7307385 ],\n",
       "       [0.7225852 ],\n",
       "       [0.68261135],\n",
       "       [0.7273068 ],\n",
       "       [0.7292263 ],\n",
       "       [0.6225548 ],\n",
       "       [0.7695178 ],\n",
       "       [0.7639345 ],\n",
       "       [0.47549146],\n",
       "       [0.7363857 ],\n",
       "       [0.7261535 ],\n",
       "       [0.7179258 ],\n",
       "       [0.75647783],\n",
       "       [0.68457246],\n",
       "       [0.7552998 ],\n",
       "       [0.7292656 ],\n",
       "       [0.7945051 ],\n",
       "       [0.79001164],\n",
       "       [0.75189155],\n",
       "       [0.73031795],\n",
       "       [0.7511598 ],\n",
       "       [0.7476236 ],\n",
       "       [0.78956306],\n",
       "       [0.76006097],\n",
       "       [0.7568662 ],\n",
       "       [0.78251135],\n",
       "       [0.75764716],\n",
       "       [0.8014753 ],\n",
       "       [0.67755467],\n",
       "       [0.73875606],\n",
       "       [0.76942366],\n",
       "       [0.76289046],\n",
       "       [0.7367737 ],\n",
       "       [0.7625654 ],\n",
       "       [0.76032007],\n",
       "       [0.7706282 ],\n",
       "       [0.7250104 ],\n",
       "       [0.7223489 ],\n",
       "       [0.72171175],\n",
       "       [0.8023742 ],\n",
       "       [0.78593326],\n",
       "       [0.72277564],\n",
       "       [0.7228786 ],\n",
       "       [0.73249125],\n",
       "       [0.5772665 ],\n",
       "       [0.72657967],\n",
       "       [0.70275956],\n",
       "       [0.769539  ],\n",
       "       [0.7452823 ],\n",
       "       [0.7220811 ],\n",
       "       [0.7456895 ],\n",
       "       [0.7294996 ],\n",
       "       [0.72737694],\n",
       "       [0.7538339 ],\n",
       "       [0.7228272 ],\n",
       "       [0.7356215 ],\n",
       "       [0.7423266 ],\n",
       "       [0.762088  ],\n",
       "       [0.7335245 ],\n",
       "       [0.74561083],\n",
       "       [0.737879  ],\n",
       "       [0.6663116 ],\n",
       "       [0.7556981 ],\n",
       "       [0.7084769 ],\n",
       "       [0.78962636],\n",
       "       [0.75120664],\n",
       "       [0.75239944],\n",
       "       [0.7355372 ],\n",
       "       [0.75824   ],\n",
       "       [0.74905103],\n",
       "       [0.74374837],\n",
       "       [0.74224913],\n",
       "       [0.7792444 ],\n",
       "       [0.77621645],\n",
       "       [0.75430405],\n",
       "       [0.7030239 ],\n",
       "       [0.7344115 ],\n",
       "       [0.76672447],\n",
       "       [0.77423304],\n",
       "       [0.78479   ],\n",
       "       [0.7859627 ],\n",
       "       [0.76575255],\n",
       "       [0.685222  ],\n",
       "       [0.7212771 ],\n",
       "       [0.7763798 ],\n",
       "       [0.78212094],\n",
       "       [0.7041913 ],\n",
       "       [0.781222  ],\n",
       "       [0.7539212 ],\n",
       "       [0.69806886],\n",
       "       [0.7634388 ],\n",
       "       [0.75497925],\n",
       "       [0.7764965 ],\n",
       "       [0.76669246],\n",
       "       [0.6978587 ],\n",
       "       [0.6959225 ],\n",
       "       [0.7271372 ],\n",
       "       [0.7684109 ],\n",
       "       [0.66001046],\n",
       "       [0.73016757],\n",
       "       [0.71804905],\n",
       "       [0.7470304 ],\n",
       "       [0.743794  ],\n",
       "       [0.7430023 ],\n",
       "       [0.7741388 ],\n",
       "       [0.74616164],\n",
       "       [0.7076844 ],\n",
       "       [0.57978135],\n",
       "       [0.6733613 ],\n",
       "       [0.7546934 ],\n",
       "       [0.7476343 ],\n",
       "       [0.6840825 ],\n",
       "       [0.7549739 ],\n",
       "       [0.7793512 ],\n",
       "       [0.7294581 ],\n",
       "       [0.6903762 ],\n",
       "       [0.74098873],\n",
       "       [0.7722492 ],\n",
       "       [0.721626  ],\n",
       "       [0.74239373],\n",
       "       [0.7441261 ],\n",
       "       [0.7173753 ],\n",
       "       [0.6761826 ],\n",
       "       [0.78736496],\n",
       "       [0.7497966 ],\n",
       "       [0.7243213 ],\n",
       "       [0.6985447 ],\n",
       "       [0.7465021 ],\n",
       "       [0.76242924],\n",
       "       [0.7487812 ],\n",
       "       [0.74173385],\n",
       "       [0.762143  ],\n",
       "       [0.6752212 ],\n",
       "       [0.75797844],\n",
       "       [0.7655455 ]], dtype=float32)"
      ]
     },
     "execution_count": 143,
     "metadata": {},
     "output_type": "execute_result"
    }
   ],
   "source": [
    "y_teste_pred"
   ]
  },
  {
   "cell_type": "code",
   "execution_count": 144,
   "metadata": {},
   "outputs": [],
   "source": [
    "df_teste['pos'] = y_teste_pred"
   ]
  },
  {
   "cell_type": "code",
   "execution_count": 146,
   "metadata": {},
   "outputs": [
    {
     "data": {
      "text/html": [
       "<div>\n",
       "<style scoped>\n",
       "    .dataframe tbody tr th:only-of-type {\n",
       "        vertical-align: middle;\n",
       "    }\n",
       "\n",
       "    .dataframe tbody tr th {\n",
       "        vertical-align: top;\n",
       "    }\n",
       "\n",
       "    .dataframe thead th {\n",
       "        text-align: right;\n",
       "    }\n",
       "</style>\n",
       "<table border=\"1\" class=\"dataframe\">\n",
       "  <thead>\n",
       "    <tr style=\"text-align: right;\">\n",
       "      <th></th>\n",
       "      <th>img</th>\n",
       "      <th>pos</th>\n",
       "    </tr>\n",
       "  </thead>\n",
       "  <tbody>\n",
       "    <tr>\n",
       "      <th>0</th>\n",
       "      <td>ISIC_0012086.jpg</td>\n",
       "      <td>0.792450</td>\n",
       "    </tr>\n",
       "    <tr>\n",
       "      <th>1</th>\n",
       "      <td>ISIC_0012092.jpg</td>\n",
       "      <td>0.681882</td>\n",
       "    </tr>\n",
       "    <tr>\n",
       "      <th>2</th>\n",
       "      <td>ISIC_0012095.jpg</td>\n",
       "      <td>0.744208</td>\n",
       "    </tr>\n",
       "    <tr>\n",
       "      <th>3</th>\n",
       "      <td>ISIC_0012134.jpg</td>\n",
       "      <td>0.776755</td>\n",
       "    </tr>\n",
       "    <tr>\n",
       "      <th>4</th>\n",
       "      <td>ISIC_0012136.jpg</td>\n",
       "      <td>0.748247</td>\n",
       "    </tr>\n",
       "    <tr>\n",
       "      <th>...</th>\n",
       "      <td>...</td>\n",
       "      <td>...</td>\n",
       "    </tr>\n",
       "    <tr>\n",
       "      <th>595</th>\n",
       "      <td>ISIC_0016068.jpg</td>\n",
       "      <td>0.741734</td>\n",
       "    </tr>\n",
       "    <tr>\n",
       "      <th>596</th>\n",
       "      <td>ISIC_0016069.jpg</td>\n",
       "      <td>0.762143</td>\n",
       "    </tr>\n",
       "    <tr>\n",
       "      <th>597</th>\n",
       "      <td>ISIC_0016070.jpg</td>\n",
       "      <td>0.675221</td>\n",
       "    </tr>\n",
       "    <tr>\n",
       "      <th>598</th>\n",
       "      <td>ISIC_0016071.jpg</td>\n",
       "      <td>0.757978</td>\n",
       "    </tr>\n",
       "    <tr>\n",
       "      <th>599</th>\n",
       "      <td>ISIC_0016072.jpg</td>\n",
       "      <td>0.765545</td>\n",
       "    </tr>\n",
       "  </tbody>\n",
       "</table>\n",
       "<p>600 rows × 2 columns</p>\n",
       "</div>"
      ],
      "text/plain": [
       "                  img       pos\n",
       "0    ISIC_0012086.jpg  0.792450\n",
       "1    ISIC_0012092.jpg  0.681882\n",
       "2    ISIC_0012095.jpg  0.744208\n",
       "3    ISIC_0012134.jpg  0.776755\n",
       "4    ISIC_0012136.jpg  0.748247\n",
       "..                ...       ...\n",
       "595  ISIC_0016068.jpg  0.741734\n",
       "596  ISIC_0016069.jpg  0.762143\n",
       "597  ISIC_0016070.jpg  0.675221\n",
       "598  ISIC_0016071.jpg  0.757978\n",
       "599  ISIC_0016072.jpg  0.765545\n",
       "\n",
       "[600 rows x 2 columns]"
      ]
     },
     "execution_count": 146,
     "metadata": {},
     "output_type": "execute_result"
    }
   ],
   "source": [
    "df_teste"
   ]
  },
  {
   "cell_type": "code",
   "execution_count": 145,
   "metadata": {},
   "outputs": [],
   "source": [
    "df_teste.to_csv(\"DF_predição.csv\")"
   ]
  },
  {
   "cell_type": "code",
   "execution_count": null,
   "metadata": {},
   "outputs": [],
   "source": []
  }
 ],
 "metadata": {
  "kernelspec": {
   "display_name": "Python 3",
   "language": "python",
   "name": "python3"
  },
  "language_info": {
   "codemirror_mode": {
    "name": "ipython",
    "version": 3
   },
   "file_extension": ".py",
   "mimetype": "text/x-python",
   "name": "python",
   "nbconvert_exporter": "python",
   "pygments_lexer": "ipython3",
   "version": "3.8.5"
  }
 },
 "nbformat": 4,
 "nbformat_minor": 4
}
