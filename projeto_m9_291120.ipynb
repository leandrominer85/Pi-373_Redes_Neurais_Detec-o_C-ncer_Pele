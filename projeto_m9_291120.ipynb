{
 "cells": [
  {
   "cell_type": "code",
   "execution_count": 1,
   "metadata": {
    "scrolled": true
   },
   "outputs": [],
   "source": [
    "from random import randint\n",
    "import os\n",
    "import shutil\n",
    "import cv2\n",
    "import numpy as np\n",
    "import matplotlib.pyplot as plt\n",
    "import pandas as pd\n",
    "import pickle\n",
    "\n",
    "\n",
    "\n",
    "\n",
    "os.environ[\"CUDA_DEVICE_ORDER\"] = \"PCI_BUS_ID\" \n",
    "os.environ[\"CUDA_VISIBLE_DEVICES\"] = \"\"\n",
    "\n",
    "\n",
    "from sklearn.metrics import accuracy_score , roc_auc_score\n",
    "from sklearn.model_selection import train_test_split\n",
    "from sklearn.preprocessing import MinMaxScaler, OneHotEncoder\n",
    "from tensorflow.keras import Sequential\n",
    "from tensorflow.keras.layers import Dense, Activation, Dropout, Conv2D, Input\n",
    "from tensorflow.keras.layers import Flatten, MaxPool2D, AvgPool2D\n",
    "from tensorflow.keras.layers import BatchNormalization, Reshape, UpSampling2D\n",
    "from tensorflow.keras.preprocessing.image import ImageDataGenerator\n",
    "from tensorflow.keras.regularizers import l2 \n",
    "from tensorflow.keras.callbacks import EarlyStopping\n",
    "from tensorflow.keras.optimizers import RMSprop\n",
    "from tensorflow.keras.models import Model, load_model\n",
    "import tensorflow as tf\n",
    "from PIL import Image\n",
    "\n",
    "seed = 123"
   ]
  },
  {
   "cell_type": "markdown",
   "metadata": {},
   "source": [
    "## Tratamento, balanceamento e split de treino e teste de descritivos"
   ]
  },
  {
   "cell_type": "code",
   "execution_count": 2,
   "metadata": {},
   "outputs": [],
   "source": [
    "# # Caminhos dos  csvs (win):\n",
    "# treino_2018 =r\"D:\\ISIC\\isic_2018_treino.csv\"\n",
    "# treino_2017 =r\"D:\\ISIC\\isic_2017_treino.csv\"\n",
    "# teste =      r\"D:\\ISIC\\isic_2017_teste.csv\"\n",
    "# validacao =  r\"D:\\ISIC\\isic_2017_validacao.csv\""
   ]
  },
  {
   "cell_type": "code",
   "execution_count": 3,
   "metadata": {},
   "outputs": [],
   "source": [
    "#Caminhos dos  csvs:\n",
    "treino_2018 =\"/media/leandro/2AC8-9C09/ISIC/isic_2018_treino.csv\"\n",
    "treino_2017 =\"/media/leandro/2AC8-9C09/ISIC/isic_2017_treino.csv\"\n",
    "teste =      \"/media/leandro/2AC8-9C09/ISIC/isic_2017_teste.csv\"\n",
    "validacao =  \"/media/leandro/2AC8-9C09/ISIC/isic_2017_validacao.csv\"\n"
   ]
  },
  {
   "cell_type": "code",
   "execution_count": 4,
   "metadata": {},
   "outputs": [],
   "source": [
    "# primeiramente, abrimos os descritivos dos dados de treino, a fim de analisar o balanceamento dos dados;\n",
    "# julgamos válido ajustar a rede a um conjunto de dados balanceado, assim, evitando enviesar a rede\n",
    "\n",
    "df_treino_2017 = pd.read_csv(treino_2017)\n",
    "df_treino_2018 = pd.read_csv(treino_2018)"
   ]
  },
  {
   "cell_type": "code",
   "execution_count": 5,
   "metadata": {},
   "outputs": [
    {
     "data": {
      "text/html": [
       "<div>\n",
       "<style scoped>\n",
       "    .dataframe tbody tr th:only-of-type {\n",
       "        vertical-align: middle;\n",
       "    }\n",
       "\n",
       "    .dataframe tbody tr th {\n",
       "        vertical-align: top;\n",
       "    }\n",
       "\n",
       "    .dataframe thead th {\n",
       "        text-align: right;\n",
       "    }\n",
       "</style>\n",
       "<table border=\"1\" class=\"dataframe\">\n",
       "  <thead>\n",
       "    <tr style=\"text-align: right;\">\n",
       "      <th></th>\n",
       "      <th>image_id</th>\n",
       "      <th>melanoma</th>\n",
       "      <th>seborrheic_keratosis</th>\n",
       "    </tr>\n",
       "  </thead>\n",
       "  <tbody>\n",
       "    <tr>\n",
       "      <th>0</th>\n",
       "      <td>ISIC_0000000</td>\n",
       "      <td>0.0</td>\n",
       "      <td>0.0</td>\n",
       "    </tr>\n",
       "    <tr>\n",
       "      <th>1</th>\n",
       "      <td>ISIC_0000001</td>\n",
       "      <td>0.0</td>\n",
       "      <td>0.0</td>\n",
       "    </tr>\n",
       "    <tr>\n",
       "      <th>2</th>\n",
       "      <td>ISIC_0000002</td>\n",
       "      <td>1.0</td>\n",
       "      <td>0.0</td>\n",
       "    </tr>\n",
       "    <tr>\n",
       "      <th>3</th>\n",
       "      <td>ISIC_0000003</td>\n",
       "      <td>0.0</td>\n",
       "      <td>0.0</td>\n",
       "    </tr>\n",
       "    <tr>\n",
       "      <th>4</th>\n",
       "      <td>ISIC_0000004</td>\n",
       "      <td>1.0</td>\n",
       "      <td>0.0</td>\n",
       "    </tr>\n",
       "  </tbody>\n",
       "</table>\n",
       "</div>"
      ],
      "text/plain": [
       "       image_id  melanoma  seborrheic_keratosis\n",
       "0  ISIC_0000000       0.0                   0.0\n",
       "1  ISIC_0000001       0.0                   0.0\n",
       "2  ISIC_0000002       1.0                   0.0\n",
       "3  ISIC_0000003       0.0                   0.0\n",
       "4  ISIC_0000004       1.0                   0.0"
      ]
     },
     "execution_count": 5,
     "metadata": {},
     "output_type": "execute_result"
    }
   ],
   "source": [
    "# analisando descritivo de treino de 2017\n",
    "df_treino_2017.head()"
   ]
  },
  {
   "cell_type": "code",
   "execution_count": 6,
   "metadata": {},
   "outputs": [],
   "source": [
    "# ------- TREINO 2017\n",
    "\n",
    "df_treino_2017['image_id'] = df_treino_2017['image_id'].apply(lambda x: x + '.jpg')\n",
    "df_treino_2017['nevus'] = ((df_treino_2017['melanoma'] == 0) & \n",
    "                           (df_treino_2017['seborrheic_keratosis'] == 0)).astype(float)\n",
    "df_treino_2017.drop('seborrheic_keratosis', axis = 1, inplace = True)\n",
    "df_treino_2017 = df_treino_2017.loc[(df_treino_2017['melanoma'] == 1) | (df_treino_2017['nevus'] == 1)]\n",
    "\n",
    "# nesta célula, adicionamos extensões aos nomes dos arquivos, para que estes correspondam exatamente aos nomes\n",
    "# que de fato seriam usados para acessar as imagens, por código, em seguida, precisávamos saber quais imagens\n",
    "# eram casos de 'nevus', como esta flag não existe, inferimos que casos que não fossem 'melanoma', nem \n",
    "# 'seborrheic_keratosis' seriam 'nevus', à partir disso, criamos uma terceira flag, eliminamos a flag\n",
    "# 'seborrheic_keratosis', que não nos convinha, por fim, mantivemos no dataframe, apenas as imagens\n",
    "# que representassem ou casos de 'nevus' ou 'melanoma'"
   ]
  },
  {
   "cell_type": "code",
   "execution_count": 7,
   "metadata": {},
   "outputs": [
    {
     "data": {
      "text/html": [
       "<div>\n",
       "<style scoped>\n",
       "    .dataframe tbody tr th:only-of-type {\n",
       "        vertical-align: middle;\n",
       "    }\n",
       "\n",
       "    .dataframe tbody tr th {\n",
       "        vertical-align: top;\n",
       "    }\n",
       "\n",
       "    .dataframe thead th {\n",
       "        text-align: right;\n",
       "    }\n",
       "</style>\n",
       "<table border=\"1\" class=\"dataframe\">\n",
       "  <thead>\n",
       "    <tr style=\"text-align: right;\">\n",
       "      <th></th>\n",
       "      <th>image_id</th>\n",
       "      <th>melanoma</th>\n",
       "      <th>nevus</th>\n",
       "    </tr>\n",
       "  </thead>\n",
       "  <tbody>\n",
       "    <tr>\n",
       "      <th>0</th>\n",
       "      <td>ISIC_0000000.jpg</td>\n",
       "      <td>0.0</td>\n",
       "      <td>1.0</td>\n",
       "    </tr>\n",
       "    <tr>\n",
       "      <th>1</th>\n",
       "      <td>ISIC_0000001.jpg</td>\n",
       "      <td>0.0</td>\n",
       "      <td>1.0</td>\n",
       "    </tr>\n",
       "    <tr>\n",
       "      <th>2</th>\n",
       "      <td>ISIC_0000002.jpg</td>\n",
       "      <td>1.0</td>\n",
       "      <td>0.0</td>\n",
       "    </tr>\n",
       "    <tr>\n",
       "      <th>3</th>\n",
       "      <td>ISIC_0000003.jpg</td>\n",
       "      <td>0.0</td>\n",
       "      <td>1.0</td>\n",
       "    </tr>\n",
       "    <tr>\n",
       "      <th>4</th>\n",
       "      <td>ISIC_0000004.jpg</td>\n",
       "      <td>1.0</td>\n",
       "      <td>0.0</td>\n",
       "    </tr>\n",
       "  </tbody>\n",
       "</table>\n",
       "</div>"
      ],
      "text/plain": [
       "           image_id  melanoma  nevus\n",
       "0  ISIC_0000000.jpg       0.0    1.0\n",
       "1  ISIC_0000001.jpg       0.0    1.0\n",
       "2  ISIC_0000002.jpg       1.0    0.0\n",
       "3  ISIC_0000003.jpg       0.0    1.0\n",
       "4  ISIC_0000004.jpg       1.0    0.0"
      ]
     },
     "execution_count": 7,
     "metadata": {},
     "output_type": "execute_result"
    }
   ],
   "source": [
    "df_treino_2017.head()"
   ]
  },
  {
   "cell_type": "code",
   "execution_count": 8,
   "metadata": {},
   "outputs": [
    {
     "data": {
      "text/html": [
       "<div>\n",
       "<style scoped>\n",
       "    .dataframe tbody tr th:only-of-type {\n",
       "        vertical-align: middle;\n",
       "    }\n",
       "\n",
       "    .dataframe tbody tr th {\n",
       "        vertical-align: top;\n",
       "    }\n",
       "\n",
       "    .dataframe thead th {\n",
       "        text-align: right;\n",
       "    }\n",
       "</style>\n",
       "<table border=\"1\" class=\"dataframe\">\n",
       "  <thead>\n",
       "    <tr style=\"text-align: right;\">\n",
       "      <th></th>\n",
       "      <th>image</th>\n",
       "      <th>MEL</th>\n",
       "      <th>NV</th>\n",
       "      <th>BCC</th>\n",
       "      <th>AKIEC</th>\n",
       "      <th>BKL</th>\n",
       "      <th>DF</th>\n",
       "      <th>VASC</th>\n",
       "    </tr>\n",
       "  </thead>\n",
       "  <tbody>\n",
       "    <tr>\n",
       "      <th>0</th>\n",
       "      <td>ISIC_0024306</td>\n",
       "      <td>0.0</td>\n",
       "      <td>1.0</td>\n",
       "      <td>0.0</td>\n",
       "      <td>0.0</td>\n",
       "      <td>0.0</td>\n",
       "      <td>0.0</td>\n",
       "      <td>0.0</td>\n",
       "    </tr>\n",
       "    <tr>\n",
       "      <th>1</th>\n",
       "      <td>ISIC_0024307</td>\n",
       "      <td>0.0</td>\n",
       "      <td>1.0</td>\n",
       "      <td>0.0</td>\n",
       "      <td>0.0</td>\n",
       "      <td>0.0</td>\n",
       "      <td>0.0</td>\n",
       "      <td>0.0</td>\n",
       "    </tr>\n",
       "    <tr>\n",
       "      <th>2</th>\n",
       "      <td>ISIC_0024308</td>\n",
       "      <td>0.0</td>\n",
       "      <td>1.0</td>\n",
       "      <td>0.0</td>\n",
       "      <td>0.0</td>\n",
       "      <td>0.0</td>\n",
       "      <td>0.0</td>\n",
       "      <td>0.0</td>\n",
       "    </tr>\n",
       "    <tr>\n",
       "      <th>3</th>\n",
       "      <td>ISIC_0024309</td>\n",
       "      <td>0.0</td>\n",
       "      <td>1.0</td>\n",
       "      <td>0.0</td>\n",
       "      <td>0.0</td>\n",
       "      <td>0.0</td>\n",
       "      <td>0.0</td>\n",
       "      <td>0.0</td>\n",
       "    </tr>\n",
       "    <tr>\n",
       "      <th>4</th>\n",
       "      <td>ISIC_0024310</td>\n",
       "      <td>1.0</td>\n",
       "      <td>0.0</td>\n",
       "      <td>0.0</td>\n",
       "      <td>0.0</td>\n",
       "      <td>0.0</td>\n",
       "      <td>0.0</td>\n",
       "      <td>0.0</td>\n",
       "    </tr>\n",
       "  </tbody>\n",
       "</table>\n",
       "</div>"
      ],
      "text/plain": [
       "          image  MEL   NV  BCC  AKIEC  BKL   DF  VASC\n",
       "0  ISIC_0024306  0.0  1.0  0.0    0.0  0.0  0.0   0.0\n",
       "1  ISIC_0024307  0.0  1.0  0.0    0.0  0.0  0.0   0.0\n",
       "2  ISIC_0024308  0.0  1.0  0.0    0.0  0.0  0.0   0.0\n",
       "3  ISIC_0024309  0.0  1.0  0.0    0.0  0.0  0.0   0.0\n",
       "4  ISIC_0024310  1.0  0.0  0.0    0.0  0.0  0.0   0.0"
      ]
     },
     "execution_count": 8,
     "metadata": {},
     "output_type": "execute_result"
    }
   ],
   "source": [
    "# partimos para o descritivo de treino de 2018\n",
    "\n",
    "df_treino_2018.head()"
   ]
  },
  {
   "cell_type": "code",
   "execution_count": 9,
   "metadata": {},
   "outputs": [],
   "source": [
    "# ------- TREINO 2018\n",
    "\n",
    "df_treino_2018['image'] = df_treino_2018['image'].apply(lambda x: x + '.jpg')\n",
    "df_treino_2018 = df_treino_2018.loc[(df_treino_2018['MEL'] == 1) | (df_treino_2018['NV'] == 1)]\n",
    "df_treino_2018 = df_treino_2018[['image', 'MEL', 'NV']]\n",
    "# nesta célula, apenas adicinamos as extensões aos nomes dos arquivos, filtramos imagens que representassem \n",
    "# casos de 'nevus' ou 'melanoma', por meio das flags 'NEV' e 'ML'"
   ]
  },
  {
   "cell_type": "code",
   "execution_count": 10,
   "metadata": {},
   "outputs": [
    {
     "data": {
      "text/html": [
       "<div>\n",
       "<style scoped>\n",
       "    .dataframe tbody tr th:only-of-type {\n",
       "        vertical-align: middle;\n",
       "    }\n",
       "\n",
       "    .dataframe tbody tr th {\n",
       "        vertical-align: top;\n",
       "    }\n",
       "\n",
       "    .dataframe thead th {\n",
       "        text-align: right;\n",
       "    }\n",
       "</style>\n",
       "<table border=\"1\" class=\"dataframe\">\n",
       "  <thead>\n",
       "    <tr style=\"text-align: right;\">\n",
       "      <th></th>\n",
       "      <th>image</th>\n",
       "      <th>MEL</th>\n",
       "      <th>NV</th>\n",
       "    </tr>\n",
       "  </thead>\n",
       "  <tbody>\n",
       "    <tr>\n",
       "      <th>0</th>\n",
       "      <td>ISIC_0024306.jpg</td>\n",
       "      <td>0.0</td>\n",
       "      <td>1.0</td>\n",
       "    </tr>\n",
       "    <tr>\n",
       "      <th>1</th>\n",
       "      <td>ISIC_0024307.jpg</td>\n",
       "      <td>0.0</td>\n",
       "      <td>1.0</td>\n",
       "    </tr>\n",
       "    <tr>\n",
       "      <th>2</th>\n",
       "      <td>ISIC_0024308.jpg</td>\n",
       "      <td>0.0</td>\n",
       "      <td>1.0</td>\n",
       "    </tr>\n",
       "    <tr>\n",
       "      <th>3</th>\n",
       "      <td>ISIC_0024309.jpg</td>\n",
       "      <td>0.0</td>\n",
       "      <td>1.0</td>\n",
       "    </tr>\n",
       "    <tr>\n",
       "      <th>4</th>\n",
       "      <td>ISIC_0024310.jpg</td>\n",
       "      <td>1.0</td>\n",
       "      <td>0.0</td>\n",
       "    </tr>\n",
       "  </tbody>\n",
       "</table>\n",
       "</div>"
      ],
      "text/plain": [
       "              image  MEL   NV\n",
       "0  ISIC_0024306.jpg  0.0  1.0\n",
       "1  ISIC_0024307.jpg  0.0  1.0\n",
       "2  ISIC_0024308.jpg  0.0  1.0\n",
       "3  ISIC_0024309.jpg  0.0  1.0\n",
       "4  ISIC_0024310.jpg  1.0  0.0"
      ]
     },
     "execution_count": 10,
     "metadata": {},
     "output_type": "execute_result"
    }
   ],
   "source": [
    "df_treino_2018.head()"
   ]
  },
  {
   "cell_type": "code",
   "execution_count": 11,
   "metadata": {},
   "outputs": [],
   "source": [
    "# aqui, unificamos os nomes das series dos descritivos, para que possam ser concatenados\n",
    "df_treino_2018.columns = ['img', 'pos', 'neg']\n",
    "df_treino_2017.columns = ['img', 'pos', 'neg']"
   ]
  },
  {
   "cell_type": "code",
   "execution_count": 12,
   "metadata": {},
   "outputs": [],
   "source": [
    "# como podemos ver abaixo, as bases estão desbalanceadas"
   ]
  },
  {
   "cell_type": "code",
   "execution_count": 13,
   "metadata": {},
   "outputs": [
    {
     "data": {
      "text/plain": [
       "0.0    0.785796\n",
       "1.0    0.214204\n",
       "Name: pos, dtype: float64"
      ]
     },
     "execution_count": 13,
     "metadata": {},
     "output_type": "execute_result"
    }
   ],
   "source": [
    "df_treino_2017['pos'].value_counts(1)"
   ]
  },
  {
   "cell_type": "code",
   "execution_count": 14,
   "metadata": {},
   "outputs": [
    {
     "data": {
      "text/plain": [
       "0.0    0.857636\n",
       "1.0    0.142364\n",
       "Name: pos, dtype: float64"
      ]
     },
     "execution_count": 14,
     "metadata": {},
     "output_type": "execute_result"
    }
   ],
   "source": [
    "df_treino_2018['pos'].value_counts(1)"
   ]
  },
  {
   "cell_type": "code",
   "execution_count": 15,
   "metadata": {},
   "outputs": [
    {
     "data": {
      "text/plain": [
       "0.0    1487\n",
       "1.0    1487\n",
       "Name: pos, dtype: int64"
      ]
     },
     "execution_count": 15,
     "metadata": {},
     "output_type": "execute_result"
    }
   ],
   "source": [
    "# nesta célula, juntamos as duas bases, como o intuito de obter um conjunto balanceado de dados\n",
    "\n",
    "# separando casos positivos e negativos de cada ano\n",
    "pos_2018 = df_treino_2018.loc[df_treino_2018['pos'] == 1]\n",
    "pos_2017 = df_treino_2017.loc[df_treino_2017['pos'] == 1]\n",
    "\n",
    "neg_2018 = df_treino_2018.loc[df_treino_2018['neg'] == 1]\n",
    "neg_2017 = df_treino_2017.loc[df_treino_2017['neg'] == 1]\n",
    "\n",
    "# juntando casos positivos e negativos de todos os anos\n",
    "full_pos = pd.concat([pos_2017, pos_2018], axis = 0)\n",
    "full_neg = pd.concat([neg_2017, neg_2018], axis = 0)\n",
    "\n",
    "# amostrando aleatoriamente, n dados negativos, estes consistirão nas observações negativas (a amostragem\n",
    "# é feita para separar um número de imagens equivalente ao número de imagens positivas que temos à disposição)\n",
    "full_neg = full_neg.sample(n = full_pos.shape[0], random_state = seed)\n",
    "\n",
    "full_pos = full_pos[['img', 'pos', 'neg']]\n",
    "full_neg = full_neg[['img', 'pos', 'neg']]\n",
    "\n",
    "filenames = pd.concat([full_pos, full_neg]).reset_index().drop('index', axis = 1)\n",
    "\n",
    "filenames['pos'].value_counts()"
   ]
  },
  {
   "cell_type": "markdown",
   "metadata": {},
   "source": [
    "# na célula abaixo, separo 20% das imagens para teste\n",
    "### na hora de tirar a métrica, carregar 'df_teste' com a função 'get_images_n_labels' e testar na rede"
   ]
  },
  {
   "cell_type": "code",
   "execution_count": 16,
   "metadata": {},
   "outputs": [],
   "source": [
    "# com base no conjunto balanceado, obtemos splits de treino e teste\n",
    "df_treino, df_teste = train_test_split(filenames, test_size = 0.2, random_state = seed)"
   ]
  },
  {
   "cell_type": "code",
   "execution_count": 17,
   "metadata": {},
   "outputs": [],
   "source": [
    "# analisamos aqui, o descritivo de validação\n",
    "\n",
    "df_valid = pd.read_csv(validacao)"
   ]
  },
  {
   "cell_type": "code",
   "execution_count": 18,
   "metadata": {},
   "outputs": [
    {
     "data": {
      "text/html": [
       "<div>\n",
       "<style scoped>\n",
       "    .dataframe tbody tr th:only-of-type {\n",
       "        vertical-align: middle;\n",
       "    }\n",
       "\n",
       "    .dataframe tbody tr th {\n",
       "        vertical-align: top;\n",
       "    }\n",
       "\n",
       "    .dataframe thead th {\n",
       "        text-align: right;\n",
       "    }\n",
       "</style>\n",
       "<table border=\"1\" class=\"dataframe\">\n",
       "  <thead>\n",
       "    <tr style=\"text-align: right;\">\n",
       "      <th></th>\n",
       "      <th>image_id</th>\n",
       "      <th>melanoma</th>\n",
       "      <th>seborrheic_keratosis</th>\n",
       "    </tr>\n",
       "  </thead>\n",
       "  <tbody>\n",
       "    <tr>\n",
       "      <th>0</th>\n",
       "      <td>ISIC_0001769</td>\n",
       "      <td>0.0</td>\n",
       "      <td>0.0</td>\n",
       "    </tr>\n",
       "    <tr>\n",
       "      <th>1</th>\n",
       "      <td>ISIC_0001852</td>\n",
       "      <td>0.0</td>\n",
       "      <td>0.0</td>\n",
       "    </tr>\n",
       "    <tr>\n",
       "      <th>2</th>\n",
       "      <td>ISIC_0001871</td>\n",
       "      <td>0.0</td>\n",
       "      <td>0.0</td>\n",
       "    </tr>\n",
       "    <tr>\n",
       "      <th>3</th>\n",
       "      <td>ISIC_0003462</td>\n",
       "      <td>0.0</td>\n",
       "      <td>0.0</td>\n",
       "    </tr>\n",
       "    <tr>\n",
       "      <th>4</th>\n",
       "      <td>ISIC_0003539</td>\n",
       "      <td>0.0</td>\n",
       "      <td>0.0</td>\n",
       "    </tr>\n",
       "  </tbody>\n",
       "</table>\n",
       "</div>"
      ],
      "text/plain": [
       "       image_id  melanoma  seborrheic_keratosis\n",
       "0  ISIC_0001769       0.0                   0.0\n",
       "1  ISIC_0001852       0.0                   0.0\n",
       "2  ISIC_0001871       0.0                   0.0\n",
       "3  ISIC_0003462       0.0                   0.0\n",
       "4  ISIC_0003539       0.0                   0.0"
      ]
     },
     "execution_count": 18,
     "metadata": {},
     "output_type": "execute_result"
    }
   ],
   "source": [
    "df_valid.head()"
   ]
  },
  {
   "cell_type": "code",
   "execution_count": 19,
   "metadata": {},
   "outputs": [],
   "source": [
    "df_valid['image_id'] = df_valid['image_id'].apply(lambda x: x + '.jpg')\n",
    "df_valid['nevus'] = ((df_valid['melanoma'] == 0) & \n",
    "                           (df_valid['seborrheic_keratosis'] == 0)).astype(float)\n",
    "df_valid.drop('seborrheic_keratosis', axis = 1, inplace = True)\n",
    "df_valid = df_valid.loc[(df_valid['melanoma'] == 1) | (df_valid['nevus'] == 1)]\n",
    "\n",
    "df_valid.columns = ['img', 'pos', 'neg']\n",
    "# para o tratamento do descritivo de validação, foi necessário adicionar extensões e criar a flag 'nevus', \n",
    "# de forma similar ao tratamento do descritivo de 2017, além disso, filtramos por apenas casos de \n",
    "# 'melanoma' ou 'nevus', também foram aplicados os mesmos nomes para as series "
   ]
  },
  {
   "cell_type": "code",
   "execution_count": 20,
   "metadata": {},
   "outputs": [
    {
     "data": {
      "text/html": [
       "<div>\n",
       "<style scoped>\n",
       "    .dataframe tbody tr th:only-of-type {\n",
       "        vertical-align: middle;\n",
       "    }\n",
       "\n",
       "    .dataframe tbody tr th {\n",
       "        vertical-align: top;\n",
       "    }\n",
       "\n",
       "    .dataframe thead th {\n",
       "        text-align: right;\n",
       "    }\n",
       "</style>\n",
       "<table border=\"1\" class=\"dataframe\">\n",
       "  <thead>\n",
       "    <tr style=\"text-align: right;\">\n",
       "      <th></th>\n",
       "      <th>img</th>\n",
       "      <th>pos</th>\n",
       "      <th>neg</th>\n",
       "    </tr>\n",
       "  </thead>\n",
       "  <tbody>\n",
       "    <tr>\n",
       "      <th>0</th>\n",
       "      <td>ISIC_0001769.jpg</td>\n",
       "      <td>0.0</td>\n",
       "      <td>1.0</td>\n",
       "    </tr>\n",
       "    <tr>\n",
       "      <th>1</th>\n",
       "      <td>ISIC_0001852.jpg</td>\n",
       "      <td>0.0</td>\n",
       "      <td>1.0</td>\n",
       "    </tr>\n",
       "    <tr>\n",
       "      <th>2</th>\n",
       "      <td>ISIC_0001871.jpg</td>\n",
       "      <td>0.0</td>\n",
       "      <td>1.0</td>\n",
       "    </tr>\n",
       "    <tr>\n",
       "      <th>3</th>\n",
       "      <td>ISIC_0003462.jpg</td>\n",
       "      <td>0.0</td>\n",
       "      <td>1.0</td>\n",
       "    </tr>\n",
       "    <tr>\n",
       "      <th>4</th>\n",
       "      <td>ISIC_0003539.jpg</td>\n",
       "      <td>0.0</td>\n",
       "      <td>1.0</td>\n",
       "    </tr>\n",
       "  </tbody>\n",
       "</table>\n",
       "</div>"
      ],
      "text/plain": [
       "                img  pos  neg\n",
       "0  ISIC_0001769.jpg  0.0  1.0\n",
       "1  ISIC_0001852.jpg  0.0  1.0\n",
       "2  ISIC_0001871.jpg  0.0  1.0\n",
       "3  ISIC_0003462.jpg  0.0  1.0\n",
       "4  ISIC_0003539.jpg  0.0  1.0"
      ]
     },
     "execution_count": 20,
     "metadata": {},
     "output_type": "execute_result"
    }
   ],
   "source": [
    "df_valid.head()"
   ]
  },
  {
   "cell_type": "code",
   "execution_count": 21,
   "metadata": {},
   "outputs": [
    {
     "data": {
      "text/plain": [
       "0.0    0.722222\n",
       "1.0    0.277778\n",
       "Name: pos, dtype: float64"
      ]
     },
     "execution_count": 21,
     "metadata": {},
     "output_type": "execute_result"
    }
   ],
   "source": [
    "# como podemos observar, a base de validação está desbalanceada\n",
    "\n",
    "df_valid['pos'].value_counts(1)"
   ]
  },
  {
   "cell_type": "code",
   "execution_count": 22,
   "metadata": {},
   "outputs": [],
   "source": [
    "# para balanceá-la, elminaremos casos negativos o suficiente para que o número resultante se equipare \n",
    "# ao número de casos positivos\n",
    "\n",
    "df_valid_pos = df_valid.loc[df_valid['pos'] == 1]\n",
    "df_valid_neg = df_valid.loc[df_valid['neg'] == 1]"
   ]
  },
  {
   "cell_type": "code",
   "execution_count": 23,
   "metadata": {},
   "outputs": [
    {
     "data": {
      "text/plain": [
       "(30, 78)"
      ]
     },
     "execution_count": 23,
     "metadata": {},
     "output_type": "execute_result"
    }
   ],
   "source": [
    "len(df_valid_pos), len(df_valid_neg)\n",
    "\n",
    "# amostraremos 30 valores aleatórios dentre os casos negativos, e estes serão concatenados ao conjunto de\n",
    "# casos positivos, o conjunto resultante consistirá no descritivo de validação"
   ]
  },
  {
   "cell_type": "code",
   "execution_count": 24,
   "metadata": {},
   "outputs": [],
   "source": [
    "df_valid_neg = df_valid_neg.sample(30, random_state = seed)\n",
    "df_valid = pd.concat([df_valid_pos, df_valid_neg])"
   ]
  },
  {
   "cell_type": "code",
   "execution_count": 25,
   "metadata": {},
   "outputs": [
    {
     "data": {
      "text/plain": [
       "0.0    0.5\n",
       "1.0    0.5\n",
       "Name: pos, dtype: float64"
      ]
     },
     "execution_count": 25,
     "metadata": {},
     "output_type": "execute_result"
    }
   ],
   "source": [
    "df_valid['pos'].value_counts(1)"
   ]
  },
  {
   "cell_type": "code",
   "execution_count": 26,
   "metadata": {},
   "outputs": [],
   "source": [
    "# descritivo de teste (cujas predições devemos entregar)\n",
    "\n",
    "df_pred = pd.read_csv(teste)"
   ]
  },
  {
   "cell_type": "code",
   "execution_count": 27,
   "metadata": {},
   "outputs": [
    {
     "data": {
      "text/html": [
       "<div>\n",
       "<style scoped>\n",
       "    .dataframe tbody tr th:only-of-type {\n",
       "        vertical-align: middle;\n",
       "    }\n",
       "\n",
       "    .dataframe tbody tr th {\n",
       "        vertical-align: top;\n",
       "    }\n",
       "\n",
       "    .dataframe thead th {\n",
       "        text-align: right;\n",
       "    }\n",
       "</style>\n",
       "<table border=\"1\" class=\"dataframe\">\n",
       "  <thead>\n",
       "    <tr style=\"text-align: right;\">\n",
       "      <th></th>\n",
       "      <th>image_id</th>\n",
       "    </tr>\n",
       "  </thead>\n",
       "  <tbody>\n",
       "    <tr>\n",
       "      <th>0</th>\n",
       "      <td>ISIC_0012086</td>\n",
       "    </tr>\n",
       "    <tr>\n",
       "      <th>1</th>\n",
       "      <td>ISIC_0012092</td>\n",
       "    </tr>\n",
       "    <tr>\n",
       "      <th>2</th>\n",
       "      <td>ISIC_0012095</td>\n",
       "    </tr>\n",
       "    <tr>\n",
       "      <th>3</th>\n",
       "      <td>ISIC_0012134</td>\n",
       "    </tr>\n",
       "    <tr>\n",
       "      <th>4</th>\n",
       "      <td>ISIC_0012136</td>\n",
       "    </tr>\n",
       "  </tbody>\n",
       "</table>\n",
       "</div>"
      ],
      "text/plain": [
       "       image_id\n",
       "0  ISIC_0012086\n",
       "1  ISIC_0012092\n",
       "2  ISIC_0012095\n",
       "3  ISIC_0012134\n",
       "4  ISIC_0012136"
      ]
     },
     "execution_count": 27,
     "metadata": {},
     "output_type": "execute_result"
    }
   ],
   "source": [
    "df_pred.head()"
   ]
  },
  {
   "cell_type": "code",
   "execution_count": 28,
   "metadata": {},
   "outputs": [],
   "source": [
    "df_pred['image_id'] = df_pred['image_id'].apply(lambda x: x + '.jpg')\n",
    "df_pred.columns = ['img']\n",
    "\n",
    "# para o tratamento do descritivo de teste, aplicamos extensões e unificamos nome da series"
   ]
  },
  {
   "cell_type": "code",
   "execution_count": 29,
   "metadata": {},
   "outputs": [
    {
     "data": {
      "text/html": [
       "<div>\n",
       "<style scoped>\n",
       "    .dataframe tbody tr th:only-of-type {\n",
       "        vertical-align: middle;\n",
       "    }\n",
       "\n",
       "    .dataframe tbody tr th {\n",
       "        vertical-align: top;\n",
       "    }\n",
       "\n",
       "    .dataframe thead th {\n",
       "        text-align: right;\n",
       "    }\n",
       "</style>\n",
       "<table border=\"1\" class=\"dataframe\">\n",
       "  <thead>\n",
       "    <tr style=\"text-align: right;\">\n",
       "      <th></th>\n",
       "      <th>img</th>\n",
       "    </tr>\n",
       "  </thead>\n",
       "  <tbody>\n",
       "    <tr>\n",
       "      <th>0</th>\n",
       "      <td>ISIC_0012086.jpg</td>\n",
       "    </tr>\n",
       "    <tr>\n",
       "      <th>1</th>\n",
       "      <td>ISIC_0012092.jpg</td>\n",
       "    </tr>\n",
       "    <tr>\n",
       "      <th>2</th>\n",
       "      <td>ISIC_0012095.jpg</td>\n",
       "    </tr>\n",
       "    <tr>\n",
       "      <th>3</th>\n",
       "      <td>ISIC_0012134.jpg</td>\n",
       "    </tr>\n",
       "    <tr>\n",
       "      <th>4</th>\n",
       "      <td>ISIC_0012136.jpg</td>\n",
       "    </tr>\n",
       "  </tbody>\n",
       "</table>\n",
       "</div>"
      ],
      "text/plain": [
       "                img\n",
       "0  ISIC_0012086.jpg\n",
       "1  ISIC_0012092.jpg\n",
       "2  ISIC_0012095.jpg\n",
       "3  ISIC_0012134.jpg\n",
       "4  ISIC_0012136.jpg"
      ]
     },
     "execution_count": 29,
     "metadata": {},
     "output_type": "execute_result"
    }
   ],
   "source": [
    "df_pred.head()"
   ]
  },
  {
   "cell_type": "code",
   "execution_count": 30,
   "metadata": {},
   "outputs": [],
   "source": [
    "# ao final do processo, possuímos df_treino, df_teste, df_valid, df_pred"
   ]
  },
  {
   "cell_type": "code",
   "execution_count": 31,
   "metadata": {},
   "outputs": [],
   "source": [
    "df_treino = df_treino.reset_index()\n",
    "df_valid = df_valid.reset_index()\n",
    "df_treino.drop('index', axis = 1, inplace = True)\n",
    "df_valid.drop('index', axis = 1, inplace = True)"
   ]
  },
  {
   "cell_type": "markdown",
   "metadata": {},
   "source": [
    "## Pré-processamento"
   ]
  },
  {
   "cell_type": "code",
   "execution_count": 32,
   "metadata": {},
   "outputs": [],
   "source": [
    "# farei o pré processamento das imagens conforme estiver alimentando o ajuste da rede, este será realizado em \n",
    "# batches"
   ]
  },
  {
   "cell_type": "markdown",
   "metadata": {},
   "source": [
    "# se for carregar todos os dados de uma vez, não precisa do próximo bloco"
   ]
  },
  {
   "cell_type": "code",
   "execution_count": 33,
   "metadata": {},
   "outputs": [],
   "source": [
    "# divisão dos dados de treino em batches\n",
    "\n",
    "n_batches = 5\n",
    "data = df_treino\n",
    "batch_list = []\n",
    "\n",
    "resto = data.shape[0] % n_batches\n",
    "step = data.shape[0] // n_batches\n",
    "count = 0\n",
    "lower_idx = 0\n",
    "\n",
    "for n in range(n_batches):\n",
    "    \n",
    "    upper_idx = lower_idx + step \n",
    "    \n",
    "    exec(f'batch_{count} = data.iloc[{lower_idx}:{upper_idx}]')\n",
    "    exec(f'batch_list.append(batch_{count})')\n",
    "    \n",
    "    count += 1\n",
    "    lower_idx += step\n",
    "    \n",
    "# somando resto ao último batch\n",
    "batch_list[-1] = pd.concat([batch_list[-1], df_treino[-4:]])\n",
    "\n",
    "# agora temos a lista 'batch_list', esta possui cinco dataframes, cada um deles, contendo uma porção de \n",
    "# 'df_treino', carregaremos cada batch e ajustaremos a rede a cada um deles"
   ]
  },
  {
   "cell_type": "code",
   "execution_count": 34,
   "metadata": {},
   "outputs": [],
   "source": [
    "# diretorio_treino = '/media/leandro/2AC8-9C09/ISIC/treino/'\n",
    "# diretorio_teste = '/media/leandro/2AC8-9C09/ISIC/isic_2017_teste/'\n",
    "# diretorio_val = \"/media/leandro/2AC8-9C09/ISIC/isic_2017_validacao/\""
   ]
  },
  {
   "cell_type": "code",
   "execution_count": 33,
   "metadata": {},
   "outputs": [],
   "source": [
    "diretorio_treino = \"/media/leandro/2AC8-9C09/ISIC/treino/\"\n",
    "diretorio_teste =  \"/media/leandro/2AC8-9C09/ISIC/isic_2017_teste/\"\n",
    "diretorio_val =    \"/media/leandro/2AC8-9C09/ISIC/isic_2017_validacao/isic_2017_validacao/\""
   ]
  },
  {
   "cell_type": "code",
   "execution_count": 35,
   "metadata": {},
   "outputs": [],
   "source": [
    "# ao carregarmos cada um dos batches, pré processaremos e faremos 'data augmentation', através de:\n",
    "\n",
    "# carregamento \n",
    "def get_images_n_labels(dataframe, path = 'treino_full_non_preproc/', \n",
    "                        series_name = 'img', label_name = 'pos', i = 300, j = 300):\n",
    "    \n",
    "    x = []\n",
    "    y = []\n",
    "    \n",
    "    for n in range(dataframe.shape[0]):\n",
    "        img = cv2.imread(path + dataframe[series_name].iloc[n])\n",
    "        img = cv2.resize(img, (i, j))\n",
    "        x.append(img)\n",
    "        y.append(dataframe[label_name].iloc[n])\n",
    "        \n",
    "    return np.array(x), np.array(y)\n",
    "\n",
    "# pré processamento\n",
    "\n",
    "def segmentation(img):\n",
    "    \n",
    "    gray = cv2.cvtColor(img,cv2.COLOR_BGR2GRAY)\n",
    "    ret, thresh = cv2.threshold(gray,0,255,cv2.THRESH_BINARY_INV + cv2.THRESH_OTSU)\n",
    "    kernel = np.ones((3,3),np.uint8)\n",
    "    opening = cv2.morphologyEx(thresh,cv2.MORPH_OPEN,kernel, iterations = 2)\n",
    "    sure_bg = cv2.dilate(opening,kernel,iterations = 3)\n",
    "    res = cv2.bitwise_and(img,img,mask = sure_bg)\n",
    "    \n",
    "    return res\n",
    "\n",
    "def bgr_CLAHE(img):\n",
    "    \n",
    "    lab = cv2.cvtColor(img, cv2.COLOR_BGR2LAB)\n",
    "    lab_planes = cv2.split(lab)\n",
    "    clahe = cv2.createCLAHE(clipLimit = 2.0,tileGridSize = (6, 6))\n",
    "    lab_planes[0] = clahe.apply(lab_planes[0])\n",
    "    lab = cv2.merge(lab_planes)\n",
    "    img = cv2.cvtColor(lab, cv2.COLOR_LAB2BGR)\n",
    "    \n",
    "    return img\n",
    "\n",
    "def img_preproc(img):\n",
    "    \n",
    "    img = bgr_CLAHE(segmentation(img))\n",
    "    img = img / 255\n",
    "\n",
    "    \n",
    "    return img\n",
    "\n",
    "# augmentation\n",
    "\n",
    "def zoom(img, original_dim = [300, 300], h_slice = [15, 285], v_slice = [15, 285]):\n",
    "\n",
    "    img = img[v_slice[0] : v_slice[1], h_slice[0] : h_slice[1]]\n",
    "    img = cv2.resize(img, (original_dim[0], original_dim[1]))\n",
    "    \n",
    "    return img \n",
    "\n",
    "# horizontal shift\n",
    "def h_shift(image, original_dim = [300, 300], shift = 5):\n",
    "    \n",
    "    T_x = shift\n",
    "    T_y = 0\n",
    "    \n",
    "    M = np.array([[1, 0, T_x], [0, 1, T_y]], dtype = 'float32')\n",
    "    img_transladada = cv2.warpAffine(image, M, (original_dim[0], original_dim[1]))\n",
    "    img = img_transladada[0 : original_dim[0], shift : original_dim[1]]\n",
    "    img = cv2.resize(img, (original_dim[0], original_dim[1]))\n",
    "    \n",
    "    return img\n",
    "\n",
    "# vertical shift\n",
    "def v_shift(image, original_dim = [300, 300], shift = 5):\n",
    "    \n",
    "    T_x = 0\n",
    "    T_y = shift\n",
    "    \n",
    "    M = np.array([[1, 0, T_x], [0, 1, T_y]], dtype = 'float32')\n",
    "    img_transladada = cv2.warpAffine(image, M, (original_dim[0], original_dim[1]))\n",
    "    img = img_transladada[shift : original_dim[0], 0 : original_dim[1]]\n",
    "    img = cv2.resize(img, (original_dim[0], original_dim[1]))\n",
    "    \n",
    "    return img\n",
    "\n",
    "def rotation_90(img):\n",
    "\n",
    "    rows, cols, chnls = img.shape\n",
    "    M = cv2.getRotationMatrix2D(((cols - 1) / 2.0, (rows - 1) / 2.0), 90, 1)\n",
    "    img = cv2.warpAffine(img, M, (cols, rows))\n",
    "    \n",
    "    return img\n",
    "\n",
    "def data_augmentation(x, y):\n",
    "    \n",
    "    augmentation_imgs = []\n",
    "    augmentation_labels = []\n",
    "\n",
    "    for n in range(len(x)):\n",
    "\n",
    "        image = x[n]\n",
    "        classe = y[n]\n",
    "        augment = randint(0, 2) # booleano (33.3% de chance de aplicar augmentation)\n",
    "\n",
    "        if augment == 1:\n",
    "            process = randint(0, 5) # seleção aleatória do processo de augmentation\n",
    "\n",
    "            if process == 0:\n",
    "                image = cv2.flip(image, 0)\n",
    "                augmentation_imgs.append(image) # horizontal flip\n",
    "                augmentation_labels.append(classe)\n",
    "\n",
    "            if process == 1:\n",
    "                image = zoom(image)\n",
    "                augmentation_imgs.append(image) # zoom 0.2\n",
    "                augmentation_labels.append(classe)\n",
    "\n",
    "            if process == 2:\n",
    "                image = h_shift(image)\n",
    "                augmentation_imgs.append(image) # horizontal shift\n",
    "                augmentation_labels.append(classe)\n",
    "\n",
    "            if process == 3:\n",
    "                image = v_shift(image)\n",
    "                augmentation_imgs.append(image) # vertical shift\n",
    "                augmentation_labels.append(classe)\n",
    "\n",
    "            if process == 4:\n",
    "                image = rotation_90(image)\n",
    "                augmentation_imgs.append(image) # rotaton 90°\n",
    "                augmentation_labels.append(classe)\n",
    "                \n",
    "    return augmentation_imgs, augmentation_labels\n",
    "\n",
    "# consolidando os processos acima em um função\n",
    "def single_batch_prep(batch_df, width = 300, height = 300):\n",
    "    \n",
    "    x, y = get_images_n_labels(batch_df)\n",
    "\n",
    "    # pré processamento de imagens\n",
    "    x = [img_preproc(i) for i in x]\n",
    "\n",
    "    # data augmentation\n",
    "    augmentation_imgs, augmentation_labels = data_augmentation(x, y)\n",
    "    \n",
    "    return np.array(x + augmentation_imgs), np.array(list(y) + augmentation_labels)\n",
    "\n",
    "\n",
    "def get_batch(nn_name, batch_desc, valid_desc, valid_dir, batch_size, epochs, \n",
    "              encode = False):\n",
    "    \n",
    "    model = load_model(nn_name)\n",
    "    batch = pickle.load(open(batch_desc, 'rb'))\n",
    "    x_treino, y_treino = single_batch_prep(batch)\n",
    "    \n",
    "    valid = pickle.load(open(valid_desc, 'rb'))\n",
    "    x_valid, y_valid = get_images_n_labels(valid, path = valid_dir)\n",
    "    \n",
    "    if encode == True:\n",
    "        model.fit(x_treino, x_treino, batch_size = batch_size, epochs = epochs, \n",
    "                  validation_data = (x_valid, x_valid))\n",
    "                  \n",
    "    model.save(nn_name)"
   ]
  },
  {
   "cell_type": "code",
   "execution_count": 41,
   "metadata": {},
   "outputs": [],
   "source": [
    "px_h, px_v, chnls = 300, 300, 3\n",
    "ipt_e = Input(shape = (px_h, px_v, chnls))\n",
    "\n",
    "encoder = Conv2D(50, (3, 3), input_shape = (px_h, px_v, chnls), activation = 'relu', padding = 'same')(ipt_e)\n",
    "encoder = MaxPool2D((5, 5))(encoder)\n",
    "encoder = Conv2D(50, (5, 5), activation = 'relu', padding = 'same')(encoder)\n",
    "encoder = MaxPool2D((5, 5))(encoder)\n",
    "encoder = Conv2D(50, (5, 5), activation = 'relu', padding = 'same')(encoder)\n",
    "encoder = Flatten()(encoder)\n",
    "\n",
    "encoder = Dense(60, name = 'gargalo')(encoder)\n",
    "\n",
    "decoder = Dense(7200)(encoder)\n",
    "decoder = Reshape(target_shape = (12, 12,50))(decoder)\n",
    "decoder = Conv2D(50, (3, 3), activation = 'relu', padding = 'same')(decoder)\n",
    "decoder = UpSampling2D((5, 5))(decoder)\n",
    "decoder = Conv2D(50, (5, 5), activation = 'relu', padding = 'same')(decoder)\n",
    "decoder = UpSampling2D((5, 5))(decoder)\n",
    "decoder = Conv2D(4, (3, 3), activation = 'relu', padding = 'same')(decoder)\n",
    "decoder = Conv2D(3, (3, 3), activation = 'sigmoid', padding = 'same')(decoder)\n",
    "\n",
    "autoencoder = Model(inputs = ipt_e, outputs = decoder, name = 'autoencoder')\n",
    "autoencoder.compile(loss = 'mean_squared_error')"
   ]
  },
  {
   "cell_type": "code",
   "execution_count": 42,
   "metadata": {},
   "outputs": [
    {
     "name": "stdout",
     "output_type": "stream",
     "text": [
      "Model: \"autoencoder\"\n",
      "_________________________________________________________________\n",
      "Layer (type)                 Output Shape              Param #   \n",
      "=================================================================\n",
      "input_1 (InputLayer)         [(None, 300, 300, 3)]     0         \n",
      "_________________________________________________________________\n",
      "conv2d (Conv2D)              (None, 300, 300, 50)      1400      \n",
      "_________________________________________________________________\n",
      "max_pooling2d (MaxPooling2D) (None, 60, 60, 50)        0         \n",
      "_________________________________________________________________\n",
      "conv2d_1 (Conv2D)            (None, 60, 60, 50)        62550     \n",
      "_________________________________________________________________\n",
      "max_pooling2d_1 (MaxPooling2 (None, 12, 12, 50)        0         \n",
      "_________________________________________________________________\n",
      "conv2d_2 (Conv2D)            (None, 12, 12, 50)        62550     \n",
      "_________________________________________________________________\n",
      "flatten (Flatten)            (None, 7200)              0         \n",
      "_________________________________________________________________\n",
      "gargalo (Dense)              (None, 60)                432060    \n",
      "_________________________________________________________________\n",
      "dense (Dense)                (None, 7200)              439200    \n",
      "_________________________________________________________________\n",
      "reshape (Reshape)            (None, 12, 12, 50)        0         \n",
      "_________________________________________________________________\n",
      "conv2d_3 (Conv2D)            (None, 12, 12, 50)        22550     \n",
      "_________________________________________________________________\n",
      "up_sampling2d (UpSampling2D) (None, 60, 60, 50)        0         \n",
      "_________________________________________________________________\n",
      "conv2d_4 (Conv2D)            (None, 60, 60, 50)        62550     \n",
      "_________________________________________________________________\n",
      "up_sampling2d_1 (UpSampling2 (None, 300, 300, 50)      0         \n",
      "_________________________________________________________________\n",
      "conv2d_5 (Conv2D)            (None, 300, 300, 4)       1804      \n",
      "_________________________________________________________________\n",
      "conv2d_6 (Conv2D)            (None, 300, 300, 3)       111       \n",
      "=================================================================\n",
      "Total params: 1,084,775\n",
      "Trainable params: 1,084,775\n",
      "Non-trainable params: 0\n",
      "_________________________________________________________________\n"
     ]
    }
   ],
   "source": [
    "autoencoder.summary()"
   ]
  },
  {
   "cell_type": "code",
   "execution_count": 43,
   "metadata": {},
   "outputs": [],
   "source": [
    "#pickle.dump(batch_0, open('batch_0.pkl', 'wb'))\n",
    "#pickle.dump(batch_1, open('batch_1.pkl', 'wb'))\n",
    "# pickle.dump(batch_2, open('batch_2.pkl', 'wb'))\n",
    "# pickle.dump(batch_3, open('batch_3.pkl', 'wb'))\n",
    "# pickle.dump(batch_4, open('batch_4.pkl', 'wb'))\n",
    "\n",
    "autoencoder.save('ae.h5')"
   ]
  },
  {
   "cell_type": "code",
   "execution_count": 36,
   "metadata": {
    "scrolled": false
   },
   "outputs": [],
   "source": [
    "#df_valid = pickle.load(open('df_valid.pkl', 'rb'))\n",
    "path = '/media/leandro/2AC8-9C09/ISIC/isic_2017_validacao/'\n",
    "x_valid, y_valid = get_images_n_labels(df_valid, path = path)"
   ]
  },
  {
   "cell_type": "code",
   "execution_count": 37,
   "metadata": {},
   "outputs": [
    {
     "data": {
      "text/plain": [
       "(300, 300, 3)"
      ]
     },
     "execution_count": 37,
     "metadata": {},
     "output_type": "execute_result"
    }
   ],
   "source": [
    "x_valid[0].shape"
   ]
  },
  {
   "cell_type": "code",
   "execution_count": 38,
   "metadata": {},
   "outputs": [
    {
     "data": {
      "text/plain": [
       "<function breakpoint>"
      ]
     },
     "execution_count": 38,
     "metadata": {},
     "output_type": "execute_result"
    }
   ],
   "source": [
    "breakpoint"
   ]
  },
  {
   "cell_type": "code",
   "execution_count": 43,
   "metadata": {},
   "outputs": [],
   "source": [
    "# daqui para baixo, ajuste do encoder\n",
    "\n",
    "# na função get_images_n_labels\n",
    "# parametros i e j são as dimensoes,\n",
    "# na função zoom, \n",
    "# original_dim é uma lista com as dimensoes, \n",
    "# h_slice e v_slice podem ser iguais, \n",
    "# são listas que devem possui dois numeros, \n",
    "# um umpouco acima do limite inferior, e outro\n",
    "# pouco abaixo do limite superior, \n",
    "# na h_shift, original dim é uma lista com\n",
    "# as duas dims, em v_shift, a mesma coisa, \n",
    "# na função single_batch_prep, width e height\n",
    "# são os params correspondentes as dims"
   ]
  },
  {
   "cell_type": "code",
   "execution_count": 44,
   "metadata": {},
   "outputs": [],
   "source": []
  },
  {
   "cell_type": "code",
   "execution_count": null,
   "metadata": {},
   "outputs": [],
   "source": []
  },
  {
   "cell_type": "code",
   "execution_count": null,
   "metadata": {},
   "outputs": [],
   "source": [
    "get_batch('ae.h5', 'batch_0.pkl', 'df_valid.pkl', 'isic_2017_validacao/', 25, 100, encode = True)"
   ]
  },
  {
   "cell_type": "code",
   "execution_count": null,
   "metadata": {},
   "outputs": [],
   "source": [
    "get_batch('ae.h5', 'batch_1.pkl', 'df_valid.pkl', 'isic_2017_validacao/', 25, 100, encode = True)"
   ]
  },
  {
   "cell_type": "code",
   "execution_count": null,
   "metadata": {},
   "outputs": [],
   "source": [
    "get_batch('ae.h5', 'batch_2.pkl', 'df_valid.pkl', 'isic_2017_validacao/', 25, 100, encode = True)"
   ]
  },
  {
   "cell_type": "code",
   "execution_count": null,
   "metadata": {},
   "outputs": [],
   "source": [
    "get_batch('ae.h5', 'batch_3.pkl', 'df_valid.pkl', 'isic_2017_validacao/', 25, 100, encode = True)"
   ]
  },
  {
   "cell_type": "code",
   "execution_count": null,
   "metadata": {},
   "outputs": [],
   "source": [
    "get_batch('ae.h5', 'batch_4.pkl', 'df_valid.pkl', 'isic_2017_validacao/', 25, 100, encode = True)"
   ]
  },
  {
   "cell_type": "code",
   "execution_count": null,
   "metadata": {},
   "outputs": [],
   "source": [
    "# aqui, o encoder ('model') está pronto"
   ]
  },
  {
   "cell_type": "code",
   "execution_count": 44,
   "metadata": {},
   "outputs": [],
   "source": [
    "autoencoder = load_model('ae.h5')"
   ]
  },
  {
   "cell_type": "code",
   "execution_count": 48,
   "metadata": {},
   "outputs": [],
   "source": [
    "# neste notebook, são 5 batches ('batch_0' - 'batch_4')"
   ]
  },
  {
   "cell_type": "code",
   "execution_count": 49,
   "metadata": {},
   "outputs": [
    {
     "data": {
      "text/plain": [
       "'/media/leandro/2AC8-9C09/ISIC/treino/'"
      ]
     },
     "execution_count": 49,
     "metadata": {},
     "output_type": "execute_result"
    }
   ],
   "source": [
    "diretorio_treino"
   ]
  },
  {
   "cell_type": "code",
   "execution_count": 40,
   "metadata": {
    "scrolled": true
   },
   "outputs": [],
   "source": [
    "x_treino, y_treino = get_images_n_labels(df_treino, path = diretorio_treino)"
   ]
  },
  {
   "cell_type": "markdown",
   "metadata": {},
   "source": [
    "# este autoencoder foi ajustado?"
   ]
  },
  {
   "cell_type": "code",
   "execution_count": 51,
   "metadata": {},
   "outputs": [],
   "source": [
    "x_treino_cod = autoencoder.predict(x_treino)\n",
    "x_valid_cod = autoencoder.predict(x_valid)"
   ]
  },
  {
   "cell_type": "code",
   "execution_count": 52,
   "metadata": {},
   "outputs": [
    {
     "data": {
      "text/plain": [
       "((2379, 300, 300, 3), (60, 300, 300, 3))"
      ]
     },
     "execution_count": 52,
     "metadata": {},
     "output_type": "execute_result"
    }
   ],
   "source": [
    "x_treino_cod.shape, x_valid_cod.shape"
   ]
  },
  {
   "cell_type": "code",
   "execution_count": 54,
   "metadata": {},
   "outputs": [
    {
     "data": {
      "text/plain": [
       "<matplotlib.image.AxesImage at 0x7f767027a910>"
      ]
     },
     "execution_count": 54,
     "metadata": {},
     "output_type": "execute_result"
    },
    {
     "data": {
      "image/png": "[encoded data removed]",
      "text/plain": [
       "<Figure size 432x288 with 1 Axes>"
      ]
     },
     "metadata": {
      "needs_background": "light"
     },
     "output_type": "display_data"
    }
   ],
   "source": [
    "plt.imshow(x_treino_cod[0])"
   ]
  },
  {
   "cell_type": "code",
   "execution_count": 56,
   "metadata": {},
   "outputs": [
    {
     "data": {
      "text/plain": [
       "<matplotlib.image.AxesImage at 0x7f76686f9fd0>"
      ]
     },
     "execution_count": 56,
     "metadata": {},
     "output_type": "execute_result"
    },
    {
     "data": {
      "image/png": "[encoded data removed]",
      "text/plain": [
       "<Figure size 432x288 with 1 Axes>"
      ]
     },
     "metadata": {
      "needs_background": "light"
     },
     "output_type": "display_data"
    }
   ],
   "source": [
    "plt.imshow(x_valid_cod[0])"
   ]
  },
  {
   "cell_type": "markdown",
   "metadata": {},
   "source": [
    "# rede primaria"
   ]
  },
  {
   "cell_type": "code",
   "execution_count": 57,
   "metadata": {},
   "outputs": [],
   "source": [
    "cnn_i, cnn_j, cnn_chnls = 300, 300, 3\n",
    "\n",
    "cnn = Sequential()\n",
    "cnn.add(Conv2D(50, (3, 3), input_shape = (cnn_i, cnn_j, cnn_chnls), activation = 'relu'))\n",
    "cnn.add(Conv2D(50, (3, 3), activation = 'relu'))\n",
    "cnn.add(MaxPool2D((2, 2)))\n",
    "cnn.add(Conv2D(50, (3, 3), activation = 'relu'))\n",
    "cnn.add(Conv2D(50, (3, 3), activation = 'relu'))\n",
    "cnn.add(AvgPool2D((2, 2)))\n",
    "cnn.add(Conv2D(50, (3, 3), activation = 'relu'))\n",
    "cnn.add(BatchNormalization())\n",
    "cnn.add(AvgPool2D((2, 2)))\n",
    "cnn.add(Flatten())\n",
    "cnn.add(Dense(25, activation = 'relu', kernel_regularizer = l2(0.05)))\n",
    "cnn.add(Dropout(0.2))\n",
    "cnn.add(Dense(25, activation = 'relu', kernel_regularizer = l2(0.05)))\n",
    "cnn.add(BatchNormalization())\n",
    "cnn.add(Dropout(0.2))\n",
    "cnn.add(Dense(25, activation = 'relu', kernel_regularizer = l2(0.05)))\n",
    "cnn.add(Dropout(0.2))\n",
    "cnn.add(Dense(25, activation = 'relu', kernel_regularizer = l2(0.05)))\n",
    "cnn.add(Dense(1, activation = 'relu'))\n",
    "        \n",
    "cnn.compile(loss = 'binary_crossentropy', optimizer = RMSprop(learning_rate = 0.001))\n",
    "\n",
    "es = EarlyStopping(monitor = 'loss', patience = 5) "
   ]
  },
  {
   "cell_type": "code",
   "execution_count": 58,
   "metadata": {},
   "outputs": [
    {
     "name": "stdout",
     "output_type": "stream",
     "text": [
      "Model: \"sequential\"\n",
      "_________________________________________________________________\n",
      "Layer (type)                 Output Shape              Param #   \n",
      "=================================================================\n",
      "conv2d_7 (Conv2D)            (None, 298, 298, 50)      1400      \n",
      "_________________________________________________________________\n",
      "conv2d_8 (Conv2D)            (None, 296, 296, 50)      22550     \n",
      "_________________________________________________________________\n",
      "max_pooling2d_2 (MaxPooling2 (None, 148, 148, 50)      0         \n",
      "_________________________________________________________________\n",
      "conv2d_9 (Conv2D)            (None, 146, 146, 50)      22550     \n",
      "_________________________________________________________________\n",
      "conv2d_10 (Conv2D)           (None, 144, 144, 50)      22550     \n",
      "_________________________________________________________________\n",
      "average_pooling2d (AveragePo (None, 72, 72, 50)        0         \n",
      "_________________________________________________________________\n",
      "conv2d_11 (Conv2D)           (None, 70, 70, 50)        22550     \n",
      "_________________________________________________________________\n",
      "batch_normalization (BatchNo (None, 70, 70, 50)        200       \n",
      "_________________________________________________________________\n",
      "average_pooling2d_1 (Average (None, 35, 35, 50)        0         \n",
      "_________________________________________________________________\n",
      "flatten_1 (Flatten)          (None, 61250)             0         \n",
      "_________________________________________________________________\n",
      "dense_1 (Dense)              (None, 25)                1531275   \n",
      "_________________________________________________________________\n",
      "dropout (Dropout)            (None, 25)                0         \n",
      "_________________________________________________________________\n",
      "dense_2 (Dense)              (None, 25)                650       \n",
      "_________________________________________________________________\n",
      "batch_normalization_1 (Batch (None, 25)                100       \n",
      "_________________________________________________________________\n",
      "dropout_1 (Dropout)          (None, 25)                0         \n",
      "_________________________________________________________________\n",
      "dense_3 (Dense)              (None, 25)                650       \n",
      "_________________________________________________________________\n",
      "dropout_2 (Dropout)          (None, 25)                0         \n",
      "_________________________________________________________________\n",
      "dense_4 (Dense)              (None, 25)                650       \n",
      "_________________________________________________________________\n",
      "dense_5 (Dense)              (None, 1)                 26        \n",
      "=================================================================\n",
      "Total params: 1,625,151\n",
      "Trainable params: 1,625,001\n",
      "Non-trainable params: 150\n",
      "_________________________________________________________________\n"
     ]
    }
   ],
   "source": [
    "cnn.summary()"
   ]
  },
  {
   "cell_type": "code",
   "execution_count": 59,
   "metadata": {},
   "outputs": [],
   "source": [
    "batch_size = 100"
   ]
  },
  {
   "cell_type": "markdown",
   "metadata": {},
   "source": [
    "# Rede com o encoder"
   ]
  },
  {
   "cell_type": "markdown",
   "metadata": {},
   "source": [
    "# Testaremos o encoder inteiro nessa primeira rede para ver se ele dá algum ganho preditivo em relação ao modelo sem encoder"
   ]
  },
  {
   "cell_type": "code",
   "execution_count": 61,
   "metadata": {},
   "outputs": [
    {
     "name": "stdout",
     "output_type": "stream",
     "text": [
      "Epoch 1/100\n",
      "75/75 [==============================] - 542s 7s/step - loss: 7.2929 - val_loss: 4.1658\n",
      "Epoch 2/100\n",
      "75/75 [==============================] - 525s 7s/step - loss: 4.5573 - val_loss: 3.3255\n",
      "Epoch 3/100\n",
      "75/75 [==============================] - 523s 7s/step - loss: 3.6478 - val_loss: 2.9830\n",
      "Epoch 4/100\n",
      "75/75 [==============================] - 521s 7s/step - loss: 2.9755 - val_loss: 2.4990\n",
      "Epoch 5/100\n",
      "75/75 [==============================] - 504s 7s/step - loss: 2.5327 - val_loss: 2.1962\n",
      "Epoch 6/100\n",
      "75/75 [==============================] - 494s 7s/step - loss: 1.9167 - val_loss: 1.7699\n",
      "Epoch 7/100\n",
      "75/75 [==============================] - 492s 7s/step - loss: 1.4936 - val_loss: 1.3402\n",
      "Epoch 8/100\n",
      "75/75 [==============================] - 492s 7s/step - loss: 1.1983 - val_loss: 1.1949\n",
      "Epoch 9/100\n",
      "75/75 [==============================] - 491s 7s/step - loss: 1.0529 - val_loss: 0.9803\n",
      "Epoch 10/100\n",
      "75/75 [==============================] - 497s 7s/step - loss: 0.8804 - val_loss: 0.8552\n",
      "Epoch 11/100\n",
      "75/75 [==============================] - 488s 7s/step - loss: 0.7869 - val_loss: 0.8292\n",
      "Epoch 12/100\n",
      "75/75 [==============================] - 499s 7s/step - loss: 0.7683 - val_loss: 0.7968\n",
      "Epoch 13/100\n",
      "75/75 [==============================] - 497s 7s/step - loss: 0.7532 - val_loss: 0.7614\n",
      "Epoch 14/100\n",
      "75/75 [==============================] - 502s 7s/step - loss: 0.7437 - val_loss: 2.3825\n",
      "Epoch 15/100\n",
      "75/75 [==============================] - 491s 7s/step - loss: 0.7164 - val_loss: 0.9194\n",
      "Epoch 16/100\n",
      "75/75 [==============================] - 490s 7s/step - loss: 0.7136 - val_loss: 0.9142\n",
      "Epoch 17/100\n",
      "75/75 [==============================] - 491s 7s/step - loss: 0.7476 - val_loss: 0.8595\n",
      "Epoch 18/100\n",
      "75/75 [==============================] - 491s 7s/step - loss: 0.6976 - val_loss: 1.0345\n"
     ]
    },
    {
     "data": {
      "text/plain": [
       "<tensorflow.python.keras.callbacks.History at 0x7f75bd3b9310>"
      ]
     },
     "execution_count": 61,
     "metadata": {},
     "output_type": "execute_result"
    }
   ],
   "source": [
    "es = EarlyStopping(patience = 5, restore_best_weights = True)\n",
    "\n",
    "cnn.fit(x_treino_cod, y_treino, \n",
    "             epochs = 100,\n",
    "             validation_data = (x_valid_cod, y_valid),\n",
    "             callbacks = [es])"
   ]
  },
  {
   "cell_type": "code",
   "execution_count": 62,
   "metadata": {},
   "outputs": [],
   "source": [
    "y_treino_pred = cnn.predict(x_treino_cod)"
   ]
  },
  {
   "cell_type": "code",
   "execution_count": 64,
   "metadata": {},
   "outputs": [
    {
     "data": {
      "text/plain": [
       "0.7878179204437352"
      ]
     },
     "execution_count": 64,
     "metadata": {},
     "output_type": "execute_result"
    }
   ],
   "source": [
    "roc_auc_score(y_treino, y_treino_pred)"
   ]
  },
  {
   "cell_type": "markdown",
   "metadata": {},
   "source": [
    "# Rede sem o encoder"
   ]
  },
  {
   "cell_type": "code",
   "execution_count": 65,
   "metadata": {},
   "outputs": [
    {
     "name": "stdout",
     "output_type": "stream",
     "text": [
      "Epoch 1/100\n",
      "75/75 [==============================] - 494s 7s/step - loss: 0.7654 - val_loss: 4.0895\n",
      "Epoch 2/100\n",
      "75/75 [==============================] - 491s 7s/step - loss: 0.7845 - val_loss: 1.2205\n",
      "Epoch 3/100\n",
      "75/75 [==============================] - 501s 7s/step - loss: 0.7351 - val_loss: 1.1920\n",
      "Epoch 4/100\n",
      "75/75 [==============================] - 492s 7s/step - loss: 0.7375 - val_loss: 5.2102\n",
      "Epoch 5/100\n",
      "75/75 [==============================] - 495s 7s/step - loss: 0.8029 - val_loss: 1.2600\n",
      "Epoch 6/100\n",
      "75/75 [==============================] - 498s 7s/step - loss: 0.7242 - val_loss: 2.5924\n",
      "Epoch 7/100\n",
      "75/75 [==============================] - 500s 7s/step - loss: 0.7948 - val_loss: 1.0614\n",
      "Epoch 8/100\n",
      "75/75 [==============================] - 488s 7s/step - loss: 0.7423 - val_loss: 1.0958\n",
      "Epoch 9/100\n",
      "75/75 [==============================] - 487s 6s/step - loss: 0.7310 - val_loss: 0.9955\n",
      "Epoch 10/100\n",
      "75/75 [==============================] - 487s 6s/step - loss: 0.6975 - val_loss: 1.4554\n",
      "Epoch 11/100\n",
      "75/75 [==============================] - 487s 6s/step - loss: 0.6908 - val_loss: 1.5211\n",
      "Epoch 12/100\n",
      "75/75 [==============================] - 488s 7s/step - loss: 0.6854 - val_loss: 1.5460\n",
      "Epoch 13/100\n",
      "75/75 [==============================] - 500s 7s/step - loss: 0.6795 - val_loss: 1.1690\n",
      "Epoch 14/100\n",
      "75/75 [==============================] - 497s 7s/step - loss: 0.6726 - val_loss: 1.2552\n"
     ]
    },
    {
     "data": {
      "text/plain": [
       "<tensorflow.python.keras.callbacks.History at 0x7f75b7cb4610>"
      ]
     },
     "execution_count": 65,
     "metadata": {},
     "output_type": "execute_result"
    }
   ],
   "source": [
    "es = EarlyStopping(patience = 5, restore_best_weights = True)\n",
    "\n",
    "cnn.fit(x_treino, y_treino, \n",
    "             epochs = 100,\n",
    "             validation_data = (x_valid, y_valid),\n",
    "             callbacks = [es])"
   ]
  },
  {
   "cell_type": "code",
   "execution_count": 66,
   "metadata": {},
   "outputs": [],
   "source": [
    "y_treino_pred = cnn.predict(x_treino)"
   ]
  },
  {
   "cell_type": "code",
   "execution_count": 67,
   "metadata": {},
   "outputs": [
    {
     "data": {
      "text/plain": [
       "0.7544713470511655"
      ]
     },
     "execution_count": 67,
     "metadata": {},
     "output_type": "execute_result"
    }
   ],
   "source": [
    "roc_auc_score(y_treino, y_treino_pred)"
   ]
  },
  {
   "cell_type": "markdown",
   "metadata": {},
   "source": [
    "# salvando o gargalo"
   ]
  },
  {
   "cell_type": "code",
   "execution_count": 45,
   "metadata": {},
   "outputs": [],
   "source": [
    "encoder = Model(inputs = autoencoder.input, outputs = autoencoder.get_layer('gargalo').output)\n",
    "encoder.save('gargalo.h5')"
   ]
  },
  {
   "cell_type": "markdown",
   "metadata": {},
   "source": [
    "# Complexificando a rede"
   ]
  },
  {
   "cell_type": "code",
   "execution_count": 47,
   "metadata": {},
   "outputs": [],
   "source": [
    "x_treino_cod = encoder.predict(x_treino)\n",
    "x_valid_cod = encoder.predict(x_valid)"
   ]
  },
  {
   "cell_type": "code",
   "execution_count": 52,
   "metadata": {},
   "outputs": [
    {
     "data": {
      "text/plain": [
       "(2379, 60)"
      ]
     },
     "execution_count": 52,
     "metadata": {},
     "output_type": "execute_result"
    }
   ],
   "source": [
    "x_treino_cod.shape"
   ]
  },
  {
   "cell_type": "markdown",
   "metadata": {},
   "source": [
    "## Com o encoder"
   ]
  },
  {
   "cell_type": "code",
   "execution_count": 53,
   "metadata": {},
   "outputs": [
    {
     "ename": "ValueError",
     "evalue": "Input 0 of layer conv2d_7 is incompatible with the layer: expected ndim=4, found ndim=3. Full shape received: [None, 2379, 60]",
     "output_type": "error",
     "traceback": [
      "\u001b[0;31m---------------------------------------------------------------------------\u001b[0m",
      "\u001b[0;31mValueError\u001b[0m                                Traceback (most recent call last)",
      "\u001b[0;32m<ipython-input-53-b24ffd0ff2a0>\u001b[0m in \u001b[0;36m<module>\u001b[0;34m\u001b[0m\n\u001b[1;32m      2\u001b[0m \u001b[0;34m\u001b[0m\u001b[0m\n\u001b[1;32m      3\u001b[0m \u001b[0mcnn\u001b[0m \u001b[0;34m=\u001b[0m \u001b[0mSequential\u001b[0m\u001b[0;34m(\u001b[0m\u001b[0;34m)\u001b[0m\u001b[0;34m\u001b[0m\u001b[0;34m\u001b[0m\u001b[0m\n\u001b[0;32m----> 4\u001b[0;31m \u001b[0mcnn\u001b[0m\u001b[0;34m.\u001b[0m\u001b[0madd\u001b[0m\u001b[0;34m(\u001b[0m\u001b[0mConv2D\u001b[0m\u001b[0;34m(\u001b[0m\u001b[0;36m100\u001b[0m\u001b[0;34m,\u001b[0m \u001b[0;34m(\u001b[0m\u001b[0;36m3\u001b[0m\u001b[0;34m,\u001b[0m \u001b[0;36m3\u001b[0m\u001b[0;34m)\u001b[0m\u001b[0;34m,\u001b[0m \u001b[0minput_shape\u001b[0m \u001b[0;34m=\u001b[0m \u001b[0;34m(\u001b[0m\u001b[0mcnn_i\u001b[0m\u001b[0;34m,\u001b[0m \u001b[0mcnn_j\u001b[0m\u001b[0;34m)\u001b[0m\u001b[0;34m,\u001b[0m \u001b[0mactivation\u001b[0m \u001b[0;34m=\u001b[0m \u001b[0;34m'relu'\u001b[0m\u001b[0;34m)\u001b[0m\u001b[0;34m)\u001b[0m\u001b[0;34m\u001b[0m\u001b[0;34m\u001b[0m\u001b[0m\n\u001b[0m\u001b[1;32m      5\u001b[0m \u001b[0mcnn\u001b[0m\u001b[0;34m.\u001b[0m\u001b[0madd\u001b[0m\u001b[0;34m(\u001b[0m\u001b[0mConv2D\u001b[0m\u001b[0;34m(\u001b[0m\u001b[0;36m50\u001b[0m\u001b[0;34m,\u001b[0m \u001b[0;34m(\u001b[0m\u001b[0;36m3\u001b[0m\u001b[0;34m,\u001b[0m \u001b[0;36m3\u001b[0m\u001b[0;34m)\u001b[0m\u001b[0;34m,\u001b[0m \u001b[0mactivation\u001b[0m \u001b[0;34m=\u001b[0m \u001b[0;34m'relu'\u001b[0m\u001b[0;34m)\u001b[0m\u001b[0;34m)\u001b[0m\u001b[0;34m\u001b[0m\u001b[0;34m\u001b[0m\u001b[0m\n\u001b[1;32m      6\u001b[0m \u001b[0mcnn\u001b[0m\u001b[0;34m.\u001b[0m\u001b[0madd\u001b[0m\u001b[0;34m(\u001b[0m\u001b[0mMaxPool2D\u001b[0m\u001b[0;34m(\u001b[0m\u001b[0;34m(\u001b[0m\u001b[0;36m2\u001b[0m\u001b[0;34m,\u001b[0m \u001b[0;36m2\u001b[0m\u001b[0;34m)\u001b[0m\u001b[0;34m)\u001b[0m\u001b[0;34m)\u001b[0m\u001b[0;34m\u001b[0m\u001b[0;34m\u001b[0m\u001b[0m\n",
      "\u001b[0;32m~/anaconda3/lib/python3.8/site-packages/tensorflow/python/training/tracking/base.py\u001b[0m in \u001b[0;36m_method_wrapper\u001b[0;34m(self, *args, **kwargs)\u001b[0m\n\u001b[1;32m    454\u001b[0m     \u001b[0mself\u001b[0m\u001b[0;34m.\u001b[0m\u001b[0m_self_setattr_tracking\u001b[0m \u001b[0;34m=\u001b[0m \u001b[0;32mFalse\u001b[0m  \u001b[0;31m# pylint: disable=protected-access\u001b[0m\u001b[0;34m\u001b[0m\u001b[0;34m\u001b[0m\u001b[0m\n\u001b[1;32m    455\u001b[0m     \u001b[0;32mtry\u001b[0m\u001b[0;34m:\u001b[0m\u001b[0;34m\u001b[0m\u001b[0;34m\u001b[0m\u001b[0m\n\u001b[0;32m--> 456\u001b[0;31m       \u001b[0mresult\u001b[0m \u001b[0;34m=\u001b[0m \u001b[0mmethod\u001b[0m\u001b[0;34m(\u001b[0m\u001b[0mself\u001b[0m\u001b[0;34m,\u001b[0m \u001b[0;34m*\u001b[0m\u001b[0margs\u001b[0m\u001b[0;34m,\u001b[0m \u001b[0;34m**\u001b[0m\u001b[0mkwargs\u001b[0m\u001b[0;34m)\u001b[0m\u001b[0;34m\u001b[0m\u001b[0;34m\u001b[0m\u001b[0m\n\u001b[0m\u001b[1;32m    457\u001b[0m     \u001b[0;32mfinally\u001b[0m\u001b[0;34m:\u001b[0m\u001b[0;34m\u001b[0m\u001b[0;34m\u001b[0m\u001b[0m\n\u001b[1;32m    458\u001b[0m       \u001b[0mself\u001b[0m\u001b[0;34m.\u001b[0m\u001b[0m_self_setattr_tracking\u001b[0m \u001b[0;34m=\u001b[0m \u001b[0mprevious_value\u001b[0m  \u001b[0;31m# pylint: disable=protected-access\u001b[0m\u001b[0;34m\u001b[0m\u001b[0;34m\u001b[0m\u001b[0m\n",
      "\u001b[0;32m~/anaconda3/lib/python3.8/site-packages/tensorflow/python/keras/engine/sequential.py\u001b[0m in \u001b[0;36madd\u001b[0;34m(self, layer)\u001b[0m\n\u001b[1;32m    196\u001b[0m           \u001b[0;31m# and create the node connecting the current layer\u001b[0m\u001b[0;34m\u001b[0m\u001b[0;34m\u001b[0m\u001b[0;34m\u001b[0m\u001b[0m\n\u001b[1;32m    197\u001b[0m           \u001b[0;31m# to the input layer we just created.\u001b[0m\u001b[0;34m\u001b[0m\u001b[0;34m\u001b[0m\u001b[0;34m\u001b[0m\u001b[0m\n\u001b[0;32m--> 198\u001b[0;31m           \u001b[0mlayer\u001b[0m\u001b[0;34m(\u001b[0m\u001b[0mx\u001b[0m\u001b[0;34m)\u001b[0m\u001b[0;34m\u001b[0m\u001b[0;34m\u001b[0m\u001b[0m\n\u001b[0m\u001b[1;32m    199\u001b[0m           \u001b[0mset_inputs\u001b[0m \u001b[0;34m=\u001b[0m \u001b[0;32mTrue\u001b[0m\u001b[0;34m\u001b[0m\u001b[0;34m\u001b[0m\u001b[0m\n\u001b[1;32m    200\u001b[0m \u001b[0;34m\u001b[0m\u001b[0m\n",
      "\u001b[0;32m~/anaconda3/lib/python3.8/site-packages/tensorflow/python/keras/engine/base_layer.py\u001b[0m in \u001b[0;36m__call__\u001b[0;34m(self, *args, **kwargs)\u001b[0m\n\u001b[1;32m    883\u001b[0m         \u001b[0;31m# TODO(reedwm): We should assert input compatibility after the inputs\u001b[0m\u001b[0;34m\u001b[0m\u001b[0;34m\u001b[0m\u001b[0;34m\u001b[0m\u001b[0m\n\u001b[1;32m    884\u001b[0m         \u001b[0;31m# are casted, not before.\u001b[0m\u001b[0;34m\u001b[0m\u001b[0;34m\u001b[0m\u001b[0;34m\u001b[0m\u001b[0m\n\u001b[0;32m--> 885\u001b[0;31m         input_spec.assert_input_compatibility(self.input_spec, inputs,\n\u001b[0m\u001b[1;32m    886\u001b[0m                                               self.name)\n\u001b[1;32m    887\u001b[0m         if (any(isinstance(x, ragged_tensor.RaggedTensor) for x in input_list)\n",
      "\u001b[0;32m~/anaconda3/lib/python3.8/site-packages/tensorflow/python/keras/engine/input_spec.py\u001b[0m in \u001b[0;36massert_input_compatibility\u001b[0;34m(input_spec, inputs, layer_name)\u001b[0m\n\u001b[1;32m    174\u001b[0m       \u001b[0mndim\u001b[0m \u001b[0;34m=\u001b[0m \u001b[0mx\u001b[0m\u001b[0;34m.\u001b[0m\u001b[0mshape\u001b[0m\u001b[0;34m.\u001b[0m\u001b[0mndims\u001b[0m\u001b[0;34m\u001b[0m\u001b[0;34m\u001b[0m\u001b[0m\n\u001b[1;32m    175\u001b[0m       \u001b[0;32mif\u001b[0m \u001b[0mndim\u001b[0m \u001b[0;34m!=\u001b[0m \u001b[0mspec\u001b[0m\u001b[0;34m.\u001b[0m\u001b[0mndim\u001b[0m\u001b[0;34m:\u001b[0m\u001b[0;34m\u001b[0m\u001b[0;34m\u001b[0m\u001b[0m\n\u001b[0;32m--> 176\u001b[0;31m         raise ValueError('Input ' + str(input_index) + ' of layer ' +\n\u001b[0m\u001b[1;32m    177\u001b[0m                          \u001b[0mlayer_name\u001b[0m \u001b[0;34m+\u001b[0m \u001b[0;34m' is incompatible with the layer: '\u001b[0m\u001b[0;34m\u001b[0m\u001b[0;34m\u001b[0m\u001b[0m\n\u001b[1;32m    178\u001b[0m                          \u001b[0;34m'expected ndim='\u001b[0m \u001b[0;34m+\u001b[0m \u001b[0mstr\u001b[0m\u001b[0;34m(\u001b[0m\u001b[0mspec\u001b[0m\u001b[0;34m.\u001b[0m\u001b[0mndim\u001b[0m\u001b[0;34m)\u001b[0m \u001b[0;34m+\u001b[0m \u001b[0;34m', found ndim='\u001b[0m \u001b[0;34m+\u001b[0m\u001b[0;34m\u001b[0m\u001b[0;34m\u001b[0m\u001b[0m\n",
      "\u001b[0;31mValueError\u001b[0m: Input 0 of layer conv2d_7 is incompatible with the layer: expected ndim=4, found ndim=3. Full shape received: [None, 2379, 60]"
     ]
    }
   ],
   "source": [
    "cnn_i, cnn_j = 2379, 60\n",
    "\n",
    "cnn = Sequential()\n",
    "cnn.add(Conv2D(100, (3, 3), input_shape = (cnn_i, cnn_j), activation = 'relu'))\n",
    "cnn.add(Conv2D(50, (3, 3), activation = 'relu'))\n",
    "cnn.add(MaxPool2D((2, 2)))\n",
    "cnn.add(Conv2D(50, (3, 3), activation = 'relu'))\n",
    "cnn.add(Conv2D(50, (3, 3), activation = 'relu'))\n",
    "cnn.add(AvgPool2D((2, 2)))\n",
    "cnn.add(Conv2D(100, (3, 3), activation = 'relu'))\n",
    "cnn.add(BatchNormalization())\n",
    "cnn.add(AvgPool2D((2, 2)))\n",
    "cnn.add(Flatten())\n",
    "cnn.add(Dense(25, activation = 'relu', kernel_regularizer = l2(0.05)))\n",
    "cnn.add(Dropout(0.2))\n",
    "cnn.add(Dense(150, activation = 'relu', kernel_regularizer = l2(0.05)))\n",
    "cnn.add(BatchNormalization())\n",
    "cnn.add(Dropout(0.2))\n",
    "cnn.add(Dense(150, activation = 'relu', kernel_regularizer = l2(0.05)))\n",
    "cnn.add(Dropout(0.2))\n",
    "cnn.add(Dense(100, activation = 'relu', kernel_regularizer = l2(0.05)))\n",
    "cnn.add(Dense(1, activation = 'relu'))\n",
    "        \n",
    "cnn.compile(loss = 'binary_crossentropy', optimizer = RMSprop(learning_rate = 0.001))\n",
    "\n",
    "es = EarlyStopping(monitor = 'loss', patience = 5) "
   ]
  },
  {
   "cell_type": "code",
   "execution_count": null,
   "metadata": {},
   "outputs": [],
   "source": [
    "es = EarlyStopping(patience = 5, restore_best_weights = True)\n",
    "\n",
    "cnn.fit(x_treino_cod, y_treino, \n",
    "             epochs = 100,\n",
    "             validation_data = (x_valid_cod, y_valid),\n",
    "             callbacks = [es])"
   ]
  },
  {
   "cell_type": "code",
   "execution_count": 62,
   "metadata": {},
   "outputs": [],
   "source": [
    "y_treino_pred = cnn.predict(x_treino_cod)"
   ]
  },
  {
   "cell_type": "code",
   "execution_count": 64,
   "metadata": {},
   "outputs": [
    {
     "data": {
      "text/plain": [
       "0.7878179204437352"
      ]
     },
     "execution_count": 64,
     "metadata": {},
     "output_type": "execute_result"
    }
   ],
   "source": [
    "roc_auc_score(y_treino, y_treino_pred)"
   ]
  },
  {
   "cell_type": "code",
   "execution_count": null,
   "metadata": {},
   "outputs": [],
   "source": []
  },
  {
   "cell_type": "code",
   "execution_count": null,
   "metadata": {},
   "outputs": [],
   "source": []
  },
  {
   "cell_type": "code",
   "execution_count": null,
   "metadata": {},
   "outputs": [],
   "source": []
  },
  {
   "cell_type": "markdown",
   "metadata": {},
   "source": [
    "# Sem o encoder"
   ]
  },
  {
   "cell_type": "code",
   "execution_count": 67,
   "metadata": {},
   "outputs": [],
   "source": [
    "cnn_i, cnn_j, cnn_chnls = 300, 300, 3\n",
    "\n",
    "cnn = Sequential()\n",
    "cnn.add(Conv2D(100, (3, 3), input_shape = (cnn_i, cnn_j, cnn_chnls), activation = 'relu'))\n",
    "cnn.add(Conv2D(50, (3, 3), activation = 'relu'))\n",
    "cnn.add(MaxPool2D((2, 2)))\n",
    "cnn.add(Conv2D(50, (3, 3), activation = 'relu'))\n",
    "cnn.add(Conv2D(50, (3, 3), activation = 'relu'))\n",
    "cnn.add(AvgPool2D((2, 2)))\n",
    "cnn.add(Conv2D(100, (3, 3), activation = 'relu'))\n",
    "cnn.add(BatchNormalization())\n",
    "cnn.add(AvgPool2D((2, 2)))\n",
    "cnn.add(Flatten())\n",
    "cnn.add(Dense(25, activation = 'relu', kernel_regularizer = l2(0.05)))\n",
    "cnn.add(Dropout(0.2))\n",
    "cnn.add(Dense(150, activation = 'relu', kernel_regularizer = l2(0.05)))\n",
    "cnn.add(BatchNormalization())\n",
    "cnn.add(Dropout(0.2))\n",
    "cnn.add(Dense(150, activation = 'relu', kernel_regularizer = l2(0.05)))\n",
    "cnn.add(Dropout(0.2))\n",
    "cnn.add(Dense(100, activation = 'relu', kernel_regularizer = l2(0.05)))\n",
    "cnn.add(Dense(1, activation = 'relu'))\n",
    "        \n",
    "cnn.compile(loss = 'binary_crossentropy', optimizer = RMSprop(learning_rate = 0.001))\n",
    "\n",
    "es = EarlyStopping(monitor = 'loss', patience = 5) "
   ]
  },
  {
   "cell_type": "code",
   "execution_count": 68,
   "metadata": {},
   "outputs": [
    {
     "name": "stdout",
     "output_type": "stream",
     "text": [
      "Model: \"sequential_4\"\n",
      "_________________________________________________________________\n",
      "Layer (type)                 Output Shape              Param #   \n",
      "=================================================================\n",
      "conv2d_32 (Conv2D)           (None, 298, 298, 100)     2800      \n",
      "_________________________________________________________________\n",
      "conv2d_33 (Conv2D)           (None, 296, 296, 50)      45050     \n",
      "_________________________________________________________________\n",
      "max_pooling2d_5 (MaxPooling2 (None, 148, 148, 50)      0         \n",
      "_________________________________________________________________\n",
      "conv2d_34 (Conv2D)           (None, 146, 146, 50)      22550     \n",
      "_________________________________________________________________\n",
      "conv2d_35 (Conv2D)           (None, 144, 144, 50)      22550     \n",
      "_________________________________________________________________\n",
      "average_pooling2d_6 (Average (None, 72, 72, 50)        0         \n",
      "_________________________________________________________________\n",
      "conv2d_36 (Conv2D)           (None, 70, 70, 100)       45100     \n",
      "_________________________________________________________________\n",
      "batch_normalization_12 (Batc (None, 70, 70, 100)       400       \n",
      "_________________________________________________________________\n",
      "average_pooling2d_7 (Average (None, 35, 35, 100)       0         \n",
      "_________________________________________________________________\n",
      "flatten_4 (Flatten)          (None, 122500)            0         \n",
      "_________________________________________________________________\n",
      "dense_25 (Dense)             (None, 25)                3062525   \n",
      "_________________________________________________________________\n",
      "dropout_15 (Dropout)         (None, 25)                0         \n",
      "_________________________________________________________________\n",
      "dense_26 (Dense)             (None, 150)               3900      \n",
      "_________________________________________________________________\n",
      "batch_normalization_13 (Batc (None, 150)               600       \n",
      "_________________________________________________________________\n",
      "dropout_16 (Dropout)         (None, 150)               0         \n",
      "_________________________________________________________________\n",
      "dense_27 (Dense)             (None, 150)               22650     \n",
      "_________________________________________________________________\n",
      "dropout_17 (Dropout)         (None, 150)               0         \n",
      "_________________________________________________________________\n",
      "dense_28 (Dense)             (None, 100)               15100     \n",
      "_________________________________________________________________\n",
      "dense_29 (Dense)             (None, 1)                 101       \n",
      "=================================================================\n",
      "Total params: 3,243,326\n",
      "Trainable params: 3,242,826\n",
      "Non-trainable params: 500\n",
      "_________________________________________________________________\n"
     ]
    }
   ],
   "source": [
    "cnn.summary()"
   ]
  },
  {
   "cell_type": "code",
   "execution_count": 69,
   "metadata": {},
   "outputs": [],
   "source": [
    "batch_size = 100"
   ]
  },
  {
   "cell_type": "code",
   "execution_count": 70,
   "metadata": {
    "scrolled": true
   },
   "outputs": [
    {
     "name": "stdout",
     "output_type": "stream",
     "text": [
      "Epoch 1/100\n",
      "75/75 [==============================] - 865s 12s/step - loss: 16.8028 - val_loss: 18.4377\n",
      "Epoch 2/100\n",
      "75/75 [==============================] - 817s 11s/step - loss: 11.5329 - val_loss: 16.1671\n",
      "Epoch 3/100\n",
      "75/75 [==============================] - 805s 11s/step - loss: 8.7762 - val_loss: 10.7186\n",
      "Epoch 4/100\n",
      "75/75 [==============================] - 815s 11s/step - loss: 6.3133 - val_loss: 12.1226\n",
      "Epoch 5/100\n",
      "75/75 [==============================] - 793s 11s/step - loss: 4.4743 - val_loss: 6.1139\n",
      "Epoch 6/100\n",
      "75/75 [==============================] - 794s 11s/step - loss: 3.1176 - val_loss: 2.3271\n",
      "Epoch 7/100\n",
      "75/75 [==============================] - 804s 11s/step - loss: 1.9175 - val_loss: 3.9498\n",
      "Epoch 8/100\n",
      "75/75 [==============================] - 807s 11s/step - loss: 1.2816 - val_loss: 1.3688\n",
      "Epoch 9/100\n",
      "75/75 [==============================] - 795s 11s/step - loss: 1.0344 - val_loss: 1.2685\n",
      "Epoch 10/100\n",
      "75/75 [==============================] - 807s 11s/step - loss: 0.9841 - val_loss: 0.8865\n",
      "Epoch 11/100\n",
      "75/75 [==============================] - 801s 11s/step - loss: 0.9428 - val_loss: 1.0672\n",
      "Epoch 12/100\n",
      "75/75 [==============================] - 796s 11s/step - loss: 0.9731 - val_loss: 0.9884\n",
      "Epoch 13/100\n",
      "75/75 [==============================] - 797s 11s/step - loss: 0.8844 - val_loss: 0.8083\n",
      "Epoch 14/100\n",
      "75/75 [==============================] - 798s 11s/step - loss: 0.8297 - val_loss: 1.4194\n",
      "Epoch 15/100\n",
      "75/75 [==============================] - 796s 11s/step - loss: 0.8022 - val_loss: 1.6914\n",
      "Epoch 16/100\n",
      "75/75 [==============================] - 813s 11s/step - loss: 0.7846 - val_loss: 2.7343\n",
      "Epoch 17/100\n",
      "75/75 [==============================] - 797s 11s/step - loss: 0.7678 - val_loss: 1.5390\n",
      "Epoch 18/100\n",
      "75/75 [==============================] - 797s 11s/step - loss: 0.7329 - val_loss: 1.1749\n"
     ]
    },
    {
     "data": {
      "text/plain": [
       "<tensorflow.python.keras.callbacks.History at 0x7f7125ef4520>"
      ]
     },
     "execution_count": 70,
     "metadata": {},
     "output_type": "execute_result"
    }
   ],
   "source": [
    "es = EarlyStopping(patience = 5, restore_best_weights = True)\n",
    "\n",
    "cnn.fit(x_treino, y_treino, \n",
    "             epochs = 100,\n",
    "             validation_data = (x_valid, y_valid),\n",
    "             callbacks = [es])"
   ]
  },
  {
   "cell_type": "code",
   "execution_count": 71,
   "metadata": {},
   "outputs": [],
   "source": [
    "y_treino_pred = cnn.predict(x_treino)"
   ]
  },
  {
   "cell_type": "code",
   "execution_count": 72,
   "metadata": {},
   "outputs": [
    {
     "data": {
      "text/plain": [
       "0.36031501917452713"
      ]
     },
     "execution_count": 72,
     "metadata": {},
     "output_type": "execute_result"
    }
   ],
   "source": [
    "roc_auc_score(y_treino, y_treino_pred)"
   ]
  },
  {
   "cell_type": "code",
   "execution_count": 73,
   "metadata": {},
   "outputs": [
    {
     "name": "stdout",
     "output_type": "stream",
     "text": [
      "WARNING:tensorflow:From /home/leandro/anaconda3/lib/python3.8/site-packages/tensorflow/python/ops/resource_variable_ops.py:1813: calling BaseResourceVariable.__init__ (from tensorflow.python.ops.resource_variable_ops) with constraint is deprecated and will be removed in a future version.\n",
      "Instructions for updating:\n",
      "If using Keras pass *_constraint arguments to layers.\n",
      "INFO:tensorflow:Assets written to: 2_rede_sem_encoder/assets\n"
     ]
    }
   ],
   "source": [
    "cnn.save(\"2_rede_sem_encoder\")"
   ]
  },
  {
   "cell_type": "markdown",
   "metadata": {},
   "source": [
    "# Terceira rede sem encoder"
   ]
  },
  {
   "cell_type": "code",
   "execution_count": 74,
   "metadata": {},
   "outputs": [],
   "source": [
    "cnn_i, cnn_j, cnn_chnls = 300, 300, 3\n",
    "\n",
    "cnn = Sequential()\n",
    "cnn.add(Conv2D(50, (3, 3), input_shape = (cnn_i, cnn_j, cnn_chnls), activation = 'relu'))\n",
    "cnn.add(Conv2D(50, (3, 3), activation = 'relu'))\n",
    "cnn.add(MaxPool2D((2, 2)))\n",
    "cnn.add(Conv2D(50, (3, 3), activation = 'relu'))\n",
    "cnn.add(AvgPool2D((2, 2)))\n",
    "cnn.add(Conv2D(50, (3, 3), activation = 'relu'))\n",
    "cnn.add(BatchNormalization())\n",
    "cnn.add(Conv2D(50, (3, 3), activation = 'relu'))\n",
    "cnn.add(Conv2D(50, (3, 3), activation = 'relu'))\n",
    "cnn.add(AvgPool2D((2, 2)))\n",
    "cnn.add(Conv2D(50, (3, 3), activation = 'relu'))\n",
    "cnn.add(BatchNormalization())\n",
    "cnn.add(Conv2D(50, (3, 3), activation = 'relu'))\n",
    "cnn.add(Flatten())\n",
    "cnn.add(Dense(10, activation = 'relu', kernel_regularizer = l2(0.05)))\n",
    "cnn.add(Dropout(0.2))\n",
    "cnn.add(Dense(300, activation = 'relu', kernel_regularizer = l2(0.05)))\n",
    "cnn.add(Dense(200, activation = 'relu', kernel_regularizer = l2(0.05)))\n",
    "cnn.add(BatchNormalization())\n",
    "cnn.add(Dropout(0.2))\n",
    "cnn.add(Dense(250, activation = 'relu', kernel_regularizer = l2(0.05)))\n",
    "cnn.add(Dropout(0.2))\n",
    "cnn.add(Dense(150, activation = 'relu', kernel_regularizer = l2(0.05)))\n",
    "cnn.add(BatchNormalization())\n",
    "cnn.add(Dropout(0.2))\n",
    "cnn.add(Dense(25, activation = 'relu', kernel_regularizer = l2(0.05)))\n",
    "cnn.add(Dropout(0.2))\n",
    "cnn.add(Dense(25, activation = 'relu', kernel_regularizer = l2(0.05)))\n",
    "cnn.add(Dense(1, activation = 'relu'))\n",
    "        \n",
    "cnn.compile(loss = 'binary_crossentropy', optimizer = RMSprop(learning_rate = 0.001))\n"
   ]
  },
  {
   "cell_type": "code",
   "execution_count": 75,
   "metadata": {},
   "outputs": [
    {
     "name": "stdout",
     "output_type": "stream",
     "text": [
      "Model: \"sequential_5\"\n",
      "_________________________________________________________________\n",
      "Layer (type)                 Output Shape              Param #   \n",
      "=================================================================\n",
      "conv2d_37 (Conv2D)           (None, 298, 298, 50)      1400      \n",
      "_________________________________________________________________\n",
      "conv2d_38 (Conv2D)           (None, 296, 296, 50)      22550     \n",
      "_________________________________________________________________\n",
      "max_pooling2d_6 (MaxPooling2 (None, 148, 148, 50)      0         \n",
      "_________________________________________________________________\n",
      "conv2d_39 (Conv2D)           (None, 146, 146, 50)      22550     \n",
      "_________________________________________________________________\n",
      "average_pooling2d_8 (Average (None, 73, 73, 50)        0         \n",
      "_________________________________________________________________\n",
      "conv2d_40 (Conv2D)           (None, 71, 71, 50)        22550     \n",
      "_________________________________________________________________\n",
      "batch_normalization_14 (Batc (None, 71, 71, 50)        200       \n",
      "_________________________________________________________________\n",
      "conv2d_41 (Conv2D)           (None, 69, 69, 50)        22550     \n",
      "_________________________________________________________________\n",
      "conv2d_42 (Conv2D)           (None, 67, 67, 50)        22550     \n",
      "_________________________________________________________________\n",
      "average_pooling2d_9 (Average (None, 33, 33, 50)        0         \n",
      "_________________________________________________________________\n",
      "conv2d_43 (Conv2D)           (None, 31, 31, 50)        22550     \n",
      "_________________________________________________________________\n",
      "batch_normalization_15 (Batc (None, 31, 31, 50)        200       \n",
      "_________________________________________________________________\n",
      "conv2d_44 (Conv2D)           (None, 29, 29, 50)        22550     \n",
      "_________________________________________________________________\n",
      "flatten_5 (Flatten)          (None, 42050)             0         \n",
      "_________________________________________________________________\n",
      "dense_30 (Dense)             (None, 10)                420510    \n",
      "_________________________________________________________________\n",
      "dropout_18 (Dropout)         (None, 10)                0         \n",
      "_________________________________________________________________\n",
      "dense_31 (Dense)             (None, 300)               3300      \n",
      "_________________________________________________________________\n",
      "dense_32 (Dense)             (None, 200)               60200     \n",
      "_________________________________________________________________\n",
      "batch_normalization_16 (Batc (None, 200)               800       \n",
      "_________________________________________________________________\n",
      "dropout_19 (Dropout)         (None, 200)               0         \n",
      "_________________________________________________________________\n",
      "dense_33 (Dense)             (None, 250)               50250     \n",
      "_________________________________________________________________\n",
      "dropout_20 (Dropout)         (None, 250)               0         \n",
      "_________________________________________________________________\n",
      "dense_34 (Dense)             (None, 150)               37650     \n",
      "_________________________________________________________________\n",
      "batch_normalization_17 (Batc (None, 150)               600       \n",
      "_________________________________________________________________\n",
      "dropout_21 (Dropout)         (None, 150)               0         \n",
      "_________________________________________________________________\n",
      "dense_35 (Dense)             (None, 25)                3775      \n",
      "_________________________________________________________________\n",
      "dropout_22 (Dropout)         (None, 25)                0         \n",
      "_________________________________________________________________\n",
      "dense_36 (Dense)             (None, 25)                650       \n",
      "_________________________________________________________________\n",
      "dense_37 (Dense)             (None, 1)                 26        \n",
      "=================================================================\n",
      "Total params: 737,411\n",
      "Trainable params: 736,511\n",
      "Non-trainable params: 900\n",
      "_________________________________________________________________\n"
     ]
    }
   ],
   "source": [
    "cnn.summary()"
   ]
  },
  {
   "cell_type": "code",
   "execution_count": 76,
   "metadata": {},
   "outputs": [],
   "source": [
    "batch_size = 100"
   ]
  },
  {
   "cell_type": "code",
   "execution_count": 77,
   "metadata": {
    "scrolled": true
   },
   "outputs": [
    {
     "name": "stdout",
     "output_type": "stream",
     "text": [
      "Epoch 1/100\n",
      "75/75 [==============================] - 492s 7s/step - loss: 32.8494 - val_loss: 31.9427\n",
      "Epoch 2/100\n",
      "75/75 [==============================] - 490s 7s/step - loss: 20.2678 - val_loss: 15.4807\n",
      "Epoch 3/100\n",
      "75/75 [==============================] - 491s 7s/step - loss: 12.5662 - val_loss: 14.6367\n",
      "Epoch 4/100\n",
      "75/75 [==============================] - 472s 6s/step - loss: 6.1602 - val_loss: 4.7260\n",
      "Epoch 5/100\n",
      "75/75 [==============================] - 472s 6s/step - loss: 2.4652 - val_loss: 1.7085\n",
      "Epoch 6/100\n",
      "75/75 [==============================] - 474s 6s/step - loss: 1.2626 - val_loss: 1.1134\n",
      "Epoch 7/100\n",
      "75/75 [==============================] - 470s 6s/step - loss: 0.9714 - val_loss: 1.0407\n",
      "Epoch 8/100\n",
      "75/75 [==============================] - 472s 6s/step - loss: 0.8143 - val_loss: 0.8254\n",
      "Epoch 9/100\n",
      "75/75 [==============================] - 486s 6s/step - loss: 0.7952 - val_loss: 0.8613\n",
      "Epoch 10/100\n",
      "75/75 [==============================] - 486s 6s/step - loss: 0.7882 - val_loss: 2.4143\n",
      "Epoch 11/100\n",
      "75/75 [==============================] - 474s 6s/step - loss: 0.8589 - val_loss: 1.1755\n",
      "Epoch 12/100\n",
      "75/75 [==============================] - 472s 6s/step - loss: 0.7421 - val_loss: 0.8836\n",
      "Epoch 13/100\n",
      "75/75 [==============================] - 471s 6s/step - loss: 0.7295 - val_loss: 0.7751\n",
      "Epoch 14/100\n",
      "75/75 [==============================] - 493s 7s/step - loss: 0.7276 - val_loss: 0.7698\n",
      "Epoch 15/100\n",
      "75/75 [==============================] - 474s 6s/step - loss: 0.6676 - val_loss: 0.7776\n",
      "Epoch 16/100\n",
      "75/75 [==============================] - 475s 6s/step - loss: 0.7300 - val_loss: 0.8511\n",
      "Epoch 17/100\n",
      "75/75 [==============================] - 477s 6s/step - loss: 0.6865 - val_loss: 6.7722\n",
      "Epoch 18/100\n",
      "75/75 [==============================] - 469s 6s/step - loss: 0.6704 - val_loss: 0.7556\n",
      "Epoch 19/100\n",
      "75/75 [==============================] - 474s 6s/step - loss: 0.6773 - val_loss: 0.8113\n",
      "Epoch 20/100\n",
      "75/75 [==============================] - 478s 6s/step - loss: 0.6859 - val_loss: 0.8391\n",
      "Epoch 21/100\n",
      "75/75 [==============================] - 477s 6s/step - loss: 0.6374 - val_loss: 0.7797\n",
      "Epoch 22/100\n",
      "75/75 [==============================] - 505s 7s/step - loss: 0.6790 - val_loss: 0.7914\n",
      "Epoch 23/100\n",
      "75/75 [==============================] - 495s 7s/step - loss: 0.6512 - val_loss: 0.8214\n"
     ]
    },
    {
     "data": {
      "text/plain": [
       "<tensorflow.python.keras.callbacks.History at 0x7f7124578bb0>"
      ]
     },
     "execution_count": 77,
     "metadata": {},
     "output_type": "execute_result"
    }
   ],
   "source": [
    "es = EarlyStopping(patience = 5, restore_best_weights = True)\n",
    "\n",
    "cnn.fit(x_treino, y_treino, \n",
    "             epochs = 100,\n",
    "             validation_data = (x_valid, y_valid),\n",
    "             callbacks = [es])"
   ]
  },
  {
   "cell_type": "code",
   "execution_count": null,
   "metadata": {},
   "outputs": [],
   "source": [
    "y_treino_pred = cnn.predict(x_treino)"
   ]
  },
  {
   "cell_type": "code",
   "execution_count": null,
   "metadata": {},
   "outputs": [],
   "source": [
    "roc_auc_score(y_treino, y_treino_pred)"
   ]
  },
  {
   "cell_type": "code",
   "execution_count": null,
   "metadata": {},
   "outputs": [],
   "source": [
    "cnn.save(\"3_rede_sem_encoder\")"
   ]
  },
  {
   "cell_type": "code",
   "execution_count": null,
   "metadata": {},
   "outputs": [],
   "source": []
  },
  {
   "cell_type": "code",
   "execution_count": null,
   "metadata": {},
   "outputs": [],
   "source": []
  },
  {
   "cell_type": "code",
   "execution_count": null,
   "metadata": {},
   "outputs": [],
   "source": []
  },
  {
   "cell_type": "markdown",
   "metadata": {},
   "source": [
    "# Quarta rede sem encoder"
   ]
  },
  {
   "cell_type": "code",
   "execution_count": null,
   "metadata": {},
   "outputs": [],
   "source": [
    "cnn_i, cnn_j, cnn_chnls = 300, 300, 3\n",
    "\n",
    "cnn = Sequential()\n",
    "cnn.add(Conv2D(350, (3, 3), input_shape = (cnn_i, cnn_j, cnn_chnls), activation = 'relu'))\n",
    "cnn.add(Conv2D(150, (3, 3), activation = 'relu'))\n",
    "cnn.add(MaxPool2D((2, 2)))\n",
    "cnn.add(Conv2D(50, (3, 3), activation = 'relu'))\n",
    "cnn.add(AvgPool2D((2, 2)))\n",
    "cnn.add(Conv2D(50, (3, 3), activation = 'relu'))\n",
    "cnn.add(BatchNormalization())\n",
    "cnn.add(Conv2D(50, (3, 3), activation = 'relu'))\n",
    "cnn.add(Conv2D(50, (3, 3), activation = 'relu'))\n",
    "cnn.add(AvgPool2D((2, 2)))\n",
    "cnn.add(Conv2D(50, (3, 3), activation = 'relu'))\n",
    "cnn.add(BatchNormalization())\n",
    "cnn.add(Conv2D(50, (3, 3), activation = 'relu'))\n",
    "cnn.add(Flatten())\n",
    "cnn.add(Dense(10, activation = 'relu', kernel_regularizer = l2(0.05)))\n",
    "cnn.add(Dropout(0.2))\n",
    "cnn.add(Dense(300, activation = 'relu', kernel_regularizer = l2(0.05)))\n",
    "cnn.add(Dense(200, activation = 'relu', kernel_regularizer = l2(0.05)))\n",
    "cnn.add(BatchNormalization())\n",
    "cnn.add(Dropout(0.2))\n",
    "cnn.add(Dense(250, activation = 'relu', kernel_regularizer = l2(0.05)))\n",
    "cnn.add(Dropout(0.2))\n",
    "cnn.add(Dense(200, activation = 'relu', kernel_regularizer = l2(0.05)))\n",
    "cnn.add(BatchNormalization())\n",
    "cnn.add(Dropout(0.2))\n",
    "cnn.add(Dense(25, activation = 'relu', kernel_regularizer = l2(0.05)))\n",
    "cnn.add(Dropout(0.2))\n",
    "cnn.add(Dense(25, activation = 'relu', kernel_regularizer = l2(0.05)))\n",
    "cnn.add(Dense(1, activation = 'relu'))\n",
    "        \n",
    "cnn.compile(loss = 'binary_crossentropy', optimizer = RMSprop(learning_rate = 0.001))\n"
   ]
  },
  {
   "cell_type": "code",
   "execution_count": null,
   "metadata": {},
   "outputs": [],
   "source": [
    "cnn.summary()"
   ]
  },
  {
   "cell_type": "code",
   "execution_count": null,
   "metadata": {},
   "outputs": [],
   "source": [
    "batch_size = 100"
   ]
  },
  {
   "cell_type": "code",
   "execution_count": null,
   "metadata": {
    "scrolled": true
   },
   "outputs": [],
   "source": [
    "es = EarlyStopping(patience = 5, restore_best_weights = True)\n",
    "\n",
    "cnn.fit(x_treino, y_treino, \n",
    "             epochs = 100,\n",
    "             validation_data = (x_valid, y_valid),\n",
    "             callbacks = [es])"
   ]
  },
  {
   "cell_type": "code",
   "execution_count": null,
   "metadata": {},
   "outputs": [],
   "source": [
    "y_treino_pred = cnn.predict(x_treino)"
   ]
  },
  {
   "cell_type": "code",
   "execution_count": null,
   "metadata": {},
   "outputs": [],
   "source": [
    "roc_auc_score(y_treino, y_treino_pred)"
   ]
  },
  {
   "cell_type": "code",
   "execution_count": null,
   "metadata": {},
   "outputs": [],
   "source": [
    "cnn.save(\"4_rede_sem_encoder\")"
   ]
  },
  {
   "cell_type": "code",
   "execution_count": null,
   "metadata": {},
   "outputs": [],
   "source": []
  }
 ],
 "metadata": {
  "kernelspec": {
   "display_name": "Python 3",
   "language": "python",
   "name": "python3"
  },
  "language_info": {
   "codemirror_mode": {
    "name": "ipython",
    "version": 3
   },
   "file_extension": ".py",
   "mimetype": "text/x-python",
   "name": "python",
   "nbconvert_exporter": "python",
   "pygments_lexer": "ipython3",
   "version": "3.8.5"
  }
 },
 "nbformat": 4,
 "nbformat_minor": 4
}
