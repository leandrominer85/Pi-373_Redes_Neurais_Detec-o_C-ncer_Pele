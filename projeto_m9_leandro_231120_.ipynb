{
 "cells": [
  {
   "cell_type": "code",
   "execution_count": 1,
   "metadata": {},
   "outputs": [],
   "source": [
    "from random import randint\n",
    "import os\n",
    "import shutil\n",
    "import cv2\n",
    "import numpy as np\n",
    "import matplotlib.pyplot as plt\n",
    "import pandas as pd\n",
    "import pickle\n",
    "from sklearn.metrics import accuracy_score , roc_auc_score\n",
    "from sklearn.model_selection import train_test_split\n",
    "from sklearn.preprocessing import MinMaxScaler, OneHotEncoder\n",
    "from tensorflow.keras import Sequential\n",
    "from tensorflow.keras.layers import Dense, Activation, Dropout, Conv2D, Input\n",
    "from tensorflow.keras.layers import Flatten, MaxPool2D, AvgPool2D\n",
    "from tensorflow.keras.layers import BatchNormalization, Reshape, UpSampling2D\n",
    "from tensorflow.keras.preprocessing.image import ImageDataGenerator\n",
    "from tensorflow.keras.regularizers import l2 \n",
    "from tensorflow.keras.callbacks import EarlyStopping\n",
    "from tensorflow.keras.optimizers import RMSprop\n",
    "from tensorflow.keras.models import Model, load_model\n",
    "\n",
    "from PIL import Image\n",
    "\n",
    "seed = 123"
   ]
  },
  {
   "cell_type": "markdown",
   "metadata": {},
   "source": [
    "## Tratamento, balanceamento e split de treino e teste de descritivos"
   ]
  },
  {
   "cell_type": "code",
   "execution_count": 2,
   "metadata": {},
   "outputs": [],
   "source": [
    "# Caminhos dos  csvs:\n",
    "treino_2018 =\"/media/leandro/84EE-B5FB/isic_2018_treino.csv\"\n",
    "treino_2017 =\"/media/leandro/84EE-B5FB/isic_2017_treino.csv\"\n",
    "teste = \"/media/leandro/84EE-B5FB/isic_2017_teste.csv\"\n",
    "validacao = \"/media/leandro/84EE-B5FB/isic_2017_validacao.csv\"\n"
   ]
  },
  {
   "cell_type": "code",
   "execution_count": 3,
   "metadata": {},
   "outputs": [],
   "source": [
    "# primeiramente, abrimos os descritivos dos dados de treino, a fim de analisar o balanceamento dos dados;\n",
    "# julgamos válido ajustar a rede a um conjunto de dados balanceado, assim, evitando enviesar a rede\n",
    "\n",
    "df_treino_2017 = pd.read_csv(treino_2017)\n",
    "df_treino_2018 = pd.read_csv(treino_2018)"
   ]
  },
  {
   "cell_type": "code",
   "execution_count": 4,
   "metadata": {},
   "outputs": [
    {
     "data": {
      "text/html": [
       "<div>\n",
       "<style scoped>\n",
       "    .dataframe tbody tr th:only-of-type {\n",
       "        vertical-align: middle;\n",
       "    }\n",
       "\n",
       "    .dataframe tbody tr th {\n",
       "        vertical-align: top;\n",
       "    }\n",
       "\n",
       "    .dataframe thead th {\n",
       "        text-align: right;\n",
       "    }\n",
       "</style>\n",
       "<table border=\"1\" class=\"dataframe\">\n",
       "  <thead>\n",
       "    <tr style=\"text-align: right;\">\n",
       "      <th></th>\n",
       "      <th>image_id</th>\n",
       "      <th>melanoma</th>\n",
       "      <th>seborrheic_keratosis</th>\n",
       "    </tr>\n",
       "  </thead>\n",
       "  <tbody>\n",
       "    <tr>\n",
       "      <th>0</th>\n",
       "      <td>ISIC_0000000</td>\n",
       "      <td>0.0</td>\n",
       "      <td>0.0</td>\n",
       "    </tr>\n",
       "    <tr>\n",
       "      <th>1</th>\n",
       "      <td>ISIC_0000001</td>\n",
       "      <td>0.0</td>\n",
       "      <td>0.0</td>\n",
       "    </tr>\n",
       "    <tr>\n",
       "      <th>2</th>\n",
       "      <td>ISIC_0000002</td>\n",
       "      <td>1.0</td>\n",
       "      <td>0.0</td>\n",
       "    </tr>\n",
       "    <tr>\n",
       "      <th>3</th>\n",
       "      <td>ISIC_0000003</td>\n",
       "      <td>0.0</td>\n",
       "      <td>0.0</td>\n",
       "    </tr>\n",
       "    <tr>\n",
       "      <th>4</th>\n",
       "      <td>ISIC_0000004</td>\n",
       "      <td>1.0</td>\n",
       "      <td>0.0</td>\n",
       "    </tr>\n",
       "  </tbody>\n",
       "</table>\n",
       "</div>"
      ],
      "text/plain": [
       "       image_id  melanoma  seborrheic_keratosis\n",
       "0  ISIC_0000000       0.0                   0.0\n",
       "1  ISIC_0000001       0.0                   0.0\n",
       "2  ISIC_0000002       1.0                   0.0\n",
       "3  ISIC_0000003       0.0                   0.0\n",
       "4  ISIC_0000004       1.0                   0.0"
      ]
     },
     "execution_count": 4,
     "metadata": {},
     "output_type": "execute_result"
    }
   ],
   "source": [
    "# analisando descritivo de treino de 2017\n",
    "df_treino_2017.head()"
   ]
  },
  {
   "cell_type": "code",
   "execution_count": 5,
   "metadata": {},
   "outputs": [],
   "source": [
    "# ------- TREINO 2017\n",
    "\n",
    "df_treino_2017['image_id'] = df_treino_2017['image_id'].apply(lambda x: x + '.jpg')\n",
    "df_treino_2017['nevus'] = ((df_treino_2017['melanoma'] == 0) & \n",
    "                           (df_treino_2017['seborrheic_keratosis'] == 0)).astype(float)\n",
    "df_treino_2017.drop('seborrheic_keratosis', axis = 1, inplace = True)\n",
    "df_treino_2017 = df_treino_2017.loc[(df_treino_2017['melanoma'] == 1) | (df_treino_2017['nevus'] == 1)]\n",
    "\n",
    "# nesta célula, adicionamos extensões aos nomes dos arquivos, para que estes correspondam exatamente aos nomes\n",
    "# que de fato seriam usados para acessar as imagens, por código, em seguida, precisávamos saber quais imagens\n",
    "# eram casos de 'nevus', como esta flag não existe, inferimos que casos que não fossem 'melanoma', nem \n",
    "# 'seborrheic_keratosis' seriam 'nevus', à partir disso, criamos uma terceira flag, eliminamos a flag\n",
    "# 'seborrheic_keratosis', que não nos convinha, por fim, mantivemos no dataframe, apenas as imagens\n",
    "# que representassem ou casos de 'nevus' ou 'melanoma'"
   ]
  },
  {
   "cell_type": "code",
   "execution_count": 6,
   "metadata": {},
   "outputs": [
    {
     "data": {
      "text/html": [
       "<div>\n",
       "<style scoped>\n",
       "    .dataframe tbody tr th:only-of-type {\n",
       "        vertical-align: middle;\n",
       "    }\n",
       "\n",
       "    .dataframe tbody tr th {\n",
       "        vertical-align: top;\n",
       "    }\n",
       "\n",
       "    .dataframe thead th {\n",
       "        text-align: right;\n",
       "    }\n",
       "</style>\n",
       "<table border=\"1\" class=\"dataframe\">\n",
       "  <thead>\n",
       "    <tr style=\"text-align: right;\">\n",
       "      <th></th>\n",
       "      <th>image_id</th>\n",
       "      <th>melanoma</th>\n",
       "      <th>nevus</th>\n",
       "    </tr>\n",
       "  </thead>\n",
       "  <tbody>\n",
       "    <tr>\n",
       "      <th>0</th>\n",
       "      <td>ISIC_0000000.jpg</td>\n",
       "      <td>0.0</td>\n",
       "      <td>1.0</td>\n",
       "    </tr>\n",
       "    <tr>\n",
       "      <th>1</th>\n",
       "      <td>ISIC_0000001.jpg</td>\n",
       "      <td>0.0</td>\n",
       "      <td>1.0</td>\n",
       "    </tr>\n",
       "    <tr>\n",
       "      <th>2</th>\n",
       "      <td>ISIC_0000002.jpg</td>\n",
       "      <td>1.0</td>\n",
       "      <td>0.0</td>\n",
       "    </tr>\n",
       "    <tr>\n",
       "      <th>3</th>\n",
       "      <td>ISIC_0000003.jpg</td>\n",
       "      <td>0.0</td>\n",
       "      <td>1.0</td>\n",
       "    </tr>\n",
       "    <tr>\n",
       "      <th>4</th>\n",
       "      <td>ISIC_0000004.jpg</td>\n",
       "      <td>1.0</td>\n",
       "      <td>0.0</td>\n",
       "    </tr>\n",
       "  </tbody>\n",
       "</table>\n",
       "</div>"
      ],
      "text/plain": [
       "           image_id  melanoma  nevus\n",
       "0  ISIC_0000000.jpg       0.0    1.0\n",
       "1  ISIC_0000001.jpg       0.0    1.0\n",
       "2  ISIC_0000002.jpg       1.0    0.0\n",
       "3  ISIC_0000003.jpg       0.0    1.0\n",
       "4  ISIC_0000004.jpg       1.0    0.0"
      ]
     },
     "execution_count": 6,
     "metadata": {},
     "output_type": "execute_result"
    }
   ],
   "source": [
    "df_treino_2017.head()"
   ]
  },
  {
   "cell_type": "code",
   "execution_count": 7,
   "metadata": {},
   "outputs": [
    {
     "data": {
      "text/html": [
       "<div>\n",
       "<style scoped>\n",
       "    .dataframe tbody tr th:only-of-type {\n",
       "        vertical-align: middle;\n",
       "    }\n",
       "\n",
       "    .dataframe tbody tr th {\n",
       "        vertical-align: top;\n",
       "    }\n",
       "\n",
       "    .dataframe thead th {\n",
       "        text-align: right;\n",
       "    }\n",
       "</style>\n",
       "<table border=\"1\" class=\"dataframe\">\n",
       "  <thead>\n",
       "    <tr style=\"text-align: right;\">\n",
       "      <th></th>\n",
       "      <th>image</th>\n",
       "      <th>MEL</th>\n",
       "      <th>NV</th>\n",
       "      <th>BCC</th>\n",
       "      <th>AKIEC</th>\n",
       "      <th>BKL</th>\n",
       "      <th>DF</th>\n",
       "      <th>VASC</th>\n",
       "    </tr>\n",
       "  </thead>\n",
       "  <tbody>\n",
       "    <tr>\n",
       "      <th>0</th>\n",
       "      <td>ISIC_0024306</td>\n",
       "      <td>0.0</td>\n",
       "      <td>1.0</td>\n",
       "      <td>0.0</td>\n",
       "      <td>0.0</td>\n",
       "      <td>0.0</td>\n",
       "      <td>0.0</td>\n",
       "      <td>0.0</td>\n",
       "    </tr>\n",
       "    <tr>\n",
       "      <th>1</th>\n",
       "      <td>ISIC_0024307</td>\n",
       "      <td>0.0</td>\n",
       "      <td>1.0</td>\n",
       "      <td>0.0</td>\n",
       "      <td>0.0</td>\n",
       "      <td>0.0</td>\n",
       "      <td>0.0</td>\n",
       "      <td>0.0</td>\n",
       "    </tr>\n",
       "    <tr>\n",
       "      <th>2</th>\n",
       "      <td>ISIC_0024308</td>\n",
       "      <td>0.0</td>\n",
       "      <td>1.0</td>\n",
       "      <td>0.0</td>\n",
       "      <td>0.0</td>\n",
       "      <td>0.0</td>\n",
       "      <td>0.0</td>\n",
       "      <td>0.0</td>\n",
       "    </tr>\n",
       "    <tr>\n",
       "      <th>3</th>\n",
       "      <td>ISIC_0024309</td>\n",
       "      <td>0.0</td>\n",
       "      <td>1.0</td>\n",
       "      <td>0.0</td>\n",
       "      <td>0.0</td>\n",
       "      <td>0.0</td>\n",
       "      <td>0.0</td>\n",
       "      <td>0.0</td>\n",
       "    </tr>\n",
       "    <tr>\n",
       "      <th>4</th>\n",
       "      <td>ISIC_0024310</td>\n",
       "      <td>1.0</td>\n",
       "      <td>0.0</td>\n",
       "      <td>0.0</td>\n",
       "      <td>0.0</td>\n",
       "      <td>0.0</td>\n",
       "      <td>0.0</td>\n",
       "      <td>0.0</td>\n",
       "    </tr>\n",
       "  </tbody>\n",
       "</table>\n",
       "</div>"
      ],
      "text/plain": [
       "          image  MEL   NV  BCC  AKIEC  BKL   DF  VASC\n",
       "0  ISIC_0024306  0.0  1.0  0.0    0.0  0.0  0.0   0.0\n",
       "1  ISIC_0024307  0.0  1.0  0.0    0.0  0.0  0.0   0.0\n",
       "2  ISIC_0024308  0.0  1.0  0.0    0.0  0.0  0.0   0.0\n",
       "3  ISIC_0024309  0.0  1.0  0.0    0.0  0.0  0.0   0.0\n",
       "4  ISIC_0024310  1.0  0.0  0.0    0.0  0.0  0.0   0.0"
      ]
     },
     "execution_count": 7,
     "metadata": {},
     "output_type": "execute_result"
    }
   ],
   "source": [
    "# partimos para o descritivo de treino de 2018\n",
    "\n",
    "df_treino_2018.head()"
   ]
  },
  {
   "cell_type": "code",
   "execution_count": 8,
   "metadata": {},
   "outputs": [],
   "source": [
    "# ------- TREINO 2018\n",
    "\n",
    "df_treino_2018['image'] = df_treino_2018['image'].apply(lambda x: x + '.jpg')\n",
    "df_treino_2018 = df_treino_2018.loc[(df_treino_2018['MEL'] == 1) | (df_treino_2018['NV'] == 1)]\n",
    "df_treino_2018 = df_treino_2018[['image', 'MEL', 'NV']]\n",
    "# nesta célula, apenas adicinamos as extensões aos nomes dos arquivos, filtramos imagens que representassem \n",
    "# casos de 'nevus' ou 'melanoma', por meio das flags 'NEV' e 'ML'"
   ]
  },
  {
   "cell_type": "code",
   "execution_count": 9,
   "metadata": {},
   "outputs": [
    {
     "data": {
      "text/html": [
       "<div>\n",
       "<style scoped>\n",
       "    .dataframe tbody tr th:only-of-type {\n",
       "        vertical-align: middle;\n",
       "    }\n",
       "\n",
       "    .dataframe tbody tr th {\n",
       "        vertical-align: top;\n",
       "    }\n",
       "\n",
       "    .dataframe thead th {\n",
       "        text-align: right;\n",
       "    }\n",
       "</style>\n",
       "<table border=\"1\" class=\"dataframe\">\n",
       "  <thead>\n",
       "    <tr style=\"text-align: right;\">\n",
       "      <th></th>\n",
       "      <th>image</th>\n",
       "      <th>MEL</th>\n",
       "      <th>NV</th>\n",
       "    </tr>\n",
       "  </thead>\n",
       "  <tbody>\n",
       "    <tr>\n",
       "      <th>0</th>\n",
       "      <td>ISIC_0024306.jpg</td>\n",
       "      <td>0.0</td>\n",
       "      <td>1.0</td>\n",
       "    </tr>\n",
       "    <tr>\n",
       "      <th>1</th>\n",
       "      <td>ISIC_0024307.jpg</td>\n",
       "      <td>0.0</td>\n",
       "      <td>1.0</td>\n",
       "    </tr>\n",
       "    <tr>\n",
       "      <th>2</th>\n",
       "      <td>ISIC_0024308.jpg</td>\n",
       "      <td>0.0</td>\n",
       "      <td>1.0</td>\n",
       "    </tr>\n",
       "    <tr>\n",
       "      <th>3</th>\n",
       "      <td>ISIC_0024309.jpg</td>\n",
       "      <td>0.0</td>\n",
       "      <td>1.0</td>\n",
       "    </tr>\n",
       "    <tr>\n",
       "      <th>4</th>\n",
       "      <td>ISIC_0024310.jpg</td>\n",
       "      <td>1.0</td>\n",
       "      <td>0.0</td>\n",
       "    </tr>\n",
       "  </tbody>\n",
       "</table>\n",
       "</div>"
      ],
      "text/plain": [
       "              image  MEL   NV\n",
       "0  ISIC_0024306.jpg  0.0  1.0\n",
       "1  ISIC_0024307.jpg  0.0  1.0\n",
       "2  ISIC_0024308.jpg  0.0  1.0\n",
       "3  ISIC_0024309.jpg  0.0  1.0\n",
       "4  ISIC_0024310.jpg  1.0  0.0"
      ]
     },
     "execution_count": 9,
     "metadata": {},
     "output_type": "execute_result"
    }
   ],
   "source": [
    "df_treino_2018.head()"
   ]
  },
  {
   "cell_type": "code",
   "execution_count": 10,
   "metadata": {},
   "outputs": [],
   "source": [
    "# aqui, unificamos os nomes das series dos descritivos, para que possam ser concatenados\n",
    "df_treino_2018.columns = ['img', 'pos', 'neg']\n",
    "df_treino_2017.columns = ['img', 'pos', 'neg']"
   ]
  },
  {
   "cell_type": "code",
   "execution_count": 11,
   "metadata": {},
   "outputs": [],
   "source": [
    "# como podemos ver abaixo, as bases estão desbalanceadas"
   ]
  },
  {
   "cell_type": "code",
   "execution_count": 12,
   "metadata": {},
   "outputs": [
    {
     "data": {
      "text/plain": [
       "0.0    0.785796\n",
       "1.0    0.214204\n",
       "Name: pos, dtype: float64"
      ]
     },
     "execution_count": 12,
     "metadata": {},
     "output_type": "execute_result"
    }
   ],
   "source": [
    "df_treino_2017['pos'].value_counts(1)"
   ]
  },
  {
   "cell_type": "code",
   "execution_count": 13,
   "metadata": {},
   "outputs": [
    {
     "data": {
      "text/plain": [
       "0.0    0.857636\n",
       "1.0    0.142364\n",
       "Name: pos, dtype: float64"
      ]
     },
     "execution_count": 13,
     "metadata": {},
     "output_type": "execute_result"
    }
   ],
   "source": [
    "df_treino_2018['pos'].value_counts(1)"
   ]
  },
  {
   "cell_type": "code",
   "execution_count": 14,
   "metadata": {},
   "outputs": [
    {
     "data": {
      "text/plain": [
       "0.0    1487\n",
       "1.0    1487\n",
       "Name: pos, dtype: int64"
      ]
     },
     "execution_count": 14,
     "metadata": {},
     "output_type": "execute_result"
    }
   ],
   "source": [
    "# nesta célula, juntamos as duas bases, como o intuito de obter um conjunto balanceado de dados\n",
    "\n",
    "# separando casos positivos e negativos de cada ano\n",
    "pos_2018 = df_treino_2018.loc[df_treino_2018['pos'] == 1]\n",
    "pos_2017 = df_treino_2017.loc[df_treino_2017['pos'] == 1]\n",
    "\n",
    "neg_2018 = df_treino_2018.loc[df_treino_2018['neg'] == 1]\n",
    "neg_2017 = df_treino_2017.loc[df_treino_2017['neg'] == 1]\n",
    "\n",
    "# juntando casos positivos e negativos de todos os anos\n",
    "full_pos = pd.concat([pos_2017, pos_2018], axis = 0)\n",
    "full_neg = pd.concat([neg_2017, neg_2018], axis = 0)\n",
    "\n",
    "# amostrando aleatoriamente, n dados negativos, estes consistirão nas observações negativas (a amostragem\n",
    "# é feita para separar um número de imagens equivalente ao número de imagens positivas que temos à disposição)\n",
    "full_neg = full_neg.sample(n = full_pos.shape[0], random_state = seed)\n",
    "\n",
    "full_pos = full_pos[['img', 'pos', 'neg']]\n",
    "full_neg = full_neg[['img', 'pos', 'neg']]\n",
    "\n",
    "filenames = pd.concat([full_pos, full_neg]).reset_index().drop('index', axis = 1)\n",
    "\n",
    "filenames['pos'].value_counts()"
   ]
  },
  {
   "cell_type": "code",
   "execution_count": 15,
   "metadata": {},
   "outputs": [],
   "source": [
    "# com base no conjunto balanceado, obtemos splits de treino e teste\n",
    "df_treino, df_teste = train_test_split(filenames, test_size = 0.2, random_state = seed)"
   ]
  },
  {
   "cell_type": "code",
   "execution_count": 16,
   "metadata": {},
   "outputs": [],
   "source": [
    "# analisamos aqui, o descritivo de validação\n",
    "\n",
    "df_valid = pd.read_csv(validacao)"
   ]
  },
  {
   "cell_type": "code",
   "execution_count": 17,
   "metadata": {},
   "outputs": [
    {
     "data": {
      "text/html": [
       "<div>\n",
       "<style scoped>\n",
       "    .dataframe tbody tr th:only-of-type {\n",
       "        vertical-align: middle;\n",
       "    }\n",
       "\n",
       "    .dataframe tbody tr th {\n",
       "        vertical-align: top;\n",
       "    }\n",
       "\n",
       "    .dataframe thead th {\n",
       "        text-align: right;\n",
       "    }\n",
       "</style>\n",
       "<table border=\"1\" class=\"dataframe\">\n",
       "  <thead>\n",
       "    <tr style=\"text-align: right;\">\n",
       "      <th></th>\n",
       "      <th>image_id</th>\n",
       "      <th>melanoma</th>\n",
       "      <th>seborrheic_keratosis</th>\n",
       "    </tr>\n",
       "  </thead>\n",
       "  <tbody>\n",
       "    <tr>\n",
       "      <th>0</th>\n",
       "      <td>ISIC_0001769</td>\n",
       "      <td>0.0</td>\n",
       "      <td>0.0</td>\n",
       "    </tr>\n",
       "    <tr>\n",
       "      <th>1</th>\n",
       "      <td>ISIC_0001852</td>\n",
       "      <td>0.0</td>\n",
       "      <td>0.0</td>\n",
       "    </tr>\n",
       "    <tr>\n",
       "      <th>2</th>\n",
       "      <td>ISIC_0001871</td>\n",
       "      <td>0.0</td>\n",
       "      <td>0.0</td>\n",
       "    </tr>\n",
       "    <tr>\n",
       "      <th>3</th>\n",
       "      <td>ISIC_0003462</td>\n",
       "      <td>0.0</td>\n",
       "      <td>0.0</td>\n",
       "    </tr>\n",
       "    <tr>\n",
       "      <th>4</th>\n",
       "      <td>ISIC_0003539</td>\n",
       "      <td>0.0</td>\n",
       "      <td>0.0</td>\n",
       "    </tr>\n",
       "  </tbody>\n",
       "</table>\n",
       "</div>"
      ],
      "text/plain": [
       "       image_id  melanoma  seborrheic_keratosis\n",
       "0  ISIC_0001769       0.0                   0.0\n",
       "1  ISIC_0001852       0.0                   0.0\n",
       "2  ISIC_0001871       0.0                   0.0\n",
       "3  ISIC_0003462       0.0                   0.0\n",
       "4  ISIC_0003539       0.0                   0.0"
      ]
     },
     "execution_count": 17,
     "metadata": {},
     "output_type": "execute_result"
    }
   ],
   "source": [
    "df_valid.head()"
   ]
  },
  {
   "cell_type": "code",
   "execution_count": 18,
   "metadata": {},
   "outputs": [],
   "source": [
    "df_valid['image_id'] = df_valid['image_id'].apply(lambda x: x + '.jpg')\n",
    "df_valid['nevus'] = ((df_valid['melanoma'] == 0) & \n",
    "                           (df_valid['seborrheic_keratosis'] == 0)).astype(float)\n",
    "df_valid.drop('seborrheic_keratosis', axis = 1, inplace = True)\n",
    "df_valid = df_valid.loc[(df_valid['melanoma'] == 1) | (df_valid['nevus'] == 1)]\n",
    "\n",
    "df_valid.columns = ['img', 'pos', 'neg']\n",
    "# para o tratamento do descritivo de validação, foi necessário adicionar extensões e criar a flag 'nevus', \n",
    "# de forma similar ao tratamento do descritivo de 2017, além disso, filtramos por apenas casos de \n",
    "# 'melanoma' ou 'nevus', também foram aplicados os mesmos nomes para as series "
   ]
  },
  {
   "cell_type": "code",
   "execution_count": 19,
   "metadata": {},
   "outputs": [
    {
     "data": {
      "text/html": [
       "<div>\n",
       "<style scoped>\n",
       "    .dataframe tbody tr th:only-of-type {\n",
       "        vertical-align: middle;\n",
       "    }\n",
       "\n",
       "    .dataframe tbody tr th {\n",
       "        vertical-align: top;\n",
       "    }\n",
       "\n",
       "    .dataframe thead th {\n",
       "        text-align: right;\n",
       "    }\n",
       "</style>\n",
       "<table border=\"1\" class=\"dataframe\">\n",
       "  <thead>\n",
       "    <tr style=\"text-align: right;\">\n",
       "      <th></th>\n",
       "      <th>img</th>\n",
       "      <th>pos</th>\n",
       "      <th>neg</th>\n",
       "    </tr>\n",
       "  </thead>\n",
       "  <tbody>\n",
       "    <tr>\n",
       "      <th>0</th>\n",
       "      <td>ISIC_0001769.jpg</td>\n",
       "      <td>0.0</td>\n",
       "      <td>1.0</td>\n",
       "    </tr>\n",
       "    <tr>\n",
       "      <th>1</th>\n",
       "      <td>ISIC_0001852.jpg</td>\n",
       "      <td>0.0</td>\n",
       "      <td>1.0</td>\n",
       "    </tr>\n",
       "    <tr>\n",
       "      <th>2</th>\n",
       "      <td>ISIC_0001871.jpg</td>\n",
       "      <td>0.0</td>\n",
       "      <td>1.0</td>\n",
       "    </tr>\n",
       "    <tr>\n",
       "      <th>3</th>\n",
       "      <td>ISIC_0003462.jpg</td>\n",
       "      <td>0.0</td>\n",
       "      <td>1.0</td>\n",
       "    </tr>\n",
       "    <tr>\n",
       "      <th>4</th>\n",
       "      <td>ISIC_0003539.jpg</td>\n",
       "      <td>0.0</td>\n",
       "      <td>1.0</td>\n",
       "    </tr>\n",
       "  </tbody>\n",
       "</table>\n",
       "</div>"
      ],
      "text/plain": [
       "                img  pos  neg\n",
       "0  ISIC_0001769.jpg  0.0  1.0\n",
       "1  ISIC_0001852.jpg  0.0  1.0\n",
       "2  ISIC_0001871.jpg  0.0  1.0\n",
       "3  ISIC_0003462.jpg  0.0  1.0\n",
       "4  ISIC_0003539.jpg  0.0  1.0"
      ]
     },
     "execution_count": 19,
     "metadata": {},
     "output_type": "execute_result"
    }
   ],
   "source": [
    "df_valid.head()"
   ]
  },
  {
   "cell_type": "code",
   "execution_count": 20,
   "metadata": {},
   "outputs": [
    {
     "data": {
      "text/plain": [
       "0.0    0.722222\n",
       "1.0    0.277778\n",
       "Name: pos, dtype: float64"
      ]
     },
     "execution_count": 20,
     "metadata": {},
     "output_type": "execute_result"
    }
   ],
   "source": [
    "# como podemos observar, a base de validação está desbalanceada\n",
    "\n",
    "df_valid['pos'].value_counts(1)"
   ]
  },
  {
   "cell_type": "code",
   "execution_count": 21,
   "metadata": {},
   "outputs": [],
   "source": [
    "# para balanceá-la, elminaremos casos negativos o suficiente para que o número resultante se equipare \n",
    "# ao número de casos positivos\n",
    "\n",
    "df_valid_pos = df_valid.loc[df_valid['pos'] == 1]\n",
    "df_valid_neg = df_valid.loc[df_valid['neg'] == 1]"
   ]
  },
  {
   "cell_type": "code",
   "execution_count": 22,
   "metadata": {},
   "outputs": [
    {
     "data": {
      "text/plain": [
       "(30, 78)"
      ]
     },
     "execution_count": 22,
     "metadata": {},
     "output_type": "execute_result"
    }
   ],
   "source": [
    "len(df_valid_pos), len(df_valid_neg)\n",
    "\n",
    "# amostraremos 30 valores aleatórios dentre os casos negativos, e estes serão concatenados ao conjunto de\n",
    "# casos positivos, o conjunto resultante consistirá no descritivo de validação"
   ]
  },
  {
   "cell_type": "code",
   "execution_count": 23,
   "metadata": {},
   "outputs": [],
   "source": [
    "df_valid_neg = df_valid_neg.sample(30, random_state = seed)\n",
    "df_valid = pd.concat([df_valid_pos, df_valid_neg])"
   ]
  },
  {
   "cell_type": "code",
   "execution_count": 24,
   "metadata": {},
   "outputs": [
    {
     "data": {
      "text/plain": [
       "0.0    0.5\n",
       "1.0    0.5\n",
       "Name: pos, dtype: float64"
      ]
     },
     "execution_count": 24,
     "metadata": {},
     "output_type": "execute_result"
    }
   ],
   "source": [
    "df_valid['pos'].value_counts(1)"
   ]
  },
  {
   "cell_type": "code",
   "execution_count": 25,
   "metadata": {},
   "outputs": [],
   "source": [
    "# descritivo de teste (cujas predições devemos entregar)\n",
    "\n",
    "df_pred = pd.read_csv(teste)"
   ]
  },
  {
   "cell_type": "code",
   "execution_count": 26,
   "metadata": {},
   "outputs": [
    {
     "data": {
      "text/html": [
       "<div>\n",
       "<style scoped>\n",
       "    .dataframe tbody tr th:only-of-type {\n",
       "        vertical-align: middle;\n",
       "    }\n",
       "\n",
       "    .dataframe tbody tr th {\n",
       "        vertical-align: top;\n",
       "    }\n",
       "\n",
       "    .dataframe thead th {\n",
       "        text-align: right;\n",
       "    }\n",
       "</style>\n",
       "<table border=\"1\" class=\"dataframe\">\n",
       "  <thead>\n",
       "    <tr style=\"text-align: right;\">\n",
       "      <th></th>\n",
       "      <th>image_id</th>\n",
       "    </tr>\n",
       "  </thead>\n",
       "  <tbody>\n",
       "    <tr>\n",
       "      <th>0</th>\n",
       "      <td>ISIC_0012086</td>\n",
       "    </tr>\n",
       "    <tr>\n",
       "      <th>1</th>\n",
       "      <td>ISIC_0012092</td>\n",
       "    </tr>\n",
       "    <tr>\n",
       "      <th>2</th>\n",
       "      <td>ISIC_0012095</td>\n",
       "    </tr>\n",
       "    <tr>\n",
       "      <th>3</th>\n",
       "      <td>ISIC_0012134</td>\n",
       "    </tr>\n",
       "    <tr>\n",
       "      <th>4</th>\n",
       "      <td>ISIC_0012136</td>\n",
       "    </tr>\n",
       "  </tbody>\n",
       "</table>\n",
       "</div>"
      ],
      "text/plain": [
       "       image_id\n",
       "0  ISIC_0012086\n",
       "1  ISIC_0012092\n",
       "2  ISIC_0012095\n",
       "3  ISIC_0012134\n",
       "4  ISIC_0012136"
      ]
     },
     "execution_count": 26,
     "metadata": {},
     "output_type": "execute_result"
    }
   ],
   "source": [
    "df_pred.head()"
   ]
  },
  {
   "cell_type": "code",
   "execution_count": 27,
   "metadata": {},
   "outputs": [],
   "source": [
    "df_pred['image_id'] = df_pred['image_id'].apply(lambda x: x + '.jpg')\n",
    "df_pred.columns = ['img']\n",
    "\n",
    "# para o tratamento do descritivo de teste, aplicamos extensões e unificamos nome da series"
   ]
  },
  {
   "cell_type": "code",
   "execution_count": 28,
   "metadata": {},
   "outputs": [
    {
     "data": {
      "text/html": [
       "<div>\n",
       "<style scoped>\n",
       "    .dataframe tbody tr th:only-of-type {\n",
       "        vertical-align: middle;\n",
       "    }\n",
       "\n",
       "    .dataframe tbody tr th {\n",
       "        vertical-align: top;\n",
       "    }\n",
       "\n",
       "    .dataframe thead th {\n",
       "        text-align: right;\n",
       "    }\n",
       "</style>\n",
       "<table border=\"1\" class=\"dataframe\">\n",
       "  <thead>\n",
       "    <tr style=\"text-align: right;\">\n",
       "      <th></th>\n",
       "      <th>img</th>\n",
       "    </tr>\n",
       "  </thead>\n",
       "  <tbody>\n",
       "    <tr>\n",
       "      <th>0</th>\n",
       "      <td>ISIC_0012086.jpg</td>\n",
       "    </tr>\n",
       "    <tr>\n",
       "      <th>1</th>\n",
       "      <td>ISIC_0012092.jpg</td>\n",
       "    </tr>\n",
       "    <tr>\n",
       "      <th>2</th>\n",
       "      <td>ISIC_0012095.jpg</td>\n",
       "    </tr>\n",
       "    <tr>\n",
       "      <th>3</th>\n",
       "      <td>ISIC_0012134.jpg</td>\n",
       "    </tr>\n",
       "    <tr>\n",
       "      <th>4</th>\n",
       "      <td>ISIC_0012136.jpg</td>\n",
       "    </tr>\n",
       "  </tbody>\n",
       "</table>\n",
       "</div>"
      ],
      "text/plain": [
       "                img\n",
       "0  ISIC_0012086.jpg\n",
       "1  ISIC_0012092.jpg\n",
       "2  ISIC_0012095.jpg\n",
       "3  ISIC_0012134.jpg\n",
       "4  ISIC_0012136.jpg"
      ]
     },
     "execution_count": 28,
     "metadata": {},
     "output_type": "execute_result"
    }
   ],
   "source": [
    "df_pred.head()"
   ]
  },
  {
   "cell_type": "code",
   "execution_count": 29,
   "metadata": {},
   "outputs": [],
   "source": [
    "# ao final do processo, possuímos df_treino, df_teste, df_valid, df_pred"
   ]
  },
  {
   "cell_type": "code",
   "execution_count": 30,
   "metadata": {},
   "outputs": [],
   "source": [
    "df_treino = df_treino.reset_index()\n",
    "df_valid = df_valid.reset_index()\n",
    "df_treino.drop('index', axis = 1, inplace = True)\n",
    "df_valid.drop('index', axis = 1, inplace = True)"
   ]
  },
  {
   "cell_type": "markdown",
   "metadata": {},
   "source": [
    "## Pré-processamento"
   ]
  },
  {
   "cell_type": "code",
   "execution_count": 31,
   "metadata": {},
   "outputs": [],
   "source": [
    "# farei o pré processamento das imagens conforme estiver alimentando o ajuste da rede, este será realizado em \n",
    "# batches"
   ]
  },
  {
   "cell_type": "code",
   "execution_count": 32,
   "metadata": {},
   "outputs": [],
   "source": [
    "# divisão dos dados de treino em batches\n",
    "\n",
    "n_batches = 5\n",
    "data = df_treino\n",
    "batch_list = []\n",
    "\n",
    "resto = data.shape[0] % n_batches\n",
    "step = data.shape[0] // n_batches\n",
    "count = 0\n",
    "lower_idx = 0\n",
    "\n",
    "for n in range(n_batches):\n",
    "    \n",
    "    upper_idx = lower_idx + step \n",
    "    \n",
    "    exec(f'batch_{count} = data.iloc[{lower_idx}:{upper_idx}]')\n",
    "    exec(f'batch_list.append(batch_{count})')\n",
    "    \n",
    "    count += 1\n",
    "    lower_idx += step\n",
    "    \n",
    "# somando resto ao último batch\n",
    "batch_list[-1] = pd.concat([batch_list[-1], df_treino[-4:]])\n",
    "\n",
    "# agora temos a lista 'batch_list', esta possui cinco dataframes, cada um deles, contendo uma porção de \n",
    "# 'df_treino', carregaremos cada batch e ajustaremos a rede a cada um deles"
   ]
  },
  {
   "cell_type": "code",
   "execution_count": 33,
   "metadata": {},
   "outputs": [],
   "source": [
    "diretorio_treino = \"/media/leandro/84EE-B5FB/isic_treino_selecionadas/\"\n",
    "diretorio_teste =\"/media/leandro/84EE-B5FB/isic_2017_teste/\"\n",
    "diretorio_val =\"/media/leandro/84EE-B5FB/isic_2017_validacao/isic_2017_validacao/\""
   ]
  },
  {
   "cell_type": "code",
   "execution_count": 34,
   "metadata": {},
   "outputs": [],
   "source": [
    "# ao carregarmos cada um dos batches, pré processaremos e faremos 'data augmentation', através de:\n",
    "\n",
    "# carregamento \n",
    "def get_images_n_labels(dataframe, path = diretorio_treino, \n",
    "                        series_name = 'img', label_name = 'pos', i = 200, j = 200):\n",
    "    \n",
    "    x = []\n",
    "    y = []\n",
    "    \n",
    "    for n in range(dataframe.shape[0]):\n",
    "        \n",
    "        img = cv2.imread(path + dataframe[series_name].iloc[n])\n",
    "        img = cv2.resize(img, (i, j))\n",
    "        x.append(img)\n",
    "        y.append(dataframe[label_name].iloc[n])\n",
    "        \n",
    "    return np.array(x), np.array(y)\n",
    "\n",
    "# pré processamento\n",
    "\n",
    "def segmentation(img):\n",
    "    \n",
    "    gray = cv2.cvtColor(img,cv2.COLOR_BGR2GRAY)\n",
    "    ret, thresh = cv2.threshold(gray,0,255,cv2.THRESH_BINARY_INV + cv2.THRESH_OTSU)\n",
    "    kernel = np.ones((3,3),np.uint8)\n",
    "    opening = cv2.morphologyEx(thresh,cv2.MORPH_OPEN,kernel, iterations = 2)\n",
    "    sure_bg = cv2.dilate(opening,kernel,iterations = 3)\n",
    "    res = cv2.bitwise_and(img,img,mask = sure_bg)\n",
    "    \n",
    "    return res\n",
    "\n",
    "def bgr_CLAHE(img):\n",
    "    \n",
    "    lab = cv2.cvtColor(img, cv2.COLOR_BGR2LAB)\n",
    "    lab_planes = cv2.split(lab)\n",
    "    clahe = cv2.createCLAHE(clipLimit = 2.0,tileGridSize = (6, 6))\n",
    "    lab_planes[0] = clahe.apply(lab_planes[0])\n",
    "    lab = cv2.merge(lab_planes)\n",
    "    img = cv2.cvtColor(lab, cv2.COLOR_LAB2BGR)\n",
    "    \n",
    "    return img\n",
    "\n",
    "def img_preproc(img):\n",
    "    \n",
    "    img = bgr_CLAHE(segmentation(img))\n",
    "    img = img / 255\n",
    "\n",
    "    \n",
    "    return img\n",
    "\n",
    "# augmentation\n",
    "\n",
    "def zoom(img, original_dim = [200, 200], h_slice = [5, 175], v_slice = [5, 175]):\n",
    "\n",
    "    img = img[v_slice[0] : v_slice[1], h_slice[0] : h_slice[1]]\n",
    "    img = cv2.resize(img, (original_dim[0], original_dim[1]))\n",
    "    \n",
    "    return img \n",
    "\n",
    "# horizontal shift\n",
    "def h_shift(image, original_dim = [200, 200], shift = 5):\n",
    "    \n",
    "    T_x = shift\n",
    "    T_y = 0\n",
    "    \n",
    "    M = np.array([[1, 0, T_x], [0, 1, T_y]], dtype = 'float32')\n",
    "    img_transladada = cv2.warpAffine(image, M, (original_dim[0], original_dim[1]))\n",
    "    img = img_transladada[0 : original_dim[0], shift : original_dim[1]]\n",
    "    img = cv2.resize(img, (original_dim[0], original_dim[1]))\n",
    "    \n",
    "    return img\n",
    "\n",
    "# vertical shift\n",
    "def v_shift(image, original_dim = [200, 200], shift = 5):\n",
    "    \n",
    "    T_x = 0\n",
    "    T_y = shift\n",
    "    \n",
    "    M = np.array([[1, 0, T_x], [0, 1, T_y]], dtype = 'float32')\n",
    "    img_transladada = cv2.warpAffine(image, M, (original_dim[0], original_dim[1]))\n",
    "    img = img_transladada[shift : original_dim[0], 0 : original_dim[1]]\n",
    "    img = cv2.resize(img, (original_dim[0], original_dim[1]))\n",
    "    \n",
    "    return img\n",
    "\n",
    "def rotation_90(img):\n",
    "\n",
    "    rows, cols, chnls = img.shape\n",
    "    M = cv2.getRotationMatrix2D(((cols - 1) / 2.0, (rows - 1) / 2.0), 90, 1)\n",
    "    img = cv2.warpAffine(img, M, (cols, rows))\n",
    "    \n",
    "    return img\n",
    "\n",
    "def data_augmentation(x, y):\n",
    "    \n",
    "    augmentation_imgs = []\n",
    "    augmentation_labels = []\n",
    "\n",
    "    for n in range(len(x)):\n",
    "\n",
    "        image = x[n]\n",
    "        classe = y[n]\n",
    "        augment = randint(0, 2) # booleano (33.3% de chance de aplicar augmentation)\n",
    "\n",
    "        if augment == 1:\n",
    "            process = randint(0, 5) # seleção aleatória do processo de augmentation\n",
    "\n",
    "            if process == 0:\n",
    "                image = cv2.flip(image, 0)\n",
    "                augmentation_imgs.append(image) # horizontal flip\n",
    "                augmentation_labels.append(classe)\n",
    "\n",
    "            if process == 1:\n",
    "                image = zoom(image)\n",
    "                augmentation_imgs.append(image) # zoom 0.2\n",
    "                augmentation_labels.append(classe)\n",
    "\n",
    "            if process == 2:\n",
    "                image = h_shift(image)\n",
    "                augmentation_imgs.append(image) # horizontal shift\n",
    "                augmentation_labels.append(classe)\n",
    "\n",
    "            if process == 3:\n",
    "                image = v_shift(image)\n",
    "                augmentation_imgs.append(image) # vertical shift\n",
    "                augmentation_labels.append(classe)\n",
    "\n",
    "            if process == 4:\n",
    "                image = rotation_90(image)\n",
    "                augmentation_imgs.append(image) # rotaton 90°\n",
    "                augmentation_labels.append(classe)\n",
    "                \n",
    "    return augmentation_imgs, augmentation_labels\n",
    "\n",
    "# consolidando os processos acima em um função\n",
    "def single_batch_prep(batch_df, width = 200, height = 200):\n",
    "    \n",
    "    x, y = get_images_n_labels(batch_df)\n",
    "\n",
    "    # pré processamento de imagens\n",
    "    x = [img_preproc(i) for i in x]\n",
    "\n",
    "    # data augmentation\n",
    "    augmentation_imgs, augmentation_labels = data_augmentation(x, y)\n",
    "    \n",
    "    return np.array(x + augmentation_imgs), np.array(list(y) + augmentation_labels)"
   ]
  },
  {
   "cell_type": "code",
   "execution_count": 35,
   "metadata": {},
   "outputs": [],
   "source": [
    "\n",
    "px_h, px_v, chnls = 200, 200, 3\n",
    "ipt_e = Input(shape = (px_h, px_v, chnls))\n",
    "\n",
    "encoder = Conv2D(4, (3, 3), input_shape = (px_h, px_v, chnls), activation = 'relu', padding = 'same')(ipt_e)\n",
    "encoder = MaxPool2D((5, 5))(encoder)\n",
    "encoder = Conv2D(8, (3, 3), activation = 'relu', padding = 'same')(encoder)\n",
    "encoder = MaxPool2D((2, 2))(encoder)\n",
    "encoder = Conv2D(16, (2, 2), activation = 'relu', padding = 'same')(encoder)\n",
    "encoder = Flatten()(encoder)\n",
    "encoder = Dense(40, name = 'gargalo')(encoder)\n",
    "\n",
    "decoder = Dense(6400)(encoder)\n",
    "decoder = Reshape(target_shape = (20, 20, 16))(decoder)\n",
    "decoder = Conv2D(8, (2, 2), activation = 'relu', padding = 'same')(decoder)\n",
    "decoder = UpSampling2D((2, 2))(decoder)\n",
    "decoder = Conv2D(4, (3, 3), activation = 'relu', padding = 'same')(decoder)\n",
    "decoder = UpSampling2D((5, 5))(decoder)\n",
    "decoder = Conv2D(4, (3, 3), activation = 'relu', padding = 'same')(decoder)\n",
    "decoder = Conv2D(3, (3, 3), activation = 'sigmoid', padding = 'same')(decoder)\n",
    "\n",
    "autoencoder = Model(inputs = ipt_e, outputs = decoder, name = 'autoencoder')\n",
    "autoencoder.compile(loss = 'mean_squared_error')"
   ]
  },
  {
   "cell_type": "code",
   "execution_count": 36,
   "metadata": {},
   "outputs": [
    {
     "name": "stdout",
     "output_type": "stream",
     "text": [
      "Model: \"autoencoder\"\n",
      "_________________________________________________________________\n",
      "Layer (type)                 Output Shape              Param #   \n",
      "=================================================================\n",
      "input_1 (InputLayer)         [(None, 200, 200, 3)]     0         \n",
      "_________________________________________________________________\n",
      "conv2d (Conv2D)              (None, 200, 200, 4)       112       \n",
      "_________________________________________________________________\n",
      "max_pooling2d (MaxPooling2D) (None, 40, 40, 4)         0         \n",
      "_________________________________________________________________\n",
      "conv2d_1 (Conv2D)            (None, 40, 40, 8)         296       \n",
      "_________________________________________________________________\n",
      "max_pooling2d_1 (MaxPooling2 (None, 20, 20, 8)         0         \n",
      "_________________________________________________________________\n",
      "conv2d_2 (Conv2D)            (None, 20, 20, 16)        528       \n",
      "_________________________________________________________________\n",
      "flatten (Flatten)            (None, 6400)              0         \n",
      "_________________________________________________________________\n",
      "gargalo (Dense)              (None, 40)                256040    \n",
      "_________________________________________________________________\n",
      "dense (Dense)                (None, 6400)              262400    \n",
      "_________________________________________________________________\n",
      "reshape (Reshape)            (None, 20, 20, 16)        0         \n",
      "_________________________________________________________________\n",
      "conv2d_3 (Conv2D)            (None, 20, 20, 8)         520       \n",
      "_________________________________________________________________\n",
      "up_sampling2d (UpSampling2D) (None, 40, 40, 8)         0         \n",
      "_________________________________________________________________\n",
      "conv2d_4 (Conv2D)            (None, 40, 40, 4)         292       \n",
      "_________________________________________________________________\n",
      "up_sampling2d_1 (UpSampling2 (None, 200, 200, 4)       0         \n",
      "_________________________________________________________________\n",
      "conv2d_5 (Conv2D)            (None, 200, 200, 4)       148       \n",
      "_________________________________________________________________\n",
      "conv2d_6 (Conv2D)            (None, 200, 200, 3)       111       \n",
      "=================================================================\n",
      "Total params: 520,447\n",
      "Trainable params: 520,447\n",
      "Non-trainable params: 0\n",
      "_________________________________________________________________\n"
     ]
    }
   ],
   "source": [
    "autoencoder.summary()"
   ]
  },
  {
   "cell_type": "code",
   "execution_count": 37,
   "metadata": {},
   "outputs": [],
   "source": [
    "pickle.dump(batch_0, open('batch_0.pkl', 'wb'))\n",
    "pickle.dump(batch_1, open('batch_1.pkl', 'wb'))\n",
    "pickle.dump(batch_2, open('batch_2.pkl', 'wb'))\n",
    "pickle.dump(batch_3, open('batch_3.pkl', 'wb'))\n",
    "pickle.dump(batch_4, open('batch_4.pkl', 'wb'))\n",
    "\n",
    "autoencoder.save('ae.h5')"
   ]
  },
  {
   "cell_type": "code",
   "execution_count": 38,
   "metadata": {},
   "outputs": [],
   "source": [
    "x_valid, y_valid = get_images_n_labels(df_valid, path = diretorio_val)"
   ]
  },
  {
   "cell_type": "code",
   "execution_count": 39,
   "metadata": {},
   "outputs": [],
   "source": [
    "# daqui para baixo, ajuste do encoder\n",
    "\n",
    "# na função get_images_n_labels\n",
    "# parametros i e j são as dimensoes,\n",
    "# na função zoom, \n",
    "# original_dim é uma lista com as dimensoes, \n",
    "# h_slice e v_slice podem ser iguais, \n",
    "# são listas que devem possui dois numeros, \n",
    "# um umpouco acima do limite inferior, e outro\n",
    "# pouco abaixo do limite superior, \n",
    "# na h_shift, original dim é uma lista com\n",
    "# as duas dims, em v_shift, a mesma coisa, \n",
    "# na função single_batch_prep, width e height\n",
    "# são os params correspondentes as dims"
   ]
  },
  {
   "cell_type": "code",
   "execution_count": 40,
   "metadata": {},
   "outputs": [],
   "source": [
    "def get_batch(nn_name, batch_desc, valid_desc, valid_dir, batch_size, epochs, \n",
    "              encode = False):\n",
    "    \n",
    "    model = load_model(nn_name)\n",
    "    batch = pickle.load(open(batch_desc, 'rb'))\n",
    "    x_treino, y_treino = single_batch_prep(batch)\n",
    "    \n",
    "    valid = pickle.load(open(valid_desc, 'rb'))\n",
    "    x_valid, y_valid = get_images_n_labels(valid, path = valid_dir)\n",
    "    \n",
    "    if encode == True:\n",
    "        model.fit(x_treino, x_treino, batch_size = batch_size, epochs = epochs, \n",
    "                  validation_data = (x_valid, x_valid))\n",
    "                  \n",
    "    model.save(nn_name)"
   ]
  },
  {
   "cell_type": "code",
   "execution_count": 41,
   "metadata": {},
   "outputs": [],
   "source": [
    "# get_batch('ae.h5', 'batch_0.pkl', 'df_valid.pkl', 'isic_2017_validacao/', 25, 100, encode = True)"
   ]
  },
  {
   "cell_type": "code",
   "execution_count": 42,
   "metadata": {},
   "outputs": [],
   "source": [
    "# get_batch('ae.h5', 'batch_1.pkl', 'df_valid.pkl', 'isic_2017_validacao/', 25, 100, encode = True)"
   ]
  },
  {
   "cell_type": "code",
   "execution_count": 43,
   "metadata": {},
   "outputs": [],
   "source": [
    "# get_batch('ae.h5', 'batch_2.pkl', 'df_valid.pkl', 'isic_2017_validacao/', 25, 100, encode = True)"
   ]
  },
  {
   "cell_type": "code",
   "execution_count": 44,
   "metadata": {},
   "outputs": [],
   "source": [
    "# get_batch('ae.h5', 'batch_3.pkl', 'df_valid.pkl', 'isic_2017_validacao/', 25, 100, encode = True)"
   ]
  },
  {
   "cell_type": "code",
   "execution_count": 45,
   "metadata": {},
   "outputs": [],
   "source": [
    "# get_batch('ae.h5', 'batch_4.pkl', 'df_valid.pkl', 'isic_2017_validacao/', 25, 100, encode = True)"
   ]
  },
  {
   "cell_type": "code",
   "execution_count": 46,
   "metadata": {},
   "outputs": [],
   "source": [
    "# model = load_model('ae.h5')"
   ]
  },
  {
   "cell_type": "code",
   "execution_count": 47,
   "metadata": {},
   "outputs": [],
   "source": [
    "# aqui, o encoder ('model') está pronto"
   ]
  },
  {
   "cell_type": "code",
   "execution_count": 48,
   "metadata": {},
   "outputs": [],
   "source": [
    "# carregar batch para teste\n",
    "x_0, y_0 = single_batch_prep(batch_0)"
   ]
  },
  {
   "cell_type": "code",
   "execution_count": 49,
   "metadata": {},
   "outputs": [],
   "source": [
    "# neste notebook, são 5 batches ('batch_0' - 'batch_4')"
   ]
  },
  {
   "cell_type": "code",
   "execution_count": 50,
   "metadata": {},
   "outputs": [],
   "source": [
    "x_treino_cod = autoencoder.predict(x_0)\n",
    "x_valid_cod = autoencoder.predict(x_valid)"
   ]
  },
  {
   "cell_type": "code",
   "execution_count": 51,
   "metadata": {},
   "outputs": [
    {
     "data": {
      "text/plain": [
       "((602, 200, 200, 3), (60, 200, 200, 3))"
      ]
     },
     "execution_count": 51,
     "metadata": {},
     "output_type": "execute_result"
    }
   ],
   "source": [
    "x_treino_cod.shape, x_valid_cod.shape"
   ]
  },
  {
   "cell_type": "code",
   "execution_count": 52,
   "metadata": {},
   "outputs": [
    {
     "data": {
      "text/plain": [
       "<matplotlib.image.AxesImage at 0x7f80358a89a0>"
      ]
     },
     "execution_count": 52,
     "metadata": {},
     "output_type": "execute_result"
    },
    {
     "data": {
      "image/png": "[encoded data removed]",
      "text/plain": [
       "<Figure size 432x288 with 1 Axes>"
      ]
     },
     "metadata": {
      "needs_background": "light"
     },
     "output_type": "display_data"
    }
   ],
   "source": [
    "plt.imshow(x_0[0])"
   ]
  },
  {
   "cell_type": "code",
   "execution_count": 53,
   "metadata": {},
   "outputs": [
    {
     "data": {
      "text/plain": [
       "<matplotlib.image.AxesImage at 0x7f8035780760>"
      ]
     },
     "execution_count": 53,
     "metadata": {},
     "output_type": "execute_result"
    },
    {
     "data": {
      "image/png": "[encoded data removed]",
      "text/plain": [
       "<Figure size 432x288 with 1 Axes>"
      ]
     },
     "metadata": {
      "needs_background": "light"
     },
     "output_type": "display_data"
    }
   ],
   "source": [
    "plt.imshow(x_treino_cod[0])"
   ]
  },
  {
   "cell_type": "markdown",
   "metadata": {},
   "source": [
    "# rede primaria"
   ]
  },
  {
   "cell_type": "code",
   "execution_count": 60,
   "metadata": {},
   "outputs": [],
   "source": [
    "cnn_i, cnn_j, cnn_chnls = 200, 200, 3\n",
    "\n",
    "cnn = Sequential()\n",
    "cnn.add(Conv2D(50, (3, 3), input_shape = (cnn_i, cnn_j, cnn_chnls), activation = 'relu'))\n",
    "cnn.add(Conv2D(50, (3, 3), activation = 'relu'))\n",
    "cnn.add(MaxPool2D((2, 2)))\n",
    "cnn.add(Conv2D(50, (3, 3), activation = 'relu'))\n",
    "cnn.add(Conv2D(50, (3, 3), activation = 'relu'))\n",
    "cnn.add(AvgPool2D((2, 2)))\n",
    "cnn.add(Conv2D(50, (3, 3), activation = 'relu'))\n",
    "cnn.add(BatchNormalization())\n",
    "cnn.add(AvgPool2D((2, 2)))\n",
    "cnn.add(Flatten())\n",
    "cnn.add(Dense(25, activation = 'relu', kernel_regularizer = l2(0.05)))\n",
    "cnn.add(Dropout(0.2))\n",
    "cnn.add(Dense(25, activation = 'relu', kernel_regularizer = l2(0.05)))\n",
    "cnn.add(BatchNormalization())\n",
    "cnn.add(Dropout(0.2))\n",
    "cnn.add(Dense(25, activation = 'relu', kernel_regularizer = l2(0.05)))\n",
    "cnn.add(Dropout(0.2))\n",
    "cnn.add(Dense(25, activation = 'relu', kernel_regularizer = l2(0.05)))\n",
    "cnn.add(Dense(1, activation = 'relu'))\n",
    "        \n",
    "cnn.compile(loss = 'binary_crossentropy', optimizer = RMSprop(learning_rate = 0.001))\n",
    "\n",
    "es = EarlyStopping(monitor = 'loss', patience = 5) "
   ]
  },
  {
   "cell_type": "code",
   "execution_count": 61,
   "metadata": {},
   "outputs": [
    {
     "name": "stdout",
     "output_type": "stream",
     "text": [
      "Model: \"sequential_2\"\n",
      "_________________________________________________________________\n",
      "Layer (type)                 Output Shape              Param #   \n",
      "=================================================================\n",
      "conv2d_17 (Conv2D)           (None, 198, 198, 50)      1400      \n",
      "_________________________________________________________________\n",
      "conv2d_18 (Conv2D)           (None, 196, 196, 50)      22550     \n",
      "_________________________________________________________________\n",
      "max_pooling2d_4 (MaxPooling2 (None, 98, 98, 50)        0         \n",
      "_________________________________________________________________\n",
      "conv2d_19 (Conv2D)           (None, 96, 96, 50)        22550     \n",
      "_________________________________________________________________\n",
      "conv2d_20 (Conv2D)           (None, 94, 94, 50)        22550     \n",
      "_________________________________________________________________\n",
      "average_pooling2d_4 (Average (None, 47, 47, 50)        0         \n",
      "_________________________________________________________________\n",
      "conv2d_21 (Conv2D)           (None, 45, 45, 50)        22550     \n",
      "_________________________________________________________________\n",
      "batch_normalization_4 (Batch (None, 45, 45, 50)        200       \n",
      "_________________________________________________________________\n",
      "average_pooling2d_5 (Average (None, 22, 22, 50)        0         \n",
      "_________________________________________________________________\n",
      "flatten_3 (Flatten)          (None, 24200)             0         \n",
      "_________________________________________________________________\n",
      "dense_11 (Dense)             (None, 25)                605025    \n",
      "_________________________________________________________________\n",
      "dropout_6 (Dropout)          (None, 25)                0         \n",
      "_________________________________________________________________\n",
      "dense_12 (Dense)             (None, 25)                650       \n",
      "_________________________________________________________________\n",
      "batch_normalization_5 (Batch (None, 25)                100       \n",
      "_________________________________________________________________\n",
      "dropout_7 (Dropout)          (None, 25)                0         \n",
      "_________________________________________________________________\n",
      "dense_13 (Dense)             (None, 25)                650       \n",
      "_________________________________________________________________\n",
      "dropout_8 (Dropout)          (None, 25)                0         \n",
      "_________________________________________________________________\n",
      "dense_14 (Dense)             (None, 25)                650       \n",
      "_________________________________________________________________\n",
      "dense_15 (Dense)             (None, 1)                 26        \n",
      "=================================================================\n",
      "Total params: 698,901\n",
      "Trainable params: 698,751\n",
      "Non-trainable params: 150\n",
      "_________________________________________________________________\n"
     ]
    }
   ],
   "source": [
    "cnn.summary()"
   ]
  },
  {
   "cell_type": "code",
   "execution_count": 62,
   "metadata": {},
   "outputs": [],
   "source": [
    "batch_size = 100"
   ]
  },
  {
   "cell_type": "markdown",
   "metadata": {},
   "source": [
    "# Rede com o encoder"
   ]
  },
  {
   "cell_type": "code",
   "execution_count": 63,
   "metadata": {},
   "outputs": [
    {
     "name": "stdout",
     "output_type": "stream",
     "text": [
      "Epoch 1/100\n",
      " 2/19 [==>...........................] - ETA: 1s - loss: 10.4787WARNING:tensorflow:Callbacks method `on_train_batch_end` is slow compared to the batch time (batch time: 0.0626s vs `on_train_batch_end` time: 0.1661s). Check your callbacks.\n",
      "19/19 [==============================] - 17s 881ms/step - loss: 8.7156 - val_loss: 6.1186\n",
      "Epoch 2/100\n",
      "19/19 [==============================] - 4s 217ms/step - loss: 6.5014 - val_loss: 5.4655\n",
      "Epoch 3/100\n",
      "19/19 [==============================] - 4s 216ms/step - loss: 5.4393 - val_loss: 4.6267\n",
      "Epoch 4/100\n",
      "19/19 [==============================] - 4s 217ms/step - loss: 4.2179 - val_loss: 3.6853\n",
      "Epoch 5/100\n",
      "19/19 [==============================] - 4s 218ms/step - loss: 3.6157 - val_loss: 3.2847\n",
      "Epoch 6/100\n",
      "19/19 [==============================] - 4s 218ms/step - loss: 3.5522 - val_loss: 3.2406\n",
      "Epoch 7/100\n",
      "19/19 [==============================] - 4s 218ms/step - loss: 3.1448 - val_loss: 3.1625\n",
      "Epoch 8/100\n",
      "19/19 [==============================] - 4s 220ms/step - loss: 2.7968 - val_loss: 2.7948\n",
      "Epoch 9/100\n",
      "19/19 [==============================] - 4s 223ms/step - loss: 2.5487 - val_loss: 6.0915\n",
      "Epoch 10/100\n",
      "19/19 [==============================] - 4s 223ms/step - loss: 2.2393 - val_loss: 2.1115\n",
      "Epoch 11/100\n",
      "19/19 [==============================] - 4s 223ms/step - loss: 2.0239 - val_loss: 1.9852\n",
      "Epoch 12/100\n",
      "19/19 [==============================] - 4s 224ms/step - loss: 1.8524 - val_loss: 1.7780\n",
      "Epoch 13/100\n",
      "19/19 [==============================] - 4s 224ms/step - loss: 1.6673 - val_loss: 1.5944\n",
      "Epoch 14/100\n",
      "19/19 [==============================] - 4s 224ms/step - loss: 1.5094 - val_loss: 1.4324\n",
      "Epoch 15/100\n",
      "19/19 [==============================] - 4s 223ms/step - loss: 1.3458 - val_loss: 1.2998\n",
      "Epoch 16/100\n",
      "19/19 [==============================] - 4s 224ms/step - loss: 1.2551 - val_loss: 8.1060\n",
      "Epoch 17/100\n",
      "19/19 [==============================] - 4s 224ms/step - loss: 1.1193 - val_loss: 1.2258\n",
      "Epoch 18/100\n",
      "19/19 [==============================] - 4s 226ms/step - loss: 1.0442 - val_loss: 6.2929\n",
      "Epoch 19/100\n",
      "19/19 [==============================] - 4s 223ms/step - loss: 0.9756 - val_loss: 7.8860\n",
      "Epoch 20/100\n",
      "19/19 [==============================] - 4s 224ms/step - loss: 0.9049 - val_loss: 7.8380\n",
      "Epoch 21/100\n",
      "19/19 [==============================] - 4s 224ms/step - loss: 0.8653 - val_loss: 7.7959\n",
      "Epoch 22/100\n",
      "19/19 [==============================] - 4s 224ms/step - loss: 0.8299 - val_loss: 7.7682\n"
     ]
    },
    {
     "data": {
      "text/plain": [
       "<tensorflow.python.keras.callbacks.History at 0x7f7fc03060d0>"
      ]
     },
     "execution_count": 63,
     "metadata": {},
     "output_type": "execute_result"
    }
   ],
   "source": [
    "es = EarlyStopping(patience = 5, restore_best_weights = True)\n",
    "\n",
    "cnn.fit(x_treino_cod, y_0, \n",
    "             epochs = 100,\n",
    "             validation_data = (x_valid_cod, y_valid),\n",
    "             callbacks = [es])"
   ]
  },
  {
   "cell_type": "code",
   "execution_count": 64,
   "metadata": {},
   "outputs": [],
   "source": [
    "y_treino_pred = cnn.predict(x_treino_cod)"
   ]
  },
  {
   "cell_type": "code",
   "execution_count": 65,
   "metadata": {},
   "outputs": [
    {
     "data": {
      "text/plain": [
       "0.5201512725666648"
      ]
     },
     "execution_count": 65,
     "metadata": {},
     "output_type": "execute_result"
    }
   ],
   "source": [
    "roc_auc_score(y_0, y_treino_pred)"
   ]
  },
  {
   "cell_type": "markdown",
   "metadata": {},
   "source": [
    "# Rede sem o encoder"
   ]
  },
  {
   "cell_type": "code",
   "execution_count": 66,
   "metadata": {},
   "outputs": [
    {
     "name": "stdout",
     "output_type": "stream",
     "text": [
      "Epoch 1/100\n",
      " 2/19 [==>...........................] - ETA: 1s - loss: 1.6110WARNING:tensorflow:Callbacks method `on_train_batch_end` is slow compared to the batch time (batch time: 0.0645s vs `on_train_batch_end` time: 0.1684s). Check your callbacks.\n",
      "19/19 [==============================] - 4s 226ms/step - loss: 1.5353 - val_loss: 8.0767\n",
      "Epoch 2/100\n",
      "19/19 [==============================] - 4s 219ms/step - loss: 1.2717 - val_loss: 8.0692\n",
      "Epoch 3/100\n",
      "19/19 [==============================] - 4s 221ms/step - loss: 1.1463 - val_loss: 8.0510\n",
      "Epoch 4/100\n",
      "19/19 [==============================] - 4s 219ms/step - loss: 1.1439 - val_loss: 7.9866\n",
      "Epoch 5/100\n",
      "19/19 [==============================] - 4s 220ms/step - loss: 1.0949 - val_loss: 7.9462\n",
      "Epoch 6/100\n",
      "19/19 [==============================] - 4s 220ms/step - loss: 1.0311 - val_loss: 7.9798\n",
      "Epoch 7/100\n",
      "19/19 [==============================] - 4s 220ms/step - loss: 1.0596 - val_loss: 7.9530\n",
      "Epoch 8/100\n",
      "19/19 [==============================] - 4s 222ms/step - loss: 0.9717 - val_loss: 7.9573\n",
      "Epoch 9/100\n",
      "19/19 [==============================] - 4s 223ms/step - loss: 0.9528 - val_loss: 7.9324\n",
      "Epoch 10/100\n",
      "19/19 [==============================] - 4s 223ms/step - loss: 1.0019 - val_loss: 7.9964\n",
      "Epoch 11/100\n",
      "19/19 [==============================] - 4s 224ms/step - loss: 0.9268 - val_loss: 7.9346\n",
      "Epoch 12/100\n",
      "19/19 [==============================] - 4s 226ms/step - loss: 0.9309 - val_loss: 7.9291\n",
      "Epoch 13/100\n",
      "19/19 [==============================] - 4s 227ms/step - loss: 0.8861 - val_loss: 7.9314\n",
      "Epoch 14/100\n",
      "19/19 [==============================] - 4s 225ms/step - loss: 1.1389 - val_loss: 8.0465\n",
      "Epoch 15/100\n",
      "19/19 [==============================] - 4s 226ms/step - loss: 1.0291 - val_loss: 8.0250\n",
      "Epoch 16/100\n",
      "19/19 [==============================] - 4s 226ms/step - loss: 0.9053 - val_loss: 7.9228\n",
      "Epoch 17/100\n",
      "19/19 [==============================] - 4s 226ms/step - loss: 1.0432 - val_loss: 8.0255\n",
      "Epoch 18/100\n",
      "19/19 [==============================] - 4s 226ms/step - loss: 0.9340 - val_loss: 7.9560\n",
      "Epoch 19/100\n",
      "19/19 [==============================] - 4s 226ms/step - loss: 0.7434 - val_loss: 7.9500\n",
      "Epoch 20/100\n",
      "19/19 [==============================] - 4s 228ms/step - loss: 0.7240 - val_loss: 7.9351\n",
      "Epoch 21/100\n",
      "19/19 [==============================] - 4s 227ms/step - loss: 0.6917 - val_loss: 7.9367\n"
     ]
    },
    {
     "data": {
      "text/plain": [
       "<tensorflow.python.keras.callbacks.History at 0x7f80347605e0>"
      ]
     },
     "execution_count": 66,
     "metadata": {},
     "output_type": "execute_result"
    }
   ],
   "source": [
    "es = EarlyStopping(patience = 5, restore_best_weights = True)\n",
    "\n",
    "cnn.fit(x_0, y_0, \n",
    "             epochs = 100,\n",
    "             validation_data = (x_valid, y_valid),\n",
    "             callbacks = [es])"
   ]
  },
  {
   "cell_type": "code",
   "execution_count": 67,
   "metadata": {},
   "outputs": [],
   "source": [
    "y_treino_pred = cnn.predict(x_0)"
   ]
  },
  {
   "cell_type": "code",
   "execution_count": 68,
   "metadata": {},
   "outputs": [
    {
     "data": {
      "text/plain": [
       "0.9174957213051399"
      ]
     },
     "execution_count": 68,
     "metadata": {},
     "output_type": "execute_result"
    }
   ],
   "source": [
    "roc_auc_score(y_0, y_treino_pred)"
   ]
  },
  {
   "cell_type": "markdown",
   "metadata": {},
   "source": [
    "# Complexificando a rede"
   ]
  },
  {
   "cell_type": "code",
   "execution_count": 134,
   "metadata": {},
   "outputs": [],
   "source": [
    "cnn_i, cnn_j, cnn_chnls = 200, 200, 3\n",
    "\n",
    "cnn = Sequential()\n",
    "cnn.add(Conv2D(100, (3, 3), input_shape = (cnn_i, cnn_j, cnn_chnls), activation = 'relu'))\n",
    "cnn.add(Conv2D(50, (3, 3), activation = 'relu'))\n",
    "cnn.add(MaxPool2D((2, 2)))\n",
    "cnn.add(Conv2D(50, (3, 3), activation = 'relu'))\n",
    "cnn.add(Conv2D(50, (3, 3), activation = 'relu'))\n",
    "cnn.add(AvgPool2D((2, 2)))\n",
    "cnn.add(Conv2D(100, (3, 3), activation = 'relu'))\n",
    "cnn.add(BatchNormalization())\n",
    "cnn.add(AvgPool2D((2, 2)))\n",
    "cnn.add(Flatten())\n",
    "cnn.add(Dense(25, activation = 'relu', kernel_regularizer = l2(0.05)))\n",
    "cnn.add(Dropout(0.2))\n",
    "cnn.add(Dense(150, activation = 'relu', kernel_regularizer = l2(0.05)))\n",
    "cnn.add(BatchNormalization())\n",
    "cnn.add(Dropout(0.2))\n",
    "cnn.add(Dense(150, activation = 'relu', kernel_regularizer = l2(0.05)))\n",
    "cnn.add(Dropout(0.2))\n",
    "cnn.add(Dense(100, activation = 'relu', kernel_regularizer = l2(0.05)))\n",
    "cnn.add(Dense(1, activation = 'relu'))\n",
    "        \n",
    "cnn.compile(loss = 'binary_crossentropy', optimizer = RMSprop(learning_rate = 0.001))\n",
    "\n",
    "es = EarlyStopping(monitor = 'loss', patience = 5) "
   ]
  },
  {
   "cell_type": "code",
   "execution_count": 135,
   "metadata": {},
   "outputs": [
    {
     "name": "stdout",
     "output_type": "stream",
     "text": [
      "Model: \"sequential_21\"\n",
      "_________________________________________________________________\n",
      "Layer (type)                 Output Shape              Param #   \n",
      "=================================================================\n",
      "conv2d_104 (Conv2D)          (None, 198, 198, 100)     2800      \n",
      "_________________________________________________________________\n",
      "conv2d_105 (Conv2D)          (None, 196, 196, 50)      45050     \n",
      "_________________________________________________________________\n",
      "max_pooling2d_21 (MaxPooling (None, 98, 98, 50)        0         \n",
      "_________________________________________________________________\n",
      "conv2d_106 (Conv2D)          (None, 96, 96, 50)        22550     \n",
      "_________________________________________________________________\n",
      "conv2d_107 (Conv2D)          (None, 94, 94, 50)        22550     \n",
      "_________________________________________________________________\n",
      "average_pooling2d_37 (Averag (None, 47, 47, 50)        0         \n",
      "_________________________________________________________________\n",
      "conv2d_108 (Conv2D)          (None, 45, 45, 100)       45100     \n",
      "_________________________________________________________________\n",
      "batch_normalization_37 (Batc (None, 45, 45, 100)       400       \n",
      "_________________________________________________________________\n",
      "average_pooling2d_38 (Averag (None, 22, 22, 100)       0         \n",
      "_________________________________________________________________\n",
      "flatten_22 (Flatten)         (None, 48400)             0         \n",
      "_________________________________________________________________\n",
      "dense_91 (Dense)             (None, 25)                1210025   \n",
      "_________________________________________________________________\n",
      "dropout_54 (Dropout)         (None, 25)                0         \n",
      "_________________________________________________________________\n",
      "dense_92 (Dense)             (None, 150)               3900      \n",
      "_________________________________________________________________\n",
      "batch_normalization_38 (Batc (None, 150)               600       \n",
      "_________________________________________________________________\n",
      "dropout_55 (Dropout)         (None, 150)               0         \n",
      "_________________________________________________________________\n",
      "dense_93 (Dense)             (None, 150)               22650     \n",
      "_________________________________________________________________\n",
      "dropout_56 (Dropout)         (None, 150)               0         \n",
      "_________________________________________________________________\n",
      "dense_94 (Dense)             (None, 100)               15100     \n",
      "_________________________________________________________________\n",
      "dense_95 (Dense)             (None, 1)                 101       \n",
      "=================================================================\n",
      "Total params: 1,390,826\n",
      "Trainable params: 1,390,326\n",
      "Non-trainable params: 500\n",
      "_________________________________________________________________\n"
     ]
    }
   ],
   "source": [
    "cnn.summary()"
   ]
  },
  {
   "cell_type": "code",
   "execution_count": 136,
   "metadata": {},
   "outputs": [],
   "source": [
    "batch_size = 100"
   ]
  },
  {
   "cell_type": "code",
   "execution_count": 137,
   "metadata": {
    "scrolled": true
   },
   "outputs": [
    {
     "name": "stdout",
     "output_type": "stream",
     "text": [
      "Epoch 1/100\n",
      " 2/19 [==>...........................] - ETA: 3s - loss: 21.1568WARNING:tensorflow:Callbacks method `on_train_batch_end` is slow compared to the batch time (batch time: 0.0902s vs `on_train_batch_end` time: 0.2645s). Check your callbacks.\n",
      "19/19 [==============================] - 9s 480ms/step - loss: 20.3501 - val_loss: 22.7647\n",
      "Epoch 2/100\n",
      "19/19 [==============================] - 6s 342ms/step - loss: 18.4285 - val_loss: 21.6963\n",
      "Epoch 3/100\n",
      "19/19 [==============================] - 6s 333ms/step - loss: 16.5368 - val_loss: 20.7635\n",
      "Epoch 4/100\n",
      "19/19 [==============================] - 6s 334ms/step - loss: 14.5182 - val_loss: 19.9379\n",
      "Epoch 5/100\n",
      "19/19 [==============================] - 6s 335ms/step - loss: 13.7060 - val_loss: 18.8301\n",
      "Epoch 6/100\n",
      "19/19 [==============================] - 6s 335ms/step - loss: 12.9058 - val_loss: 17.9566\n",
      "Epoch 7/100\n",
      "19/19 [==============================] - 6s 335ms/step - loss: 11.8960 - val_loss: 17.1615\n",
      "Epoch 8/100\n",
      "19/19 [==============================] - 6s 338ms/step - loss: 10.3444 - val_loss: 15.9758\n",
      "Epoch 9/100\n",
      "19/19 [==============================] - 6s 339ms/step - loss: 9.3013 - val_loss: 14.9245\n",
      "Epoch 10/100\n",
      "19/19 [==============================] - 7s 343ms/step - loss: 8.4686 - val_loss: 14.1969\n",
      "Epoch 11/100\n",
      "19/19 [==============================] - 7s 343ms/step - loss: 7.4565 - val_loss: 13.3938\n",
      "Epoch 12/100\n",
      "19/19 [==============================] - 6s 337ms/step - loss: 6.6960 - val_loss: 12.6634\n",
      "Epoch 13/100\n",
      "19/19 [==============================] - 6s 336ms/step - loss: 6.0325 - val_loss: 12.1935\n",
      "Epoch 14/100\n",
      "19/19 [==============================] - 6s 339ms/step - loss: 5.3834 - val_loss: 11.8027\n",
      "Epoch 15/100\n",
      "19/19 [==============================] - 6s 342ms/step - loss: 4.7004 - val_loss: 11.2763\n",
      "Epoch 16/100\n",
      "19/19 [==============================] - 6s 338ms/step - loss: 4.4785 - val_loss: 10.7952\n",
      "Epoch 17/100\n",
      "19/19 [==============================] - 6s 339ms/step - loss: 3.8037 - val_loss: 10.1277\n",
      "Epoch 18/100\n",
      "19/19 [==============================] - 6s 340ms/step - loss: 3.2664 - val_loss: 9.9360\n",
      "Epoch 19/100\n",
      "19/19 [==============================] - 6s 339ms/step - loss: 3.0049 - val_loss: 9.4694\n",
      "Epoch 20/100\n",
      "19/19 [==============================] - 6s 340ms/step - loss: 2.5978 - val_loss: 9.0873\n",
      "Epoch 21/100\n",
      "19/19 [==============================] - 6s 340ms/step - loss: 2.1141 - val_loss: 8.7894\n",
      "Epoch 22/100\n",
      "19/19 [==============================] - 6s 341ms/step - loss: 1.9233 - val_loss: 8.5712\n",
      "Epoch 23/100\n",
      "19/19 [==============================] - 6s 342ms/step - loss: 1.7667 - val_loss: 8.4829\n",
      "Epoch 24/100\n",
      "19/19 [==============================] - 6s 340ms/step - loss: 1.5210 - val_loss: 8.3751\n",
      "Epoch 25/100\n",
      "19/19 [==============================] - 6s 340ms/step - loss: 1.8272 - val_loss: 8.6277\n",
      "Epoch 26/100\n",
      "19/19 [==============================] - 7s 344ms/step - loss: 1.5918 - val_loss: 8.3976\n",
      "Epoch 27/100\n",
      "19/19 [==============================] - 6s 339ms/step - loss: 1.3738 - val_loss: 8.2150\n",
      "Epoch 28/100\n",
      "19/19 [==============================] - 6s 338ms/step - loss: 1.5630 - val_loss: 8.1443\n",
      "Epoch 29/100\n",
      "19/19 [==============================] - 6s 339ms/step - loss: 1.3691 - val_loss: 7.9731\n",
      "Epoch 30/100\n",
      "19/19 [==============================] - 6s 340ms/step - loss: 1.2623 - val_loss: 7.7739\n",
      "Epoch 31/100\n",
      "19/19 [==============================] - 6s 337ms/step - loss: 1.3441 - val_loss: 7.9481\n",
      "Epoch 32/100\n",
      "19/19 [==============================] - 6s 336ms/step - loss: 1.1909 - val_loss: 8.0017\n",
      "Epoch 33/100\n",
      "19/19 [==============================] - 6s 338ms/step - loss: 1.3313 - val_loss: 7.5500\n",
      "Epoch 34/100\n",
      "19/19 [==============================] - 6s 336ms/step - loss: 1.2100 - val_loss: 7.6541\n",
      "Epoch 35/100\n",
      "19/19 [==============================] - 6s 336ms/step - loss: 1.1418 - val_loss: 7.7765\n",
      "Epoch 36/100\n",
      "19/19 [==============================] - 6s 340ms/step - loss: 1.1211 - val_loss: 5.0321\n",
      "Epoch 37/100\n",
      "19/19 [==============================] - 6s 336ms/step - loss: 1.0094 - val_loss: 3.7058\n",
      "Epoch 38/100\n",
      "19/19 [==============================] - 6s 336ms/step - loss: 1.0297 - val_loss: 5.2604\n",
      "Epoch 39/100\n",
      "19/19 [==============================] - 6s 337ms/step - loss: 1.0396 - val_loss: 8.0556\n",
      "Epoch 40/100\n",
      "19/19 [==============================] - 6s 337ms/step - loss: 1.1172 - val_loss: 8.3641\n",
      "Epoch 41/100\n",
      "19/19 [==============================] - 6s 341ms/step - loss: 1.5343 - val_loss: 8.1780\n",
      "Epoch 42/100\n",
      "19/19 [==============================] - 6s 337ms/step - loss: 1.3673 - val_loss: 8.1003\n"
     ]
    },
    {
     "data": {
      "text/plain": [
       "<tensorflow.python.keras.callbacks.History at 0x7f7f90636670>"
      ]
     },
     "execution_count": 137,
     "metadata": {},
     "output_type": "execute_result"
    }
   ],
   "source": [
    "es = EarlyStopping(patience = 5, restore_best_weights = True)\n",
    "\n",
    "cnn.fit(x_0, y_0, \n",
    "             epochs = 100,\n",
    "             validation_data = (x_valid, y_valid),\n",
    "             callbacks = [es])"
   ]
  },
  {
   "cell_type": "code",
   "execution_count": 138,
   "metadata": {},
   "outputs": [],
   "source": [
    "y_treino_pred = cnn.predict(x_0)"
   ]
  },
  {
   "cell_type": "code",
   "execution_count": 139,
   "metadata": {},
   "outputs": [
    {
     "data": {
      "text/plain": [
       "0.40209241980897703"
      ]
     },
     "execution_count": 139,
     "metadata": {},
     "output_type": "execute_result"
    }
   ],
   "source": [
    "roc_auc_score(y_0, y_treino_pred)"
   ]
  },
  {
   "cell_type": "markdown",
   "metadata": {},
   "source": [
    "# Terceira rede"
   ]
  },
  {
   "cell_type": "code",
   "execution_count": 169,
   "metadata": {},
   "outputs": [],
   "source": [
    "cnn_i, cnn_j, cnn_chnls = 200, 200, 3\n",
    "\n",
    "cnn = Sequential()\n",
    "cnn.add(Conv2D(50, (3, 3), input_shape = (cnn_i, cnn_j, cnn_chnls), activation = 'relu'))\n",
    "cnn.add(Conv2D(50, (3, 3), activation = 'relu'))\n",
    "cnn.add(MaxPool2D((2, 2)))\n",
    "cnn.add(Conv2D(50, (3, 3), activation = 'relu'))\n",
    "cnn.add(AvgPool2D((2, 2)))\n",
    "cnn.add(Conv2D(50, (3, 3), activation = 'relu'))\n",
    "cnn.add(BatchNormalization())\n",
    "cnn.add(Conv2D(50, (3, 3), activation = 'relu'))\n",
    "cnn.add(Conv2D(50, (3, 3), activation = 'relu'))\n",
    "cnn.add(AvgPool2D((2, 2)))\n",
    "cnn.add(Conv2D(50, (3, 3), activation = 'relu'))\n",
    "cnn.add(BatchNormalization())\n",
    "cnn.add(Conv2D(50, (3, 3), activation = 'relu'))\n",
    "cnn.add(Flatten())\n",
    "cnn.add(Dense(10, activation = 'relu', kernel_regularizer = l2(0.05)))\n",
    "cnn.add(Dropout(0.2))\n",
    "cnn.add(Dense(100, activation = 'relu', kernel_regularizer = l2(0.05)))\n",
    "cnn.add(Dense(200, activation = 'relu', kernel_regularizer = l2(0.05)))\n",
    "cnn.add(BatchNormalization())\n",
    "cnn.add(Dropout(0.2))\n",
    "cnn.add(Dense(250, activation = 'relu', kernel_regularizer = l2(0.05)))\n",
    "cnn.add(Dropout(0.2))\n",
    "cnn.add(Dense(100, activation = 'relu', kernel_regularizer = l2(0.05)))\n",
    "cnn.add(BatchNormalization())\n",
    "cnn.add(Dropout(0.2))\n",
    "cnn.add(Dense(25, activation = 'relu', kernel_regularizer = l2(0.05)))\n",
    "cnn.add(Dropout(0.2))\n",
    "cnn.add(Dense(25, activation = 'relu', kernel_regularizer = l2(0.05)))\n",
    "cnn.add(Dense(1, activation = 'relu'))\n",
    "        \n",
    "cnn.compile(loss = 'binary_crossentropy', optimizer = RMSprop(learning_rate = 0.001))\n"
   ]
  },
  {
   "cell_type": "code",
   "execution_count": 170,
   "metadata": {},
   "outputs": [
    {
     "name": "stdout",
     "output_type": "stream",
     "text": [
      "Model: \"sequential_33\"\n",
      "_________________________________________________________________\n",
      "Layer (type)                 Output Shape              Param #   \n",
      "=================================================================\n",
      "conv2d_167 (Conv2D)          (None, 198, 198, 50)      1400      \n",
      "_________________________________________________________________\n",
      "conv2d_168 (Conv2D)          (None, 196, 196, 50)      22550     \n",
      "_________________________________________________________________\n",
      "max_pooling2d_34 (MaxPooling (None, 98, 98, 50)        0         \n",
      "_________________________________________________________________\n",
      "conv2d_169 (Conv2D)          (None, 96, 96, 50)        22550     \n",
      "_________________________________________________________________\n",
      "average_pooling2d_51 (Averag (None, 48, 48, 50)        0         \n",
      "_________________________________________________________________\n",
      "conv2d_170 (Conv2D)          (None, 46, 46, 50)        22550     \n",
      "_________________________________________________________________\n",
      "batch_normalization_71 (Batc (None, 46, 46, 50)        200       \n",
      "_________________________________________________________________\n",
      "conv2d_171 (Conv2D)          (None, 44, 44, 50)        22550     \n",
      "_________________________________________________________________\n",
      "conv2d_172 (Conv2D)          (None, 42, 42, 50)        22550     \n",
      "_________________________________________________________________\n",
      "average_pooling2d_52 (Averag (None, 21, 21, 50)        0         \n",
      "_________________________________________________________________\n",
      "conv2d_173 (Conv2D)          (None, 19, 19, 50)        22550     \n",
      "_________________________________________________________________\n",
      "batch_normalization_72 (Batc (None, 19, 19, 50)        200       \n",
      "_________________________________________________________________\n",
      "conv2d_174 (Conv2D)          (None, 17, 17, 50)        22550     \n",
      "_________________________________________________________________\n",
      "flatten_34 (Flatten)         (None, 14450)             0         \n",
      "_________________________________________________________________\n",
      "dense_166 (Dense)            (None, 10)                144510    \n",
      "_________________________________________________________________\n",
      "dropout_107 (Dropout)        (None, 10)                0         \n",
      "_________________________________________________________________\n",
      "dense_167 (Dense)            (None, 100)               1100      \n",
      "_________________________________________________________________\n",
      "dense_168 (Dense)            (None, 200)               20200     \n",
      "_________________________________________________________________\n",
      "batch_normalization_73 (Batc (None, 200)               800       \n",
      "_________________________________________________________________\n",
      "dropout_108 (Dropout)        (None, 200)               0         \n",
      "_________________________________________________________________\n",
      "dense_169 (Dense)            (None, 250)               50250     \n",
      "_________________________________________________________________\n",
      "dropout_109 (Dropout)        (None, 250)               0         \n",
      "_________________________________________________________________\n",
      "dense_170 (Dense)            (None, 100)               25100     \n",
      "_________________________________________________________________\n",
      "batch_normalization_74 (Batc (None, 100)               400       \n",
      "_________________________________________________________________\n",
      "dropout_110 (Dropout)        (None, 100)               0         \n",
      "_________________________________________________________________\n",
      "dense_171 (Dense)            (None, 25)                2525      \n",
      "_________________________________________________________________\n",
      "dropout_111 (Dropout)        (None, 25)                0         \n",
      "_________________________________________________________________\n",
      "dense_172 (Dense)            (None, 25)                650       \n",
      "_________________________________________________________________\n",
      "dense_173 (Dense)            (None, 1)                 26        \n",
      "=================================================================\n",
      "Total params: 405,211\n",
      "Trainable params: 404,411\n",
      "Non-trainable params: 800\n",
      "_________________________________________________________________\n"
     ]
    }
   ],
   "source": [
    "cnn.summary()"
   ]
  },
  {
   "cell_type": "code",
   "execution_count": 171,
   "metadata": {
    "scrolled": true
   },
   "outputs": [
    {
     "name": "stdout",
     "output_type": "stream",
     "text": [
      "Epoch 1/100\n",
      " 2/19 [==>...........................] - ETA: 1s - loss: 35.0940WARNING:tensorflow:Callbacks method `on_train_batch_end` is slow compared to the batch time (batch time: 0.0640s vs `on_train_batch_end` time: 0.1617s). Check your callbacks.\n",
      "19/19 [==============================] - 21s 1s/step - loss: 32.8765 - val_loss: 34.0730\n",
      "Epoch 2/100\n",
      "19/19 [==============================] - 4s 206ms/step - loss: 30.2349 - val_loss: 32.5244\n",
      "Epoch 3/100\n",
      "19/19 [==============================] - 4s 207ms/step - loss: 28.4173 - val_loss: 31.3412\n",
      "Epoch 4/100\n",
      "19/19 [==============================] - 4s 207ms/step - loss: 27.4207 - val_loss: 30.1932\n",
      "Epoch 5/100\n",
      "19/19 [==============================] - 4s 207ms/step - loss: 25.4209 - val_loss: 29.0705\n",
      "Epoch 6/100\n",
      "19/19 [==============================] - 4s 208ms/step - loss: 23.7366 - val_loss: 27.8052\n",
      "Epoch 7/100\n",
      "19/19 [==============================] - 4s 208ms/step - loss: 22.5802 - val_loss: 26.3523\n",
      "Epoch 8/100\n",
      "19/19 [==============================] - 4s 210ms/step - loss: 20.5635 - val_loss: 24.6608\n",
      "Epoch 9/100\n",
      "19/19 [==============================] - 4s 212ms/step - loss: 18.5286 - val_loss: 23.0884\n",
      "Epoch 10/100\n",
      "19/19 [==============================] - 4s 212ms/step - loss: 16.8526 - val_loss: 22.1987\n",
      "Epoch 11/100\n",
      "19/19 [==============================] - 4s 208ms/step - loss: 16.0754 - val_loss: 21.2640\n",
      "Epoch 12/100\n",
      "19/19 [==============================] - 4s 207ms/step - loss: 15.0516 - val_loss: 20.2709\n",
      "Epoch 13/100\n",
      "19/19 [==============================] - 4s 208ms/step - loss: 13.6070 - val_loss: 18.9532\n",
      "Epoch 14/100\n",
      "19/19 [==============================] - 4s 209ms/step - loss: 12.2108 - val_loss: 17.6168\n",
      "Epoch 15/100\n",
      "19/19 [==============================] - 4s 208ms/step - loss: 10.8886 - val_loss: 16.8252\n",
      "Epoch 16/100\n",
      "19/19 [==============================] - 4s 209ms/step - loss: 10.3007 - val_loss: 16.4089\n",
      "Epoch 17/100\n",
      "19/19 [==============================] - 4s 208ms/step - loss: 10.0752 - val_loss: 16.0424\n",
      "Epoch 18/100\n",
      "19/19 [==============================] - 4s 208ms/step - loss: 9.6097 - val_loss: 15.5116\n",
      "Epoch 19/100\n",
      "19/19 [==============================] - 4s 208ms/step - loss: 8.7250 - val_loss: 14.7045\n",
      "Epoch 20/100\n",
      "19/19 [==============================] - 4s 208ms/step - loss: 7.9698 - val_loss: 13.7698\n",
      "Epoch 21/100\n",
      "19/19 [==============================] - 4s 207ms/step - loss: 6.9427 - val_loss: 12.9718\n",
      "Epoch 22/100\n",
      "19/19 [==============================] - 4s 208ms/step - loss: 5.8795 - val_loss: 12.2310\n",
      "Epoch 23/100\n",
      "19/19 [==============================] - 4s 208ms/step - loss: 5.2066 - val_loss: 11.5060\n",
      "Epoch 24/100\n",
      "19/19 [==============================] - 4s 208ms/step - loss: 4.4303 - val_loss: 10.9053\n",
      "Epoch 25/100\n",
      "19/19 [==============================] - 4s 208ms/step - loss: 3.9003 - val_loss: 10.4142\n",
      "Epoch 26/100\n",
      "19/19 [==============================] - 4s 208ms/step - loss: 3.4396 - val_loss: 9.9639\n",
      "Epoch 27/100\n",
      "19/19 [==============================] - 4s 209ms/step - loss: 2.9608 - val_loss: 9.5497\n",
      "Epoch 28/100\n",
      "19/19 [==============================] - 4s 208ms/step - loss: 2.6945 - val_loss: 9.2437\n",
      "Epoch 29/100\n",
      "19/19 [==============================] - 4s 210ms/step - loss: 2.2869 - val_loss: 9.0120\n",
      "Epoch 30/100\n",
      "19/19 [==============================] - 4s 208ms/step - loss: 2.1542 - val_loss: 8.7777\n",
      "Epoch 31/100\n",
      "19/19 [==============================] - 4s 208ms/step - loss: 1.9006 - val_loss: 8.5957\n",
      "Epoch 32/100\n",
      "19/19 [==============================] - 4s 208ms/step - loss: 1.6466 - val_loss: 8.4658\n",
      "Epoch 33/100\n",
      "19/19 [==============================] - 4s 209ms/step - loss: 1.5202 - val_loss: 8.3304\n",
      "Epoch 34/100\n",
      "19/19 [==============================] - 4s 208ms/step - loss: 1.3453 - val_loss: 8.2159\n",
      "Epoch 35/100\n",
      "19/19 [==============================] - 4s 209ms/step - loss: 1.2102 - val_loss: 8.1282\n",
      "Epoch 36/100\n",
      "19/19 [==============================] - 4s 209ms/step - loss: 1.1138 - val_loss: 8.0325\n",
      "Epoch 37/100\n",
      "19/19 [==============================] - 4s 209ms/step - loss: 1.0502 - val_loss: 5.5164\n",
      "Epoch 38/100\n",
      "19/19 [==============================] - 4s 207ms/step - loss: 1.0286 - val_loss: 7.3307\n",
      "Epoch 39/100\n",
      "19/19 [==============================] - 4s 207ms/step - loss: 0.9187 - val_loss: 7.8967\n",
      "Epoch 40/100\n",
      "19/19 [==============================] - 4s 208ms/step - loss: 0.9430 - val_loss: 7.8945\n",
      "Epoch 41/100\n",
      "19/19 [==============================] - 4s 207ms/step - loss: 0.9358 - val_loss: 7.6400\n",
      "Epoch 42/100\n",
      "19/19 [==============================] - 4s 209ms/step - loss: 0.8612 - val_loss: 7.6067\n"
     ]
    },
    {
     "data": {
      "text/plain": [
       "<tensorflow.python.keras.callbacks.History at 0x7f802fa66be0>"
      ]
     },
     "execution_count": 171,
     "metadata": {},
     "output_type": "execute_result"
    }
   ],
   "source": [
    "es = EarlyStopping(patience = 5, restore_best_weights = True)\n",
    "\n",
    "cnn.fit(x_0, y_0, \n",
    "             epochs = 100,\n",
    "             validation_data = (x_valid, y_valid),\n",
    "             callbacks = [es])"
   ]
  },
  {
   "cell_type": "code",
   "execution_count": 172,
   "metadata": {},
   "outputs": [],
   "source": [
    "y_treino_pred = cnn.predict(x_0)"
   ]
  },
  {
   "cell_type": "code",
   "execution_count": 173,
   "metadata": {},
   "outputs": [
    {
     "data": {
      "text/plain": [
       "0.6102136586981726"
      ]
     },
     "execution_count": 173,
     "metadata": {},
     "output_type": "execute_result"
    }
   ],
   "source": [
    "roc_auc_score(y_0, y_treino_pred)"
   ]
  },
  {
   "cell_type": "code",
   "execution_count": null,
   "metadata": {},
   "outputs": [],
   "source": []
  },
  {
   "cell_type": "code",
   "execution_count": null,
   "metadata": {},
   "outputs": [],
   "source": []
  },
  {
   "cell_type": "code",
   "execution_count": null,
   "metadata": {},
   "outputs": [],
   "source": []
  },
  {
   "cell_type": "code",
   "execution_count": null,
   "metadata": {},
   "outputs": [],
   "source": []
  }
 ],
 "metadata": {
  "kernelspec": {
   "display_name": "Python 3",
   "language": "python",
   "name": "python3"
  },
  "language_info": {
   "codemirror_mode": {
    "name": "ipython",
    "version": 3
   },
   "file_extension": ".py",
   "mimetype": "text/x-python",
   "name": "python",
   "nbconvert_exporter": "python",
   "pygments_lexer": "ipython3",
   "version": "3.8.5"
  }
 },
 "nbformat": 4,
 "nbformat_minor": 4
}
